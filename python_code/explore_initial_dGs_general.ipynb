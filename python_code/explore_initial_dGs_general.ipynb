{
 "cells": [
  {
   "cell_type": "code",
   "execution_count": 1,
   "metadata": {},
   "outputs": [],
   "source": [
    "import pandas as pd\n",
    "import altair as alt\n",
    "import numpy as np\n",
    "from calculate_initial_dGs_and_fluxes import calculate_dG, get_robust_fluxes"
   ]
  },
  {
   "cell_type": "code",
   "execution_count": 2,
   "metadata": {},
   "outputs": [],
   "source": [
    "temperature = 298  # in K\n",
    "gas_constant = 8.314 * 10**-3  # in kJ K^-1 mol^-1\n",
    "file_in = '/home/mrama/GRASP_test/GRASP/input_test/HMP1489_r1_t0_test_gibbs.xlsx'\n",
    "rxn_order = ['DDC', 'DDC_tryptm', 'TPH',  'AANAT', 'AANAT_tryptm',  'ASMT']"
   ]
  },
  {
   "cell_type": "code",
   "execution_count": 3,
   "metadata": {},
   "outputs": [],
   "source": [
    "\n",
    "ma_df, dG_Q_df, dG_df = calculate_dG(file_in, gas_constant, temperature, rxn_order)\n",
    "ma_df['rxn'] = ma_df.index\n",
    "dG_Q_df['rxn'] = dG_Q_df.index\n",
    "dG_df['rxn'] = dG_df.index\n",
    "\n",
    "\n",
    "flux_df = get_robust_fluxes(file_in, rxn_order)\n",
    "flux_df['rxn'] = flux_df.index\n",
    "flux_df['flux_min'] = flux_df['flux'] - flux_df['flux_std']\n",
    "flux_df['flux_max'] = flux_df['flux'] + flux_df['flux_std']\n",
    "\n",
    "\n",
    "    "
   ]
  },
  {
   "cell_type": "code",
   "execution_count": 4,
   "metadata": {},
   "outputs": [],
   "source": [
    "def plot_dG_and_flux(dG_df, flux_df):\n",
    "    threshold_df = pd.DataFrame([{\"ThresholdValue\": 0, \"Threshold\": \"hazardous\"}])\n",
    "    \n",
    "    rect_dG = alt.Chart(dG_df).mark_rect().encode(\n",
    "        y ='rxn:N',\n",
    "        x='∆G_min',\n",
    "        x2='∆G_max'\n",
    "    ).properties(\n",
    "        height=400,\n",
    "        width=600\n",
    "    )\n",
    "\n",
    "    point_dG = alt.Chart(dG_df).mark_point(size=100, color='red', filled=True).encode(\n",
    "        y ='rxn:N',\n",
    "        x='∆G_mean',\n",
    "        tooltip='∆G_mean'\n",
    "    ).interactive()\n",
    "\n",
    "\n",
    "    rule_dG = alt.Chart(threshold_df).mark_rule().encode(\n",
    "        x='ThresholdValue:Q'\n",
    "    )\n",
    "\n",
    "\n",
    "    rect_flux = alt.Chart(flux_df).mark_rect().encode(\n",
    "        y ='rxn:N',\n",
    "        x='flux_min',\n",
    "        x2='flux_max'\n",
    "    ).properties(\n",
    "        height=400,\n",
    "        width=600\n",
    "    )\n",
    "\n",
    "    point_flux = alt.Chart(flux_df).mark_point(size=100, color='red', filled=True).encode(\n",
    "        y ='rxn:N',\n",
    "        x='flux',\n",
    "        tooltip='flux'\n",
    "    ).interactive()\n",
    "\n",
    "\n",
    "    rule_flux = alt.Chart(threshold_df).mark_rule().encode(\n",
    "        x='ThresholdValue:Q'\n",
    "    )\n",
    "\n",
    "    return alt.hconcat(rect_dG + point_dG + rule_dG, rect_flux + point_flux + rule_flux)\n"
   ]
  },
  {
   "cell_type": "code",
   "execution_count": 5,
   "metadata": {},
   "outputs": [
    {
     "data": {
      "application/vnd.vegalite.v2+json": {
       "$schema": "https://vega.github.io/schema/vega-lite/v2.4.3.json",
       "config": {
        "view": {
         "height": 300,
         "width": 400
        }
       },
       "hconcat": [
        {
         "layer": [
          {
           "data": {
            "values": [
             {
              "rxn": "DDC",
              "∆G_max": 35.401366123405715,
              "∆G_mean": 1.481836966138676,
              "∆G_min": -60.019281416077774
             },
             {
              "rxn": "DDC_tryptm",
              "∆G_max": -52.8302504781594,
              "∆G_mean": -65.58952544534118,
              "∆G_min": -97.73322644024802
             },
             {
              "rxn": "TPH",
              "∆G_max": -48.810969062081625,
              "∆G_mean": -83.38952544534118,
              "∆G_min": -137.3525078563258
             },
             {
              "rxn": "AANAT",
              "∆G_max": 222.50113919304206,
              "∆G_mean": 121.57360788320187,
              "∆G_min": 48.201923681291255
             },
             {
              "rxn": "AANAT_tryptm",
              "∆G_max": null,
              "∆G_mean": null,
              "∆G_min": null
             },
             {
              "rxn": "ASMT",
              "∆G_max": 63.55668811744339,
              "∆G_mean": 14.544430055301465,
              "∆G_min": -15.086147553815225
             }
            ]
           },
           "encoding": {
            "x": {
             "field": "∆G_min",
             "type": "quantitative"
            },
            "x2": {
             "field": "∆G_max",
             "type": "quantitative"
            },
            "y": {
             "field": "rxn",
             "type": "nominal"
            }
           },
           "height": 400,
           "mark": "rect",
           "width": 600
          },
          {
           "data": {
            "values": [
             {
              "rxn": "DDC",
              "∆G_max": 35.401366123405715,
              "∆G_mean": 1.481836966138676,
              "∆G_min": -60.019281416077774
             },
             {
              "rxn": "DDC_tryptm",
              "∆G_max": -52.8302504781594,
              "∆G_mean": -65.58952544534118,
              "∆G_min": -97.73322644024802
             },
             {
              "rxn": "TPH",
              "∆G_max": -48.810969062081625,
              "∆G_mean": -83.38952544534118,
              "∆G_min": -137.3525078563258
             },
             {
              "rxn": "AANAT",
              "∆G_max": 222.50113919304206,
              "∆G_mean": 121.57360788320187,
              "∆G_min": 48.201923681291255
             },
             {
              "rxn": "AANAT_tryptm",
              "∆G_max": null,
              "∆G_mean": null,
              "∆G_min": null
             },
             {
              "rxn": "ASMT",
              "∆G_max": 63.55668811744339,
              "∆G_mean": 14.544430055301465,
              "∆G_min": -15.086147553815225
             }
            ]
           },
           "encoding": {
            "tooltip": {
             "field": "∆G_mean",
             "type": "quantitative"
            },
            "x": {
             "field": "∆G_mean",
             "type": "quantitative"
            },
            "y": {
             "field": "rxn",
             "type": "nominal"
            }
           },
           "mark": {
            "color": "red",
            "filled": true,
            "size": 100,
            "type": "point"
           },
           "selection": {
            "selector001": {
             "bind": "scales",
             "encodings": [
              "x",
              "y"
             ],
             "mark": {
              "fill": "#333",
              "fillOpacity": 0.125,
              "stroke": "white"
             },
             "on": "[mousedown, window:mouseup] > window:mousemove!",
             "resolve": "global",
             "translate": "[mousedown, window:mouseup] > window:mousemove!",
             "type": "interval",
             "zoom": "wheel!"
            }
           }
          },
          {
           "data": {
            "values": [
             {
              "Threshold": "hazardous",
              "ThresholdValue": 0
             }
            ]
           },
           "encoding": {
            "x": {
             "field": "ThresholdValue",
             "type": "quantitative"
            }
           },
           "mark": "rule"
          }
         ]
        },
        {
         "layer": [
          {
           "data": {
            "values": [
             {
              "flux": 18.106203865813203,
              "flux_max": 20.794735627465815,
              "flux_min": 15.417672104160593,
              "flux_std": 2.688531761652611,
              "rxn": "DDC"
             },
             {
              "flux": 1.2283586019855404,
              "flux_max": 1.4674950464105874,
              "flux_min": 0.9892221575604934,
              "flux_std": 0.239136444425047,
              "rxn": "DDC_tryptm"
             },
             {
              "flux": 18.10620386581319,
              "flux_max": 20.794735627465798,
              "flux_min": 15.41767210416058,
              "flux_std": 2.6885317616526083,
              "rxn": "TPH"
             },
             {
              "flux": 18.106203865813207,
              "flux_max": 20.79473562746582,
              "flux_min": 15.417672104160594,
              "flux_std": 2.6885317616526114,
              "rxn": "AANAT"
             },
             {
              "flux": 1.2283586019855464,
              "flux_max": 1.4674950464105934,
              "flux_min": 0.9892221575604994,
              "flux_std": 0.23913644442504706,
              "rxn": "AANAT_tryptm"
             },
             {
              "flux": 18.106203865813207,
              "flux_max": 20.79473562746582,
              "flux_min": 15.417672104160594,
              "flux_std": 2.6885317616526114,
              "rxn": "ASMT"
             }
            ]
           },
           "encoding": {
            "x": {
             "field": "flux_min",
             "type": "quantitative"
            },
            "x2": {
             "field": "flux_max",
             "type": "quantitative"
            },
            "y": {
             "field": "rxn",
             "type": "nominal"
            }
           },
           "height": 400,
           "mark": "rect",
           "width": 600
          },
          {
           "data": {
            "values": [
             {
              "flux": 18.106203865813203,
              "flux_max": 20.794735627465815,
              "flux_min": 15.417672104160593,
              "flux_std": 2.688531761652611,
              "rxn": "DDC"
             },
             {
              "flux": 1.2283586019855404,
              "flux_max": 1.4674950464105874,
              "flux_min": 0.9892221575604934,
              "flux_std": 0.239136444425047,
              "rxn": "DDC_tryptm"
             },
             {
              "flux": 18.10620386581319,
              "flux_max": 20.794735627465798,
              "flux_min": 15.41767210416058,
              "flux_std": 2.6885317616526083,
              "rxn": "TPH"
             },
             {
              "flux": 18.106203865813207,
              "flux_max": 20.79473562746582,
              "flux_min": 15.417672104160594,
              "flux_std": 2.6885317616526114,
              "rxn": "AANAT"
             },
             {
              "flux": 1.2283586019855464,
              "flux_max": 1.4674950464105934,
              "flux_min": 0.9892221575604994,
              "flux_std": 0.23913644442504706,
              "rxn": "AANAT_tryptm"
             },
             {
              "flux": 18.106203865813207,
              "flux_max": 20.79473562746582,
              "flux_min": 15.417672104160594,
              "flux_std": 2.6885317616526114,
              "rxn": "ASMT"
             }
            ]
           },
           "encoding": {
            "tooltip": {
             "field": "flux",
             "type": "quantitative"
            },
            "x": {
             "field": "flux",
             "type": "quantitative"
            },
            "y": {
             "field": "rxn",
             "type": "nominal"
            }
           },
           "mark": {
            "color": "red",
            "filled": true,
            "size": 100,
            "type": "point"
           },
           "selection": {
            "selector002": {
             "bind": "scales",
             "encodings": [
              "x",
              "y"
             ],
             "mark": {
              "fill": "#333",
              "fillOpacity": 0.125,
              "stroke": "white"
             },
             "on": "[mousedown, window:mouseup] > window:mousemove!",
             "resolve": "global",
             "translate": "[mousedown, window:mouseup] > window:mousemove!",
             "type": "interval",
             "zoom": "wheel!"
            }
           }
          },
          {
           "data": {
            "values": [
             {
              "Threshold": "hazardous",
              "ThresholdValue": 0
             }
            ]
           },
           "encoding": {
            "x": {
             "field": "ThresholdValue",
             "type": "quantitative"
            }
           },
           "mark": "rule"
          }
         ]
        }
       ]
      },
      "image/png": "[encoded data removed]",
      "text/plain": [
       "<VegaLite 2 object>\n",
       "\n",
       "If you see this message, it means the renderer has not been properly enabled\n",
       "for the frontend that you are using. For more information, see\n",
       "https://altair-viz.github.io/user_guide/troubleshooting.html\n"
      ]
     },
     "execution_count": 5,
     "metadata": {},
     "output_type": "execute_result"
    }
   ],
   "source": [
    "plot_dG_and_flux(dG_df, flux_df)"
   ]
  }
 ],
 "metadata": {
  "kernelspec": {
   "display_name": "Python 3",
   "language": "python",
   "name": "python3"
  },
  "language_info": {
   "codemirror_mode": {
    "name": "ipython",
    "version": 3
   },
   "file_extension": ".py",
   "mimetype": "text/x-python",
   "name": "python",
   "nbconvert_exporter": "python",
   "pygments_lexer": "ipython3",
   "version": "3.6.5"
  }
 },
 "nbformat": 4,
 "nbformat_minor": 2
}
