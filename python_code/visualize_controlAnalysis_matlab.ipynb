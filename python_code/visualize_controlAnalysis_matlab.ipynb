{
 "cells": [
  {
   "cell_type": "code",
   "execution_count": 1,
   "metadata": {},
   "outputs": [
    {
     "data": {
      "text/plain": [
       "DataTransformerRegistry.enable('default')"
      ]
     },
     "execution_count": 1,
     "metadata": {},
     "output_type": "execute_result"
    }
   ],
   "source": [
    "import pandas as pd\n",
    "import altair as alt\n",
    "import numpy as np\n",
    "import scipy.io\n",
    "alt.data_transformers.enable('default', max_rows=None)"
   ]
  },
  {
   "cell_type": "code",
   "execution_count": 11,
   "metadata": {},
   "outputs": [],
   "source": [
    "base_dir = '/Users/nicow/Documents/GRASP/output_test/'\n",
    "n_models = 10000\n",
    "\n",
    "file_in_MCA = ''.join([base_dir, 'MCA_MEP_test.mat']) \n",
    "file_in_mets = ''.join([base_dir, 'MEP_test_metsActive.dat']) \n",
    "file_in_rxns = ''.join([base_dir, 'MEP_test_rxnsActive.dat']) \n",
    "file_in_enzs = ''.join([base_dir, 'MEP_test_enzNames.dat']) "
   ]
  },
  {
   "cell_type": "code",
   "execution_count": 12,
   "metadata": {},
   "outputs": [],
   "source": [
    "def get_name_list(file_in):\n",
    "    \n",
    "    name_list = []\n",
    "    with open(file_in, 'r') as f_in:\n",
    "        line = f_in.readline()\n",
    "        line = f_in.readline()\n",
    "        while line:          \n",
    "            name_list.append(line[2:].strip())\n",
    "            line = f_in.readline()\n",
    "\n",
    "    return name_list\n",
    "\n",
    "rxn_names = get_name_list(file_in_rxns)\n",
    "enz_names = get_name_list(file_in_enzs)\n",
    "met_names = get_name_list(file_in_mets)"
   ]
  },
  {
   "cell_type": "code",
   "execution_count": 13,
   "metadata": {},
   "outputs": [],
   "source": [
    "def get_df_median(mat, key_name, id_col, col_names, row_names, n_models):\n",
    "    \n",
    "    try:\n",
    "        df = pd.DataFrame(data=mat['mcaResults'][key_name].item())\n",
    "        df.columns = col_names\n",
    "    except ValueError:\n",
    "        df = pd.DataFrame(data=mat['mcaResults'][key_name].item()[0])\n",
    "        df.columns = col_names\n",
    "\n",
    "    df[id_col] = np.tile(row_names, n_models)\n",
    "    df_median = df.groupby(id_col).median()\n",
    "    \n",
    "    return df_median\n",
    "\n",
    "\n",
    "def get_df_iqr(mat, key_name, id_col, col_names, row_names, n_models):\n",
    "    \n",
    "    try:\n",
    "        df = pd.DataFrame(data=mat['mcaResults'][key_name].item())\n",
    "        df.columns = col_names\n",
    "    except ValueError:\n",
    "        df = pd.DataFrame(data=mat['mcaResults'][key_name].item()[0])\n",
    "        df.columns = col_names\n",
    "\n",
    "    df[id_col] = np.tile(row_names, n_models)\n",
    "   \n",
    "    df_q2 = df.groupby(id_col).quantile(0.25)\n",
    "    df_q4 = df.groupby(id_col).quantile(0.75)\n",
    "    \n",
    "    df_iqr = df_q4.subtract(df_q2)    \n",
    "\n",
    "    return df_iqr\n",
    "\n",
    "\n",
    "\n",
    "mat = scipy.io.loadmat(file_in_MCA, squeeze_me=True)\n",
    "\n",
    "key_name = 'vControl'\n",
    "id_col = 'rxns'\n",
    "col_names = rxn_names\n",
    "row_names = rxn_names\n",
    "Cv_df_median = get_df_median(mat, key_name, id_col, col_names, row_names, n_models)\n",
    "Cv_df_iqr = get_df_iqr(mat, key_name, id_col, col_names, row_names, n_models)\n",
    "\n",
    "key_name = 'xControl'\n",
    "id_col = 'mets'\n",
    "col_names = rxn_names\n",
    "row_names = met_names\n",
    "Cx_df_median = get_df_median(mat, key_name, id_col, col_names, row_names, n_models)\n",
    "Cx_df_iqr = get_df_iqr(mat, key_name, id_col, col_names, row_names, n_models)\n",
    "    \n"
   ]
  },
  {
   "cell_type": "code",
   "execution_count": 14,
   "metadata": {},
   "outputs": [],
   "source": [
    "def get_heatmaps(C_df_in, id_col):\n",
    "    \n",
    "    C_df = C_df_in\n",
    "    \n",
    "    C_df[id_col] = C_df.index\n",
    "    C_df = C_df.melt(id_vars=[id_col], var_name='variable')\n",
    "    \n",
    "    Cx_in = alt.Chart(C_df).mark_rect().encode(\n",
    "        x='variable:N',\n",
    "        y=id_col,\n",
    "        color=alt.Color('value:Q', scale=alt.Scale(scheme='redblue', domain=[1,-1])),\n",
    "        tooltip='value:Q'\n",
    "    ).properties(\n",
    "        width=300,\n",
    "        height=250\n",
    "    )\n",
    "\n",
    "    return Cx_in "
   ]
  },
  {
   "cell_type": "code",
   "execution_count": 15,
   "metadata": {},
   "outputs": [
    {
     "name": "stderr",
     "output_type": "stream",
     "text": [
      "/usr/local/lib/python3.7/site-packages/altair/utils/core.py:294: FutureWarning: A future version of pandas will default to `skipna=True`. To silence this warning, pass `skipna=True|False` explicitly.\n",
      "  attrs['type'] = infer_vegalite_type(data[attrs['field']])\n"
     ]
    },
    {
     "data": {
      "application/vnd.vegalite.v2+json": {
       "$schema": "https://vega.github.io/schema/vega-lite/v2.6.0.json",
       "config": {
        "view": {
         "height": 300,
         "width": 400
        }
       },
       "datasets": {
        "data-5d73ded3fc90998a21104f170488abb4": [
         {
          "rxn": "ENO",
          "value": 6.282106767137475e-16,
          "variable": "HEX1"
         },
         {
          "rxn": "EX_atp",
          "value": 0,
          "variable": "HEX1"
         },
         {
          "rxn": "EX_glc",
          "value": 0,
          "variable": "HEX1"
         },
         {
          "rxn": "EX_pep",
          "value": 0,
          "variable": "HEX1"
         },
         {
          "rxn": "FBA",
          "value": 3.5166054168936553e-16,
          "variable": "HEX1"
         },
         {
          "rxn": "GAPDH",
          "value": 2.3278302341119593e-16,
          "variable": "HEX1"
         },
         {
          "rxn": "GLUT1",
          "value": 2.945334042966935e-16,
          "variable": "HEX1"
         },
         {
          "rxn": "HEX1",
          "value": 0.19074720405603096,
          "variable": "HEX1"
         },
         {
          "rxn": "HEX2",
          "value": 0.19074720405603457,
          "variable": "HEX1"
         },
         {
          "rxn": "PFKL",
          "value": 0.19265627417056846,
          "variable": "HEX1"
         },
         {
          "rxn": "PFKM",
          "value": 0.1836539984135233,
          "variable": "HEX1"
         },
         {
          "rxn": "PFKP",
          "value": 0.24997065970396132,
          "variable": "HEX1"
         },
         {
          "rxn": "PGI",
          "value": 6.699038700049375e-16,
          "variable": "HEX1"
         },
         {
          "rxn": "PGK",
          "value": 2.1935936618444748e-16,
          "variable": "HEX1"
         },
         {
          "rxn": "PGM",
          "value": 2.938115749588135e-16,
          "variable": "HEX1"
         },
         {
          "rxn": "TPI",
          "value": 6.134380606948462e-16,
          "variable": "HEX1"
         },
         {
          "rxn": "ENO",
          "value": 6.2581007681975e-16,
          "variable": "HEX2"
         },
         {
          "rxn": "EX_atp",
          "value": 0,
          "variable": "HEX2"
         },
         {
          "rxn": "EX_glc",
          "value": 0,
          "variable": "HEX2"
         },
         {
          "rxn": "EX_pep",
          "value": 0,
          "variable": "HEX2"
         },
         {
          "rxn": "FBA",
          "value": 3.516605416893612e-16,
          "variable": "HEX2"
         },
         {
          "rxn": "GAPDH",
          "value": 2.327830234111967e-16,
          "variable": "HEX2"
         },
         {
          "rxn": "GLUT1",
          "value": 2.9453814282487e-16,
          "variable": "HEX2"
         },
         {
          "rxn": "HEX1",
          "value": 0.19074720405603024,
          "variable": "HEX2"
         },
         {
          "rxn": "HEX2",
          "value": 0.1907472040560333,
          "variable": "HEX2"
         },
         {
          "rxn": "PFKL",
          "value": 0.19265627417056735,
          "variable": "HEX2"
         },
         {
          "rxn": "PFKM",
          "value": 0.18365399841352245,
          "variable": "HEX2"
         },
         {
          "rxn": "PFKP",
          "value": 0.24997065970395993,
          "variable": "HEX2"
         },
         {
          "rxn": "PGI",
          "value": 6.712316106330778e-16,
          "variable": "HEX2"
         },
         {
          "rxn": "PGK",
          "value": 2.208935939329142e-16,
          "variable": "HEX2"
         },
         {
          "rxn": "PGM",
          "value": 2.9357060889849833e-16,
          "variable": "HEX2"
         },
         {
          "rxn": "TPI",
          "value": 6.134380606948432e-16,
          "variable": "HEX2"
         },
         {
          "rxn": "ENO",
          "value": 4.757486880875705e-16,
          "variable": "PGI"
         },
         {
          "rxn": "EX_atp",
          "value": 0,
          "variable": "PGI"
         },
         {
          "rxn": "EX_glc",
          "value": 0,
          "variable": "PGI"
         },
         {
          "rxn": "EX_pep",
          "value": 0,
          "variable": "PGI"
         },
         {
          "rxn": "FBA",
          "value": 2.984943886767889e-16,
          "variable": "PGI"
         },
         {
          "rxn": "GAPDH",
          "value": 2.2062696086265574e-16,
          "variable": "PGI"
         },
         {
          "rxn": "GLUT1",
          "value": 2.763754037365584e-16,
          "variable": "PGI"
         },
         {
          "rxn": "HEX1",
          "value": 0.08727056920702227,
          "variable": "PGI"
         },
         {
          "rxn": "HEX2",
          "value": 0.08727056920702322,
          "variable": "PGI"
         },
         {
          "rxn": "PFKL",
          "value": 0.04116923665260154,
          "variable": "PGI"
         },
         {
          "rxn": "PFKM",
          "value": 0.040056665237969594,
          "variable": "PGI"
         },
         {
          "rxn": "PFKP",
          "value": 0.05445406600832228,
          "variable": "PGI"
         },
         {
          "rxn": "PGI",
          "value": 8.881784197001252e-16,
          "variable": "PGI"
         },
         {
          "rxn": "PGK",
          "value": 2.037633059922778e-16,
          "variable": "PGI"
         },
         {
          "rxn": "PGM",
          "value": 2.70542405062555e-16,
          "variable": "PGI"
         },
         {
          "rxn": "TPI",
          "value": 5.06677170100478e-16,
          "variable": "PGI"
         },
         {
          "rxn": "ENO",
          "value": 4.0532155921339786e-16,
          "variable": "PFKL"
         },
         {
          "rxn": "EX_atp",
          "value": 0,
          "variable": "PFKL"
         },
         {
          "rxn": "EX_glc",
          "value": 0,
          "variable": "PFKL"
         },
         {
          "rxn": "EX_pep",
          "value": 0,
          "variable": "PFKL"
         },
         {
          "rxn": "FBA",
          "value": 2.2139813754325413e-16,
          "variable": "PFKL"
         },
         {
          "rxn": "GAPDH",
          "value": 1.5868845937967238e-16,
          "variable": "PFKL"
         },
         {
          "rxn": "GLUT1",
          "value": 1.9547046097669506e-16,
          "variable": "PFKL"
         },
         {
          "rxn": "HEX1",
          "value": 0.05520460738569891,
          "variable": "PFKL"
         },
         {
          "rxn": "HEX2",
          "value": 0.055204607385699614,
          "variable": "PFKL"
         },
         {
          "rxn": "PFKL",
          "value": 0.30915300761691045,
          "variable": "PFKL"
         },
         {
          "rxn": "PFKM",
          "value": 0.30682162503299415,
          "variable": "PFKL"
         },
         {
          "rxn": "PFKP",
          "value": 0.4131962012034773,
          "variable": "PFKL"
         },
         {
          "rxn": "PGI",
          "value": 4.601694102736545e-16,
          "variable": "PFKL"
         },
         {
          "rxn": "PGK",
          "value": 1.4144765306840795e-16,
          "variable": "PFKL"
         },
         {
          "rxn": "PGM",
          "value": 1.967632939202221e-16,
          "variable": "PFKL"
         },
         {
          "rxn": "TPI",
          "value": 3.764057162477633e-16,
          "variable": "PFKL"
         },
         {
          "rxn": "ENO",
          "value": 4.022080567236885e-16,
          "variable": "PFKM"
         },
         {
          "rxn": "EX_atp",
          "value": 0,
          "variable": "PFKM"
         },
         {
          "rxn": "EX_glc",
          "value": 0,
          "variable": "PFKM"
         },
         {
          "rxn": "EX_pep",
          "value": 0,
          "variable": "PFKM"
         },
         {
          "rxn": "FBA",
          "value": 2.2139813754326404e-16,
          "variable": "PFKM"
         },
         {
          "rxn": "GAPDH",
          "value": 1.5868845937967948e-16,
          "variable": "PFKM"
         },
         {
          "rxn": "GLUT1",
          "value": 1.954704609766713e-16,
          "variable": "PFKM"
         },
         {
          "rxn": "HEX1",
          "value": 0.05520460738570138,
          "variable": "PFKM"
         },
         {
          "rxn": "HEX2",
          "value": 0.055204607385702126,
          "variable": "PFKM"
         },
         {
          "rxn": "PFKL",
          "value": 0.30915300761692405,
          "variable": "PFKM"
         },
         {
          "rxn": "PFKM",
          "value": 0.3068216250330069,
          "variable": "PFKM"
         },
         {
          "rxn": "PFKP",
          "value": 0.41319620120349615,
          "variable": "PFKM"
         },
         {
          "rxn": "PGI",
          "value": 4.568976762854698e-16,
          "variable": "PFKM"
         },
         {
          "rxn": "PGK",
          "value": 1.4084443758599163e-16,
          "variable": "PFKM"
         },
         {
          "rxn": "PGM",
          "value": 1.9694182463137328e-16,
          "variable": "PFKM"
         },
         {
          "rxn": "TPI",
          "value": 3.764057162477793e-16,
          "variable": "PFKM"
         },
         {
          "rxn": "ENO",
          "value": 4.03908357920636e-16,
          "variable": "PFKP"
         },
         {
          "rxn": "EX_atp",
          "value": 0,
          "variable": "PFKP"
         },
         {
          "rxn": "EX_glc",
          "value": 0,
          "variable": "PFKP"
         },
         {
          "rxn": "EX_pep",
          "value": 0,
          "variable": "PFKP"
         },
         {
          "rxn": "FBA",
          "value": 2.2139813754325502e-16,
          "variable": "PFKP"
         },
         {
          "rxn": "GAPDH",
          "value": 1.5868845937967967e-16,
          "variable": "PFKP"
         },
         {
          "rxn": "GLUT1",
          "value": 1.9547046097667122e-16,
          "variable": "PFKP"
         },
         {
          "rxn": "HEX1",
          "value": 0.05520460738570141,
          "variable": "PFKP"
         },
         {
          "rxn": "HEX2",
          "value": 0.055204607385702195,
          "variable": "PFKP"
         },
         {
          "rxn": "PFKL",
          "value": 0.30915300761692477,
          "variable": "PFKP"
         },
         {
          "rxn": "PFKM",
          "value": 0.30682162503300814,
          "variable": "PFKP"
         },
         {
          "rxn": "PFKP",
          "value": 0.4131962012034966,
          "variable": "PFKP"
         },
         {
          "rxn": "PGI",
          "value": 4.617536478081767e-16,
          "variable": "PFKP"
         },
         {
          "rxn": "PGK",
          "value": 1.4122185611127232e-16,
          "variable": "PFKP"
         },
         {
          "rxn": "PGM",
          "value": 1.9687830676854457e-16,
          "variable": "PFKP"
         },
         {
          "rxn": "TPI",
          "value": 3.7640571624777987e-16,
          "variable": "PFKP"
         },
         {
          "rxn": "ENO",
          "value": 9.867668122343008e-16,
          "variable": "FBA"
         },
         {
          "rxn": "EX_atp",
          "value": 0,
          "variable": "FBA"
         },
         {
          "rxn": "EX_glc",
          "value": 0,
          "variable": "FBA"
         },
         {
          "rxn": "EX_pep",
          "value": 0,
          "variable": "FBA"
         },
         {
          "rxn": "FBA",
          "value": 8.881784197001252e-16,
          "variable": "FBA"
         },
         {
          "rxn": "GAPDH",
          "value": 4.030675490977097e-16,
          "variable": "FBA"
         },
         {
          "rxn": "GLUT1",
          "value": 4.912735557745716e-16,
          "variable": "FBA"
         },
         {
          "rxn": "HEX1",
          "value": 0.03028794896159634,
          "variable": "FBA"
         },
         {
          "rxn": "HEX2",
          "value": 0.0302879489615968,
          "variable": "FBA"
         },
         {
          "rxn": "PFKL",
          "value": 0.27920954943295573,
          "variable": "FBA"
         },
         {
          "rxn": "PFKM",
          "value": 0.26174155956690853,
          "variable": "FBA"
         },
         {
          "rxn": "PFKP",
          "value": 0.3363296810831878,
          "variable": "FBA"
         },
         {
          "rxn": "PGI",
          "value": 8.967724298845296e-16,
          "variable": "FBA"
         },
         {
          "rxn": "PGK",
          "value": 3.221872520352511e-16,
          "variable": "FBA"
         },
         {
          "rxn": "PGM",
          "value": 4.660787363416125e-16,
          "variable": "FBA"
         },
         {
          "rxn": "TPI",
          "value": 1.1658527528881348e-15,
          "variable": "FBA"
         },
         {
          "rxn": "ENO",
          "value": 1.7344472087147402e-15,
          "variable": "GAPDH"
         },
         {
          "rxn": "EX_atp",
          "value": 0,
          "variable": "GAPDH"
         },
         {
          "rxn": "EX_glc",
          "value": 0,
          "variable": "GAPDH"
         },
         {
          "rxn": "EX_pep",
          "value": 0,
          "variable": "GAPDH"
         },
         {
          "rxn": "FBA",
          "value": 1.1031103231028726e-15,
          "variable": "GAPDH"
         },
         {
          "rxn": "GAPDH",
          "value": 8.881784197001252e-16,
          "variable": "GAPDH"
         },
         {
          "rxn": "GLUT1",
          "value": 8.955175962286418e-16,
          "variable": "GAPDH"
         },
         {
          "rxn": "HEX1",
          "value": 0.0180304220213246,
          "variable": "GAPDH"
         },
         {
          "rxn": "HEX2",
          "value": 0.01803042202132094,
          "variable": "GAPDH"
         },
         {
          "rxn": "PFKL",
          "value": 0.13997608407146045,
          "variable": "GAPDH"
         },
         {
          "rxn": "PFKM",
          "value": 0.1359750785717278,
          "variable": "GAPDH"
         },
         {
          "rxn": "PFKP",
          "value": 0.22035215032901034,
          "variable": "GAPDH"
         },
         {
          "rxn": "PGI",
          "value": 1.5878290324789502e-15,
          "variable": "GAPDH"
         },
         {
          "rxn": "PGK",
          "value": 5.751736499887024e-16,
          "variable": "GAPDH"
         },
         {
          "rxn": "PGM",
          "value": 7.498265972195548e-16,
          "variable": "GAPDH"
         },
         {
          "rxn": "TPI",
          "value": 2.2603706443922544e-15,
          "variable": "GAPDH"
         },
         {
          "rxn": "ENO",
          "value": 3.516090052016579e-16,
          "variable": "TPI"
         },
         {
          "rxn": "EX_atp",
          "value": 0,
          "variable": "TPI"
         },
         {
          "rxn": "EX_glc",
          "value": 0,
          "variable": "TPI"
         },
         {
          "rxn": "EX_pep",
          "value": 0,
          "variable": "TPI"
         },
         {
          "rxn": "FBA",
          "value": 2.904804344639581e-16,
          "variable": "TPI"
         },
         {
          "rxn": "GAPDH",
          "value": 2.0118364209613046e-16,
          "variable": "TPI"
         },
         {
          "rxn": "GLUT1",
          "value": 2.3458841734195307e-16,
          "variable": "TPI"
         },
         {
          "rxn": "HEX1",
          "value": 0.002315804853466178,
          "variable": "TPI"
         },
         {
          "rxn": "HEX2",
          "value": 0.0023158048534655043,
          "variable": "TPI"
         },
         {
          "rxn": "PFKL",
          "value": 0.018404307795136438,
          "variable": "TPI"
         },
         {
          "rxn": "PFKM",
          "value": 0.018202959593549388,
          "variable": "TPI"
         },
         {
          "rxn": "PFKP",
          "value": 0.02852593906791874,
          "variable": "TPI"
         },
         {
          "rxn": "PGI",
          "value": 3.9314647724752327e-16,
          "variable": "TPI"
         },
         {
          "rxn": "PGK",
          "value": 1.6016158329223894e-16,
          "variable": "TPI"
         },
         {
          "rxn": "PGM",
          "value": 1.9724904320169274e-16,
          "variable": "TPI"
         },
         {
          "rxn": "TPI",
          "value": 7.771561172376096e-16,
          "variable": "TPI"
         },
         {
          "rxn": "ENO",
          "value": 2.3733849358643153e-15,
          "variable": "PGK"
         },
         {
          "rxn": "EX_atp",
          "value": 0,
          "variable": "PGK"
         },
         {
          "rxn": "EX_glc",
          "value": 0,
          "variable": "PGK"
         },
         {
          "rxn": "EX_pep",
          "value": 0,
          "variable": "PGK"
         },
         {
          "rxn": "FBA",
          "value": 1.410358937349753e-15,
          "variable": "PGK"
         },
         {
          "rxn": "GAPDH",
          "value": 9.635914415495254e-16,
          "variable": "PGK"
         },
         {
          "rxn": "GLUT1",
          "value": 1.140347431356575e-15,
          "variable": "PGK"
         },
         {
          "rxn": "HEX1",
          "value": 0.16995817693600707,
          "variable": "PGK"
         },
         {
          "rxn": "HEX2",
          "value": 0.16995817693600856,
          "variable": "PGK"
         },
         {
          "rxn": "PFKL",
          "value": 0.12045773187574244,
          "variable": "PGK"
         },
         {
          "rxn": "PFKM",
          "value": 0.11869574421335627,
          "variable": "PGK"
         },
         {
          "rxn": "PFKP",
          "value": 0.16903099651285258,
          "variable": "PGK"
         },
         {
          "rxn": "PGI",
          "value": 2.42436429823739e-15,
          "variable": "PGK"
         },
         {
          "rxn": "PGK",
          "value": 8.881784197001252e-16,
          "variable": "PGK"
         },
         {
          "rxn": "PGM",
          "value": 1.1451685353961489e-15,
          "variable": "PGK"
         },
         {
          "rxn": "TPI",
          "value": 2.485725693769852e-15,
          "variable": "PGK"
         },
         {
          "rxn": "ENO",
          "value": 1.08982739795153e-15,
          "variable": "PGM"
         },
         {
          "rxn": "EX_atp",
          "value": 0,
          "variable": "PGM"
         },
         {
          "rxn": "EX_glc",
          "value": 0,
          "variable": "PGM"
         },
         {
          "rxn": "EX_pep",
          "value": 0,
          "variable": "PGM"
         },
         {
          "rxn": "FBA",
          "value": 6.211864823924385e-16,
          "variable": "PGM"
         },
         {
          "rxn": "GAPDH",
          "value": 4.2818953576608476e-16,
          "variable": "PGM"
         },
         {
          "rxn": "GLUT1",
          "value": 5.213384979620737e-16,
          "variable": "PGM"
         },
         {
          "rxn": "HEX1",
          "value": 0.018594897649239314,
          "variable": "PGM"
         },
         {
          "rxn": "HEX2",
          "value": 0.01859489764924077,
          "variable": "PGM"
         },
         {
          "rxn": "PFKL",
          "value": 0.017770191853510198,
          "variable": "PGM"
         },
         {
          "rxn": "PFKM",
          "value": 0.01731439032607957,
          "variable": "PGM"
         },
         {
          "rxn": "PFKP",
          "value": 0.027462984423473367,
          "variable": "PGM"
         },
         {
          "rxn": "PGI",
          "value": 1.0489751188984339e-15,
          "variable": "PGM"
         },
         {
          "rxn": "PGK",
          "value": 4.019045938696094e-16,
          "variable": "PGM"
         },
         {
          "rxn": "PGM",
          "value": 7.771561172376096e-16,
          "variable": "PGM"
         },
         {
          "rxn": "TPI",
          "value": 1.1489175915935919e-15,
          "variable": "PGM"
         },
         {
          "rxn": "ENO",
          "value": 7.771561172376096e-16,
          "variable": "ENO"
         },
         {
          "rxn": "EX_atp",
          "value": 0,
          "variable": "ENO"
         },
         {
          "rxn": "EX_glc",
          "value": 0,
          "variable": "ENO"
         },
         {
          "rxn": "EX_pep",
          "value": 0,
          "variable": "ENO"
         },
         {
          "rxn": "FBA",
          "value": 2.9042720523285007e-16,
          "variable": "ENO"
         },
         {
          "rxn": "GAPDH",
          "value": 2.350226472997392e-16,
          "variable": "ENO"
         },
         {
          "rxn": "GLUT1",
          "value": 2.7577993371341956e-16,
          "variable": "ENO"
         },
         {
          "rxn": "HEX1",
          "value": 0.002395350641347844,
          "variable": "ENO"
         },
         {
          "rxn": "HEX2",
          "value": 0.00239535064134801,
          "variable": "ENO"
         },
         {
          "rxn": "PFKL",
          "value": 0.014400989212386816,
          "variable": "ENO"
         },
         {
          "rxn": "PFKM",
          "value": 0.014273962048305888,
          "variable": "ENO"
         },
         {
          "rxn": "PFKP",
          "value": 0.03406103154514222,
          "variable": "ENO"
         },
         {
          "rxn": "PGI",
          "value": 5.148980789518432e-16,
          "variable": "ENO"
         },
         {
          "rxn": "PGK",
          "value": 2.128432539458878e-16,
          "variable": "ENO"
         },
         {
          "rxn": "PGM",
          "value": 2.447432327309815e-16,
          "variable": "ENO"
         },
         {
          "rxn": "TPI",
          "value": 4.3473280900967467e-16,
          "variable": "ENO"
         },
         {
          "rxn": "ENO",
          "value": 6.456440292410397e-16,
          "variable": "GLUT1"
         },
         {
          "rxn": "EX_atp",
          "value": 0,
          "variable": "GLUT1"
         },
         {
          "rxn": "EX_glc",
          "value": 0,
          "variable": "GLUT1"
         },
         {
          "rxn": "EX_pep",
          "value": 0,
          "variable": "GLUT1"
         },
         {
          "rxn": "FBA",
          "value": 4.694175592639858e-16,
          "variable": "GLUT1"
         },
         {
          "rxn": "GAPDH",
          "value": 3.1879037682454784e-16,
          "variable": "GLUT1"
         },
         {
          "rxn": "GLUT1",
          "value": 5.551115123125783e-16,
          "variable": "GLUT1"
         },
         {
          "rxn": "HEX1",
          "value": 3.311602361308045e-12,
          "variable": "GLUT1"
         },
         {
          "rxn": "HEX2",
          "value": 3.3108248521039656e-12,
          "variable": "GLUT1"
         },
         {
          "rxn": "PFKL",
          "value": 2.9803024584981236e-12,
          "variable": "GLUT1"
         },
         {
          "rxn": "PFKM",
          "value": 3.486578055992886e-12,
          "variable": "GLUT1"
         },
         {
          "rxn": "PFKP",
          "value": 1.293936219025029e-12,
          "variable": "GLUT1"
         },
         {
          "rxn": "PGI",
          "value": 7.180470165022188e-16,
          "variable": "GLUT1"
         },
         {
          "rxn": "PGK",
          "value": 2.650744204738514e-16,
          "variable": "GLUT1"
         },
         {
          "rxn": "PGM",
          "value": 3.445811690629662e-16,
          "variable": "GLUT1"
         },
         {
          "rxn": "TPI",
          "value": 7.636053607379646e-16,
          "variable": "GLUT1"
         },
         {
          "rxn": "ENO",
          "value": 4.08006961549745e-15,
          "variable": "EX_atp"
         },
         {
          "rxn": "EX_atp",
          "value": 0,
          "variable": "EX_atp"
         },
         {
          "rxn": "EX_glc",
          "value": 0,
          "variable": "EX_atp"
         },
         {
          "rxn": "EX_pep",
          "value": 0,
          "variable": "EX_atp"
         },
         {
          "rxn": "FBA",
          "value": 2.55351295663786e-15,
          "variable": "EX_atp"
         },
         {
          "rxn": "GAPDH",
          "value": 1.887379141862766e-15,
          "variable": "EX_atp"
         },
         {
          "rxn": "GLUT1",
          "value": 1.887379141862766e-15,
          "variable": "EX_atp"
         },
         {
          "rxn": "HEX1",
          "value": 0.4929994246959979,
          "variable": "EX_atp"
         },
         {
          "rxn": "HEX2",
          "value": 0.49299942469599345,
          "variable": "EX_atp"
         },
         {
          "rxn": "PFKL",
          "value": 1.2920912846497044,
          "variable": "EX_atp"
         },
         {
          "rxn": "PFKM",
          "value": 1.2744760413112464,
          "variable": "EX_atp"
         },
         {
          "rxn": "PFKP",
          "value": 1.7607484597537986,
          "variable": "EX_atp"
         },
         {
          "rxn": "PGI",
          "value": 4.884981308350689e-15,
          "variable": "EX_atp"
         },
         {
          "rxn": "PGK",
          "value": 1.9984014443252818e-15,
          "variable": "EX_atp"
         },
         {
          "rxn": "PGM",
          "value": 1.7763568394002505e-15,
          "variable": "EX_atp"
         },
         {
          "rxn": "TPI",
          "value": 4.884981308350689e-15,
          "variable": "EX_atp"
         },
         {
          "rxn": "ENO",
          "value": 9.922618282587337e-16,
          "variable": "EX_glc"
         },
         {
          "rxn": "EX_atp",
          "value": 0,
          "variable": "EX_glc"
         },
         {
          "rxn": "EX_glc",
          "value": 0,
          "variable": "EX_glc"
         },
         {
          "rxn": "EX_pep",
          "value": 0,
          "variable": "EX_glc"
         },
         {
          "rxn": "FBA",
          "value": 6.522560269672795e-16,
          "variable": "EX_glc"
         },
         {
          "rxn": "GAPDH",
          "value": 5.967448757360216e-16,
          "variable": "EX_glc"
         },
         {
          "rxn": "GLUT1",
          "value": 6.661338147750939e-16,
          "variable": "EX_glc"
         },
         {
          "rxn": "HEX1",
          "value": 0.17999202523884003,
          "variable": "EX_glc"
         },
         {
          "rxn": "HEX2",
          "value": 0.17999202523883795,
          "variable": "EX_glc"
         },
         {
          "rxn": "PFKL",
          "value": 0.19314298729113044,
          "variable": "EX_glc"
         },
         {
          "rxn": "PFKM",
          "value": 0.18708633955268264,
          "variable": "EX_glc"
         },
         {
          "rxn": "PFKP",
          "value": 0.2354487274489521,
          "variable": "EX_glc"
         },
         {
          "rxn": "PGI",
          "value": 1.2212453270876722e-15,
          "variable": "EX_glc"
         },
         {
          "rxn": "PGK",
          "value": 5.828670879282072e-16,
          "variable": "EX_glc"
         },
         {
          "rxn": "PGM",
          "value": 5.273559366969494e-16,
          "variable": "EX_glc"
         },
         {
          "rxn": "TPI",
          "value": 1.1657341758564144e-15,
          "variable": "EX_glc"
         },
         {
          "rxn": "ENO",
          "value": 3.6637359812630166e-15,
          "variable": "EX_pep"
         },
         {
          "rxn": "EX_atp",
          "value": 0,
          "variable": "EX_pep"
         },
         {
          "rxn": "EX_glc",
          "value": 0,
          "variable": "EX_pep"
         },
         {
          "rxn": "EX_pep",
          "value": 0,
          "variable": "EX_pep"
         },
         {
          "rxn": "FBA",
          "value": 1.1934897514720433e-15,
          "variable": "EX_pep"
         },
         {
          "rxn": "GAPDH",
          "value": 1.1102230246251565e-15,
          "variable": "EX_pep"
         },
         {
          "rxn": "GLUT1",
          "value": 9.43689570931383e-16,
          "variable": "EX_pep"
         },
         {
          "rxn": "HEX1",
          "value": 0.24348390737949965,
          "variable": "EX_pep"
         },
         {
          "rxn": "HEX2",
          "value": 0.24348390737950365,
          "variable": "EX_pep"
         },
         {
          "rxn": "PFKL",
          "value": 0.23915208398863966,
          "variable": "EX_pep"
         },
         {
          "rxn": "PFKM",
          "value": 0.23616298041230918,
          "variable": "EX_pep"
         },
         {
          "rxn": "PFKP",
          "value": 0.36433104568549407,
          "variable": "EX_pep"
         },
         {
          "rxn": "PGI",
          "value": 2.0539125955565396e-15,
          "variable": "EX_pep"
         },
         {
          "rxn": "PGK",
          "value": 1.1102230246251565e-15,
          "variable": "EX_pep"
         },
         {
          "rxn": "PGM",
          "value": 1.1102230246251565e-15,
          "variable": "EX_pep"
         },
         {
          "rxn": "TPI",
          "value": 2.4424906541753444e-15,
          "variable": "EX_pep"
         }
        ],
        "data-af60383ee19b8cb78eb9b667eb33ed0c": [
         {
          "rxns": "ENO",
          "value": 3.3460617065194684e-17,
          "variable": "HEX1"
         },
         {
          "rxns": "EX_atp",
          "value": 0,
          "variable": "HEX1"
         },
         {
          "rxns": "EX_glc",
          "value": 0,
          "variable": "HEX1"
         },
         {
          "rxns": "EX_pep",
          "value": 0,
          "variable": "HEX1"
         },
         {
          "rxns": "FBA",
          "value": -7.055377624092428e-18,
          "variable": "HEX1"
         },
         {
          "rxns": "GAPDH",
          "value": 0,
          "variable": "HEX1"
         },
         {
          "rxns": "GLUT1",
          "value": 7.499357729397793e-18,
          "variable": "HEX1"
         },
         {
          "rxns": "HEX1",
          "value": 0.5858002045540007,
          "variable": "HEX1"
         },
         {
          "rxns": "HEX2",
          "value": -0.5858002045539914,
          "variable": "HEX1"
         },
         {
          "rxns": "PFKL",
          "value": -0.026351189053698015,
          "variable": "HEX1"
         },
         {
          "rxns": "PFKM",
          "value": -0.03068174045454112,
          "variable": "HEX1"
         },
         {
          "rxns": "PFKP",
          "value": -0.011112556981343384,
          "variable": "HEX1"
         },
         {
          "rxns": "PGI",
          "value": -3.649130240065364e-18,
          "variable": "HEX1"
         },
         {
          "rxns": "PGK",
          "value": -8.856118479522087e-18,
          "variable": "HEX1"
         },
         {
          "rxns": "PGM",
          "value": -2.2041813110184866e-18,
          "variable": "HEX1"
         },
         {
          "rxns": "TPI",
          "value": 1.2236806760061861e-17,
          "variable": "HEX1"
         },
         {
          "rxns": "ENO",
          "value": 3.2814728552531065e-17,
          "variable": "HEX2"
         },
         {
          "rxns": "EX_atp",
          "value": 0,
          "variable": "HEX2"
         },
         {
          "rxns": "EX_glc",
          "value": 0,
          "variable": "HEX2"
         },
         {
          "rxns": "EX_pep",
          "value": 0,
          "variable": "HEX2"
         },
         {
          "rxns": "FBA",
          "value": -7.05537762409241e-18,
          "variable": "HEX2"
         },
         {
          "rxns": "GAPDH",
          "value": 0,
          "variable": "HEX2"
         },
         {
          "rxns": "GLUT1",
          "value": 7.499357735853832e-18,
          "variable": "HEX2"
         },
         {
          "rxns": "HEX1",
          "value": -0.4141997954460057,
          "variable": "HEX2"
         },
         {
          "rxns": "HEX2",
          "value": 0.41419979544599944,
          "variable": "HEX2"
         },
         {
          "rxns": "PFKL",
          "value": -0.02635118905369788,
          "variable": "HEX2"
         },
         {
          "rxns": "PFKM",
          "value": -0.030681740454541116,
          "variable": "HEX2"
         },
         {
          "rxns": "PFKP",
          "value": -0.011112556981343322,
          "variable": "HEX2"
         },
         {
          "rxns": "PGI",
          "value": -4.4497801093802466e-18,
          "variable": "HEX2"
         },
         {
          "rxns": "PGK",
          "value": -8.832621604052816e-18,
          "variable": "HEX2"
         },
         {
          "rxns": "PGM",
          "value": -2.1600155259651196e-18,
          "variable": "HEX2"
         },
         {
          "rxns": "TPI",
          "value": 1.2236806760061809e-17,
          "variable": "HEX2"
         },
         {
          "rxns": "ENO",
          "value": -3.050495349775565e-17,
          "variable": "PGI"
         },
         {
          "rxns": "EX_atp",
          "value": 0,
          "variable": "PGI"
         },
         {
          "rxns": "EX_glc",
          "value": 0,
          "variable": "PGI"
         },
         {
          "rxns": "EX_pep",
          "value": 0,
          "variable": "PGI"
         },
         {
          "rxns": "FBA",
          "value": -2.5157583903903938e-18,
          "variable": "PGI"
         },
         {
          "rxns": "GAPDH",
          "value": 0,
          "variable": "PGI"
         },
         {
          "rxns": "GLUT1",
          "value": 7.482596475151493e-18,
          "variable": "PGI"
         },
         {
          "rxns": "HEX1",
          "value": -0.013842492423332915,
          "variable": "PGI"
         },
         {
          "rxns": "HEX2",
          "value": 0.013842492423332,
          "variable": "PGI"
         },
         {
          "rxns": "PFKL",
          "value": -0.0015478022039568575,
          "variable": "PGI"
         },
         {
          "rxns": "PFKM",
          "value": -0.0021289924801359745,
          "variable": "PGI"
         },
         {
          "rxns": "PFKP",
          "value": -0.005485251651716699,
          "variable": "PGI"
         },
         {
          "rxns": "PGI",
          "value": 0,
          "variable": "PGI"
         },
         {
          "rxns": "PGK",
          "value": -1.703075013721667e-18,
          "variable": "PGI"
         },
         {
          "rxns": "PGM",
          "value": -3.627527833758333e-18,
          "variable": "PGI"
         },
         {
          "rxns": "TPI",
          "value": -1.5632058271706206e-19,
          "variable": "PGI"
         },
         {
          "rxns": "ENO",
          "value": 1.3541249952835967e-17,
          "variable": "PFKL"
         },
         {
          "rxns": "EX_atp",
          "value": 0,
          "variable": "PFKL"
         },
         {
          "rxns": "EX_glc",
          "value": 0,
          "variable": "PFKL"
         },
         {
          "rxns": "EX_pep",
          "value": 0,
          "variable": "PFKL"
         },
         {
          "rxns": "FBA",
          "value": 4.21850404352984e-18,
          "variable": "PFKL"
         },
         {
          "rxns": "GAPDH",
          "value": 0,
          "variable": "PFKL"
         },
         {
          "rxns": "GLUT1",
          "value": 5.02497329682098e-18,
          "variable": "PFKL"
         },
         {
          "rxns": "HEX1",
          "value": 0.023219441635421403,
          "variable": "PFKL"
         },
         {
          "rxns": "HEX2",
          "value": -0.023219441635420904,
          "variable": "PFKL"
         },
         {
          "rxns": "PFKL",
          "value": 0.785177049785764,
          "variable": "PFKL"
         },
         {
          "rxns": "PFKM",
          "value": -0.21028920073015722,
          "variable": "PFKL"
         },
         {
          "rxns": "PFKP",
          "value": -0.4815002546247677,
          "variable": "PFKL"
         },
         {
          "rxns": "PGI",
          "value": -1.77068370287376e-19,
          "variable": "PFKL"
         },
         {
          "rxns": "PGK",
          "value": 9.597064962905522e-20,
          "variable": "PFKL"
         },
         {
          "rxns": "PGM",
          "value": -6.320477067185548e-18,
          "variable": "PFKL"
         },
         {
          "rxns": "TPI",
          "value": -1.1511933366143003e-18,
          "variable": "PFKL"
         },
         {
          "rxns": "ENO",
          "value": 1.3032148015136406e-17,
          "variable": "PFKM"
         },
         {
          "rxns": "EX_atp",
          "value": 0,
          "variable": "PFKM"
         },
         {
          "rxns": "EX_glc",
          "value": 0,
          "variable": "PFKM"
         },
         {
          "rxns": "EX_pep",
          "value": 0,
          "variable": "PFKM"
         },
         {
          "rxns": "FBA",
          "value": 4.2185040435301304e-18,
          "variable": "PFKM"
         },
         {
          "rxns": "GAPDH",
          "value": 0,
          "variable": "PFKM"
         },
         {
          "rxns": "GLUT1",
          "value": 5.0249732773044344e-18,
          "variable": "PFKM"
         },
         {
          "rxns": "HEX1",
          "value": 0.023219441635422396,
          "variable": "PFKM"
         },
         {
          "rxns": "HEX2",
          "value": -0.023219441635421896,
          "variable": "PFKM"
         },
         {
          "rxns": "PFKL",
          "value": -0.21482295021424547,
          "variable": "PFKM"
         },
         {
          "rxns": "PFKM",
          "value": 0.7897107992698333,
          "variable": "PFKM"
         },
         {
          "rxns": "PFKP",
          "value": -0.4815002546247894,
          "variable": "PFKM"
         },
         {
          "rxns": "PGI",
          "value": 1.9842419198837365e-19,
          "variable": "PFKM"
         },
         {
          "rxns": "PGK",
          "value": 3.4481783660338867e-19,
          "variable": "PFKM"
         },
         {
          "rxns": "PGM",
          "value": -6.4604112358657806e-18,
          "variable": "PFKM"
         },
         {
          "rxns": "TPI",
          "value": -1.1511933366143508e-18,
          "variable": "PFKM"
         },
         {
          "rxns": "ENO",
          "value": 1.2714933243396736e-17,
          "variable": "PFKP"
         },
         {
          "rxns": "EX_atp",
          "value": 0,
          "variable": "PFKP"
         },
         {
          "rxns": "EX_glc",
          "value": 0,
          "variable": "PFKP"
         },
         {
          "rxns": "EX_pep",
          "value": 0,
          "variable": "PFKP"
         },
         {
          "rxns": "FBA",
          "value": 4.218504043530139e-18,
          "variable": "PFKP"
         },
         {
          "rxns": "GAPDH",
          "value": 0,
          "variable": "PFKP"
         },
         {
          "rxns": "GLUT1",
          "value": 5.024973276383536e-18,
          "variable": "PFKP"
         },
         {
          "rxns": "HEX1",
          "value": 0.023219441635422482,
          "variable": "PFKP"
         },
         {
          "rxns": "HEX2",
          "value": -0.023219441635421965,
          "variable": "PFKP"
         },
         {
          "rxns": "PFKL",
          "value": -0.21482295021424566,
          "variable": "PFKP"
         },
         {
          "rxns": "PFKM",
          "value": -0.210289200730167,
          "variable": "PFKP"
         },
         {
          "rxns": "PFKP",
          "value": 0.5184997453752104,
          "variable": "PFKP"
         },
         {
          "rxns": "PGI",
          "value": 5.504912079149905e-19,
          "variable": "PFKP"
         },
         {
          "rxns": "PGK",
          "value": 1.3578299914189467e-19,
          "variable": "PFKP"
         },
         {
          "rxns": "PGM",
          "value": -6.183058078568783e-18,
          "variable": "PFKP"
         },
         {
          "rxns": "TPI",
          "value": -1.151193336614352e-18,
          "variable": "PFKP"
         },
         {
          "rxns": "ENO",
          "value": 1.4544628586018276e-17,
          "variable": "FBA"
         },
         {
          "rxns": "EX_atp",
          "value": 0,
          "variable": "FBA"
         },
         {
          "rxns": "EX_glc",
          "value": 0,
          "variable": "FBA"
         },
         {
          "rxns": "EX_pep",
          "value": 0,
          "variable": "FBA"
         },
         {
          "rxns": "FBA",
          "value": 0,
          "variable": "FBA"
         },
         {
          "rxns": "GAPDH",
          "value": 0,
          "variable": "FBA"
         },
         {
          "rxns": "GLUT1",
          "value": -8.640343481027573e-18,
          "variable": "FBA"
         },
         {
          "rxns": "HEX1",
          "value": -0.004353430326866742,
          "variable": "FBA"
         },
         {
          "rxns": "HEX2",
          "value": 0.004353430326864688,
          "variable": "FBA"
         },
         {
          "rxns": "PFKL",
          "value": 0.004137269379871869,
          "variable": "FBA"
         },
         {
          "rxns": "PFKM",
          "value": 0.003646471453453452,
          "variable": "FBA"
         },
         {
          "rxns": "PFKP",
          "value": 0.09285036421900023,
          "variable": "FBA"
         },
         {
          "rxns": "PGI",
          "value": 4.460499299450923e-18,
          "variable": "FBA"
         },
         {
          "rxns": "PGK",
          "value": 3.466323715921279e-18,
          "variable": "FBA"
         },
         {
          "rxns": "PGM",
          "value": 2.2257294215553095e-17,
          "variable": "FBA"
         },
         {
          "rxns": "TPI",
          "value": 0,
          "variable": "FBA"
         },
         {
          "rxns": "ENO",
          "value": -1.02924593623572e-16,
          "variable": "GAPDH"
         },
         {
          "rxns": "EX_atp",
          "value": 0,
          "variable": "GAPDH"
         },
         {
          "rxns": "EX_glc",
          "value": 0,
          "variable": "GAPDH"
         },
         {
          "rxns": "EX_pep",
          "value": 0,
          "variable": "GAPDH"
         },
         {
          "rxns": "FBA",
          "value": -3.945410013744389e-17,
          "variable": "GAPDH"
         },
         {
          "rxns": "GAPDH",
          "value": 0,
          "variable": "GAPDH"
         },
         {
          "rxns": "GLUT1",
          "value": -8.033737380597064e-19,
          "variable": "GAPDH"
         },
         {
          "rxns": "HEX1",
          "value": -0.0007859674411027448,
          "variable": "GAPDH"
         },
         {
          "rxns": "HEX2",
          "value": 0.0007859674411030439,
          "variable": "GAPDH"
         },
         {
          "rxns": "PFKL",
          "value": 0.000244640139968179,
          "variable": "GAPDH"
         },
         {
          "rxns": "PFKM",
          "value": 0.00031053084352995324,
          "variable": "GAPDH"
         },
         {
          "rxns": "PFKP",
          "value": 0.018783430882099855,
          "variable": "GAPDH"
         },
         {
          "rxns": "PGI",
          "value": -5.130277259810592e-17,
          "variable": "GAPDH"
         },
         {
          "rxns": "PGK",
          "value": 1.6269452828439745e-17,
          "variable": "GAPDH"
         },
         {
          "rxns": "PGM",
          "value": 1.0631635817499534e-17,
          "variable": "GAPDH"
         },
         {
          "rxns": "TPI",
          "value": 6.904271078479599e-17,
          "variable": "GAPDH"
         },
         {
          "rxns": "ENO",
          "value": 1.8037007424474188e-17,
          "variable": "TPI"
         },
         {
          "rxns": "EX_atp",
          "value": 0,
          "variable": "TPI"
         },
         {
          "rxns": "EX_glc",
          "value": 0,
          "variable": "TPI"
         },
         {
          "rxns": "EX_pep",
          "value": 0,
          "variable": "TPI"
         },
         {
          "rxns": "FBA",
          "value": -4.046670491324497e-18,
          "variable": "TPI"
         },
         {
          "rxns": "GAPDH",
          "value": 0,
          "variable": "TPI"
         },
         {
          "rxns": "GLUT1",
          "value": 5.773330376833286e-21,
          "variable": "TPI"
         },
         {
          "rxns": "HEX1",
          "value": -5.583681959143088e-05,
          "variable": "TPI"
         },
         {
          "rxns": "HEX2",
          "value": 5.5836819591789224e-05,
          "variable": "TPI"
         },
         {
          "rxns": "PFKL",
          "value": -5.523322084038451e-07,
          "variable": "TPI"
         },
         {
          "rxns": "PFKM",
          "value": 4.068456705483194e-05,
          "variable": "TPI"
         },
         {
          "rxns": "PFKP",
          "value": 0.0013100832215609602,
          "variable": "TPI"
         },
         {
          "rxns": "PGI",
          "value": -3.316511466690878e-18,
          "variable": "TPI"
         },
         {
          "rxns": "PGK",
          "value": 3.599017994311134e-18,
          "variable": "TPI"
         },
         {
          "rxns": "PGM",
          "value": -2.3820980885031277e-18,
          "variable": "TPI"
         },
         {
          "rxns": "TPI",
          "value": 0,
          "variable": "TPI"
         },
         {
          "rxns": "ENO",
          "value": 1.1452170803502834e-16,
          "variable": "PGK"
         },
         {
          "rxns": "EX_atp",
          "value": 0,
          "variable": "PGK"
         },
         {
          "rxns": "EX_glc",
          "value": 0,
          "variable": "PGK"
         },
         {
          "rxns": "EX_pep",
          "value": 0,
          "variable": "PGK"
         },
         {
          "rxns": "FBA",
          "value": 4.454372029076339e-18,
          "variable": "PGK"
         },
         {
          "rxns": "GAPDH",
          "value": 0,
          "variable": "PGK"
         },
         {
          "rxns": "GLUT1",
          "value": 4.094522119534417e-18,
          "variable": "PGK"
         },
         {
          "rxns": "HEX1",
          "value": 0.00021363543721648475,
          "variable": "PGK"
         },
         {
          "rxns": "HEX2",
          "value": -0.0002136354372168203,
          "variable": "PGK"
         },
         {
          "rxns": "PFKL",
          "value": -0.015016581448237767,
          "variable": "PGK"
         },
         {
          "rxns": "PFKM",
          "value": -0.01644975545443283,
          "variable": "PGK"
         },
         {
          "rxns": "PFKP",
          "value": 0.005550974889472304,
          "variable": "PGK"
         },
         {
          "rxns": "PGI",
          "value": 1.2377958265146045e-17,
          "variable": "PGK"
         },
         {
          "rxns": "PGK",
          "value": 0,
          "variable": "PGK"
         },
         {
          "rxns": "PGM",
          "value": -1.301265607876637e-17,
          "variable": "PGK"
         },
         {
          "rxns": "TPI",
          "value": 0,
          "variable": "PGK"
         },
         {
          "rxns": "ENO",
          "value": -3.635383095262507e-17,
          "variable": "PGM"
         },
         {
          "rxns": "EX_atp",
          "value": 0,
          "variable": "PGM"
         },
         {
          "rxns": "EX_glc",
          "value": 0,
          "variable": "PGM"
         },
         {
          "rxns": "EX_pep",
          "value": 0,
          "variable": "PGM"
         },
         {
          "rxns": "FBA",
          "value": 1.0285207823363653e-17,
          "variable": "PGM"
         },
         {
          "rxns": "GAPDH",
          "value": 0,
          "variable": "PGM"
         },
         {
          "rxns": "GLUT1",
          "value": 1.0995995349430873e-17,
          "variable": "PGM"
         },
         {
          "rxns": "HEX1",
          "value": -2.1261020797870404e-06,
          "variable": "PGM"
         },
         {
          "rxns": "HEX2",
          "value": 2.1261020800263433e-06,
          "variable": "PGM"
         },
         {
          "rxns": "PFKL",
          "value": -0.0007145882818293299,
          "variable": "PGM"
         },
         {
          "rxns": "PFKM",
          "value": -0.0009288331765534646,
          "variable": "PGM"
         },
         {
          "rxns": "PFKP",
          "value": 4.07125309846683e-05,
          "variable": "PGM"
         },
         {
          "rxns": "PGI",
          "value": -1.5154313287143648e-17,
          "variable": "PGM"
         },
         {
          "rxns": "PGK",
          "value": -1.028131039092379e-17,
          "variable": "PGM"
         },
         {
          "rxns": "PGM",
          "value": 0,
          "variable": "PGM"
         },
         {
          "rxns": "TPI",
          "value": -4.995748465830768e-18,
          "variable": "PGM"
         },
         {
          "rxns": "ENO",
          "value": 0,
          "variable": "ENO"
         },
         {
          "rxns": "EX_atp",
          "value": 0,
          "variable": "ENO"
         },
         {
          "rxns": "EX_glc",
          "value": 0,
          "variable": "ENO"
         },
         {
          "rxns": "EX_pep",
          "value": 0,
          "variable": "ENO"
         },
         {
          "rxns": "FBA",
          "value": 0,
          "variable": "ENO"
         },
         {
          "rxns": "GAPDH",
          "value": 0,
          "variable": "ENO"
         },
         {
          "rxns": "GLUT1",
          "value": -2.5962387115924556e-20,
          "variable": "ENO"
         },
         {
          "rxns": "HEX1",
          "value": -0.00036530338799656997,
          "variable": "ENO"
         },
         {
          "rxns": "HEX2",
          "value": 0.0003653033879970362,
          "variable": "ENO"
         },
         {
          "rxns": "PFKL",
          "value": 0.004144890018899478,
          "variable": "ENO"
         },
         {
          "rxns": "PFKM",
          "value": 0.004050647325666052,
          "variable": "ENO"
         },
         {
          "rxns": "PFKP",
          "value": -0.01100455051874263,
          "variable": "ENO"
         },
         {
          "rxns": "PGI",
          "value": 4.364374860089725e-18,
          "variable": "ENO"
         },
         {
          "rxns": "PGK",
          "value": -2.205166351664981e-18,
          "variable": "ENO"
         },
         {
          "rxns": "PGM",
          "value": -1.3623449393389628e-18,
          "variable": "ENO"
         },
         {
          "rxns": "TPI",
          "value": 0,
          "variable": "ENO"
         },
         {
          "rxns": "ENO",
          "value": -1.670370469589208e-17,
          "variable": "GLUT1"
         },
         {
          "rxns": "EX_atp",
          "value": 0,
          "variable": "GLUT1"
         },
         {
          "rxns": "EX_glc",
          "value": 0,
          "variable": "GLUT1"
         },
         {
          "rxns": "EX_pep",
          "value": 0,
          "variable": "GLUT1"
         },
         {
          "rxns": "FBA",
          "value": 1.2749147659127663e-17,
          "variable": "GLUT1"
         },
         {
          "rxns": "GAPDH",
          "value": 0,
          "variable": "GLUT1"
         },
         {
          "rxns": "GLUT1",
          "value": 0,
          "variable": "GLUT1"
         },
         {
          "rxns": "HEX1",
          "value": 1.6372214278350129e-16,
          "variable": "GLUT1"
         },
         {
          "rxns": "HEX2",
          "value": -1.663013868923328e-16,
          "variable": "GLUT1"
         },
         {
          "rxns": "PFKL",
          "value": -2.160667046343391e-16,
          "variable": "GLUT1"
         },
         {
          "rxns": "PFKM",
          "value": -2.8423765519821164e-16,
          "variable": "GLUT1"
         },
         {
          "rxns": "PFKP",
          "value": -1.2858593773132597e-16,
          "variable": "GLUT1"
         },
         {
          "rxns": "PGI",
          "value": 5.306826953188314e-18,
          "variable": "GLUT1"
         },
         {
          "rxns": "PGK",
          "value": 1.062062668571345e-17,
          "variable": "GLUT1"
         },
         {
          "rxns": "PGM",
          "value": 3.970189735940392e-19,
          "variable": "GLUT1"
         },
         {
          "rxns": "TPI",
          "value": -5.294009507409158e-18,
          "variable": "GLUT1"
         },
         {
          "rxns": "ENO",
          "value": 0.24734982332155458,
          "variable": "EX_atp"
         },
         {
          "rxns": "EX_atp",
          "value": 1,
          "variable": "EX_atp"
         },
         {
          "rxns": "EX_glc",
          "value": 0,
          "variable": "EX_atp"
         },
         {
          "rxns": "EX_pep",
          "value": 0,
          "variable": "EX_atp"
         },
         {
          "rxns": "FBA",
          "value": 0.93286219081272,
          "variable": "EX_atp"
         },
         {
          "rxns": "GAPDH",
          "value": 0.8056537102473492,
          "variable": "EX_atp"
         },
         {
          "rxns": "GLUT1",
          "value": 0.48056537102473534,
          "variable": "EX_atp"
         },
         {
          "rxns": "HEX1",
          "value": 0.7577317963731747,
          "variable": "EX_atp"
         },
         {
          "rxns": "HEX2",
          "value": 1.1645296877257674,
          "variable": "EX_atp"
         },
         {
          "rxns": "PFKL",
          "value": 0.8526607179771826,
          "variable": "EX_atp"
         },
         {
          "rxns": "PFKM",
          "value": 0.8394048553811158,
          "variable": "EX_atp"
         },
         {
          "rxns": "PFKP",
          "value": 1.2989051294292517,
          "variable": "EX_atp"
         },
         {
          "rxns": "PGI",
          "value": 1.074204946996468,
          "variable": "EX_atp"
         },
         {
          "rxns": "PGK",
          "value": 0.7420494699646644,
          "variable": "EX_atp"
         },
         {
          "rxns": "PGM",
          "value": 0.4946996466431094,
          "variable": "EX_atp"
         },
         {
          "rxns": "TPI",
          "value": 0.8056537102473501,
          "variable": "EX_atp"
         },
         {
          "rxns": "ENO",
          "value": -0.042402826855123574,
          "variable": "EX_glc"
         },
         {
          "rxns": "EX_atp",
          "value": 0,
          "variable": "EX_glc"
         },
         {
          "rxns": "EX_glc",
          "value": 1,
          "variable": "EX_glc"
         },
         {
          "rxns": "EX_pep",
          "value": 0,
          "variable": "EX_glc"
         },
         {
          "rxns": "FBA",
          "value": -0.07420494699646621,
          "variable": "EX_glc"
         },
         {
          "rxns": "GAPDH",
          "value": -0.10954063604240252,
          "variable": "EX_glc"
         },
         {
          "rxns": "GLUT1",
          "value": 0.6890459363957588,
          "variable": "EX_glc"
         },
         {
          "rxns": "HEX1",
          "value": 0.32242652961727547,
          "variable": "EX_glc"
         },
         {
          "rxns": "HEX2",
          "value": 0.4337572159657636,
          "variable": "EX_glc"
         },
         {
          "rxns": "PFKL",
          "value": 0.011498045178294633,
          "variable": "EX_glc"
         },
         {
          "rxns": "PFKM",
          "value": 0.014266974359331386,
          "variable": "EX_glc"
         },
         {
          "rxns": "PFKP",
          "value": 0.02613975784639786,
          "variable": "EX_glc"
         },
         {
          "rxns": "PGI",
          "value": 0.18727915194346276,
          "variable": "EX_glc"
         },
         {
          "rxns": "PGK",
          "value": -0.12720848056537076,
          "variable": "EX_glc"
         },
         {
          "rxns": "PGM",
          "value": -0.08480565371024713,
          "variable": "EX_glc"
         },
         {
          "rxns": "TPI",
          "value": -0.10954063604240262,
          "variable": "EX_glc"
         },
         {
          "rxns": "ENO",
          "value": 0.7950530035335694,
          "variable": "EX_pep"
         },
         {
          "rxns": "EX_atp",
          "value": 0,
          "variable": "EX_pep"
         },
         {
          "rxns": "EX_glc",
          "value": 0,
          "variable": "EX_pep"
         },
         {
          "rxns": "EX_pep",
          "value": 1,
          "variable": "EX_pep"
         },
         {
          "rxns": "FBA",
          "value": 0.14134275618374556,
          "variable": "EX_pep"
         },
         {
          "rxns": "GAPDH",
          "value": 0.30388692579505305,
          "variable": "EX_pep"
         },
         {
          "rxns": "GLUT1",
          "value": -0.169611307420495,
          "variable": "EX_pep"
         },
         {
          "rxns": "HEX1",
          "value": -0.27423632862865144,
          "variable": "EX_pep"
         },
         {
          "rxns": "HEX2",
          "value": -0.40420890105333024,
          "variable": "EX_pep"
         },
         {
          "rxns": "PFKL",
          "value": -0.12291388099982818,
          "variable": "EX_pep"
         },
         {
          "rxns": "PFKM",
          "value": -0.12090252986358249,
          "variable": "EX_pep"
         },
         {
          "rxns": "PFKP",
          "value": -0.2833527513373266,
          "variable": "EX_pep"
         },
         {
          "rxns": "PGI",
          "value": -0.2614840989399299,
          "variable": "EX_pep"
         },
         {
          "rxns": "PGK",
          "value": 0.38515901060070706,
          "variable": "EX_pep"
         },
         {
          "rxns": "PGM",
          "value": 0.5901060070671381,
          "variable": "EX_pep"
         },
         {
          "rxns": "TPI",
          "value": 0.3038869257950534,
          "variable": "EX_pep"
         }
        ]
       },
       "hconcat": [
        {
         "data": {
          "name": "data-af60383ee19b8cb78eb9b667eb33ed0c"
         },
         "encoding": {
          "color": {
           "field": "value",
           "scale": {
            "domain": [
             1,
             -1
            ],
            "scheme": "redblue"
           },
           "type": "quantitative"
          },
          "tooltip": {
           "field": "value",
           "type": "quantitative"
          },
          "x": {
           "field": "variable",
           "type": "nominal"
          },
          "y": {
           "field": "rxns",
           "type": "nominal"
          }
         },
         "height": 250,
         "mark": "rect",
         "width": 300
        },
        {
         "data": {
          "name": "data-5d73ded3fc90998a21104f170488abb4"
         },
         "encoding": {
          "color": {
           "field": "value",
           "scale": {
            "domain": [
             1,
             -1
            ],
            "scheme": "redblue"
           },
           "type": "quantitative"
          },
          "tooltip": {
           "field": "value",
           "type": "quantitative"
          },
          "x": {
           "field": "variable",
           "type": "nominal"
          },
          "y": {
           "field": "rxn",
           "type": "nominal"
          }
         },
         "height": 250,
         "mark": "rect",
         "width": 300
        }
       ]
      },
      "image/png": "[encoded data removed]",
      "text/plain": [
       "<VegaLite 2 object>\n",
       "\n",
       "If you see this message, it means the renderer has not been properly enabled\n",
       "for the frontend that you are using. For more information, see\n",
       "https://altair-viz.github.io/user_guide/troubleshooting.html\n"
      ]
     },
     "execution_count": 15,
     "metadata": {},
     "output_type": "execute_result"
    }
   ],
   "source": [
    "alt.hconcat(get_heatmaps(Cv_df_median, 'rxns'),\n",
    "            get_heatmaps(Cv_df_iqr, 'rxn'))"
   ]
  },
  {
   "cell_type": "code",
   "execution_count": 16,
   "metadata": {},
   "outputs": [
    {
     "data": {
      "application/vnd.vegalite.v2+json": {
       "$schema": "https://vega.github.io/schema/vega-lite/v2.6.0.json",
       "config": {
        "view": {
         "height": 300,
         "width": 400
        }
       },
       "datasets": {
        "data-b7d76321aab757620e62d6502464dea0": [
         {
          "mets": "13dpg_c",
          "value": 0.35285641807709084,
          "variable": "HEX1"
         },
         {
          "mets": "2pg_c",
          "value": 0.009996345610801725,
          "variable": "HEX1"
         },
         {
          "mets": "3pg_c",
          "value": -0.00011520393147505155,
          "variable": "HEX1"
         },
         {
          "mets": "atp_c",
          "value": -0.3487766308072884,
          "variable": "HEX1"
         },
         {
          "mets": "dhap_c",
          "value": 4.320005025782918e-18,
          "variable": "HEX1"
         },
         {
          "mets": "f6p_c",
          "value": -0.012155290984549769,
          "variable": "HEX1"
         },
         {
          "mets": "fdp_c",
          "value": 0,
          "variable": "HEX1"
         },
         {
          "mets": "g3p_c",
          "value": 0,
          "variable": "HEX1"
         },
         {
          "mets": "g6p_c",
          "value": -0.005509661723699159,
          "variable": "HEX1"
         },
         {
          "mets": "glc_D_c",
          "value": -0.2758591982315706,
          "variable": "HEX1"
         },
         {
          "mets": "glc_D_e",
          "value": -1.3104389645310417e-12,
          "variable": "HEX1"
         },
         {
          "mets": "pep_c",
          "value": 0.014083337947175287,
          "variable": "HEX1"
         },
         {
          "mets": "13dpg_c",
          "value": 0.3528564180770891,
          "variable": "HEX2"
         },
         {
          "mets": "2pg_c",
          "value": 0.009996345610801672,
          "variable": "HEX2"
         },
         {
          "mets": "3pg_c",
          "value": -0.00011520393147505087,
          "variable": "HEX2"
         },
         {
          "mets": "atp_c",
          "value": -0.3487766308072866,
          "variable": "HEX2"
         },
         {
          "mets": "dhap_c",
          "value": 4.320005025782895e-18,
          "variable": "HEX2"
         },
         {
          "mets": "f6p_c",
          "value": -0.012155290984549712,
          "variable": "HEX2"
         },
         {
          "mets": "fdp_c",
          "value": 0,
          "variable": "HEX2"
         },
         {
          "mets": "g3p_c",
          "value": 0,
          "variable": "HEX2"
         },
         {
          "mets": "g6p_c",
          "value": -0.005509661723699131,
          "variable": "HEX2"
         },
         {
          "mets": "glc_D_c",
          "value": -0.2758591982315691,
          "variable": "HEX2"
         },
         {
          "mets": "glc_D_e",
          "value": -1.310438964531035e-12,
          "variable": "HEX2"
         },
         {
          "mets": "pep_c",
          "value": 0.014083337947175208,
          "variable": "HEX2"
         },
         {
          "mets": "13dpg_c",
          "value": 0.07618929617203588,
          "variable": "PGI"
         },
         {
          "mets": "2pg_c",
          "value": 0.009829679433123992,
          "variable": "PGI"
         },
         {
          "mets": "3pg_c",
          "value": -3.439298001865068e-05,
          "variable": "PGI"
         },
         {
          "mets": "atp_c",
          "value": -0.07341396193543367,
          "variable": "PGI"
         },
         {
          "mets": "dhap_c",
          "value": 0,
          "variable": "PGI"
         },
         {
          "mets": "f6p_c",
          "value": 0.003371713852310095,
          "variable": "PGI"
         },
         {
          "mets": "fdp_c",
          "value": 0,
          "variable": "PGI"
         },
         {
          "mets": "g3p_c",
          "value": 0,
          "variable": "PGI"
         },
         {
          "mets": "g6p_c",
          "value": -0.38340539049511935,
          "variable": "PGI"
         },
         {
          "mets": "glc_D_c",
          "value": -0.05626878406286191,
          "variable": "PGI"
         },
         {
          "mets": "glc_D_e",
          "value": -1.4568784948950257e-13,
          "variable": "PGI"
         },
         {
          "mets": "pep_c",
          "value": 0.013857430260894093,
          "variable": "PGI"
         },
         {
          "mets": "13dpg_c",
          "value": 0.055328978114551765,
          "variable": "PFKL"
         },
         {
          "mets": "2pg_c",
          "value": 0.016081225877292844,
          "variable": "PFKL"
         },
         {
          "mets": "3pg_c",
          "value": -3.683517635223678e-05,
          "variable": "PFKL"
         },
         {
          "mets": "atp_c",
          "value": -0.052805835806645995,
          "variable": "PFKL"
         },
         {
          "mets": "dhap_c",
          "value": 0,
          "variable": "PFKL"
         },
         {
          "mets": "f6p_c",
          "value": -0.2545760454754248,
          "variable": "PFKL"
         },
         {
          "mets": "fdp_c",
          "value": 0,
          "variable": "PFKL"
         },
         {
          "mets": "g3p_c",
          "value": 0,
          "variable": "PFKL"
         },
         {
          "mets": "g6p_c",
          "value": -0.13609949095911866,
          "variable": "PFKL"
         },
         {
          "mets": "glc_D_c",
          "value": -0.03987059532101861,
          "variable": "PFKL"
         },
         {
          "mets": "glc_D_e",
          "value": -2.378306766860945e-14,
          "variable": "PFKL"
         },
         {
          "mets": "pep_c",
          "value": 0.022535849640837685,
          "variable": "PFKL"
         },
         {
          "mets": "13dpg_c",
          "value": 0.05532897811455431,
          "variable": "PFKM"
         },
         {
          "mets": "2pg_c",
          "value": 0.016081225877293562,
          "variable": "PFKM"
         },
         {
          "mets": "3pg_c",
          "value": -3.6835176352238485e-05,
          "variable": "PFKM"
         },
         {
          "mets": "atp_c",
          "value": -0.05280583580664834,
          "variable": "PFKM"
         },
         {
          "mets": "dhap_c",
          "value": 0,
          "variable": "PFKM"
         },
         {
          "mets": "f6p_c",
          "value": -0.2545760454754361,
          "variable": "PFKM"
         },
         {
          "mets": "fdp_c",
          "value": 0,
          "variable": "PFKM"
         },
         {
          "mets": "g3p_c",
          "value": 0,
          "variable": "PFKM"
         },
         {
          "mets": "g6p_c",
          "value": -0.13609949095912466,
          "variable": "PFKM"
         },
         {
          "mets": "glc_D_c",
          "value": -0.039870595321020386,
          "variable": "PFKM"
         },
         {
          "mets": "glc_D_e",
          "value": -2.3783067668610512e-14,
          "variable": "PFKM"
         },
         {
          "mets": "pep_c",
          "value": 0.022535849640838695,
          "variable": "PFKM"
         },
         {
          "mets": "13dpg_c",
          "value": 0.055328978114554284,
          "variable": "PFKP"
         },
         {
          "mets": "2pg_c",
          "value": 0.016081225877293576,
          "variable": "PFKP"
         },
         {
          "mets": "3pg_c",
          "value": -3.683517635223847e-05,
          "variable": "PFKP"
         },
         {
          "mets": "atp_c",
          "value": -0.05280583580664842,
          "variable": "PFKP"
         },
         {
          "mets": "dhap_c",
          "value": 0,
          "variable": "PFKP"
         },
         {
          "mets": "f6p_c",
          "value": -0.254576045475437,
          "variable": "PFKP"
         },
         {
          "mets": "fdp_c",
          "value": 0,
          "variable": "PFKP"
         },
         {
          "mets": "g3p_c",
          "value": 0,
          "variable": "PFKP"
         },
         {
          "mets": "g6p_c",
          "value": -0.13609949095912482,
          "variable": "PFKP"
         },
         {
          "mets": "glc_D_c",
          "value": -0.03987059532102044,
          "variable": "PFKP"
         },
         {
          "mets": "glc_D_e",
          "value": -2.378306766861055e-14,
          "variable": "PFKP"
         },
         {
          "mets": "pep_c",
          "value": 0.022535849640838726,
          "variable": "PFKP"
         },
         {
          "mets": "13dpg_c",
          "value": -0.011953232053401196,
          "variable": "FBA"
         },
         {
          "mets": "2pg_c",
          "value": -0.0033873768840602574,
          "variable": "FBA"
         },
         {
          "mets": "3pg_c",
          "value": 2.0325121604182137e-06,
          "variable": "FBA"
         },
         {
          "mets": "atp_c",
          "value": 0.01178283449109253,
          "variable": "FBA"
         },
         {
          "mets": "dhap_c",
          "value": 0,
          "variable": "FBA"
         },
         {
          "mets": "f6p_c",
          "value": 0.1013834516593542,
          "variable": "FBA"
         },
         {
          "mets": "fdp_c",
          "value": -0.878759215720863,
          "variable": "FBA"
         },
         {
          "mets": "g3p_c",
          "value": 0,
          "variable": "FBA"
         },
         {
          "mets": "g6p_c",
          "value": 0.04908155806613134,
          "variable": "FBA"
         },
         {
          "mets": "glc_D_c",
          "value": 0.01502055549387104,
          "variable": "FBA"
         },
         {
          "mets": "glc_D_e",
          "value": 5.5641664732083885e-15,
          "variable": "FBA"
         },
         {
          "mets": "pep_c",
          "value": -0.004826404463672058,
          "variable": "FBA"
         },
         {
          "mets": "13dpg_c",
          "value": -0.002570403905866642,
          "variable": "GAPDH"
         },
         {
          "mets": "2pg_c",
          "value": -0.0006087307508884215,
          "variable": "GAPDH"
         },
         {
          "mets": "3pg_c",
          "value": 1.6957508803418258e-07,
          "variable": "GAPDH"
         },
         {
          "mets": "atp_c",
          "value": 0.002421930943454338,
          "variable": "GAPDH"
         },
         {
          "mets": "dhap_c",
          "value": -0.775982383992035,
          "variable": "GAPDH"
         },
         {
          "mets": "f6p_c",
          "value": 0.026507334208275616,
          "variable": "GAPDH"
         },
         {
          "mets": "fdp_c",
          "value": -0.498145301794984,
          "variable": "GAPDH"
         },
         {
          "mets": "g3p_c",
          "value": -1.2670666183299313,
          "variable": "GAPDH"
         },
         {
          "mets": "g6p_c",
          "value": 0.012660155696737787,
          "variable": "GAPDH"
         },
         {
          "mets": "glc_D_c",
          "value": 0.0029106682188329404,
          "variable": "GAPDH"
         },
         {
          "mets": "glc_D_e",
          "value": 7.689608945893576e-16,
          "variable": "GAPDH"
         },
         {
          "mets": "pep_c",
          "value": -0.0008572630161511215,
          "variable": "GAPDH"
         },
         {
          "mets": "13dpg_c",
          "value": -0.00017365888460447714,
          "variable": "TPI"
         },
         {
          "mets": "2pg_c",
          "value": -3.2145474514211356e-05,
          "variable": "TPI"
         },
         {
          "mets": "3pg_c",
          "value": 3.734716380873204e-09,
          "variable": "TPI"
         },
         {
          "mets": "atp_c",
          "value": 0.00017211555019050676,
          "variable": "TPI"
         },
         {
          "mets": "dhap_c",
          "value": -0.3025085323454111,
          "variable": "TPI"
         },
         {
          "mets": "f6p_c",
          "value": 0.0019033112679959167,
          "variable": "TPI"
         },
         {
          "mets": "fdp_c",
          "value": -0.055354059187423046,
          "variable": "TPI"
         },
         {
          "mets": "g3p_c",
          "value": 0,
          "variable": "TPI"
         },
         {
          "mets": "g6p_c",
          "value": 0.0009299931489715519,
          "variable": "TPI"
         },
         {
          "mets": "glc_D_c",
          "value": 0.00015005739143178915,
          "variable": "TPI"
         },
         {
          "mets": "glc_D_e",
          "value": 9.504011056722409e-17,
          "variable": "TPI"
         },
         {
          "mets": "pep_c",
          "value": -4.624906771044628e-05,
          "variable": "TPI"
         },
         {
          "mets": "13dpg_c",
          "value": -2.255428965610861,
          "variable": "PGK"
         },
         {
          "mets": "2pg_c",
          "value": -0.019266944809718002,
          "variable": "PGK"
         },
         {
          "mets": "3pg_c",
          "value": 0.0005990231859110398,
          "variable": "PGK"
         },
         {
          "mets": "atp_c",
          "value": -0.19537056170207268,
          "variable": "PGK"
         },
         {
          "mets": "dhap_c",
          "value": 0,
          "variable": "PGK"
         },
         {
          "mets": "f6p_c",
          "value": -0.023033329170003405,
          "variable": "PGK"
         },
         {
          "mets": "fdp_c",
          "value": 0,
          "variable": "PGK"
         },
         {
          "mets": "g3p_c",
          "value": 0,
          "variable": "PGK"
         },
         {
          "mets": "g6p_c",
          "value": -0.010493667635338703,
          "variable": "PGK"
         },
         {
          "mets": "glc_D_c",
          "value": 0.5397672586434947,
          "variable": "PGK"
         },
         {
          "mets": "glc_D_e",
          "value": 2.4343401120487738e-12,
          "variable": "PGK"
         },
         {
          "mets": "pep_c",
          "value": -0.027344957110006132,
          "variable": "PGK"
         },
         {
          "mets": "13dpg_c",
          "value": -0.24704504676944683,
          "variable": "PGM"
         },
         {
          "mets": "2pg_c",
          "value": -0.003307460883913762,
          "variable": "PGM"
         },
         {
          "mets": "3pg_c",
          "value": -0.7489075101320344,
          "variable": "PGM"
         },
         {
          "mets": "atp_c",
          "value": -0.014015345326188672,
          "variable": "PGM"
         },
         {
          "mets": "dhap_c",
          "value": 0,
          "variable": "PGM"
         },
         {
          "mets": "f6p_c",
          "value": -0.001101183004912314,
          "variable": "PGM"
         },
         {
          "mets": "fdp_c",
          "value": 0,
          "variable": "PGM"
         },
         {
          "mets": "g3p_c",
          "value": 0,
          "variable": "PGM"
         },
         {
          "mets": "g6p_c",
          "value": -0.0005190547086986192,
          "variable": "PGM"
         },
         {
          "mets": "glc_D_c",
          "value": 0.050963728485300536,
          "variable": "PGM"
         },
         {
          "mets": "glc_D_e",
          "value": 3.734212344286747e-14,
          "variable": "PGM"
         },
         {
          "mets": "pep_c",
          "value": -0.004677657719648204,
          "variable": "PGM"
         },
         {
          "mets": "13dpg_c",
          "value": -0.0015969398840825447,
          "variable": "ENO"
         },
         {
          "mets": "2pg_c",
          "value": -0.15268683289929036,
          "variable": "ENO"
         },
         {
          "mets": "3pg_c",
          "value": 0.0002173654048999702,
          "variable": "ENO"
         },
         {
          "mets": "atp_c",
          "value": 0.0011843288878034264,
          "variable": "ENO"
         },
         {
          "mets": "dhap_c",
          "value": 0,
          "variable": "ENO"
         },
         {
          "mets": "f6p_c",
          "value": 0.007877555695146678,
          "variable": "ENO"
         },
         {
          "mets": "fdp_c",
          "value": 0,
          "variable": "ENO"
         },
         {
          "mets": "g3p_c",
          "value": 0,
          "variable": "ENO"
         },
         {
          "mets": "g6p_c",
          "value": 0.003850554615727347,
          "variable": "ENO"
         },
         {
          "mets": "glc_D_c",
          "value": 0.0010008191794853658,
          "variable": "ENO"
         },
         {
          "mets": "glc_D_e",
          "value": 3.110403618563695e-16,
          "variable": "ENO"
         },
         {
          "mets": "pep_c",
          "value": 0.10279226370505062,
          "variable": "ENO"
         },
         {
          "mets": "13dpg_c",
          "value": 5.060972287805188e-13,
          "variable": "GLUT1"
         },
         {
          "mets": "2pg_c",
          "value": 5.529606433002116e-16,
          "variable": "GLUT1"
         },
         {
          "mets": "3pg_c",
          "value": -1.296001507734871e-16,
          "variable": "GLUT1"
         },
         {
          "mets": "atp_c",
          "value": -6.49504115616408e-13,
          "variable": "GLUT1"
         },
         {
          "mets": "dhap_c",
          "value": 0,
          "variable": "GLUT1"
         },
         {
          "mets": "f6p_c",
          "value": -8.937010397088381e-17,
          "variable": "GLUT1"
         },
         {
          "mets": "fdp_c",
          "value": 0,
          "variable": "GLUT1"
         },
         {
          "mets": "g3p_c",
          "value": 0,
          "variable": "GLUT1"
         },
         {
          "mets": "g6p_c",
          "value": -6.912008041252647e-17,
          "variable": "GLUT1"
         },
         {
          "mets": "glc_D_c",
          "value": 7.251975156761657e-12,
          "variable": "GLUT1"
         },
         {
          "mets": "glc_D_e",
          "value": -0.9999999999888628,
          "variable": "GLUT1"
         },
         {
          "mets": "pep_c",
          "value": 7.257608443315278e-16,
          "variable": "GLUT1"
         },
         {
          "mets": "13dpg_c",
          "value": 0.7974951996765418,
          "variable": "EX_atp"
         },
         {
          "mets": "2pg_c",
          "value": -0.024419828019079545,
          "variable": "EX_atp"
         },
         {
          "mets": "3pg_c",
          "value": 0.37142740385007644,
          "variable": "EX_atp"
         },
         {
          "mets": "atp_c",
          "value": 1.272662833770461,
          "variable": "EX_atp"
         },
         {
          "mets": "dhap_c",
          "value": 0.8710518341351108,
          "variable": "EX_atp"
         },
         {
          "mets": "f6p_c",
          "value": 0.9084510390367322,
          "variable": "EX_atp"
         },
         {
          "mets": "fdp_c",
          "value": 1.4372112858300856,
          "variable": "EX_atp"
         },
         {
          "mets": "g3p_c",
          "value": 1.0208169221880699,
          "variable": "EX_atp"
         },
         {
          "mets": "g6p_c",
          "value": 0.8617352847676041,
          "variable": "EX_atp"
         },
         {
          "mets": "glc_D_c",
          "value": 0.07191453567410479,
          "variable": "EX_atp"
         },
         {
          "mets": "glc_D_e",
          "value": 0.48056537102460684,
          "variable": "EX_atp"
         },
         {
          "mets": "pep_c",
          "value": -0.11327230242688317,
          "variable": "EX_atp"
         },
         {
          "mets": "13dpg_c",
          "value": -0.6221216615866183,
          "variable": "EX_glc"
         },
         {
          "mets": "2pg_c",
          "value": -0.02168030734567168,
          "variable": "EX_glc"
         },
         {
          "mets": "3pg_c",
          "value": -0.06109421516081047,
          "variable": "EX_glc"
         },
         {
          "mets": "atp_c",
          "value": 0.25888618328209656,
          "variable": "EX_glc"
         },
         {
          "mets": "dhap_c",
          "value": -0.11843248622012442,
          "variable": "EX_glc"
         },
         {
          "mets": "f6p_c",
          "value": 0.021376931547137205,
          "variable": "EX_glc"
         },
         {
          "mets": "fdp_c",
          "value": -0.14432876761739225,
          "variable": "EX_glc"
         },
         {
          "mets": "g3p_c",
          "value": -0.13879528327995694,
          "variable": "EX_glc"
         },
         {
          "mets": "g6p_c",
          "value": 0.08745252472505874,
          "variable": "EX_glc"
         },
         {
          "mets": "glc_D_c",
          "value": 0.32996998234495123,
          "variable": "EX_glc"
         },
         {
          "mets": "glc_D_e",
          "value": 0.6890459363956424,
          "variable": "EX_glc"
         },
         {
          "mets": "pep_c",
          "value": -0.016352257214593456,
          "variable": "EX_glc"
         },
         {
          "mets": "13dpg_c",
          "value": 1.4086091966763523,
          "variable": "EX_pep"
         },
         {
          "mets": "2pg_c",
          "value": 0.1732962307488292,
          "variable": "EX_pep"
         },
         {
          "mets": "3pg_c",
          "value": 0.43051175367272265,
          "variable": "EX_pep"
         },
         {
          "mets": "atp_c",
          "value": -0.24433291137225754,
          "variable": "EX_pep"
         },
         {
          "mets": "dhap_c",
          "value": 0.3285546391913148,
          "variable": "EX_pep"
         },
         {
          "mets": "f6p_c",
          "value": -0.2230314390590027,
          "variable": "EX_pep"
         },
         {
          "mets": "fdp_c",
          "value": 0.33885809943609246,
          "variable": "EX_pep"
         },
         {
          "mets": "g3p_c",
          "value": 0.38504497942181637,
          "variable": "EX_pep"
         },
         {
          "mets": "g6p_c",
          "value": -0.21094149293550474,
          "variable": "EX_pep"
         },
         {
          "mets": "glc_D_c",
          "value": -0.5525864804521263,
          "variable": "EX_pep"
         },
         {
          "mets": "glc_D_e",
          "value": -0.1696113074206798,
          "variable": "EX_pep"
         },
         {
          "mets": "pep_c",
          "value": -0.025644957901185695,
          "variable": "EX_pep"
         }
        ],
        "data-ffe93aea387d3d98102b169e78d110e7": [
         {
          "mets": "13dpg_c",
          "value": 0.30613805673875216,
          "variable": "HEX1"
         },
         {
          "mets": "2pg_c",
          "value": 0.03759968303882565,
          "variable": "HEX1"
         },
         {
          "mets": "3pg_c",
          "value": 0.0020523682757795083,
          "variable": "HEX1"
         },
         {
          "mets": "atp_c",
          "value": 0.1762302125924416,
          "variable": "HEX1"
         },
         {
          "mets": "dhap_c",
          "value": 2.9376034175323834e-16,
          "variable": "HEX1"
         },
         {
          "mets": "f6p_c",
          "value": 0.20992317368622565,
          "variable": "HEX1"
         },
         {
          "mets": "fdp_c",
          "value": 3.71520432217331e-16,
          "variable": "HEX1"
         },
         {
          "mets": "g3p_c",
          "value": 2.8782033484278687e-16,
          "variable": "HEX1"
         },
         {
          "mets": "g6p_c",
          "value": 0.1027124228875842,
          "variable": "HEX1"
         },
         {
          "mets": "glc_D_c",
          "value": 0.36379902311176654,
          "variable": "HEX1"
         },
         {
          "mets": "glc_D_e",
          "value": 1.699779477959798e-09,
          "variable": "HEX1"
         },
         {
          "mets": "pep_c",
          "value": 0.05192121827956835,
          "variable": "HEX1"
         },
         {
          "mets": "13dpg_c",
          "value": 0.3061380567387504,
          "variable": "HEX2"
         },
         {
          "mets": "2pg_c",
          "value": 0.03759968303882542,
          "variable": "HEX2"
         },
         {
          "mets": "3pg_c",
          "value": 0.002052368275779497,
          "variable": "HEX2"
         },
         {
          "mets": "atp_c",
          "value": 0.17623021259244087,
          "variable": "HEX2"
         },
         {
          "mets": "dhap_c",
          "value": 2.9376034175323676e-16,
          "variable": "HEX2"
         },
         {
          "mets": "f6p_c",
          "value": 0.20992317368622415,
          "variable": "HEX2"
         },
         {
          "mets": "fdp_c",
          "value": 3.715204322173291e-16,
          "variable": "HEX2"
         },
         {
          "mets": "g3p_c",
          "value": 2.8782033484278535e-16,
          "variable": "HEX2"
         },
         {
          "mets": "g6p_c",
          "value": 0.10271242288758366,
          "variable": "HEX2"
         },
         {
          "mets": "glc_D_c",
          "value": 0.3637990231117645,
          "variable": "HEX2"
         },
         {
          "mets": "glc_D_e",
          "value": 1.6997794779597868e-09,
          "variable": "HEX2"
         },
         {
          "mets": "pep_c",
          "value": 0.05192121827956808,
          "variable": "HEX2"
         },
         {
          "mets": "13dpg_c",
          "value": 0.12102174824350953,
          "variable": "PGI"
         },
         {
          "mets": "2pg_c",
          "value": 0.028055329214645843,
          "variable": "PGI"
         },
         {
          "mets": "3pg_c",
          "value": 0.000978924754695684,
          "variable": "PGI"
         },
         {
          "mets": "atp_c",
          "value": 0.10398730269905111,
          "variable": "PGI"
         },
         {
          "mets": "dhap_c",
          "value": 2.7648032165010493e-16,
          "variable": "PGI"
         },
         {
          "mets": "f6p_c",
          "value": 0.04964607374277508,
          "variable": "PGI"
         },
         {
          "mets": "fdp_c",
          "value": 3.196803719079345e-16,
          "variable": "PGI"
         },
         {
          "mets": "g3p_c",
          "value": 2.7648032165010547e-16,
          "variable": "PGI"
         },
         {
          "mets": "g6p_c",
          "value": 0.19097180223260024,
          "variable": "PGI"
         },
         {
          "mets": "glc_D_c",
          "value": 0.10895697042804037,
          "variable": "PGI"
         },
         {
          "mets": "glc_D_e",
          "value": 2.654878528617499e-10,
          "variable": "PGI"
         },
         {
          "mets": "pep_c",
          "value": 0.03935447829069384,
          "variable": "PGI"
         },
         {
          "mets": "13dpg_c",
          "value": 0.10162039996378538,
          "variable": "PFKL"
         },
         {
          "mets": "2pg_c",
          "value": 0.04057898253785635,
          "variable": "PFKL"
         },
         {
          "mets": "3pg_c",
          "value": 0.0014854557424529896,
          "variable": "PFKL"
         },
         {
          "mets": "atp_c",
          "value": 0.08149142196757142,
          "variable": "PFKL"
         },
         {
          "mets": "dhap_c",
          "value": 1.8432021443339845e-16,
          "variable": "PFKL"
         },
         {
          "mets": "f6p_c",
          "value": 0.19708220836921575,
          "variable": "PFKL"
         },
         {
          "mets": "fdp_c",
          "value": 2.534402948459226e-16,
          "variable": "PFKL"
         },
         {
          "mets": "g3p_c",
          "value": 1.843202144333985e-16,
          "variable": "PFKL"
         },
         {
          "mets": "g6p_c",
          "value": 0.1350587548871117,
          "variable": "PFKL"
         },
         {
          "mets": "glc_D_c",
          "value": 0.08491756986809076,
          "variable": "PFKL"
         },
         {
          "mets": "glc_D_e",
          "value": 9.486875036786502e-11,
          "variable": "PFKL"
         },
         {
          "mets": "pep_c",
          "value": 0.05748076386697876,
          "variable": "PFKL"
         },
         {
          "mets": "13dpg_c",
          "value": 0.10162039996379015,
          "variable": "PFKM"
         },
         {
          "mets": "2pg_c",
          "value": 0.04057898253785817,
          "variable": "PFKM"
         },
         {
          "mets": "3pg_c",
          "value": 0.0014854557424530547,
          "variable": "PFKM"
         },
         {
          "mets": "atp_c",
          "value": 0.08149142196757529,
          "variable": "PFKM"
         },
         {
          "mets": "dhap_c",
          "value": 1.8432021443340674e-16,
          "variable": "PFKM"
         },
         {
          "mets": "f6p_c",
          "value": 0.197082208369225,
          "variable": "PFKM"
         },
         {
          "mets": "fdp_c",
          "value": 2.534402948459339e-16,
          "variable": "PFKM"
         },
         {
          "mets": "g3p_c",
          "value": 1.8432021443340674e-16,
          "variable": "PFKM"
         },
         {
          "mets": "g6p_c",
          "value": 0.13505875488711777,
          "variable": "PFKM"
         },
         {
          "mets": "glc_D_c",
          "value": 0.08491756986809465,
          "variable": "PFKM"
         },
         {
          "mets": "glc_D_e",
          "value": 9.486875036786927e-11,
          "variable": "PFKM"
         },
         {
          "mets": "pep_c",
          "value": 0.057480763866981324,
          "variable": "PFKM"
         },
         {
          "mets": "13dpg_c",
          "value": 0.10162039996379024,
          "variable": "PFKP"
         },
         {
          "mets": "2pg_c",
          "value": 0.04057898253785823,
          "variable": "PFKP"
         },
         {
          "mets": "3pg_c",
          "value": 0.001485455742453057,
          "variable": "PFKP"
         },
         {
          "mets": "atp_c",
          "value": 0.08149142196757543,
          "variable": "PFKP"
         },
         {
          "mets": "dhap_c",
          "value": 1.8432021443340698e-16,
          "variable": "PFKP"
         },
         {
          "mets": "f6p_c",
          "value": 0.19708220836922502,
          "variable": "PFKP"
         },
         {
          "mets": "fdp_c",
          "value": 2.534402948459342e-16,
          "variable": "PFKP"
         },
         {
          "mets": "g3p_c",
          "value": 1.8432021443340698e-16,
          "variable": "PFKP"
         },
         {
          "mets": "g6p_c",
          "value": 0.13505875488711794,
          "variable": "PFKP"
         },
         {
          "mets": "glc_D_c",
          "value": 0.0849175698680947,
          "variable": "PFKP"
         },
         {
          "mets": "glc_D_e",
          "value": 9.486875036786938e-11,
          "variable": "PFKP"
         },
         {
          "mets": "pep_c",
          "value": 0.057480763866981414,
          "variable": "PFKP"
         },
         {
          "mets": "13dpg_c",
          "value": 0.0517595417448569,
          "variable": "FBA"
         },
         {
          "mets": "2pg_c",
          "value": 0.01951326571055425,
          "variable": "FBA"
         },
         {
          "mets": "3pg_c",
          "value": 0.0005773972144833565,
          "variable": "FBA"
         },
         {
          "mets": "atp_c",
          "value": 0.046912538864332484,
          "variable": "FBA"
         },
         {
          "mets": "dhap_c",
          "value": 5.186706034080638e-16,
          "variable": "FBA"
         },
         {
          "mets": "f6p_c",
          "value": 0.25466747024019987,
          "variable": "FBA"
         },
         {
          "mets": "fdp_c",
          "value": 0.8875905008694175,
          "variable": "FBA"
         },
         {
          "mets": "g3p_c",
          "value": 5.011205829908178e-16,
          "variable": "FBA"
         },
         {
          "mets": "g6p_c",
          "value": 0.1337238685800082,
          "variable": "FBA"
         },
         {
          "mets": "glc_D_c",
          "value": 0.06562016111407827,
          "variable": "FBA"
         },
         {
          "mets": "glc_D_e",
          "value": 2.9082512513848235e-11,
          "variable": "FBA"
         },
         {
          "mets": "pep_c",
          "value": 0.027062201401376513,
          "variable": "FBA"
         },
         {
          "mets": "13dpg_c",
          "value": 0.033626301568667014,
          "variable": "GAPDH"
         },
         {
          "mets": "2pg_c",
          "value": 0.010475032644622418,
          "variable": "GAPDH"
         },
         {
          "mets": "3pg_c",
          "value": 0.0003035968850524973,
          "variable": "GAPDH"
         },
         {
          "mets": "atp_c",
          "value": 0.03107540473311951,
          "variable": "GAPDH"
         },
         {
          "mets": "dhap_c",
          "value": 1.0349088215881073,
          "variable": "GAPDH"
         },
         {
          "mets": "f6p_c",
          "value": 0.19773049460898146,
          "variable": "GAPDH"
         },
         {
          "mets": "fdp_c",
          "value": 1.4412041948418486,
          "variable": "GAPDH"
         },
         {
          "mets": "g3p_c",
          "value": 1.6115352088977213,
          "variable": "GAPDH"
         },
         {
          "mets": "g6p_c",
          "value": 0.09885762680504175,
          "variable": "GAPDH"
         },
         {
          "mets": "glc_D_c",
          "value": 0.03841311825246008,
          "variable": "GAPDH"
         },
         {
          "mets": "glc_D_e",
          "value": 3.627968300685157e-12,
          "variable": "GAPDH"
         },
         {
          "mets": "pep_c",
          "value": 0.014516040703373994,
          "variable": "GAPDH"
         },
         {
          "mets": "13dpg_c",
          "value": 0.004397433911000811,
          "variable": "TPI"
         },
         {
          "mets": "2pg_c",
          "value": 0.001223484871615776,
          "variable": "TPI"
         },
         {
          "mets": "3pg_c",
          "value": 4.0305121825607166e-05,
          "variable": "TPI"
         },
         {
          "mets": "atp_c",
          "value": 0.004020661828903894,
          "variable": "TPI"
         },
         {
          "mets": "dhap_c",
          "value": 0.1575644989313587,
          "variable": "TPI"
         },
         {
          "mets": "f6p_c",
          "value": 0.026398620866463645,
          "variable": "TPI"
         },
         {
          "mets": "fdp_c",
          "value": 0.214465717797555,
          "variable": "TPI"
         },
         {
          "mets": "g3p_c",
          "value": 2.6136030405986744e-16,
          "variable": "TPI"
         },
         {
          "mets": "g6p_c",
          "value": 0.012942676676991532,
          "variable": "TPI"
         },
         {
          "mets": "glc_D_c",
          "value": 0.0044135565198283305,
          "variable": "TPI"
         },
         {
          "mets": "glc_D_e",
          "value": 1.7812568722684989e-13,
          "variable": "TPI"
         },
         {
          "mets": "pep_c",
          "value": 0.0017305136306481619,
          "variable": "TPI"
         },
         {
          "mets": "13dpg_c",
          "value": 1.760927758113896,
          "variable": "PGK"
         },
         {
          "mets": "2pg_c",
          "value": 0.09047787905678453,
          "variable": "PGK"
         },
         {
          "mets": "3pg_c",
          "value": 0.007939779648681946,
          "variable": "PGK"
         },
         {
          "mets": "atp_c",
          "value": 0.52081384742565,
          "variable": "PGK"
         },
         {
          "mets": "dhap_c",
          "value": 1.1404813268066886e-15,
          "variable": "PGK"
         },
         {
          "mets": "f6p_c",
          "value": 0.1502406065052811,
          "variable": "PGK"
         },
         {
          "mets": "fdp_c",
          "value": 1.5535818073971765e-15,
          "variable": "PGK"
         },
         {
          "mets": "g3p_c",
          "value": 1.1232013067035561e-15,
          "variable": "PGK"
         },
         {
          "mets": "g6p_c",
          "value": 0.07833652333924968,
          "variable": "PGK"
         },
         {
          "mets": "glc_D_c",
          "value": 1.0277975310216485,
          "variable": "PGK"
         },
         {
          "mets": "glc_D_e",
          "value": 3.513227986559217e-09,
          "variable": "PGK"
         },
         {
          "mets": "pep_c",
          "value": 0.12497912495741939,
          "variable": "PGK"
         },
         {
          "mets": "13dpg_c",
          "value": 0.4370236327393424,
          "variable": "PGM"
         },
         {
          "mets": "2pg_c",
          "value": 0.04394251429586599,
          "variable": "PGM"
         },
         {
          "mets": "3pg_c",
          "value": 0.2436619448293329,
          "variable": "PGM"
         },
         {
          "mets": "atp_c",
          "value": 0.06161410259125919,
          "variable": "PGM"
         },
         {
          "mets": "dhap_c",
          "value": 5.529606433002123e-16,
          "variable": "PGM"
         },
         {
          "mets": "f6p_c",
          "value": 0.02189622787892147,
          "variable": "PGM"
         },
         {
          "mets": "fdp_c",
          "value": 6.566407639190021e-16,
          "variable": "PGM"
         },
         {
          "mets": "g3p_c",
          "value": 5.529606433002119e-16,
          "variable": "PGM"
         },
         {
          "mets": "g6p_c",
          "value": 0.011125697068393496,
          "variable": "PGM"
         },
         {
          "mets": "glc_D_c",
          "value": 0.15391730632023354,
          "variable": "PGM"
         },
         {
          "mets": "glc_D_e",
          "value": 1.3830203193703234e-10,
          "variable": "PGM"
         },
         {
          "mets": "pep_c",
          "value": 0.06214160132954094,
          "variable": "PGM"
         },
         {
          "mets": "13dpg_c",
          "value": 0.009414106507343445,
          "variable": "ENO"
         },
         {
          "mets": "2pg_c",
          "value": 0.10810180372287717,
          "variable": "ENO"
         },
         {
          "mets": "3pg_c",
          "value": 0.015611152335620342,
          "variable": "ENO"
         },
         {
          "mets": "atp_c",
          "value": 0.004567038080307657,
          "variable": "ENO"
         },
         {
          "mets": "dhap_c",
          "value": 2.7648032165010596e-16,
          "variable": "ENO"
         },
         {
          "mets": "f6p_c",
          "value": 0.022269441236150603,
          "variable": "ENO"
         },
         {
          "mets": "fdp_c",
          "value": 2.851203317016737e-16,
          "variable": "ENO"
         },
         {
          "mets": "g3p_c",
          "value": 2.7648032165010596e-16,
          "variable": "ENO"
         },
         {
          "mets": "g6p_c",
          "value": 0.011386205419705133,
          "variable": "ENO"
         },
         {
          "mets": "glc_D_c",
          "value": 0.005327951680930489,
          "variable": "ENO"
         },
         {
          "mets": "glc_D_e",
          "value": 1.4818135639038412e-12,
          "variable": "ENO"
         },
         {
          "mets": "pep_c",
          "value": 0.052744936132526093,
          "variable": "ENO"
         },
         {
          "mets": "13dpg_c",
          "value": 9.004596702916554e-10,
          "variable": "GLUT1"
         },
         {
          "mets": "2pg_c",
          "value": 5.5729819834641174e-12,
          "variable": "GLUT1"
         },
         {
          "mets": "3pg_c",
          "value": 8.684074102828793e-14,
          "variable": "GLUT1"
         },
         {
          "mets": "atp_c",
          "value": 9.192804893073128e-10,
          "variable": "GLUT1"
         },
         {
          "mets": "dhap_c",
          "value": 3.888004523204612e-16,
          "variable": "GLUT1"
         },
         {
          "mets": "f6p_c",
          "value": 1.213679491963552e-12,
          "variable": "GLUT1"
         },
         {
          "mets": "fdp_c",
          "value": 4.924805729392509e-16,
          "variable": "GLUT1"
         },
         {
          "mets": "g3p_c",
          "value": 3.8016044226889547e-16,
          "variable": "GLUT1"
         },
         {
          "mets": "g6p_c",
          "value": 6.64107892606067e-13,
          "variable": "GLUT1"
         },
         {
          "mets": "glc_D_c",
          "value": 6.215046378665346e-09,
          "variable": "GLUT1"
         },
         {
          "mets": "glc_D_e",
          "value": 9.97817251047195e-09,
          "variable": "GLUT1"
         },
         {
          "mets": "pep_c",
          "value": 7.675590529584902e-12,
          "variable": "GLUT1"
         },
         {
          "mets": "13dpg_c",
          "value": 1.2879006406279232,
          "variable": "EX_atp"
         },
         {
          "mets": "2pg_c",
          "value": 0.1951691911010356,
          "variable": "EX_atp"
         },
         {
          "mets": "3pg_c",
          "value": 0.12550997742133468,
          "variable": "EX_atp"
         },
         {
          "mets": "atp_c",
          "value": 0.6024211698286399,
          "variable": "EX_atp"
         },
         {
          "mets": "dhap_c",
          "value": 0.8353671339179088,
          "variable": "EX_atp"
         },
         {
          "mets": "f6p_c",
          "value": 1.044933038567721,
          "variable": "EX_atp"
         },
         {
          "mets": "fdp_c",
          "value": 2.3230557492107393,
          "variable": "EX_atp"
         },
         {
          "mets": "g3p_c",
          "value": 1.2983393202426852,
          "variable": "EX_atp"
         },
         {
          "mets": "g6p_c",
          "value": 0.5957111217054802,
          "variable": "EX_atp"
         },
         {
          "mets": "glc_D_c",
          "value": 0.5422298395462738,
          "variable": "EX_atp"
         },
         {
          "mets": "glc_D_e",
          "value": 6.308736866245113e-10,
          "variable": "EX_atp"
         },
         {
          "mets": "pep_c",
          "value": 0.2708295720861203,
          "variable": "EX_atp"
         },
         {
          "mets": "13dpg_c",
          "value": 0.43078867434686763,
          "variable": "EX_glc"
         },
         {
          "mets": "2pg_c",
          "value": 0.05226363308828632,
          "variable": "EX_glc"
         },
         {
          "mets": "3pg_c",
          "value": 0.022893281544452457,
          "variable": "EX_glc"
         },
         {
          "mets": "atp_c",
          "value": 0.2120549962744956,
          "variable": "EX_glc"
         },
         {
          "mets": "dhap_c",
          "value": 0.1135806190853302,
          "variable": "EX_glc"
         },
         {
          "mets": "f6p_c",
          "value": 0.19925697038116535,
          "variable": "EX_glc"
         },
         {
          "mets": "fdp_c",
          "value": 0.2582541878477383,
          "variable": "EX_glc"
         },
         {
          "mets": "g3p_c",
          "value": 0.17652859178738434,
          "variable": "EX_glc"
         },
         {
          "mets": "g6p_c",
          "value": 0.10612768102676537,
          "variable": "EX_glc"
         },
         {
          "mets": "glc_D_c",
          "value": 0.45192720935048936,
          "variable": "EX_glc"
         },
         {
          "mets": "glc_D_e",
          "value": 4.77565764711585e-10,
          "variable": "EX_glc"
         },
         {
          "mets": "pep_c",
          "value": 0.07180578496015669,
          "variable": "EX_glc"
         },
         {
          "mets": "13dpg_c",
          "value": 0.9913868955770972,
          "variable": "EX_pep"
         },
         {
          "mets": "2pg_c",
          "value": 0.15976666564490846,
          "variable": "EX_pep"
         },
         {
          "mets": "3pg_c",
          "value": 0.15342736894426795,
          "variable": "EX_pep"
         },
         {
          "mets": "atp_c",
          "value": 0.38307326668342206,
          "variable": "EX_pep"
         },
         {
          "mets": "dhap_c",
          "value": 0.3150946206883327,
          "variable": "EX_pep"
         },
         {
          "mets": "f6p_c",
          "value": 0.2729045793513582,
          "variable": "EX_pep"
         },
         {
          "mets": "fdp_c",
          "value": 0.6505756907566416,
          "variable": "EX_pep"
         },
         {
          "mets": "g3p_c",
          "value": 0.48972448044241934,
          "variable": "EX_pep"
         },
         {
          "mets": "g6p_c",
          "value": 0.15001185528137467,
          "variable": "EX_pep"
         },
         {
          "mets": "glc_D_c",
          "value": 0.8231074748854668,
          "variable": "EX_pep"
         },
         {
          "mets": "glc_D_e",
          "value": 7.796435441687066e-10,
          "variable": "EX_pep"
         },
         {
          "mets": "pep_c",
          "value": 0.18180678842789583,
          "variable": "EX_pep"
         }
        ]
       },
       "hconcat": [
        {
         "data": {
          "name": "data-b7d76321aab757620e62d6502464dea0"
         },
         "encoding": {
          "color": {
           "field": "value",
           "scale": {
            "domain": [
             1,
             -1
            ],
            "scheme": "redblue"
           },
           "type": "quantitative"
          },
          "tooltip": {
           "field": "value",
           "type": "quantitative"
          },
          "x": {
           "field": "variable",
           "type": "nominal"
          },
          "y": {
           "field": "mets",
           "type": "nominal"
          }
         },
         "height": 250,
         "mark": "rect",
         "width": 300
        },
        {
         "data": {
          "name": "data-ffe93aea387d3d98102b169e78d110e7"
         },
         "encoding": {
          "color": {
           "field": "value",
           "scale": {
            "domain": [
             1,
             -1
            ],
            "scheme": "redblue"
           },
           "type": "quantitative"
          },
          "tooltip": {
           "field": "value",
           "type": "quantitative"
          },
          "x": {
           "field": "variable",
           "type": "nominal"
          },
          "y": {
           "field": "mets",
           "type": "nominal"
          }
         },
         "height": 250,
         "mark": "rect",
         "width": 300
        }
       ]
      },
      "image/png": "[encoded data removed]",
      "text/plain": [
       "<VegaLite 2 object>\n",
       "\n",
       "If you see this message, it means the renderer has not been properly enabled\n",
       "for the frontend that you are using. For more information, see\n",
       "https://altair-viz.github.io/user_guide/troubleshooting.html\n"
      ]
     },
     "execution_count": 16,
     "metadata": {},
     "output_type": "execute_result"
    }
   ],
   "source": [
    "alt.hconcat(get_heatmaps(Cx_df_median, 'mets'),\n",
    "            get_heatmaps(Cx_df_iqr, 'mets'))"
   ]
  },
  {
   "cell_type": "code",
   "execution_count": null,
   "metadata": {},
   "outputs": [],
   "source": []
  }
 ],
 "metadata": {
  "kernelspec": {
   "display_name": "Python 3",
   "language": "python",
   "name": "python3"
  },
  "language_info": {
   "codemirror_mode": {
    "name": "ipython",
    "version": 3
   },
   "file_extension": ".py",
   "mimetype": "text/x-python",
   "name": "python",
   "nbconvert_exporter": "python",
   "pygments_lexer": "ipython3",
   "version": "3.7.2"
  }
 },
 "nbformat": 4,
 "nbformat_minor": 2
}
