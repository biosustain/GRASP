{
 "cells": [
  {
   "cell_type": "code",
   "execution_count": 6,
   "metadata": {},
   "outputs": [
    {
     "data": {
      "text/plain": [
       "DataTransformerRegistry.enable('default')"
      ]
     },
     "execution_count": 6,
     "metadata": {},
     "output_type": "execute_result"
    }
   ],
   "source": [
    "import pandas as pd\n",
    "import altair as alt\n",
    "import numpy as np\n",
    "import scipy.io\n",
    "alt.data_transformers.enable('default', max_rows=None)"
   ]
  },
  {
   "cell_type": "code",
   "execution_count": 7,
   "metadata": {},
   "outputs": [],
   "source": [
    "base_dir = '/home/mrama/GRASP_test/GRASP/output_test/'\n",
    "n_models = 1000\n",
    "\n",
    "file_in_MCA = ''.join([base_dir, 'MCA_MEP_test.mat']) \n",
    "file_in_mets = ''.join([base_dir, 'MEP_test_metsActive.dat']) \n",
    "file_in_rxns = ''.join([base_dir, 'MEP_test_rxnsActive.dat']) \n",
    "file_in_enzs = ''.join([base_dir, 'MEP_test_enzNames.dat']) "
   ]
  },
  {
   "cell_type": "code",
   "execution_count": 8,
   "metadata": {},
   "outputs": [],
   "source": [
    "def get_name_list(file_in):\n",
    "    \n",
    "    name_list = []\n",
    "    with open(file_in, 'r') as f_in:\n",
    "        line = f_in.readline()\n",
    "        line = f_in.readline()\n",
    "        while line:          \n",
    "            name_list.append(line[2:].strip())\n",
    "            line = f_in.readline()\n",
    "\n",
    "    return name_list\n",
    "\n",
    "rxn_names = get_name_list(file_in_rxns)\n",
    "enz_names = get_name_list(file_in_enzs)\n",
    "met_names = get_name_list(file_in_mets)"
   ]
  },
  {
   "cell_type": "code",
   "execution_count": 22,
   "metadata": {},
   "outputs": [],
   "source": [
    "def get_df_median(mat, key_name, id_col, col_names, row_names, n_models):\n",
    "    \n",
    "    try:\n",
    "        df = pd.DataFrame(data=mat['mcaResults'][key_name].item())\n",
    "        df.columns = col_names\n",
    "    except ValueError:\n",
    "        df = pd.DataFrame(data=mat['mcaResults'][key_name].item()[0])\n",
    "        df.columns = col_names\n",
    "\n",
    "    df[id_col] = np.tile(row_names, n_models)\n",
    "    df_median = df.groupby(id_col).median()\n",
    "    \n",
    "    return df_median\n",
    "\n",
    "\n",
    "def get_df_iqr(mat, key_name, id_col, col_names, row_names, n_models):\n",
    "    \n",
    "    try:\n",
    "        df = pd.DataFrame(data=mat['mcaResults'][key_name].item())\n",
    "        df.columns = col_names\n",
    "    except ValueError:\n",
    "        df = pd.DataFrame(data=mat['mcaResults'][key_name].item()[0])\n",
    "        df.columns = col_names\n",
    "\n",
    "    df[id_col] = np.tile(row_names, n_models)\n",
    "   \n",
    "    df_q2 = df.groupby(id_col).quantile(0.25)\n",
    "    df_q4 = df.groupby(id_col).quantile(0.75)\n",
    "    \n",
    "    df_iqr = df_q4.subtract(df_q2)    \n",
    "\n",
    "    return df_iqr\n",
    "\n",
    "\n",
    "\n",
    "mat = scipy.io.loadmat(file_in_MCA, squeeze_me=True)\n",
    "\n",
    "key_name = 'vControl'\n",
    "id_col = 'rxns'\n",
    "col_names = rxn_names\n",
    "row_names = rxn_names\n",
    "Cv_df_median = get_df_median(mat, key_name, id_col, col_names, row_names, n_models)\n",
    "Cv_df_iqr = get_df_iqr(mat, key_name, id_col, col_names, row_names, n_models)\n",
    "\n",
    "key_name = 'xControl'\n",
    "id_col = 'mets'\n",
    "col_names = rxn_names\n",
    "row_names = met_names\n",
    "Cx_df_median = get_df_median(mat, key_name, id_col, col_names, row_names, n_models)\n",
    "Cx_df_iqr = get_df_iqr(mat, key_name, id_col, col_names, row_names, n_models)\n",
    "    \n"
   ]
  },
  {
   "cell_type": "code",
   "execution_count": 19,
   "metadata": {},
   "outputs": [],
   "source": [
    "def get_heatmaps(C_df_in, id_col):\n",
    "    \n",
    "    C_df = C_df_in\n",
    "    \n",
    "    C_df[id_col] = C_df.index\n",
    "    C_df = C_df.melt(id_vars=[id_col], var_name='variable')\n",
    "    \n",
    "    Cx_in = alt.Chart(C_df).mark_rect().encode(\n",
    "        x='variable:N',\n",
    "        y=id_col,\n",
    "        color=alt.Color('value:Q', scale=alt.Scale(scheme='redblue', domain=[1,-1])),\n",
    "        tooltip='value:Q'\n",
    "    ).properties(\n",
    "        width=300,\n",
    "        height=250\n",
    "    )\n",
    "\n",
    "    return Cx_in "
   ]
  },
  {
   "cell_type": "code",
   "execution_count": 20,
   "metadata": {},
   "outputs": [
    {
     "data": {
      "application/vnd.vegalite.v2+json": {
       "$schema": "https://vega.github.io/schema/vega-lite/v2.4.3.json",
       "config": {
        "view": {
         "height": 300,
         "width": 400
        }
       },
       "hconcat": [
        {
         "data": {
          "values": [
           {
            "rxns": "EX_dxp",
            "value": 0.28512609337500494,
            "variable": "dxs"
           },
           {
            "rxns": "EX_isoprene",
            "value": 0.001663880094944814,
            "variable": "dxs"
           },
           {
            "rxns": "EX_mecpp",
            "value": 0.02940019182943522,
            "variable": "dxs"
           },
           {
            "rxns": "biomass_drain",
            "value": 0,
            "variable": "dxs"
           },
           {
            "rxns": "dxr",
            "value": 0.0271855531053601,
            "variable": "dxs"
           },
           {
            "rxns": "dxs",
            "value": 0.04693036317307303,
            "variable": "dxs"
           },
           {
            "rxns": "fpr",
            "value": 0.0014578444108787952,
            "variable": "dxs"
           },
           {
            "rxns": "idi",
            "value": 0.003242166150074918,
            "variable": "dxs"
           },
           {
            "rxns": "ispD",
            "value": 0.027185553105360194,
            "variable": "dxs"
           },
           {
            "rxns": "ispE",
            "value": 0.027185553105360048,
            "variable": "dxs"
           },
           {
            "rxns": "ispF",
            "value": 0.027185553105360232,
            "variable": "dxs"
           },
           {
            "rxns": "ispG",
            "value": 0.0014578444108790138,
            "variable": "dxs"
           },
           {
            "rxns": "ispH",
            "value": 0.001457844410878986,
            "variable": "dxs"
           },
           {
            "rxns": "ispS",
            "value": 0.001663880094944851,
            "variable": "dxs"
           },
           {
            "rxns": "EX_dxp",
            "value": 0.9800340971676693,
            "variable": "EX_dxp"
           },
           {
            "rxns": "EX_isoprene",
            "value": -0.00011651290103647057,
            "variable": "EX_dxp"
           },
           {
            "rxns": "EX_mecpp",
            "value": -0.002058743085805021,
            "variable": "EX_dxp"
           },
           {
            "rxns": "biomass_drain",
            "value": 0,
            "variable": "EX_dxp"
           },
           {
            "rxns": "dxr",
            "value": -0.0019036634119308827,
            "variable": "EX_dxp"
           },
           {
            "rxns": "dxs",
            "value": 0.0667385279827894,
            "variable": "EX_dxp"
           },
           {
            "rxns": "fpr",
            "value": -0.00010208528973172583,
            "variable": "EX_dxp"
           },
           {
            "rxns": "idi",
            "value": -0.00022703209500201562,
            "variable": "EX_dxp"
           },
           {
            "rxns": "ispD",
            "value": -0.0019036634119308886,
            "variable": "EX_dxp"
           },
           {
            "rxns": "ispE",
            "value": -0.0019036634119308786,
            "variable": "EX_dxp"
           },
           {
            "rxns": "ispF",
            "value": -0.0019036634119308916,
            "variable": "EX_dxp"
           },
           {
            "rxns": "ispG",
            "value": -0.00010208528973174117,
            "variable": "EX_dxp"
           },
           {
            "rxns": "ispH",
            "value": -0.0001020852897317392,
            "variable": "EX_dxp"
           },
           {
            "rxns": "ispS",
            "value": -0.0001165129010364732,
            "variable": "EX_dxp"
           },
           {
            "rxns": "EX_dxp",
            "value": -0.9942853075909726,
            "variable": "dxr"
           },
           {
            "rxns": "EX_isoprene",
            "value": -0.0033781443891192585,
            "variable": "dxr"
           },
           {
            "rxns": "EX_mecpp",
            "value": 0.5475603127602957,
            "variable": "dxr"
           },
           {
            "rxns": "biomass_drain",
            "value": 0,
            "variable": "dxr"
           },
           {
            "rxns": "dxr",
            "value": 0.5007732302489915,
            "variable": "dxr"
           },
           {
            "rxns": "dxs",
            "value": 0.43209233805925507,
            "variable": "dxr"
           },
           {
            "rxns": "fpr",
            "value": -0.002959834023968341,
            "variable": "dxr"
           },
           {
            "rxns": "idi",
            "value": -0.0065825088128329025,
            "variable": "dxr"
           },
           {
            "rxns": "ispD",
            "value": 0.5007732302489927,
            "variable": "dxr"
           },
           {
            "rxns": "ispE",
            "value": 0.5007732302489917,
            "variable": "dxr"
           },
           {
            "rxns": "ispF",
            "value": 0.5007732302489913,
            "variable": "dxr"
           },
           {
            "rxns": "ispG",
            "value": -0.0029598340239696957,
            "variable": "dxr"
           },
           {
            "rxns": "ispH",
            "value": -0.0029598340239691476,
            "variable": "dxr"
           },
           {
            "rxns": "ispS",
            "value": -0.003378144389120194,
            "variable": "dxr"
           },
           {
            "rxns": "EX_dxp",
            "value": -0.013296426139470817,
            "variable": "ispD"
           },
           {
            "rxns": "EX_isoprene",
            "value": 0.0005118216402236636,
            "variable": "ispD"
           },
           {
            "rxns": "EX_mecpp",
            "value": 0.060925793292909994,
            "variable": "ispD"
           },
           {
            "rxns": "biomass_drain",
            "value": 0,
            "variable": "ispD"
           },
           {
            "rxns": "dxr",
            "value": 0.05637597158939768,
            "variable": "ispD"
           },
           {
            "rxns": "dxs",
            "value": 0.050776191942642615,
            "variable": "ispD"
           },
           {
            "rxns": "fpr",
            "value": 0.00044844356263025735,
            "variable": "ispD"
           },
           {
            "rxns": "idi",
            "value": 0.000997313930159369,
            "variable": "ispD"
           },
           {
            "rxns": "ispD",
            "value": 0.0563759715893975,
            "variable": "ispD"
           },
           {
            "rxns": "ispE",
            "value": 0.05637597158939793,
            "variable": "ispD"
           },
           {
            "rxns": "ispF",
            "value": 0.05637597158939847,
            "variable": "ispD"
           },
           {
            "rxns": "ispG",
            "value": 0.00044844356262969715,
            "variable": "ispD"
           },
           {
            "rxns": "ispH",
            "value": 0.0004484435626297116,
            "variable": "ispD"
           },
           {
            "rxns": "ispS",
            "value": 0.0005118216402230427,
            "variable": "ispD"
           },
           {
            "rxns": "EX_dxp",
            "value": 0.1379356299518959,
            "variable": "ispE"
           },
           {
            "rxns": "EX_isoprene",
            "value": 0.00811347329143358,
            "variable": "ispE"
           },
           {
            "rxns": "EX_mecpp",
            "value": 0.12586788809330504,
            "variable": "ispE"
           },
           {
            "rxns": "biomass_drain",
            "value": 0,
            "variable": "ispE"
           },
           {
            "rxns": "dxr",
            "value": 0.11695642856034912,
            "variable": "ispE"
           },
           {
            "rxns": "dxs",
            "value": 0.10740914754249489,
            "variable": "ispE"
           },
           {
            "rxns": "fpr",
            "value": 0.00710879451390314,
            "variable": "ispE"
           },
           {
            "rxns": "idi",
            "value": 0.015809569779060506,
            "variable": "ispE"
           },
           {
            "rxns": "ispD",
            "value": 0.1169564285603504,
            "variable": "ispE"
           },
           {
            "rxns": "ispE",
            "value": 0.11695642856034971,
            "variable": "ispE"
           },
           {
            "rxns": "ispF",
            "value": 0.11695642856034813,
            "variable": "ispE"
           },
           {
            "rxns": "ispG",
            "value": 0.007108794513902259,
            "variable": "ispE"
           },
           {
            "rxns": "ispH",
            "value": 0.007108794513902428,
            "variable": "ispE"
           },
           {
            "rxns": "ispS",
            "value": 0.008113473291433141,
            "variable": "ispE"
           },
           {
            "rxns": "EX_dxp",
            "value": 0.007520486451124043,
            "variable": "ispF"
           },
           {
            "rxns": "EX_isoprene",
            "value": 0.0037551205003149633,
            "variable": "ispF"
           },
           {
            "rxns": "EX_mecpp",
            "value": 0.04706943313422968,
            "variable": "ispF"
           },
           {
            "rxns": "biomass_drain",
            "value": 0,
            "variable": "ispF"
           },
           {
            "rxns": "dxr",
            "value": 0.04396344329115276,
            "variable": "ispF"
           },
           {
            "rxns": "dxs",
            "value": 0.0354086819110674,
            "variable": "ispF"
           },
           {
            "rxns": "fpr",
            "value": 0.0032901297696823744,
            "variable": "ispF"
           },
           {
            "rxns": "idi",
            "value": 0.007317068467006074,
            "variable": "ispF"
           },
           {
            "rxns": "ispD",
            "value": 0.04396344329115276,
            "variable": "ispF"
           },
           {
            "rxns": "ispE",
            "value": 0.043963443291152274,
            "variable": "ispF"
           },
           {
            "rxns": "ispF",
            "value": 0.04396344329115137,
            "variable": "ispF"
           },
           {
            "rxns": "ispG",
            "value": 0.0032901297696823154,
            "variable": "ispF"
           },
           {
            "rxns": "ispH",
            "value": 0.003290129769682475,
            "variable": "ispF"
           },
           {
            "rxns": "ispS",
            "value": 0.0037551205003157756,
            "variable": "ispF"
           },
           {
            "rxns": "EX_dxp",
            "value": 0.06021757712070536,
            "variable": "EX_mecpp"
           },
           {
            "rxns": "EX_isoprene",
            "value": -0.010968884870623714,
            "variable": "EX_mecpp"
           },
           {
            "rxns": "EX_mecpp",
            "value": 0.0379986646614916,
            "variable": "EX_mecpp"
           },
           {
            "rxns": "biomass_drain",
            "value": 0,
            "variable": "EX_mecpp"
           },
           {
            "rxns": "dxr",
            "value": 0.03295821101916073,
            "variable": "EX_mecpp"
           },
           {
            "rxns": "dxs",
            "value": 0.0338703372326441,
            "variable": "EX_mecpp"
           },
           {
            "rxns": "fpr",
            "value": -0.009610624918704454,
            "variable": "EX_mecpp"
           },
           {
            "rxns": "idi",
            "value": -0.02137350361943626,
            "variable": "EX_mecpp"
           },
           {
            "rxns": "ispD",
            "value": 0.032958211019160785,
            "variable": "EX_mecpp"
           },
           {
            "rxns": "ispE",
            "value": 0.032958211019160646,
            "variable": "EX_mecpp"
           },
           {
            "rxns": "ispF",
            "value": 0.032958211019160286,
            "variable": "EX_mecpp"
           },
           {
            "rxns": "ispG",
            "value": -0.009610624918704732,
            "variable": "EX_mecpp"
           },
           {
            "rxns": "ispH",
            "value": -0.009610624918704326,
            "variable": "EX_mecpp"
           },
           {
            "rxns": "ispS",
            "value": -0.010968884870623564,
            "variable": "EX_mecpp"
           },
           {
            "rxns": "EX_dxp",
            "value": -0.03110077186209324,
            "variable": "ispG"
           },
           {
            "rxns": "EX_isoprene",
            "value": 0.07399741749078706,
            "variable": "ispG"
           },
           {
            "rxns": "EX_mecpp",
            "value": -0.02575441483376683,
            "variable": "ispG"
           },
           {
            "rxns": "biomass_drain",
            "value": 0,
            "variable": "ispG"
           },
           {
            "rxns": "dxr",
            "value": -0.017047668212004576,
            "variable": "ispG"
           },
           {
            "rxns": "dxs",
            "value": -0.018806854087015865,
            "variable": "ispG"
           },
           {
            "rxns": "fpr",
            "value": 0.06483443238258221,
            "variable": "ispG"
           },
           {
            "rxns": "idi",
            "value": 0.1441882278119035,
            "variable": "ispG"
           },
           {
            "rxns": "ispD",
            "value": -0.017047668212004388,
            "variable": "ispG"
           },
           {
            "rxns": "ispE",
            "value": -0.01704766821200448,
            "variable": "ispG"
           },
           {
            "rxns": "ispF",
            "value": -0.017047668212004492,
            "variable": "ispG"
           },
           {
            "rxns": "ispG",
            "value": 0.06483443238258219,
            "variable": "ispG"
           },
           {
            "rxns": "ispH",
            "value": 0.06483443238258171,
            "variable": "ispG"
           },
           {
            "rxns": "ispS",
            "value": 0.07399741749078764,
            "variable": "ispG"
           },
           {
            "rxns": "EX_dxp",
            "value": 0.09559160641546047,
            "variable": "fpr"
           },
           {
            "rxns": "EX_isoprene",
            "value": 0.008199305216181648,
            "variable": "fpr"
           },
           {
            "rxns": "EX_mecpp",
            "value": -0.06998912274000488,
            "variable": "fpr"
           },
           {
            "rxns": "biomass_drain",
            "value": 0,
            "variable": "fpr"
           },
           {
            "rxns": "dxr",
            "value": -0.06402381485411693,
            "variable": "fpr"
           },
           {
            "rxns": "dxs",
            "value": -0.04917562849702216,
            "variable": "fpr"
           },
           {
            "rxns": "fpr",
            "value": 0.007183998004915537,
            "variable": "fpr"
           },
           {
            "rxns": "idi",
            "value": 0.01597681822554605,
            "variable": "fpr"
           },
           {
            "rxns": "ispD",
            "value": -0.06402381485411696,
            "variable": "fpr"
           },
           {
            "rxns": "ispE",
            "value": -0.06402381485411707,
            "variable": "fpr"
           },
           {
            "rxns": "ispF",
            "value": -0.06402381485411679,
            "variable": "fpr"
           },
           {
            "rxns": "ispG",
            "value": 0.007183998004915128,
            "variable": "fpr"
           },
           {
            "rxns": "ispH",
            "value": 0.007183998004915134,
            "variable": "fpr"
           },
           {
            "rxns": "ispS",
            "value": 0.008199305216181566,
            "variable": "fpr"
           },
           {
            "rxns": "EX_dxp",
            "value": -0.0037566849891746967,
            "variable": "ispH"
           },
           {
            "rxns": "EX_isoprene",
            "value": 0.16610056924297395,
            "variable": "ispH"
           },
           {
            "rxns": "EX_mecpp",
            "value": 0.020939575143977485,
            "variable": "ispH"
           },
           {
            "rxns": "biomass_drain",
            "value": 0,
            "variable": "ispH"
           },
           {
            "rxns": "dxr",
            "value": 0.03387372885630548,
            "variable": "ispH"
           },
           {
            "rxns": "dxs",
            "value": 0.03128656181450564,
            "variable": "ispH"
           },
           {
            "rxns": "fpr",
            "value": 0.1455325941156394,
            "variable": "ispH"
           },
           {
            "rxns": "idi",
            "value": 0.3236565211302817,
            "variable": "ispH"
           },
           {
            "rxns": "ispD",
            "value": 0.03387372885630574,
            "variable": "ispH"
           },
           {
            "rxns": "ispE",
            "value": 0.03387372885630549,
            "variable": "ispH"
           },
           {
            "rxns": "ispF",
            "value": 0.033873728856305366,
            "variable": "ispH"
           },
           {
            "rxns": "ispG",
            "value": 0.14553259411563946,
            "variable": "ispH"
           },
           {
            "rxns": "ispH",
            "value": 0.1455325941156388,
            "variable": "ispH"
           },
           {
            "rxns": "ispS",
            "value": 0.166100569242975,
            "variable": "ispH"
           },
           {
            "rxns": "EX_dxp",
            "value": -0.0037170762666582985,
            "variable": "idi"
           },
           {
            "rxns": "EX_isoprene",
            "value": 0.08437910420301376,
            "variable": "idi"
           },
           {
            "rxns": "EX_mecpp",
            "value": 0.002607559961472174,
            "variable": "idi"
           },
           {
            "rxns": "biomass_drain",
            "value": 0,
            "variable": "idi"
           },
           {
            "rxns": "dxr",
            "value": 0.008122829867505888,
            "variable": "idi"
           },
           {
            "rxns": "dxs",
            "value": 0.007420682637272782,
            "variable": "idi"
           },
           {
            "rxns": "fpr",
            "value": 0.07393057097748365,
            "variable": "idi"
           },
           {
            "rxns": "idi",
            "value": 0.16441754201628994,
            "variable": "idi"
           },
           {
            "rxns": "ispD",
            "value": 0.008122829867505846,
            "variable": "idi"
           },
           {
            "rxns": "ispE",
            "value": 0.008122829867505852,
            "variable": "idi"
           },
           {
            "rxns": "ispF",
            "value": 0.008122829867505853,
            "variable": "idi"
           },
           {
            "rxns": "ispG",
            "value": 0.07393057097748343,
            "variable": "idi"
           },
           {
            "rxns": "ispH",
            "value": 0.07393057097748358,
            "variable": "idi"
           },
           {
            "rxns": "ispS",
            "value": 0.08437910420301437,
            "variable": "idi"
           },
           {
            "rxns": "EX_dxp",
            "value": -0.011913405645985364,
            "variable": "ispS"
           },
           {
            "rxns": "EX_isoprene",
            "value": 0.28490769794069093,
            "variable": "ispS"
           },
           {
            "rxns": "EX_mecpp",
            "value": 0.004730375207401886,
            "variable": "ispS"
           },
           {
            "rxns": "biomass_drain",
            "value": 0,
            "variable": "ispS"
           },
           {
            "rxns": "dxr",
            "value": 0.022592265911583413,
            "variable": "ispS"
           },
           {
            "rxns": "dxs",
            "value": 0.018787260994349464,
            "variable": "ispS"
           },
           {
            "rxns": "fpr",
            "value": 0.24962802086590186,
            "variable": "ispS"
           },
           {
            "rxns": "idi",
            "value": 0.5551590508027111,
            "variable": "ispS"
           },
           {
            "rxns": "ispD",
            "value": 0.022592265911583444,
            "variable": "ispS"
           },
           {
            "rxns": "ispE",
            "value": 0.022592265911583413,
            "variable": "ispS"
           },
           {
            "rxns": "ispF",
            "value": 0.02259226591158319,
            "variable": "ispS"
           },
           {
            "rxns": "ispG",
            "value": 0.2496280208659037,
            "variable": "ispS"
           },
           {
            "rxns": "ispH",
            "value": 0.249628020865899,
            "variable": "ispS"
           },
           {
            "rxns": "ispS",
            "value": 0.2849076979406934,
            "variable": "ispS"
           },
           {
            "rxns": "EX_dxp",
            "value": -0.0008938083006360656,
            "variable": "EX_isoprene"
           },
           {
            "rxns": "EX_isoprene",
            "value": 0.01885466121422652,
            "variable": "EX_isoprene"
           },
           {
            "rxns": "EX_mecpp",
            "value": 0.0006844837997642872,
            "variable": "EX_isoprene"
           },
           {
            "rxns": "biomass_drain",
            "value": 0,
            "variable": "EX_isoprene"
           },
           {
            "rxns": "dxr",
            "value": 0.0018561369688263737,
            "variable": "EX_isoprene"
           },
           {
            "rxns": "dxs",
            "value": 0.0015846587380173452,
            "variable": "EX_isoprene"
           },
           {
            "rxns": "fpr",
            "value": 0.01651991784365344,
            "variable": "EX_isoprene"
           },
           {
            "rxns": "idi",
            "value": 0.03673939278775435,
            "variable": "EX_isoprene"
           },
           {
            "rxns": "ispD",
            "value": 0.0018561369688263841,
            "variable": "EX_isoprene"
           },
           {
            "rxns": "ispE",
            "value": 0.0018561369688263967,
            "variable": "EX_isoprene"
           },
           {
            "rxns": "ispF",
            "value": 0.0018561369688261838,
            "variable": "EX_isoprene"
           },
           {
            "rxns": "ispG",
            "value": 0.016519917843653503,
            "variable": "EX_isoprene"
           },
           {
            "rxns": "ispH",
            "value": 0.016519917843653326,
            "variable": "EX_isoprene"
           },
           {
            "rxns": "ispS",
            "value": 0.018854661214227568,
            "variable": "EX_isoprene"
           },
           {
            "rxns": "EX_dxp",
            "value": -0.00754928933945513,
            "variable": "biomass_drain"
           },
           {
            "rxns": "EX_isoprene",
            "value": 0.03265702896481096,
            "variable": "biomass_drain"
           },
           {
            "rxns": "EX_mecpp",
            "value": 0.004906408703993897,
            "variable": "biomass_drain"
           },
           {
            "rxns": "biomass_drain",
            "value": 1,
            "variable": "biomass_drain"
           },
           {
            "rxns": "dxr",
            "value": 0.017289904990729264,
            "variable": "biomass_drain"
           },
           {
            "rxns": "dxs",
            "value": 0.014726727062266362,
            "variable": "biomass_drain"
           },
           {
            "rxns": "fpr",
            "value": 0.15244160440929583,
            "variable": "biomass_drain"
           },
           {
            "rxns": "idi",
            "value": -0.8849234663794903,
            "variable": "biomass_drain"
           },
           {
            "rxns": "ispD",
            "value": 0.01728990499072927,
            "variable": "biomass_drain"
           },
           {
            "rxns": "ispE",
            "value": 0.017289904990729278,
            "variable": "biomass_drain"
           },
           {
            "rxns": "ispF",
            "value": 0.01728990499072936,
            "variable": "biomass_drain"
           },
           {
            "rxns": "ispG",
            "value": 0.15244160440929555,
            "variable": "biomass_drain"
           },
           {
            "rxns": "ispH",
            "value": 0.15244160440929563,
            "variable": "biomass_drain"
           },
           {
            "rxns": "ispS",
            "value": 0.03265702896481115,
            "variable": "biomass_drain"
           }
          ]
         },
         "encoding": {
          "color": {
           "field": "value",
           "scale": {
            "domain": [
             1,
             -1
            ],
            "scheme": "redblue"
           },
           "type": "quantitative"
          },
          "tooltip": {
           "field": "value",
           "type": "quantitative"
          },
          "x": {
           "field": "variable",
           "type": "nominal"
          },
          "y": {
           "field": "rxns",
           "type": "nominal"
          }
         },
         "height": 250,
         "mark": "rect",
         "width": 300
        },
        {
         "data": {
          "values": [
           {
            "rxn": "EX_dxp",
            "value": 0.023610300523527306,
            "variable": "EX_dxp"
           },
           {
            "rxn": "EX_isoprene",
            "value": 0.0003229669892858807,
            "variable": "EX_dxp"
           },
           {
            "rxn": "EX_mecpp",
            "value": 0.004447992615338854,
            "variable": "EX_dxp"
           },
           {
            "rxn": "biomass_drain",
            "value": 0,
            "variable": "EX_dxp"
           },
           {
            "rxn": "dxr",
            "value": 0.00410384530484834,
            "variable": "EX_dxp"
           },
           {
            "rxn": "dxs",
            "value": 0.00499577458194389,
            "variable": "EX_dxp"
           },
           {
            "rxn": "fpr",
            "value": 0.00028297448936343765,
            "variable": "EX_dxp"
           },
           {
            "rxn": "idi",
            "value": 0.000629319770959229,
            "variable": "EX_dxp"
           },
           {
            "rxn": "ispD",
            "value": 0.004103845304848344,
            "variable": "EX_dxp"
           },
           {
            "rxn": "ispE",
            "value": 0.004103845304848329,
            "variable": "EX_dxp"
           },
           {
            "rxn": "ispF",
            "value": 0.004103845304848349,
            "variable": "EX_dxp"
           },
           {
            "rxn": "ispG",
            "value": 0.00028297448936335324,
            "variable": "EX_dxp"
           },
           {
            "rxn": "ispH",
            "value": 0.000282974489363339,
            "variable": "EX_dxp"
           },
           {
            "rxn": "ispS",
            "value": 0.0003229669892858832,
            "variable": "EX_dxp"
           },
           {
            "rxn": "EX_dxp",
            "value": 0.007174827779955862,
            "variable": "EX_isoprene"
           },
           {
            "rxn": "EX_isoprene",
            "value": 0.026583612856314304,
            "variable": "EX_isoprene"
           },
           {
            "rxn": "EX_mecpp",
            "value": 0.0031193799968836948,
            "variable": "EX_isoprene"
           },
           {
            "rxn": "biomass_drain",
            "value": 0,
            "variable": "EX_isoprene"
           },
           {
            "rxn": "dxr",
            "value": 0.0038018818068069715,
            "variable": "EX_isoprene"
           },
           {
            "rxn": "dxs",
            "value": 0.003508870904732093,
            "variable": "EX_isoprene"
           },
           {
            "rxn": "fpr",
            "value": 0.023291805425939574,
            "variable": "EX_isoprene"
           },
           {
            "rxn": "idi",
            "value": 0.051799699997188295,
            "variable": "EX_isoprene"
           },
           {
            "rxn": "ispD",
            "value": 0.0038018818068070188,
            "variable": "EX_isoprene"
           },
           {
            "rxn": "ispE",
            "value": 0.00380188180680698,
            "variable": "EX_isoprene"
           },
           {
            "rxn": "ispF",
            "value": 0.0038018818068069034,
            "variable": "EX_isoprene"
           },
           {
            "rxn": "ispG",
            "value": 0.0232918054259396,
            "variable": "EX_isoprene"
           },
           {
            "rxn": "ispH",
            "value": 0.02329180542593951,
            "variable": "EX_isoprene"
           },
           {
            "rxn": "ispS",
            "value": 0.026583612856313915,
            "variable": "EX_isoprene"
           },
           {
            "rxn": "EX_dxp",
            "value": 0.28922837872678386,
            "variable": "EX_mecpp"
           },
           {
            "rxn": "EX_isoprene",
            "value": 0.040240579544031506,
            "variable": "EX_mecpp"
           },
           {
            "rxn": "EX_mecpp",
            "value": 0.0673800900930516,
            "variable": "EX_mecpp"
           },
           {
            "rxn": "biomass_drain",
            "value": 0,
            "variable": "EX_mecpp"
           },
           {
            "rxn": "dxr",
            "value": 0.0626954886712553,
            "variable": "EX_mecpp"
           },
           {
            "rxn": "dxs",
            "value": 0.06038103942850293,
            "variable": "EX_mecpp"
           },
           {
            "rxn": "fpr",
            "value": 0.03525765117151787,
            "variable": "EX_mecpp"
           },
           {
            "rxn": "idi",
            "value": 0.07841108578282752,
            "variable": "EX_mecpp"
           },
           {
            "rxn": "ispD",
            "value": 0.0626954886712556,
            "variable": "EX_mecpp"
           },
           {
            "rxn": "ispE",
            "value": 0.06269548867125554,
            "variable": "EX_mecpp"
           },
           {
            "rxn": "ispF",
            "value": 0.0626954886712552,
            "variable": "EX_mecpp"
           },
           {
            "rxn": "ispG",
            "value": 0.035257651171519216,
            "variable": "EX_mecpp"
           },
           {
            "rxn": "ispH",
            "value": 0.035257651171519466,
            "variable": "EX_mecpp"
           },
           {
            "rxn": "ispS",
            "value": 0.0402405795440325,
            "variable": "EX_mecpp"
           },
           {
            "rxn": "EX_dxp",
            "value": 0.06146208629704471,
            "variable": "biomass_drain"
           },
           {
            "rxn": "EX_isoprene",
            "value": 0.11919886072629315,
            "variable": "biomass_drain"
           },
           {
            "rxn": "EX_mecpp",
            "value": 0.0287716974658489,
            "variable": "biomass_drain"
           },
           {
            "rxn": "biomass_drain",
            "value": 0,
            "variable": "biomass_drain"
           },
           {
            "rxn": "dxr",
            "value": 0.02979154120964661,
            "variable": "biomass_drain"
           },
           {
            "rxn": "dxs",
            "value": 0.02957849731682457,
            "variable": "biomass_drain"
           },
           {
            "rxn": "fpr",
            "value": 0.10443865121106174,
            "variable": "biomass_drain"
           },
           {
            "rxn": "idi",
            "value": 0.23226584208106704,
            "variable": "biomass_drain"
           },
           {
            "rxn": "ispD",
            "value": 0.029791541209646707,
            "variable": "biomass_drain"
           },
           {
            "rxn": "ispE",
            "value": 0.029791541209646673,
            "variable": "biomass_drain"
           },
           {
            "rxn": "ispF",
            "value": 0.02979154120964657,
            "variable": "biomass_drain"
           },
           {
            "rxn": "ispG",
            "value": 0.10443865121106126,
            "variable": "biomass_drain"
           },
           {
            "rxn": "ispH",
            "value": 0.1044386512110615,
            "variable": "biomass_drain"
           },
           {
            "rxn": "ispS",
            "value": 0.11919886072629365,
            "variable": "biomass_drain"
           },
           {
            "rxn": "EX_dxp",
            "value": 2.503272230333847,
            "variable": "dxr"
           },
           {
            "rxn": "EX_isoprene",
            "value": 0.03066881288888927,
            "variable": "dxr"
           },
           {
            "rxn": "EX_mecpp",
            "value": 0.5347808068205424,
            "variable": "dxr"
           },
           {
            "rxn": "biomass_drain",
            "value": 0,
            "variable": "dxr"
           },
           {
            "rxn": "dxr",
            "value": 0.4917748968427872,
            "variable": "dxr"
           },
           {
            "rxn": "dxs",
            "value": 0.5219528869567291,
            "variable": "dxr"
           },
           {
            "rxn": "fpr",
            "value": 0.026871141492828293,
            "variable": "dxr"
           },
           {
            "rxn": "idi",
            "value": 0.059759947434572094,
            "variable": "dxr"
           },
           {
            "rxn": "ispD",
            "value": 0.49177489684278686,
            "variable": "dxr"
           },
           {
            "rxn": "ispE",
            "value": 0.4917748968427865,
            "variable": "dxr"
           },
           {
            "rxn": "ispF",
            "value": 0.4917748968427883,
            "variable": "dxr"
           },
           {
            "rxn": "ispG",
            "value": 0.02687114149282603,
            "variable": "dxr"
           },
           {
            "rxn": "ispH",
            "value": 0.02687114149282941,
            "variable": "dxr"
           },
           {
            "rxn": "ispS",
            "value": 0.030668812888889754,
            "variable": "dxr"
           },
           {
            "rxn": "EX_dxp",
            "value": 0.33717046547888585,
            "variable": "dxs"
           },
           {
            "rxn": "EX_isoprene",
            "value": 0.0046121789090877,
            "variable": "dxs"
           },
           {
            "rxn": "EX_mecpp",
            "value": 0.06352023088676867,
            "variable": "dxs"
           },
           {
            "rxn": "biomass_drain",
            "value": 0,
            "variable": "dxs"
           },
           {
            "rxn": "dxr",
            "value": 0.058605583199173,
            "variable": "dxs"
           },
           {
            "rxn": "dxs",
            "value": 0.07134291406172907,
            "variable": "dxs"
           },
           {
            "rxn": "fpr",
            "value": 0.004041059968815099,
            "variable": "dxs"
           },
           {
            "rxn": "idi",
            "value": 0.008987096115017561,
            "variable": "dxs"
           },
           {
            "rxn": "ispD",
            "value": 0.058605583199173056,
            "variable": "dxs"
           },
           {
            "rxn": "ispE",
            "value": 0.05860558319917285,
            "variable": "dxs"
           },
           {
            "rxn": "ispF",
            "value": 0.05860558319917314,
            "variable": "dxs"
           },
           {
            "rxn": "ispG",
            "value": 0.004041059968813896,
            "variable": "dxs"
           },
           {
            "rxn": "ispH",
            "value": 0.004041059968813694,
            "variable": "dxs"
           },
           {
            "rxn": "ispS",
            "value": 0.004612178909087734,
            "variable": "dxs"
           },
           {
            "rxn": "EX_dxp",
            "value": 0.37376489971335075,
            "variable": "fpr"
           },
           {
            "rxn": "EX_isoprene",
            "value": 0.01682325493368442,
            "variable": "fpr"
           },
           {
            "rxn": "EX_mecpp",
            "value": 0.12175649149769882,
            "variable": "fpr"
           },
           {
            "rxn": "biomass_drain",
            "value": 0,
            "variable": "fpr"
           },
           {
            "rxn": "dxr",
            "value": 0.1098689161140198,
            "variable": "fpr"
           },
           {
            "rxn": "dxs",
            "value": 0.10392478568586001,
            "variable": "fpr"
           },
           {
            "rxn": "fpr",
            "value": 0.014740057443068721,
            "variable": "fpr"
           },
           {
            "rxn": "idi",
            "value": 0.03278108070754461,
            "variable": "fpr"
           },
           {
            "rxn": "ispD",
            "value": 0.10986891611401996,
            "variable": "fpr"
           },
           {
            "rxn": "ispE",
            "value": 0.10986891611401942,
            "variable": "fpr"
           },
           {
            "rxn": "ispF",
            "value": 0.10986891611402004,
            "variable": "fpr"
           },
           {
            "rxn": "ispG",
            "value": 0.014740057443067965,
            "variable": "fpr"
           },
           {
            "rxn": "ispH",
            "value": 0.01474005744306801,
            "variable": "fpr"
           },
           {
            "rxn": "ispS",
            "value": 0.016823254933684376,
            "variable": "fpr"
           },
           {
            "rxn": "EX_dxp",
            "value": 0.028353551766717253,
            "variable": "idi"
           },
           {
            "rxn": "EX_isoprene",
            "value": 0.10810526909050569,
            "variable": "idi"
           },
           {
            "rxn": "EX_mecpp",
            "value": 0.014165249655489948,
            "variable": "idi"
           },
           {
            "rxn": "biomass_drain",
            "value": 0,
            "variable": "idi"
           },
           {
            "rxn": "dxr",
            "value": 0.01745073268644719,
            "variable": "idi"
           },
           {
            "rxn": "dxs",
            "value": 0.01629371066755647,
            "variable": "idi"
           },
           {
            "rxn": "fpr",
            "value": 0.09471876177194755,
            "variable": "idi"
           },
           {
            "rxn": "idi",
            "value": 0.21064934015068248,
            "variable": "idi"
           },
           {
            "rxn": "ispD",
            "value": 0.017450732686447132,
            "variable": "idi"
           },
           {
            "rxn": "ispE",
            "value": 0.017450732686447177,
            "variable": "idi"
           },
           {
            "rxn": "ispF",
            "value": 0.0174507326864472,
            "variable": "idi"
           },
           {
            "rxn": "ispG",
            "value": 0.09471876177194735,
            "variable": "idi"
           },
           {
            "rxn": "ispH",
            "value": 0.09471876177194745,
            "variable": "idi"
           },
           {
            "rxn": "ispS",
            "value": 0.10810526909050644,
            "variable": "idi"
           },
           {
            "rxn": "EX_dxp",
            "value": 0.24472541922255392,
            "variable": "ispD"
           },
           {
            "rxn": "EX_isoprene",
            "value": 0.008362456787750213,
            "variable": "ispD"
           },
           {
            "rxn": "EX_mecpp",
            "value": 0.09985109387384777,
            "variable": "ispD"
           },
           {
            "rxn": "biomass_drain",
            "value": 0,
            "variable": "ispD"
           },
           {
            "rxn": "dxr",
            "value": 0.09196473831234664,
            "variable": "ispD"
           },
           {
            "rxn": "dxs",
            "value": 0.08268205348110376,
            "variable": "ispD"
           },
           {
            "rxn": "fpr",
            "value": 0.007326946771149687,
            "variable": "ispD"
           },
           {
            "rxn": "idi",
            "value": 0.016294728454941104,
            "variable": "ispD"
           },
           {
            "rxn": "ispD",
            "value": 0.0919647383123463,
            "variable": "ispD"
           },
           {
            "rxn": "ispE",
            "value": 0.091964738312347,
            "variable": "ispD"
           },
           {
            "rxn": "ispF",
            "value": 0.09196473831234622,
            "variable": "ispD"
           },
           {
            "rxn": "ispG",
            "value": 0.007326946771145572,
            "variable": "ispD"
           },
           {
            "rxn": "ispH",
            "value": 0.007326946771147383,
            "variable": "ispD"
           },
           {
            "rxn": "ispS",
            "value": 0.008362456787745567,
            "variable": "ispD"
           },
           {
            "rxn": "EX_dxp",
            "value": 0.7260985031813472,
            "variable": "ispE"
           },
           {
            "rxn": "EX_isoprene",
            "value": 0.02060139315808441,
            "variable": "ispE"
           },
           {
            "rxn": "EX_mecpp",
            "value": 0.20081786810792362,
            "variable": "ispE"
           },
           {
            "rxn": "biomass_drain",
            "value": 0,
            "variable": "ispE"
           },
           {
            "rxn": "dxr",
            "value": 0.1857254217838278,
            "variable": "ispE"
           },
           {
            "rxn": "dxs",
            "value": 0.19196835318536892,
            "variable": "ispE"
           },
           {
            "rxn": "fpr",
            "value": 0.018050354687860655,
            "variable": "ispE"
           },
           {
            "rxn": "idi",
            "value": 0.04014300053497741,
            "variable": "ispE"
           },
           {
            "rxn": "ispD",
            "value": 0.1857254217838308,
            "variable": "ispE"
           },
           {
            "rxn": "ispE",
            "value": 0.18572542178383172,
            "variable": "ispE"
           },
           {
            "rxn": "ispF",
            "value": 0.18572542178382823,
            "variable": "ispE"
           },
           {
            "rxn": "ispG",
            "value": 0.018050354687862254,
            "variable": "ispE"
           },
           {
            "rxn": "ispH",
            "value": 0.018050354687864624,
            "variable": "ispE"
           },
           {
            "rxn": "ispS",
            "value": 0.02060139315808097,
            "variable": "ispE"
           },
           {
            "rxn": "EX_dxp",
            "value": 0.3072580302077531,
            "variable": "ispF"
           },
           {
            "rxn": "EX_isoprene",
            "value": 0.017672235750669892,
            "variable": "ispF"
           },
           {
            "rxn": "EX_mecpp",
            "value": 0.14330616193085485,
            "variable": "ispF"
           },
           {
            "rxn": "biomass_drain",
            "value": 0,
            "variable": "ispF"
           },
           {
            "rxn": "dxr",
            "value": 0.1337476636376506,
            "variable": "ispF"
           },
           {
            "rxn": "dxs",
            "value": 0.1347892386682797,
            "variable": "ispF"
           },
           {
            "rxn": "fpr",
            "value": 0.015483910286037076,
            "variable": "ispF"
           },
           {
            "rxn": "idi",
            "value": 0.03443536870296785,
            "variable": "ispF"
           },
           {
            "rxn": "ispD",
            "value": 0.1337476636376502,
            "variable": "ispF"
           },
           {
            "rxn": "ispE",
            "value": 0.1337476636376507,
            "variable": "ispF"
           },
           {
            "rxn": "ispF",
            "value": 0.13374766363765087,
            "variable": "ispF"
           },
           {
            "rxn": "ispG",
            "value": 0.01548391028603403,
            "variable": "ispF"
           },
           {
            "rxn": "ispH",
            "value": 0.01548391028603619,
            "variable": "ispF"
           },
           {
            "rxn": "ispS",
            "value": 0.01767223575066896,
            "variable": "ispF"
           },
           {
            "rxn": "EX_dxp",
            "value": 0.2903786514795531,
            "variable": "ispG"
           },
           {
            "rxn": "EX_isoprene",
            "value": 0.20780602635702178,
            "variable": "ispG"
           },
           {
            "rxn": "EX_mecpp",
            "value": 0.08524194574193734,
            "variable": "ispG"
           },
           {
            "rxn": "biomass_drain",
            "value": 0,
            "variable": "ispG"
           },
           {
            "rxn": "dxr",
            "value": 0.07335595688811714,
            "variable": "ispG"
           },
           {
            "rxn": "dxs",
            "value": 0.07428577294287993,
            "variable": "ispG"
           },
           {
            "rxn": "fpr",
            "value": 0.1820737293462247,
            "variable": "ispG"
           },
           {
            "rxn": "idi",
            "value": 0.4049220051873011,
            "variable": "ispG"
           },
           {
            "rxn": "ispD",
            "value": 0.07335595688811763,
            "variable": "ispG"
           },
           {
            "rxn": "ispE",
            "value": 0.07335595688811782,
            "variable": "ispG"
           },
           {
            "rxn": "ispF",
            "value": 0.07335595688811665,
            "variable": "ispG"
           },
           {
            "rxn": "ispG",
            "value": 0.18207372934622568,
            "variable": "ispG"
           },
           {
            "rxn": "ispH",
            "value": 0.18207372934622507,
            "variable": "ispG"
           },
           {
            "rxn": "ispS",
            "value": 0.20780602635702117,
            "variable": "ispG"
           },
           {
            "rxn": "EX_dxp",
            "value": 0.12830782683633568,
            "variable": "ispH"
           },
           {
            "rxn": "EX_isoprene",
            "value": 0.37488576513851163,
            "variable": "ispH"
           },
           {
            "rxn": "EX_mecpp",
            "value": 0.06358824689291556,
            "variable": "ispH"
           },
           {
            "rxn": "biomass_drain",
            "value": 0,
            "variable": "ispH"
           },
           {
            "rxn": "dxr",
            "value": 0.07725593113398273,
            "variable": "ispH"
           },
           {
            "rxn": "dxs",
            "value": 0.07162036983366682,
            "variable": "ispH"
           },
           {
            "rxn": "fpr",
            "value": 0.32846424395947954,
            "variable": "ispH"
           },
           {
            "rxn": "idi",
            "value": 0.7304864945315372,
            "variable": "ispH"
           },
           {
            "rxn": "ispD",
            "value": 0.07725593113398299,
            "variable": "ispH"
           },
           {
            "rxn": "ispE",
            "value": 0.07725593113398296,
            "variable": "ispH"
           },
           {
            "rxn": "ispF",
            "value": 0.07725593113398381,
            "variable": "ispH"
           },
           {
            "rxn": "ispG",
            "value": 0.32846424395948043,
            "variable": "ispH"
           },
           {
            "rxn": "ispH",
            "value": 0.3284642439594782,
            "variable": "ispH"
           },
           {
            "rxn": "ispS",
            "value": 0.3748857651385139,
            "variable": "ispH"
           },
           {
            "rxn": "EX_dxp",
            "value": 0.10709619958096801,
            "variable": "ispS"
           },
           {
            "rxn": "EX_isoprene",
            "value": 0.3645782873040904,
            "variable": "ispS"
           },
           {
            "rxn": "EX_mecpp",
            "value": 0.04681689645873735,
            "variable": "ispS"
           },
           {
            "rxn": "biomass_drain",
            "value": 0,
            "variable": "ispS"
           },
           {
            "rxn": "dxr",
            "value": 0.0572308917558529,
            "variable": "ispS"
           },
           {
            "rxn": "dxs",
            "value": 0.05153036181580569,
            "variable": "ispS"
           },
           {
            "rxn": "fpr",
            "value": 0.319433125072472,
            "variable": "ispS"
           },
           {
            "rxn": "idi",
            "value": 0.7104017805975515,
            "variable": "ispS"
           },
           {
            "rxn": "ispD",
            "value": 0.057230891755852824,
            "variable": "ispS"
           },
           {
            "rxn": "ispE",
            "value": 0.05723089175585304,
            "variable": "ispS"
           },
           {
            "rxn": "ispF",
            "value": 0.0572308917558529,
            "variable": "ispS"
           },
           {
            "rxn": "ispG",
            "value": 0.3194331250724711,
            "variable": "ispS"
           },
           {
            "rxn": "ispH",
            "value": 0.3194331250724718,
            "variable": "ispS"
           },
           {
            "rxn": "ispS",
            "value": 0.3645782873040939,
            "variable": "ispS"
           }
          ]
         },
         "encoding": {
          "color": {
           "field": "value",
           "scale": {
            "domain": [
             1,
             -1
            ],
            "scheme": "redblue"
           },
           "type": "quantitative"
          },
          "tooltip": {
           "field": "value",
           "type": "quantitative"
          },
          "x": {
           "field": "variable",
           "type": "nominal"
          },
          "y": {
           "field": "rxn",
           "type": "nominal"
          }
         },
         "height": 250,
         "mark": "rect",
         "width": 300
        }
       ]
      },
      "image/png": "[encoded data removed]",
      "text/plain": [
       "<VegaLite 2 object>\n",
       "\n",
       "If you see this message, it means the renderer has not been properly enabled\n",
       "for the frontend that you are using. For more information, see\n",
       "https://altair-viz.github.io/user_guide/troubleshooting.html\n"
      ]
     },
     "execution_count": 20,
     "metadata": {},
     "output_type": "execute_result"
    }
   ],
   "source": [
    "alt.hconcat(get_heatmaps(Cv_df_median, 'rxns'),\n",
    "            get_heatmaps(Cv_df_iqr, 'rxn'))"
   ]
  },
  {
   "cell_type": "code",
   "execution_count": 21,
   "metadata": {},
   "outputs": [
    {
     "data": {
      "application/vnd.vegalite.v2+json": {
       "$schema": "https://vega.github.io/schema/vega-lite/v2.4.3.json",
       "config": {
        "view": {
         "height": 300,
         "width": 400
        }
       },
       "hconcat": [
        {
         "data": {
          "values": [
           {
            "mets": "adp",
            "value": -0.005103225028729696,
            "variable": "dxs"
           },
           {
            "mets": "atp",
            "value": 0.05280586557625164,
            "variable": "dxs"
           },
           {
            "mets": "cdmep",
            "value": 0.023239900658601972,
            "variable": "dxs"
           },
           {
            "mets": "cdpmep",
            "value": 0.022201135215619297,
            "variable": "dxs"
           },
           {
            "mets": "cmp",
            "value": -0.0005515300248661158,
            "variable": "dxs"
           },
           {
            "mets": "ctp",
            "value": 0.036853254391323836,
            "variable": "dxs"
           },
           {
            "mets": "dmpp",
            "value": 0.003609318681805876,
            "variable": "dxs"
           },
           {
            "mets": "dxp",
            "value": 0.2655867423404158,
            "variable": "dxs"
           },
           {
            "mets": "dxp_ex",
            "value": -0.007157088482073642,
            "variable": "dxs"
           },
           {
            "mets": "fld_ox",
            "value": -0.00013620149715963434,
            "variable": "dxs"
           },
           {
            "mets": "fld_red",
            "value": -0.0006727000781550272,
            "variable": "dxs"
           },
           {
            "mets": "g3p",
            "value": -0.8712613312538924,
            "variable": "dxs"
           },
           {
            "mets": "hmbpp",
            "value": 0.00896640864415934,
            "variable": "dxs"
           },
           {
            "mets": "ipp",
            "value": 0.007980656551724419,
            "variable": "dxs"
           },
           {
            "mets": "iso",
            "value": 0.001663880094944814,
            "variable": "dxs"
           },
           {
            "mets": "mecpp",
            "value": 0.016498876213430297,
            "variable": "dxs"
           },
           {
            "mets": "mecpp_ex",
            "value": -0.03079716600476046,
            "variable": "dxs"
           },
           {
            "mets": "mep",
            "value": 0.027559763505282157,
            "variable": "dxs"
           },
           {
            "mets": "nadp",
            "value": -0.00010192818920150856,
            "variable": "dxs"
           },
           {
            "mets": "nadph",
            "value": 0.0013143185107471955,
            "variable": "dxs"
           },
           {
            "mets": "ppi",
            "value": -0.017211759887205504,
            "variable": "dxs"
           },
           {
            "mets": "pyr",
            "value": -0.8525706976510662,
            "variable": "dxs"
           },
           {
            "mets": "adp",
            "value": 0.00035735240450661453,
            "variable": "EX_dxp"
           },
           {
            "mets": "atp",
            "value": -0.003697721133105472,
            "variable": "EX_dxp"
           },
           {
            "mets": "cdmep",
            "value": -0.001627369816947602,
            "variable": "EX_dxp"
           },
           {
            "mets": "cdpmep",
            "value": -0.0015546304557243645,
            "variable": "EX_dxp"
           },
           {
            "mets": "cmp",
            "value": 3.862078968376573e-05,
            "variable": "EX_dxp"
           },
           {
            "mets": "ctp",
            "value": -0.002580642436203074,
            "variable": "EX_dxp"
           },
           {
            "mets": "dmpp",
            "value": -0.00025274188426196683,
            "variable": "EX_dxp"
           },
           {
            "mets": "dxp",
            "value": -0.018597663329780897,
            "variable": "EX_dxp"
           },
           {
            "mets": "dxp_ex",
            "value": 0.0005011738192882028,
            "variable": "EX_dxp"
           },
           {
            "mets": "fld_ox",
            "value": 9.537485067459708e-06,
            "variable": "EX_dxp"
           },
           {
            "mets": "fld_red",
            "value": 4.710570062796641e-05,
            "variable": "EX_dxp"
           },
           {
            "mets": "g3p",
            "value": 0.06100991626362074,
            "variable": "EX_dxp"
           },
           {
            "mets": "hmbpp",
            "value": -0.0006278711345748397,
            "variable": "EX_dxp"
           },
           {
            "mets": "ipp",
            "value": -0.0005588440235821011,
            "variable": "EX_dxp"
           },
           {
            "mets": "iso",
            "value": -0.00011651290103647057,
            "variable": "EX_dxp"
           },
           {
            "mets": "mecpp",
            "value": -0.0011553308061733507,
            "variable": "EX_dxp"
           },
           {
            "mets": "mecpp_ex",
            "value": 0.0021565659483626584,
            "variable": "EX_dxp"
           },
           {
            "mets": "mep",
            "value": -0.0019298674271272995,
            "variable": "EX_dxp"
           },
           {
            "mets": "nadp",
            "value": 7.13750291102311e-06,
            "variable": "EX_dxp"
           },
           {
            "mets": "nadph",
            "value": -9.2034914678253e-05,
            "variable": "EX_dxp"
           },
           {
            "mets": "ppi",
            "value": 0.0012052503557763775,
            "variable": "EX_dxp"
           },
           {
            "mets": "pyr",
            "value": 0.05970110804487272,
            "variable": "EX_dxp"
           },
           {
            "mets": "adp",
            "value": -0.0979183636879738,
            "variable": "dxr"
           },
           {
            "mets": "atp",
            "value": 0.7768705156245399,
            "variable": "dxr"
           },
           {
            "mets": "cdmep",
            "value": 0.5392757766042353,
            "variable": "dxr"
           },
           {
            "mets": "cdpmep",
            "value": 0.30666392039713375,
            "variable": "dxr"
           },
           {
            "mets": "cmp",
            "value": -0.025741142533104416,
            "variable": "dxr"
           },
           {
            "mets": "ctp",
            "value": 0.3514558797004519,
            "variable": "dxr"
           },
           {
            "mets": "dmpp",
            "value": -0.02623578431702444,
            "variable": "dxr"
           },
           {
            "mets": "dxp",
            "value": -0.9434969541850168,
            "variable": "dxr"
           },
           {
            "mets": "dxp_ex",
            "value": 0.0023708867241054882,
            "variable": "dxr"
           },
           {
            "mets": "fld_ox",
            "value": 0.008683073445408175,
            "variable": "dxr"
           },
           {
            "mets": "fld_red",
            "value": -0.16887990848991008,
            "variable": "dxr"
           },
           {
            "mets": "g3p",
            "value": 0.2695343211835972,
            "variable": "dxr"
           },
           {
            "mets": "hmbpp",
            "value": 0.06721691860368098,
            "variable": "dxr"
           },
           {
            "mets": "ipp",
            "value": -0.026357499820334626,
            "variable": "dxr"
           },
           {
            "mets": "iso",
            "value": -0.0033781443891192585,
            "variable": "dxr"
           },
           {
            "mets": "mecpp",
            "value": 0.281119183172322,
            "variable": "dxr"
           },
           {
            "mets": "mecpp_ex",
            "value": -0.541129973072145,
            "variable": "dxr"
           },
           {
            "mets": "mep",
            "value": 0.9543070351310624,
            "variable": "dxr"
           },
           {
            "mets": "nadp",
            "value": -0.0005136820483946497,
            "variable": "dxr"
           },
           {
            "mets": "nadph",
            "value": -0.0036406739283363107,
            "variable": "dxr"
           },
           {
            "mets": "ppi",
            "value": -0.10261465444760004,
            "variable": "dxr"
           },
           {
            "mets": "pyr",
            "value": 0.2594672694482434,
            "variable": "dxr"
           },
           {
            "mets": "adp",
            "value": 4.4782955631660185e-06,
            "variable": "ispD"
           },
           {
            "mets": "atp",
            "value": -0.0010793222685506704,
            "variable": "ispD"
           },
           {
            "mets": "cdmep",
            "value": 0.3304028630212045,
            "variable": "ispD"
           },
           {
            "mets": "cdpmep",
            "value": 0.22052828574488137,
            "variable": "ispD"
           },
           {
            "mets": "cmp",
            "value": -0.004621272662114243,
            "variable": "ispD"
           },
           {
            "mets": "ctp",
            "value": -0.8341517134005998,
            "variable": "ispD"
           },
           {
            "mets": "dmpp",
            "value": 0.03144134314244432,
            "variable": "ispD"
           },
           {
            "mets": "dxp",
            "value": -0.012535435106139348,
            "variable": "ispD"
           },
           {
            "mets": "dxp_ex",
            "value": 0.00035468417226306375,
            "variable": "ispD"
           },
           {
            "mets": "fld_ox",
            "value": 0.00025835013666573685,
            "variable": "ispD"
           },
           {
            "mets": "fld_red",
            "value": -0.01669277296643116,
            "variable": "ispD"
           },
           {
            "mets": "g3p",
            "value": 0.037894281615427926,
            "variable": "ispD"
           },
           {
            "mets": "hmbpp",
            "value": 0.010394134139108512,
            "variable": "ispD"
           },
           {
            "mets": "ipp",
            "value": 0.014991146923860003,
            "variable": "ispD"
           },
           {
            "mets": "iso",
            "value": 0.0005118216402236636,
            "variable": "ispD"
           },
           {
            "mets": "mecpp",
            "value": 0.03382340285279798,
            "variable": "ispD"
           },
           {
            "mets": "mecpp_ex",
            "value": -0.06391094494866488,
            "variable": "ispD"
           },
           {
            "mets": "mep",
            "value": -0.7182541970502703,
            "variable": "ispD"
           },
           {
            "mets": "nadp",
            "value": -0.00042745418232757336,
            "variable": "ispD"
           },
           {
            "mets": "nadph",
            "value": 0.00026899835203740867,
            "variable": "ispD"
           },
           {
            "mets": "ppi",
            "value": 0.346566829545079,
            "variable": "ispD"
           },
           {
            "mets": "pyr",
            "value": 0.03524652856539422,
            "variable": "ispD"
           },
           {
            "mets": "adp",
            "value": 0.16403745334860897,
            "variable": "ispE"
           },
           {
            "mets": "atp",
            "value": -1.2570073597773244,
            "variable": "ispE"
           },
           {
            "mets": "cdmep",
            "value": -1.1167912290364834,
            "variable": "ispE"
           },
           {
            "mets": "cdpmep",
            "value": 0.24873299488590073,
            "variable": "ispE"
           },
           {
            "mets": "cmp",
            "value": -0.0014354946256753898,
            "variable": "ispE"
           },
           {
            "mets": "ctp",
            "value": -0.0020617261211055087,
            "variable": "ispE"
           },
           {
            "mets": "dmpp",
            "value": 0.029077361950575527,
            "variable": "ispE"
           },
           {
            "mets": "dxp",
            "value": 0.13066418428175958,
            "variable": "ispE"
           },
           {
            "mets": "dxp_ex",
            "value": 0.0008327399850842708,
            "variable": "ispE"
           },
           {
            "mets": "fld_ox",
            "value": -0.0002795790700781842,
            "variable": "ispE"
           },
           {
            "mets": "fld_red",
            "value": -0.004991272643253332,
            "variable": "ispE"
           },
           {
            "mets": "g3p",
            "value": 0.08774484586108075,
            "variable": "ispE"
           },
           {
            "mets": "hmbpp",
            "value": 0.042428127333069235,
            "variable": "ispE"
           },
           {
            "mets": "ipp",
            "value": 0.042396039094036414,
            "variable": "ispE"
           },
           {
            "mets": "iso",
            "value": 0.00811347329143358,
            "variable": "ispE"
           },
           {
            "mets": "mecpp",
            "value": 0.08411838480353068,
            "variable": "ispE"
           },
           {
            "mets": "mecpp_ex",
            "value": -0.10646910505637032,
            "variable": "ispE"
           },
           {
            "mets": "mep",
            "value": -0.17553051609607853,
            "variable": "ispE"
           },
           {
            "mets": "nadp",
            "value": -0.00011975405866037966,
            "variable": "ispE"
           },
           {
            "mets": "nadph",
            "value": 0.006592772299510205,
            "variable": "ispE"
           },
           {
            "mets": "ppi",
            "value": -0.00829683395709092,
            "variable": "ispE"
           },
           {
            "mets": "pyr",
            "value": 0.08952123300642013,
            "variable": "ispE"
           },
           {
            "mets": "adp",
            "value": -0.0003985833528777574,
            "variable": "ispF"
           },
           {
            "mets": "atp",
            "value": 0.009777099261497176,
            "variable": "ispF"
           },
           {
            "mets": "cdmep",
            "value": -0.035657008291902506,
            "variable": "ispF"
           },
           {
            "mets": "cdpmep",
            "value": -1.0333110625946875,
            "variable": "ispF"
           },
           {
            "mets": "cmp",
            "value": 0.03552100035294055,
            "variable": "ispF"
           },
           {
            "mets": "ctp",
            "value": 0.12790948682101122,
            "variable": "ispF"
           },
           {
            "mets": "dmpp",
            "value": 0.003820941271884638,
            "variable": "ispF"
           },
           {
            "mets": "dxp",
            "value": 0.006817509337790466,
            "variable": "ispF"
           },
           {
            "mets": "dxp_ex",
            "value": 0.00023152965929286096,
            "variable": "ispF"
           },
           {
            "mets": "fld_ox",
            "value": -5.701397182141661e-05,
            "variable": "ispF"
           },
           {
            "mets": "fld_red",
            "value": -0.00151187233590174,
            "variable": "ispF"
           },
           {
            "mets": "g3p",
            "value": 0.019738631133991175,
            "variable": "ispF"
           },
           {
            "mets": "hmbpp",
            "value": 0.022834254549055827,
            "variable": "ispF"
           },
           {
            "mets": "ipp",
            "value": 0.01454008248710427,
            "variable": "ispF"
           },
           {
            "mets": "iso",
            "value": 0.0037551205003149633,
            "variable": "ispF"
           },
           {
            "mets": "mecpp",
            "value": 0.05416632876446326,
            "variable": "ispF"
           },
           {
            "mets": "mecpp_ex",
            "value": -0.01589364430805167,
            "variable": "ispF"
           },
           {
            "mets": "mep",
            "value": -0.09573664903890788,
            "variable": "ispF"
           },
           {
            "mets": "nadp",
            "value": -0.00018792998693797143,
            "variable": "ispF"
           },
           {
            "mets": "nadph",
            "value": 0.002743858017273746,
            "variable": "ispF"
           },
           {
            "mets": "ppi",
            "value": -0.06410248729452682,
            "variable": "ispF"
           },
           {
            "mets": "pyr",
            "value": 0.019554933844096713,
            "variable": "ispF"
           },
           {
            "mets": "adp",
            "value": -0.0059424322697450346,
            "variable": "EX_mecpp"
           },
           {
            "mets": "atp",
            "value": 0.06234927815848053,
            "variable": "EX_mecpp"
           },
           {
            "mets": "cdmep",
            "value": 0.023002291246874994,
            "variable": "EX_mecpp"
           },
           {
            "mets": "cdpmep",
            "value": 0.017905979120693964,
            "variable": "EX_mecpp"
           },
           {
            "mets": "cmp",
            "value": 8.038290200718134e-05,
            "variable": "EX_mecpp"
           },
           {
            "mets": "ctp",
            "value": 0.05984380069034829,
            "variable": "EX_mecpp"
           },
           {
            "mets": "dmpp",
            "value": -0.041542756588815066,
            "variable": "EX_mecpp"
           },
           {
            "mets": "dxp",
            "value": 0.056482896593577706,
            "variable": "EX_mecpp"
           },
           {
            "mets": "dxp_ex",
            "value": 0.0002992589200798314,
            "variable": "EX_mecpp"
           },
           {
            "mets": "fld_ox",
            "value": -0.004476981815631324,
            "variable": "EX_mecpp"
           },
           {
            "mets": "fld_red",
            "value": 0.2518467776509974,
            "variable": "EX_mecpp"
           },
           {
            "mets": "g3p",
            "value": 0.029469532389186308,
            "variable": "EX_mecpp"
           },
           {
            "mets": "hmbpp",
            "value": -0.23016960620995286,
            "variable": "EX_mecpp"
           },
           {
            "mets": "ipp",
            "value": -0.06520885904430251,
            "variable": "EX_mecpp"
           },
           {
            "mets": "iso",
            "value": -0.010968884870623714,
            "variable": "EX_mecpp"
           },
           {
            "mets": "mecpp",
            "value": -0.7102069378313548,
            "variable": "EX_mecpp"
           },
           {
            "mets": "mecpp_ex",
            "value": 0.8581687046815621,
            "variable": "EX_mecpp"
           },
           {
            "mets": "mep",
            "value": 0.014615127239684028,
            "variable": "EX_mecpp"
           },
           {
            "mets": "nadp",
            "value": 0.00038616597467142045,
            "variable": "EX_mecpp"
           },
           {
            "mets": "nadph",
            "value": -0.009370145382918575,
            "variable": "EX_mecpp"
           },
           {
            "mets": "ppi",
            "value": -0.013368858527380154,
            "variable": "EX_mecpp"
           },
           {
            "mets": "pyr",
            "value": 0.028276161694651136,
            "variable": "EX_mecpp"
           },
           {
            "mets": "adp",
            "value": 0.0036363312972552096,
            "variable": "ispG"
           },
           {
            "mets": "atp",
            "value": -0.042633873862304814,
            "variable": "ispG"
           },
           {
            "mets": "cdmep",
            "value": -0.011617804804690986,
            "variable": "ispG"
           },
           {
            "mets": "cdpmep",
            "value": -0.03153199337651431,
            "variable": "ispG"
           },
           {
            "mets": "cmp",
            "value": 0.002257877199886748,
            "variable": "ispG"
           },
           {
            "mets": "ctp",
            "value": -0.0529678755068799,
            "variable": "ispG"
           },
           {
            "mets": "dmpp",
            "value": 0.23981944260689675,
            "variable": "ispG"
           },
           {
            "mets": "dxp",
            "value": -0.029267696190286716,
            "variable": "ispG"
           },
           {
            "mets": "dxp_ex",
            "value": -0.00015881866865439582,
            "variable": "ispG"
           },
           {
            "mets": "fld_ox",
            "value": 0.029207773114275488,
            "variable": "ispG"
           },
           {
            "mets": "fld_red",
            "value": -1.600768578574127,
            "variable": "ispG"
           },
           {
            "mets": "g3p",
            "value": -0.013927598911547545,
            "variable": "ispG"
           },
           {
            "mets": "hmbpp",
            "value": 1.2282917657514214,
            "variable": "ispG"
           },
           {
            "mets": "ipp",
            "value": 0.3777002498086796,
            "variable": "ispG"
           },
           {
            "mets": "iso",
            "value": 0.07399741749078706,
            "variable": "ispG"
           },
           {
            "mets": "mecpp",
            "value": -0.7534296435916839,
            "variable": "ispG"
           },
           {
            "mets": "mecpp_ex",
            "value": -1.1108552351112353,
            "variable": "ispG"
           },
           {
            "mets": "mep",
            "value": -0.00701878222467817,
            "variable": "ispG"
           },
           {
            "mets": "nadp",
            "value": -0.001722421680159143,
            "variable": "ispG"
           },
           {
            "mets": "nadph",
            "value": 0.05397332182043328,
            "variable": "ispG"
           },
           {
            "mets": "ppi",
            "value": 0.00025021069409374467,
            "variable": "ispG"
           },
           {
            "mets": "pyr",
            "value": -0.01348972898051985,
            "variable": "ispG"
           },
           {
            "mets": "adp",
            "value": 0.011564650386557945,
            "variable": "fpr"
           },
           {
            "mets": "atp",
            "value": -0.1069132606743853,
            "variable": "fpr"
           },
           {
            "mets": "cdmep",
            "value": -0.07006541480200044,
            "variable": "fpr"
           },
           {
            "mets": "cdpmep",
            "value": -0.029506278454520973,
            "variable": "fpr"
           },
           {
            "mets": "cmp",
            "value": 0.0027006303262377103,
            "variable": "fpr"
           },
           {
            "mets": "ctp",
            "value": -0.03914171345143522,
            "variable": "fpr"
           },
           {
            "mets": "dmpp",
            "value": 0.03118398802071274,
            "variable": "fpr"
           },
           {
            "mets": "dxp",
            "value": 0.0882492302241979,
            "variable": "fpr"
           },
           {
            "mets": "dxp_ex",
            "value": -0.0002733653834434065,
            "variable": "fpr"
           },
           {
            "mets": "fld_ox",
            "value": -0.0060331572157047535,
            "variable": "fpr"
           },
           {
            "mets": "fld_red",
            "value": 0.054957925167734366,
            "variable": "fpr"
           },
           {
            "mets": "g3p",
            "value": -0.02352953296582763,
            "variable": "fpr"
           },
           {
            "mets": "hmbpp",
            "value": 0.0031982437011054896,
            "variable": "fpr"
           },
           {
            "mets": "ipp",
            "value": 0.0448334965229106,
            "variable": "fpr"
           },
           {
            "mets": "iso",
            "value": 0.008199305216181648,
            "variable": "fpr"
           },
           {
            "mets": "mecpp",
            "value": -0.030580711597139543,
            "variable": "fpr"
           },
           {
            "mets": "mecpp_ex",
            "value": 0.08407534469587075,
            "variable": "fpr"
           },
           {
            "mets": "mep",
            "value": -0.13797895338922822,
            "variable": "fpr"
           },
           {
            "mets": "nadp",
            "value": 0.043569731801182135,
            "variable": "fpr"
           },
           {
            "mets": "nadph",
            "value": -0.9249528882829359,
            "variable": "fpr"
           },
           {
            "mets": "ppi",
            "value": 0.005478726126798018,
            "variable": "fpr"
           },
           {
            "mets": "pyr",
            "value": -0.02614520665035071,
            "variable": "fpr"
           },
           {
            "mets": "adp",
            "value": -0.006202522026591237,
            "variable": "ispH"
           },
           {
            "mets": "atp",
            "value": 0.06287483563664203,
            "variable": "ispH"
           },
           {
            "mets": "cdmep",
            "value": 0.047012848424606735,
            "variable": "ispH"
           },
           {
            "mets": "cdpmep",
            "value": 0.044271355805431775,
            "variable": "ispH"
           },
           {
            "mets": "cmp",
            "value": -0.002637115967379781,
            "variable": "ispH"
           },
           {
            "mets": "ctp",
            "value": 0.01994998735540495,
            "variable": "ispH"
           },
           {
            "mets": "dmpp",
            "value": 0.5025191224464463,
            "variable": "ispH"
           },
           {
            "mets": "dxp",
            "value": -0.003526464972766547,
            "variable": "ispH"
           },
           {
            "mets": "dxp_ex",
            "value": 0.00021469939016868206,
            "variable": "ispH"
           },
           {
            "mets": "fld_ox",
            "value": 0.03807743500894761,
            "variable": "ispH"
           },
           {
            "mets": "fld_red",
            "value": -0.4505623606693401,
            "variable": "ispH"
           },
           {
            "mets": "g3p",
            "value": 0.02240236908889185,
            "variable": "ispH"
           },
           {
            "mets": "hmbpp",
            "value": -2.854526019392087,
            "variable": "ispH"
           },
           {
            "mets": "ipp",
            "value": 0.8224309145381803,
            "variable": "ispH"
           },
           {
            "mets": "iso",
            "value": 0.16610056924297395,
            "variable": "ispH"
           },
           {
            "mets": "mecpp",
            "value": 0.3186233068597837,
            "variable": "ispH"
           },
           {
            "mets": "mecpp_ex",
            "value": 0.46335777562226865,
            "variable": "ispH"
           },
           {
            "mets": "mep",
            "value": 0.013138206446783936,
            "variable": "ispH"
           },
           {
            "mets": "nadp",
            "value": -0.008874820761885635,
            "variable": "ispH"
           },
           {
            "mets": "nadph",
            "value": 0.12576295817938843,
            "variable": "ispH"
           },
           {
            "mets": "ppi",
            "value": -0.07323011573140627,
            "variable": "ispH"
           },
           {
            "mets": "pyr",
            "value": 0.01961783841694654,
            "variable": "ispH"
           },
           {
            "mets": "adp",
            "value": -0.0015216076153017212,
            "variable": "idi"
           },
           {
            "mets": "atp",
            "value": 0.014928715476755113,
            "variable": "idi"
           },
           {
            "mets": "cdmep",
            "value": 0.009569721043364721,
            "variable": "idi"
           },
           {
            "mets": "cdpmep",
            "value": 0.006999267650861157,
            "variable": "idi"
           },
           {
            "mets": "cmp",
            "value": -0.00036862288280303595,
            "variable": "idi"
           },
           {
            "mets": "ctp",
            "value": 0.008375908417705146,
            "variable": "idi"
           },
           {
            "mets": "dmpp",
            "value": 0.3785835384440843,
            "variable": "idi"
           },
           {
            "mets": "dxp",
            "value": -0.003491343264577524,
            "variable": "idi"
           },
           {
            "mets": "dxp_ex",
            "value": 4.875147320859943e-05,
            "variable": "idi"
           },
           {
            "mets": "fld_ox",
            "value": -0.0368010555413268,
            "variable": "idi"
           },
           {
            "mets": "fld_red",
            "value": 0.2560754789763059,
            "variable": "idi"
           },
           {
            "mets": "g3p",
            "value": 0.004282949895556937,
            "variable": "idi"
           },
           {
            "mets": "hmbpp",
            "value": 0.15009438592601687,
            "variable": "idi"
           },
           {
            "mets": "ipp",
            "value": -0.9496383151828702,
            "variable": "idi"
           },
           {
            "mets": "iso",
            "value": 0.08437910420301376,
            "variable": "idi"
           },
           {
            "mets": "mecpp",
            "value": 0.029857610420278857,
            "variable": "idi"
           },
           {
            "mets": "mecpp_ex",
            "value": 0.038544560895978006,
            "variable": "idi"
           },
           {
            "mets": "mep",
            "value": 0.01179490014999393,
            "variable": "idi"
           },
           {
            "mets": "nadp",
            "value": -0.003357910839445379,
            "variable": "idi"
           },
           {
            "mets": "nadph",
            "value": 0.06384751835068465,
            "variable": "idi"
           },
           {
            "mets": "ppi",
            "value": -0.00521825820248154,
            "variable": "idi"
           },
           {
            "mets": "pyr",
            "value": 0.004644468646282747,
            "variable": "idi"
           },
           {
            "mets": "adp",
            "value": -0.005825849715166965,
            "variable": "ispS"
           },
           {
            "mets": "atp",
            "value": 0.04907286484519478,
            "variable": "ispS"
           },
           {
            "mets": "cdmep",
            "value": 0.015660149571294454,
            "variable": "ispS"
           },
           {
            "mets": "cdpmep",
            "value": 0.009243355296319342,
            "variable": "ispS"
           },
           {
            "mets": "cmp",
            "value": -0.0010737063688748701,
            "variable": "ispS"
           },
           {
            "mets": "ctp",
            "value": 0.07296486484109894,
            "variable": "ispS"
           },
           {
            "mets": "dmpp",
            "value": -1.913941891997194,
            "variable": "ispS"
           },
           {
            "mets": "dxp",
            "value": -0.011085363338418166,
            "variable": "ispS"
           },
           {
            "mets": "dxp_ex",
            "value": 0.0001244133499517883,
            "variable": "ispS"
           },
           {
            "mets": "fld_ox",
            "value": -0.1315357809943157,
            "variable": "ispS"
           },
           {
            "mets": "fld_red",
            "value": 0.8166749079996464,
            "variable": "ispS"
           },
           {
            "mets": "g3p",
            "value": 0.01091809152704009,
            "variable": "ispS"
           },
           {
            "mets": "hmbpp",
            "value": 0.4875143882724169,
            "variable": "ispS"
           },
           {
            "mets": "ipp",
            "value": 0.016799449194129644,
            "variable": "ispS"
           },
           {
            "mets": "iso",
            "value": 0.28490769794069093,
            "variable": "ispS"
           },
           {
            "mets": "mecpp",
            "value": 0.09216759813185847,
            "variable": "ispS"
           },
           {
            "mets": "mecpp_ex",
            "value": 0.13524873043663863,
            "variable": "ispS"
           },
           {
            "mets": "mep",
            "value": 0.07975433147898081,
            "variable": "ispS"
           },
           {
            "mets": "nadp",
            "value": -0.011822173800131591,
            "variable": "ispS"
           },
           {
            "mets": "nadph",
            "value": 0.2193940843683722,
            "variable": "ispS"
           },
           {
            "mets": "ppi",
            "value": 0.06915732241318834,
            "variable": "ispS"
           },
           {
            "mets": "pyr",
            "value": 0.010189289288663604,
            "variable": "ispS"
           },
           {
            "mets": "adp",
            "value": -0.0003394962370274061,
            "variable": "EX_isoprene"
           },
           {
            "mets": "atp",
            "value": 0.0034882039532667195,
            "variable": "EX_isoprene"
           },
           {
            "mets": "cdmep",
            "value": 0.002484806599236656,
            "variable": "EX_isoprene"
           },
           {
            "mets": "cdpmep",
            "value": 0.0016783867976325642,
            "variable": "EX_isoprene"
           },
           {
            "mets": "cmp",
            "value": -9.581734972753173e-05,
            "variable": "EX_isoprene"
           },
           {
            "mets": "ctp",
            "value": 0.0014356116983233343,
            "variable": "EX_isoprene"
           },
           {
            "mets": "dmpp",
            "value": 0.002953022419571861,
            "variable": "EX_isoprene"
           },
           {
            "mets": "dxp",
            "value": -0.0008228586530113569,
            "variable": "EX_isoprene"
           },
           {
            "mets": "dxp_ex",
            "value": 1.0444806928544678e-05,
            "variable": "EX_isoprene"
           },
           {
            "mets": "fld_ox",
            "value": -0.00917523341208349,
            "variable": "EX_isoprene"
           },
           {
            "mets": "fld_red",
            "value": 0.05952407143506391,
            "variable": "EX_isoprene"
           },
           {
            "mets": "g3p",
            "value": 0.0010144059286522622,
            "variable": "EX_isoprene"
           },
           {
            "mets": "hmbpp",
            "value": 0.0366163644774983,
            "variable": "EX_isoprene"
           },
           {
            "mets": "ipp",
            "value": 0.05749955585833155,
            "variable": "EX_isoprene"
           },
           {
            "mets": "iso",
            "value": -0.9811453387857735,
            "variable": "EX_isoprene"
           },
           {
            "mets": "mecpp",
            "value": 0.006583701010667995,
            "variable": "EX_isoprene"
           },
           {
            "mets": "mecpp_ex",
            "value": 0.00848589079964418,
            "variable": "EX_isoprene"
           },
           {
            "mets": "mep",
            "value": 0.002231983167532291,
            "variable": "EX_isoprene"
           },
           {
            "mets": "nadp",
            "value": -0.0008084702108266855,
            "variable": "EX_isoprene"
           },
           {
            "mets": "nadph",
            "value": 0.014359760117564182,
            "variable": "EX_isoprene"
           },
           {
            "mets": "ppi",
            "value": -0.0019605037445429366,
            "variable": "EX_isoprene"
           },
           {
            "mets": "pyr",
            "value": 0.0009711896023735307,
            "variable": "EX_isoprene"
           },
           {
            "mets": "adp",
            "value": -0.0032768953123384435,
            "variable": "biomass_drain"
           },
           {
            "mets": "atp",
            "value": 0.032260063911178354,
            "variable": "biomass_drain"
           },
           {
            "mets": "cdmep",
            "value": 0.01601998241479645,
            "variable": "biomass_drain"
           },
           {
            "mets": "cdpmep",
            "value": 0.011826761111282943,
            "variable": "biomass_drain"
           },
           {
            "mets": "cmp",
            "value": -0.000765182160258063,
            "variable": "biomass_drain"
           },
           {
            "mets": "ctp",
            "value": 0.02548950038531815,
            "variable": "biomass_drain"
           },
           {
            "mets": "dmpp",
            "value": 0.2059173486027593,
            "variable": "biomass_drain"
           },
           {
            "mets": "dxp",
            "value": -0.007216015085895205,
            "variable": "biomass_drain"
           },
           {
            "mets": "dxp_ex",
            "value": 9.21164139031661e-05,
            "variable": "biomass_drain"
           },
           {
            "mets": "fld_ox",
            "value": -0.07923323946554767,
            "variable": "biomass_drain"
           },
           {
            "mets": "fld_red",
            "value": 0.5061344576404858,
            "variable": "biomass_drain"
           },
           {
            "mets": "g3p",
            "value": 0.009226946973548124,
            "variable": "biomass_drain"
           },
           {
            "mets": "hmbpp",
            "value": 0.3129254426390631,
            "variable": "biomass_drain"
           },
           {
            "mets": "ipp",
            "value": -1.1252203168269352,
            "variable": "biomass_drain"
           },
           {
            "mets": "iso",
            "value": 0.03265702896481096,
            "variable": "biomass_drain"
           },
           {
            "mets": "mecpp",
            "value": 0.06244106531775723,
            "variable": "biomass_drain"
           },
           {
            "mets": "mecpp_ex",
            "value": 0.08230579277568671,
            "variable": "biomass_drain"
           },
           {
            "mets": "mep",
            "value": 0.030934157757467447,
            "variable": "biomass_drain"
           },
           {
            "mets": "nadp",
            "value": -0.00742333008309499,
            "variable": "biomass_drain"
           },
           {
            "mets": "nadph",
            "value": 0.13376543413222924,
            "variable": "biomass_drain"
           },
           {
            "mets": "ppi",
            "value": -0.0008104888445970091,
            "variable": "biomass_drain"
           },
           {
            "mets": "pyr",
            "value": 0.008972587321667584,
            "variable": "biomass_drain"
           }
          ]
         },
         "encoding": {
          "color": {
           "field": "value",
           "scale": {
            "domain": [
             1,
             -1
            ],
            "scheme": "redblue"
           },
           "type": "quantitative"
          },
          "tooltip": {
           "field": "value",
           "type": "quantitative"
          },
          "x": {
           "field": "variable",
           "type": "nominal"
          },
          "y": {
           "field": "mets",
           "type": "nominal"
          }
         },
         "height": 250,
         "mark": "rect",
         "width": 300
        },
        {
         "data": {
          "values": [
           {
            "mets": "adp",
            "value": 0.001764552740802673,
            "variable": "EX_dxp"
           },
           {
            "mets": "atp",
            "value": 0.008337061776918087,
            "variable": "EX_dxp"
           },
           {
            "mets": "cdmep",
            "value": 0.006325747270065793,
            "variable": "EX_dxp"
           },
           {
            "mets": "cdpmep",
            "value": 0.005601239600384632,
            "variable": "EX_dxp"
           },
           {
            "mets": "cmp",
            "value": 0.001086544045971435,
            "variable": "EX_dxp"
           },
           {
            "mets": "ctp",
            "value": 0.005486015953627413,
            "variable": "EX_dxp"
           },
           {
            "mets": "dmpp",
            "value": 0.0009441399342852917,
            "variable": "EX_dxp"
           },
           {
            "mets": "dxp",
            "value": 0.022025037753737358,
            "variable": "EX_dxp"
           },
           {
            "mets": "dxp_ex",
            "value": 0.0005073936410989059,
            "variable": "EX_dxp"
           },
           {
            "mets": "fld_ox",
            "value": 0.00031727067851136746,
            "variable": "EX_dxp"
           },
           {
            "mets": "fld_red",
            "value": 0.0015198228279346697,
            "variable": "EX_dxp"
           },
           {
            "mets": "g3p",
            "value": 0.03875465166597324,
            "variable": "EX_dxp"
           },
           {
            "mets": "hmbpp",
            "value": 0.001586248368943945,
            "variable": "EX_dxp"
           },
           {
            "mets": "ipp",
            "value": 0.0013960267239937546,
            "variable": "EX_dxp"
           },
           {
            "mets": "iso",
            "value": 0.0003229669892858807,
            "variable": "EX_dxp"
           },
           {
            "mets": "mecpp",
            "value": 0.00320366356427477,
            "variable": "EX_dxp"
           },
           {
            "mets": "mecpp_ex",
            "value": 0.005145109351533478,
            "variable": "EX_dxp"
           },
           {
            "mets": "mep",
            "value": 0.006529253054885372,
            "variable": "EX_dxp"
           },
           {
            "mets": "nadp",
            "value": 0.002160252017064241,
            "variable": "EX_dxp"
           },
           {
            "mets": "nadph",
            "value": 0.0004484280466117189,
            "variable": "EX_dxp"
           },
           {
            "mets": "ppi",
            "value": 0.002525249834495775,
            "variable": "EX_dxp"
           },
           {
            "mets": "pyr",
            "value": 0.041577750676198705,
            "variable": "EX_dxp"
           },
           {
            "mets": "adp",
            "value": 0.0018593796651025921,
            "variable": "EX_isoprene"
           },
           {
            "mets": "atp",
            "value": 0.008391026118959609,
            "variable": "EX_isoprene"
           },
           {
            "mets": "cdmep",
            "value": 0.006146477103267186,
            "variable": "EX_isoprene"
           },
           {
            "mets": "cdpmep",
            "value": 0.007090587286003934,
            "variable": "EX_isoprene"
           },
           {
            "mets": "cmp",
            "value": 0.0014959506434294926,
            "variable": "EX_isoprene"
           },
           {
            "mets": "ctp",
            "value": 0.0065153631730380515,
            "variable": "EX_isoprene"
           },
           {
            "mets": "dmpp",
            "value": 0.12156847813919555,
            "variable": "EX_isoprene"
           },
           {
            "mets": "dxp",
            "value": 0.0067704772128745795,
            "variable": "EX_isoprene"
           },
           {
            "mets": "dxp_ex",
            "value": 3.3386791522991005e-05,
            "variable": "EX_isoprene"
           },
           {
            "mets": "fld_ox",
            "value": 0.03358137742563585,
            "variable": "EX_isoprene"
           },
           {
            "mets": "fld_red",
            "value": 0.07824235204472532,
            "variable": "EX_isoprene"
           },
           {
            "mets": "g3p",
            "value": 0.0034744771346006285,
            "variable": "EX_isoprene"
           },
           {
            "mets": "hmbpp",
            "value": 0.0650152410149774,
            "variable": "EX_isoprene"
           },
           {
            "mets": "ipp",
            "value": 0.06552965452107853,
            "variable": "EX_isoprene"
           },
           {
            "mets": "iso",
            "value": 0.026583612856314387,
            "variable": "EX_isoprene"
           },
           {
            "mets": "mecpp",
            "value": 0.021378683245577033,
            "variable": "EX_isoprene"
           },
           {
            "mets": "mecpp_ex",
            "value": 0.02987750361744171,
            "variable": "EX_isoprene"
           },
           {
            "mets": "mep",
            "value": 0.006982542290601432,
            "variable": "EX_isoprene"
           },
           {
            "mets": "nadp",
            "value": 0.0027281941484298355,
            "variable": "EX_isoprene"
           },
           {
            "mets": "nadph",
            "value": 0.021532065209541297,
            "variable": "EX_isoprene"
           },
           {
            "mets": "ppi",
            "value": 0.008433701173749378,
            "variable": "EX_isoprene"
           },
           {
            "mets": "pyr",
            "value": 0.0032818363501225657,
            "variable": "EX_isoprene"
           },
           {
            "mets": "adp",
            "value": 0.031730133664591494,
            "variable": "EX_mecpp"
           },
           {
            "mets": "atp",
            "value": 0.12944941672277288,
            "variable": "EX_mecpp"
           },
           {
            "mets": "cdmep",
            "value": 0.08565779770335152,
            "variable": "EX_mecpp"
           },
           {
            "mets": "cdpmep",
            "value": 0.1135892955678077,
            "variable": "EX_mecpp"
           },
           {
            "mets": "cmp",
            "value": 0.010850194607949708,
            "variable": "EX_mecpp"
           },
           {
            "mets": "ctp",
            "value": 0.12209671490091385,
            "variable": "EX_mecpp"
           },
           {
            "mets": "dmpp",
            "value": 0.1334951548636023,
            "variable": "EX_mecpp"
           },
           {
            "mets": "dxp",
            "value": 0.27732454992105926,
            "variable": "EX_mecpp"
           },
           {
            "mets": "dxp_ex",
            "value": 0.0008041104592567688,
            "variable": "EX_mecpp"
           },
           {
            "mets": "fld_ox",
            "value": 0.11975224430726898,
            "variable": "EX_mecpp"
           },
           {
            "mets": "fld_red",
            "value": 0.4133864975781113,
            "variable": "EX_mecpp"
           },
           {
            "mets": "g3p",
            "value": 0.08285315730698488,
            "variable": "EX_mecpp"
           },
           {
            "mets": "hmbpp",
            "value": 0.3433183023184202,
            "variable": "EX_mecpp"
           },
           {
            "mets": "ipp",
            "value": 0.19993710447523608,
            "variable": "EX_mecpp"
           },
           {
            "mets": "iso",
            "value": 0.040240579544031506,
            "variable": "EX_mecpp"
           },
           {
            "mets": "mecpp",
            "value": 0.511463523114198,
            "variable": "EX_mecpp"
           },
           {
            "mets": "mecpp_ex",
            "value": 0.770138053298812,
            "variable": "EX_mecpp"
           },
           {
            "mets": "mep",
            "value": 0.08961717933426211,
            "variable": "EX_mecpp"
           },
           {
            "mets": "nadp",
            "value": 0.05858494942315141,
            "variable": "EX_mecpp"
           },
           {
            "mets": "nadph",
            "value": 0.03495846997554836,
            "variable": "EX_mecpp"
           },
           {
            "mets": "ppi",
            "value": 0.050215599097110646,
            "variable": "EX_mecpp"
           },
           {
            "mets": "pyr",
            "value": 0.07939555615313067,
            "variable": "EX_mecpp"
           },
           {
            "mets": "adp",
            "value": 0.015328807278579468,
            "variable": "biomass_drain"
           },
           {
            "mets": "atp",
            "value": 0.06621956841254821,
            "variable": "biomass_drain"
           },
           {
            "mets": "cdmep",
            "value": 0.045400454254104,
            "variable": "biomass_drain"
           },
           {
            "mets": "cdpmep",
            "value": 0.05447532392849172,
            "variable": "biomass_drain"
           },
           {
            "mets": "cmp",
            "value": 0.01252472177169321,
            "variable": "biomass_drain"
           },
           {
            "mets": "ctp",
            "value": 0.052787500862265496,
            "variable": "biomass_drain"
           },
           {
            "mets": "dmpp",
            "value": 0.4884610450722709,
            "variable": "biomass_drain"
           },
           {
            "mets": "dxp",
            "value": 0.057316163835418425,
            "variable": "biomass_drain"
           },
           {
            "mets": "dxp_ex",
            "value": 0.0002563134514454714,
            "variable": "biomass_drain"
           },
           {
            "mets": "fld_ox",
            "value": 0.2696700222562486,
            "variable": "biomass_drain"
           },
           {
            "mets": "fld_red",
            "value": 0.3757749108162469,
            "variable": "biomass_drain"
           },
           {
            "mets": "g3p",
            "value": 0.02925532026958882,
            "variable": "biomass_drain"
           },
           {
            "mets": "hmbpp",
            "value": 0.46513098529487257,
            "variable": "biomass_drain"
           },
           {
            "mets": "ipp",
            "value": 0.5827161199603961,
            "variable": "biomass_drain"
           },
           {
            "mets": "iso",
            "value": 0.11919886072629315,
            "variable": "biomass_drain"
           },
           {
            "mets": "mecpp",
            "value": 0.18557998855204663,
            "variable": "biomass_drain"
           },
           {
            "mets": "mecpp_ex",
            "value": 0.2523761541757327,
            "variable": "biomass_drain"
           },
           {
            "mets": "mep",
            "value": 0.05550983055802158,
            "variable": "biomass_drain"
           },
           {
            "mets": "nadp",
            "value": 0.021245898761041344,
            "variable": "biomass_drain"
           },
           {
            "mets": "nadph",
            "value": 0.10779631774183117,
            "variable": "biomass_drain"
           },
           {
            "mets": "ppi",
            "value": 0.05745056349530765,
            "variable": "biomass_drain"
           },
           {
            "mets": "pyr",
            "value": 0.028469761126348813,
            "variable": "biomass_drain"
           },
           {
            "mets": "adp",
            "value": 0.3276393140952058,
            "variable": "dxr"
           },
           {
            "mets": "atp",
            "value": 1.0535665549597337,
            "variable": "dxr"
           },
           {
            "mets": "cdmep",
            "value": 0.8266317962605129,
            "variable": "dxr"
           },
           {
            "mets": "cdpmep",
            "value": 0.9237657852995736,
            "variable": "dxr"
           },
           {
            "mets": "cmp",
            "value": 0.2830506884341574,
            "variable": "dxr"
           },
           {
            "mets": "ctp",
            "value": 0.6727571709922777,
            "variable": "dxr"
           },
           {
            "mets": "dmpp",
            "value": 0.11788288025290905,
            "variable": "dxr"
           },
           {
            "mets": "dxp",
            "value": 2.3591113546127955,
            "variable": "dxr"
           },
           {
            "mets": "dxp_ex",
            "value": 0.006209625177758908,
            "variable": "dxr"
           },
           {
            "mets": "fld_ox",
            "value": 0.06938505783204006,
            "variable": "dxr"
           },
           {
            "mets": "fld_red",
            "value": 0.31310052422393264,
            "variable": "dxr"
           },
           {
            "mets": "g3p",
            "value": 0.732500711042434,
            "variable": "dxr"
           },
           {
            "mets": "hmbpp",
            "value": 0.20581852806934176,
            "variable": "dxr"
           },
           {
            "mets": "ipp",
            "value": 0.15663326447252446,
            "variable": "dxr"
           },
           {
            "mets": "iso",
            "value": 0.03066881288888927,
            "variable": "dxr"
           },
           {
            "mets": "mecpp",
            "value": 0.4937129767995613,
            "variable": "dxr"
           },
           {
            "mets": "mecpp_ex",
            "value": 0.701591855454931,
            "variable": "dxr"
           },
           {
            "mets": "mep",
            "value": 0.838555450629928,
            "variable": "dxr"
           },
           {
            "mets": "nadp",
            "value": 0.4230797326007358,
            "variable": "dxr"
           },
           {
            "mets": "nadph",
            "value": 0.06035282506163324,
            "variable": "dxr"
           },
           {
            "mets": "ppi",
            "value": 0.3191863831607577,
            "variable": "dxr"
           },
           {
            "mets": "pyr",
            "value": 0.6500410632101745,
            "variable": "dxr"
           },
           {
            "mets": "adp",
            "value": 0.0251989621388181,
            "variable": "dxs"
           },
           {
            "mets": "atp",
            "value": 0.11905867090715647,
            "variable": "dxs"
           },
           {
            "mets": "cdmep",
            "value": 0.09033579006859818,
            "variable": "dxs"
           },
           {
            "mets": "cdpmep",
            "value": 0.07998934877760337,
            "variable": "dxs"
           },
           {
            "mets": "cmp",
            "value": 0.015516556486794326,
            "variable": "dxs"
           },
           {
            "mets": "ctp",
            "value": 0.0783438800732727,
            "variable": "dxs"
           },
           {
            "mets": "dmpp",
            "value": 0.013482933044539597,
            "variable": "dxs"
           },
           {
            "mets": "dxp",
            "value": 0.3145318808719771,
            "variable": "dxs"
           },
           {
            "mets": "dxp_ex",
            "value": 0.007245911587608482,
            "variable": "dxs"
           },
           {
            "mets": "fld_ox",
            "value": 0.004530831882037313,
            "variable": "dxs"
           },
           {
            "mets": "fld_red",
            "value": 0.021704059625566048,
            "variable": "dxs"
           },
           {
            "mets": "g3p",
            "value": 0.5534416611371488,
            "variable": "dxs"
           },
           {
            "mets": "hmbpp",
            "value": 0.022652659604607658,
            "variable": "dxs"
           },
           {
            "mets": "ipp",
            "value": 0.019936170650640146,
            "variable": "dxs"
           },
           {
            "mets": "iso",
            "value": 0.0046121789090877,
            "variable": "dxs"
           },
           {
            "mets": "mecpp",
            "value": 0.045750401784504534,
            "variable": "dxs"
           },
           {
            "mets": "mecpp_ex",
            "value": 0.07347551181178878,
            "variable": "dxs"
           },
           {
            "mets": "mep",
            "value": 0.09324198518995591,
            "variable": "dxs"
           },
           {
            "mets": "nadp",
            "value": 0.03084980546602701,
            "variable": "dxs"
           },
           {
            "mets": "nadph",
            "value": 0.00640384450249567,
            "variable": "dxs"
           },
           {
            "mets": "ppi",
            "value": 0.036062211969685634,
            "variable": "dxs"
           },
           {
            "mets": "pyr",
            "value": 0.5937573532827118,
            "variable": "dxs"
           },
           {
            "mets": "adp",
            "value": 0.04590777127978679,
            "variable": "fpr"
           },
           {
            "mets": "atp",
            "value": 0.22283159370331035,
            "variable": "fpr"
           },
           {
            "mets": "cdmep",
            "value": 0.1540505428603637,
            "variable": "fpr"
           },
           {
            "mets": "cdpmep",
            "value": 0.14307278521531352,
            "variable": "fpr"
           },
           {
            "mets": "cmp",
            "value": 0.03591185979357103,
            "variable": "fpr"
           },
           {
            "mets": "ctp",
            "value": 0.1216088676108397,
            "variable": "fpr"
           },
           {
            "mets": "dmpp",
            "value": 0.04886855974917631,
            "variable": "fpr"
           },
           {
            "mets": "dxp",
            "value": 0.3537645966324847,
            "variable": "fpr"
           },
           {
            "mets": "dxp_ex",
            "value": 0.0009219056261981847,
            "variable": "fpr"
           },
           {
            "mets": "fld_ox",
            "value": 0.025515345241804765,
            "variable": "fpr"
           },
           {
            "mets": "fld_red",
            "value": 0.08214962144657252,
            "variable": "fpr"
           },
           {
            "mets": "g3p",
            "value": 0.10665410533441175,
            "variable": "fpr"
           },
           {
            "mets": "hmbpp",
            "value": 0.04769757135993967,
            "variable": "fpr"
           },
           {
            "mets": "ipp",
            "value": 0.06986362738241776,
            "variable": "fpr"
           },
           {
            "mets": "iso",
            "value": 0.01682325493368442,
            "variable": "fpr"
           },
           {
            "mets": "mecpp",
            "value": 0.08944665755277682,
            "variable": "fpr"
           },
           {
            "mets": "mecpp_ex",
            "value": 0.15586180197348354,
            "variable": "fpr"
           },
           {
            "mets": "mep",
            "value": 0.23216565277862727,
            "variable": "fpr"
           },
           {
            "mets": "nadp",
            "value": 0.13441524682163017,
            "variable": "fpr"
           },
           {
            "mets": "nadph",
            "value": 0.13368864440550987,
            "variable": "fpr"
           },
           {
            "mets": "ppi",
            "value": 0.05163157957303392,
            "variable": "fpr"
           },
           {
            "mets": "pyr",
            "value": 0.09717925643624689,
            "variable": "fpr"
           },
           {
            "mets": "adp",
            "value": 0.00797448652917895,
            "variable": "idi"
           },
           {
            "mets": "atp",
            "value": 0.03504469030156086,
            "variable": "idi"
           },
           {
            "mets": "cdmep",
            "value": 0.02808878854853677,
            "variable": "idi"
           },
           {
            "mets": "cdpmep",
            "value": 0.030322940274813318,
            "variable": "idi"
           },
           {
            "mets": "cmp",
            "value": 0.006790990205486512,
            "variable": "idi"
           },
           {
            "mets": "ctp",
            "value": 0.024302950535918924,
            "variable": "idi"
           },
           {
            "mets": "dmpp",
            "value": 0.38830576050197096,
            "variable": "idi"
           },
           {
            "mets": "dxp",
            "value": 0.026557615096626068,
            "variable": "idi"
           },
           {
            "mets": "dxp_ex",
            "value": 0.00014270805813031517,
            "variable": "idi"
           },
           {
            "mets": "fld_ox",
            "value": 0.14137682835585758,
            "variable": "idi"
           },
           {
            "mets": "fld_red",
            "value": 0.2900011709392042,
            "variable": "idi"
           },
           {
            "mets": "g3p",
            "value": 0.01655563155662424,
            "variable": "idi"
           },
           {
            "mets": "hmbpp",
            "value": 0.2775535710823802,
            "variable": "idi"
           },
           {
            "mets": "ipp",
            "value": 0.5030157799901316,
            "variable": "idi"
           },
           {
            "mets": "iso",
            "value": 0.10810526909050569,
            "variable": "idi"
           },
           {
            "mets": "mecpp",
            "value": 0.09867011081324607,
            "variable": "idi"
           },
           {
            "mets": "mecpp_ex",
            "value": 0.12880311595761973,
            "variable": "idi"
           },
           {
            "mets": "mep",
            "value": 0.02818106381728244,
            "variable": "idi"
           },
           {
            "mets": "nadp",
            "value": 0.01088595551864132,
            "variable": "idi"
           },
           {
            "mets": "nadph",
            "value": 0.08687600697237105,
            "variable": "idi"
           },
           {
            "mets": "ppi",
            "value": 0.03141406697411764,
            "variable": "idi"
           },
           {
            "mets": "pyr",
            "value": 0.014672209552700207,
            "variable": "idi"
           },
           {
            "mets": "adp",
            "value": 0.02117741562095668,
            "variable": "ispD"
           },
           {
            "mets": "atp",
            "value": 0.17172414145110876,
            "variable": "ispD"
           },
           {
            "mets": "cdmep",
            "value": 0.3764058045566758,
            "variable": "ispD"
           },
           {
            "mets": "cdpmep",
            "value": 0.26335929703885375,
            "variable": "ispD"
           },
           {
            "mets": "cmp",
            "value": 0.05090126690983191,
            "variable": "ispD"
           },
           {
            "mets": "ctp",
            "value": 0.6606213171818472,
            "variable": "ispD"
           },
           {
            "mets": "dmpp",
            "value": 0.06333551838957793,
            "variable": "ispD"
           },
           {
            "mets": "dxp",
            "value": 0.2311432519478916,
            "variable": "ispD"
           },
           {
            "mets": "dxp_ex",
            "value": 0.0008852767333725017,
            "variable": "ispD"
           },
           {
            "mets": "fld_ox",
            "value": 0.010520307239378695,
            "variable": "ispD"
           },
           {
            "mets": "fld_red",
            "value": 0.05507129871095165,
            "variable": "ispD"
           },
           {
            "mets": "g3p",
            "value": 0.09834184512648021,
            "variable": "ispD"
           },
           {
            "mets": "hmbpp",
            "value": 0.041505272539900946,
            "variable": "ispD"
           },
           {
            "mets": "ipp",
            "value": 0.03898999215278665,
            "variable": "ispD"
           },
           {
            "mets": "iso",
            "value": 0.008362456787750213,
            "variable": "ispD"
           },
           {
            "mets": "mecpp",
            "value": 0.07468614196385709,
            "variable": "ispD"
           },
           {
            "mets": "mecpp_ex",
            "value": 0.12004330491007106,
            "variable": "ispD"
           },
           {
            "mets": "mep",
            "value": 0.5019361053159774,
            "variable": "ispD"
           },
           {
            "mets": "nadp",
            "value": 0.03371271219915771,
            "variable": "ispD"
           },
           {
            "mets": "nadph",
            "value": 0.011104129627062035,
            "variable": "ispD"
           },
           {
            "mets": "ppi",
            "value": 0.3760669181407357,
            "variable": "ispD"
           },
           {
            "mets": "pyr",
            "value": 0.0870546101582971,
            "variable": "ispD"
           },
           {
            "mets": "adp",
            "value": 0.5014369024507331,
            "variable": "ispE"
           },
           {
            "mets": "atp",
            "value": 0.9908704299397819,
            "variable": "ispE"
           },
           {
            "mets": "cdmep",
            "value": 0.8592361736180889,
            "variable": "ispE"
           },
           {
            "mets": "cdpmep",
            "value": 0.3963239960871684,
            "variable": "ispE"
           },
           {
            "mets": "cmp",
            "value": 0.04562668279860389,
            "variable": "ispE"
           },
           {
            "mets": "ctp",
            "value": 0.2926963556727675,
            "variable": "ispE"
           },
           {
            "mets": "dmpp",
            "value": 0.062062123498854864,
            "variable": "ispE"
           },
           {
            "mets": "dxp",
            "value": 0.6850492191299599,
            "variable": "ispE"
           },
           {
            "mets": "dxp_ex",
            "value": 0.0023202956820955207,
            "variable": "ispE"
           },
           {
            "mets": "fld_ox",
            "value": 0.01532561736567549,
            "variable": "ispE"
           },
           {
            "mets": "fld_red",
            "value": 0.07085774679039716,
            "variable": "ispE"
           },
           {
            "mets": "g3p",
            "value": 0.24987577411451192,
            "variable": "ispE"
           },
           {
            "mets": "hmbpp",
            "value": 0.09393616661795934,
            "variable": "ispE"
           },
           {
            "mets": "ipp",
            "value": 0.08965248473303347,
            "variable": "ispE"
           },
           {
            "mets": "iso",
            "value": 0.02060139315808441,
            "variable": "ispE"
           },
           {
            "mets": "mecpp",
            "value": 0.17167551042039267,
            "variable": "ispE"
           },
           {
            "mets": "mecpp_ex",
            "value": 0.21500696487256474,
            "variable": "ispE"
           },
           {
            "mets": "mep",
            "value": 0.3491704929253723,
            "variable": "ispE"
           },
           {
            "mets": "nadp",
            "value": 0.13249605280021398,
            "variable": "ispE"
           },
           {
            "mets": "nadph",
            "value": 0.025589509762863796,
            "variable": "ispE"
           },
           {
            "mets": "ppi",
            "value": 0.13357993043650113,
            "variable": "ispE"
           },
           {
            "mets": "pyr",
            "value": 0.22153296660872202,
            "variable": "ispE"
           },
           {
            "mets": "adp",
            "value": 0.018451295598483724,
            "variable": "ispF"
           },
           {
            "mets": "atp",
            "value": 0.15416577010637278,
            "variable": "ispF"
           },
           {
            "mets": "cdmep",
            "value": 0.13586537880054758,
            "variable": "ispF"
           },
           {
            "mets": "cdpmep",
            "value": 1.2582021692409007,
            "variable": "ispF"
           },
           {
            "mets": "cmp",
            "value": 0.43153333088511486,
            "variable": "ispF"
           },
           {
            "mets": "ctp",
            "value": 0.24597503396377346,
            "variable": "ispF"
           },
           {
            "mets": "dmpp",
            "value": 0.04328424271506032,
            "variable": "ispF"
           },
           {
            "mets": "dxp",
            "value": 0.28478830444920633,
            "variable": "ispF"
           },
           {
            "mets": "dxp_ex",
            "value": 0.001339902054596565,
            "variable": "ispF"
           },
           {
            "mets": "fld_ox",
            "value": 0.00868517072671485,
            "variable": "ispF"
           },
           {
            "mets": "fld_red",
            "value": 0.049146520371270375,
            "variable": "ispF"
           },
           {
            "mets": "g3p",
            "value": 0.14157861527563362,
            "variable": "ispF"
           },
           {
            "mets": "hmbpp",
            "value": 0.09704942507032199,
            "variable": "ispF"
           },
           {
            "mets": "ipp",
            "value": 0.07091954079408136,
            "variable": "ispF"
           },
           {
            "mets": "iso",
            "value": 0.017672235750669892,
            "variable": "ispF"
           },
           {
            "mets": "mecpp",
            "value": 0.21428519309767866,
            "variable": "ispF"
           },
           {
            "mets": "mecpp_ex",
            "value": 0.09096146497906746,
            "variable": "ispF"
           },
           {
            "mets": "mep",
            "value": 0.2097475100975623,
            "variable": "ispF"
           },
           {
            "mets": "nadp",
            "value": 0.03938275477055378,
            "variable": "ispF"
           },
           {
            "mets": "nadph",
            "value": 0.017530936755570315,
            "variable": "ispF"
           },
           {
            "mets": "ppi",
            "value": 0.13830784461273293,
            "variable": "ispF"
           },
           {
            "mets": "pyr",
            "value": 0.12102075960440199,
            "variable": "ispF"
           },
           {
            "mets": "adp",
            "value": 0.028088759824977383,
            "variable": "ispG"
           },
           {
            "mets": "atp",
            "value": 0.15732102676663118,
            "variable": "ispG"
           },
           {
            "mets": "cdmep",
            "value": 0.09362787409826923,
            "variable": "ispG"
           },
           {
            "mets": "cdpmep",
            "value": 0.20082026093920527,
            "variable": "ispG"
           },
           {
            "mets": "cmp",
            "value": 0.03315876846732942,
            "variable": "ispG"
           },
           {
            "mets": "ctp",
            "value": 0.17222262854467318,
            "variable": "ispG"
           },
           {
            "mets": "dmpp",
            "value": 0.6334496251669608,
            "variable": "ispG"
           },
           {
            "mets": "dxp",
            "value": 0.27472531001240846,
            "variable": "ispG"
           },
           {
            "mets": "dxp_ex",
            "value": 0.0007812952506006658,
            "variable": "ispG"
           },
           {
            "mets": "fld_ox",
            "value": 0.6935295465241499,
            "variable": "ispG"
           },
           {
            "mets": "fld_red",
            "value": 1.6021074163969125,
            "variable": "ispG"
           },
           {
            "mets": "g3p",
            "value": 0.07766005718178776,
            "variable": "ispG"
           },
           {
            "mets": "hmbpp",
            "value": 1.5977866666210934,
            "variable": "ispG"
           },
           {
            "mets": "ipp",
            "value": 0.9317094834946634,
            "variable": "ispG"
           },
           {
            "mets": "iso",
            "value": 0.20780602635702178,
            "variable": "ispG"
           },
           {
            "mets": "mecpp",
            "value": 1.2471208874130615,
            "variable": "ispG"
           },
           {
            "mets": "mecpp_ex",
            "value": 1.6622371240188487,
            "variable": "ispG"
           },
           {
            "mets": "mep",
            "value": 0.10983063180752292,
            "variable": "ispG"
           },
           {
            "mets": "nadp",
            "value": 0.05444494158243199,
            "variable": "ispG"
           },
           {
            "mets": "nadph",
            "value": 0.15257295497028164,
            "variable": "ispG"
           },
           {
            "mets": "ppi",
            "value": 0.13140994656983532,
            "variable": "ispG"
           },
           {
            "mets": "pyr",
            "value": 0.07406599323479876,
            "variable": "ispG"
           },
           {
            "mets": "adp",
            "value": 0.033105232003715436,
            "variable": "ispH"
           },
           {
            "mets": "atp",
            "value": 0.14753374858625024,
            "variable": "ispH"
           },
           {
            "mets": "cdmep",
            "value": 0.12657218346121873,
            "variable": "ispH"
           },
           {
            "mets": "cdpmep",
            "value": 0.16300818107028073,
            "variable": "ispH"
           },
           {
            "mets": "cmp",
            "value": 0.03588317345103495,
            "variable": "ispH"
           },
           {
            "mets": "ctp",
            "value": 0.09287629151146806,
            "variable": "ispH"
           },
           {
            "mets": "dmpp",
            "value": 1.068241132113646,
            "variable": "ispH"
           },
           {
            "mets": "dxp",
            "value": 0.12074221684954664,
            "variable": "ispH"
           },
           {
            "mets": "dxp_ex",
            "value": 0.0006506796101263866,
            "variable": "ispH"
           },
           {
            "mets": "fld_ox",
            "value": 0.7746266992732778,
            "variable": "ispH"
           },
           {
            "mets": "fld_red",
            "value": 1.7542714108850197,
            "variable": "ispH"
           },
           {
            "mets": "g3p",
            "value": 0.07312467882604198,
            "variable": "ispH"
           },
           {
            "mets": "hmbpp",
            "value": 1.9183393560206634,
            "variable": "ispH"
           },
           {
            "mets": "ipp",
            "value": 1.6445979668039437,
            "variable": "ispH"
           },
           {
            "mets": "iso",
            "value": 0.37488576513851163,
            "variable": "ispH"
           },
           {
            "mets": "mecpp",
            "value": 0.6821561178291293,
            "variable": "ispH"
           },
           {
            "mets": "mecpp_ex",
            "value": 0.9905524598186903,
            "variable": "ispH"
           },
           {
            "mets": "mep",
            "value": 0.09089373006664665,
            "variable": "ispH"
           },
           {
            "mets": "nadp",
            "value": 0.04157006532137387,
            "variable": "ispH"
           },
           {
            "mets": "nadph",
            "value": 0.2767955711128473,
            "variable": "ispH"
           },
           {
            "mets": "ppi",
            "value": 0.28627688973877885,
            "variable": "ispH"
           },
           {
            "mets": "pyr",
            "value": 0.06605986767249783,
            "variable": "ispH"
           },
           {
            "mets": "adp",
            "value": 0.025170831578304402,
            "variable": "ispS"
           },
           {
            "mets": "atp",
            "value": 0.11710987480909893,
            "variable": "ispS"
           },
           {
            "mets": "cdmep",
            "value": 0.07800700323185177,
            "variable": "ispS"
           },
           {
            "mets": "cdpmep",
            "value": 0.10165319261571272,
            "variable": "ispS"
           },
           {
            "mets": "cmp",
            "value": 0.01778426663897729,
            "variable": "ispS"
           },
           {
            "mets": "ctp",
            "value": 0.16125750583081688,
            "variable": "ispS"
           },
           {
            "mets": "dmpp",
            "value": 1.0205512678073947,
            "variable": "ispS"
           },
           {
            "mets": "dxp",
            "value": 0.1014629503369592,
            "variable": "ispS"
           },
           {
            "mets": "dxp_ex",
            "value": 0.00043470834558444855,
            "variable": "ispS"
           },
           {
            "mets": "fld_ox",
            "value": 0.43730970159641147,
            "variable": "ispS"
           },
           {
            "mets": "fld_red",
            "value": 1.046628664197017,
            "variable": "ispS"
           },
           {
            "mets": "g3p",
            "value": 0.04756979581795526,
            "variable": "ispS"
           },
           {
            "mets": "hmbpp",
            "value": 0.8867131247222189,
            "variable": "ispS"
           },
           {
            "mets": "ipp",
            "value": 0.9693812108897581,
            "variable": "ispS"
           },
           {
            "mets": "iso",
            "value": 0.3645782873040904,
            "variable": "ispS"
           },
           {
            "mets": "mecpp",
            "value": 0.3087841805333806,
            "variable": "ispS"
           },
           {
            "mets": "mecpp_ex",
            "value": 0.42344062725930365,
            "variable": "ispS"
           },
           {
            "mets": "mep",
            "value": 0.15663758078662096,
            "variable": "ispS"
           },
           {
            "mets": "nadp",
            "value": 0.0393405051565223,
            "variable": "ispS"
           },
           {
            "mets": "nadph",
            "value": 0.2820011306672796,
            "variable": "ispS"
           },
           {
            "mets": "ppi",
            "value": 0.5011551636931928,
            "variable": "ispS"
           },
           {
            "mets": "pyr",
            "value": 0.04615485824316111,
            "variable": "ispS"
           }
          ]
         },
         "encoding": {
          "color": {
           "field": "value",
           "scale": {
            "domain": [
             1,
             -1
            ],
            "scheme": "redblue"
           },
           "type": "quantitative"
          },
          "tooltip": {
           "field": "value",
           "type": "quantitative"
          },
          "x": {
           "field": "variable",
           "type": "nominal"
          },
          "y": {
           "field": "mets",
           "type": "nominal"
          }
         },
         "height": 250,
         "mark": "rect",
         "width": 300
        }
       ]
      },
      "image/png": "[encoded data removed]",
      "text/plain": [
       "<VegaLite 2 object>\n",
       "\n",
       "If you see this message, it means the renderer has not been properly enabled\n",
       "for the frontend that you are using. For more information, see\n",
       "https://altair-viz.github.io/user_guide/troubleshooting.html\n"
      ]
     },
     "execution_count": 21,
     "metadata": {},
     "output_type": "execute_result"
    }
   ],
   "source": [
    "alt.hconcat(get_heatmaps(Cx_df_median, 'mets'),\n",
    "            get_heatmaps(Cx_df_iqr, 'mets'))"
   ]
  },
  {
   "cell_type": "code",
   "execution_count": null,
   "metadata": {},
   "outputs": [],
   "source": []
  }
 ],
 "metadata": {
  "kernelspec": {
   "display_name": "Python 3",
   "language": "python",
   "name": "python3"
  },
  "language_info": {
   "codemirror_mode": {
    "name": "ipython",
    "version": 3
   },
   "file_extension": ".py",
   "mimetype": "text/x-python",
   "name": "python",
   "nbconvert_exporter": "python",
   "pygments_lexer": "ipython3",
   "version": "3.6.5"
  }
 },
 "nbformat": 4,
 "nbformat_minor": 2
}
