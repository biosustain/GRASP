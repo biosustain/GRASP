{
 "cells": [
  {
   "cell_type": "code",
   "execution_count": 1,
   "metadata": {},
   "outputs": [
    {
     "data": {
      "text/plain": [
       "DataTransformerRegistry.enable('default')"
      ]
     },
     "execution_count": 1,
     "metadata": {},
     "output_type": "execute_result"
    }
   ],
   "source": [
    "import pandas as pd\n",
    "import altair as alt\n",
    "import numpy as np\n",
    "import scipy.io\n",
    "import seaborn as sns\n",
    "alt.data_transformers.enable('default', max_rows=None)"
   ]
  },
  {
   "cell_type": "code",
   "execution_count": 7,
   "metadata": {},
   "outputs": [],
   "source": [
    "base_dir = '/home/mrama/GRASP_test/GRASP/output_test/'\n",
    "n_models = 10000\n",
    "\n",
    "file_in_MCA = ''.join([base_dir, 'MCA_MEP_test.mat']) \n",
    "file_in_mets = ''.join([base_dir, 'MEP_test_metsActive.dat']) \n",
    "file_in_rxns = ''.join([base_dir, 'MEP_test_rxnsActive.dat']) \n",
    "file_in_enzs = ''.join([base_dir, 'MEP_test_enzNames.dat']) \n"
   ]
  },
  {
   "cell_type": "code",
   "execution_count": 23,
   "metadata": {},
   "outputs": [],
   "source": [
    "def get_name_list(file_in):\n",
    "    \n",
    "    name_list = []\n",
    "    with open(file_in, 'r') as f_in:\n",
    "        line = f_in.readline()\n",
    "        line = f_in.readline()\n",
    "        while line:          \n",
    "            name_list.append(line[2:].strip())\n",
    "            line = f_in.readline()\n",
    "\n",
    "    return name_list\n",
    "\n",
    "rxn_names = get_name_list(file_in_rxns)\n",
    "enz_names = get_name_list(file_in_enzs)\n",
    "met_names = get_name_list(file_in_mets)\n"
   ]
  },
  {
   "cell_type": "code",
   "execution_count": 24,
   "metadata": {},
   "outputs": [
    {
     "ename": "ValueError",
     "evalue": "Length of values does not match length of index",
     "output_type": "error",
     "traceback": [
      "\u001b[0;31m---------------------------------------------------------------------------\u001b[0m",
      "\u001b[0;31mValueError\u001b[0m                                Traceback (most recent call last)",
      "\u001b[0;32m<ipython-input-24-a5b4fb7dda1a>\u001b[0m in \u001b[0;36m<module>\u001b[0;34m()\u001b[0m\n\u001b[1;32m     40\u001b[0m \u001b[0mcol_names\u001b[0m \u001b[0;34m=\u001b[0m \u001b[0mrxn_names\u001b[0m\u001b[0;34m\u001b[0m\u001b[0m\n\u001b[1;32m     41\u001b[0m \u001b[0mrow_names\u001b[0m \u001b[0;34m=\u001b[0m \u001b[0mrxn_names\u001b[0m\u001b[0;34m\u001b[0m\u001b[0m\n\u001b[0;32m---> 42\u001b[0;31m \u001b[0mCv_df_median\u001b[0m \u001b[0;34m=\u001b[0m \u001b[0mget_df_median\u001b[0m\u001b[0;34m(\u001b[0m\u001b[0mmat\u001b[0m\u001b[0;34m,\u001b[0m \u001b[0mkey_name\u001b[0m\u001b[0;34m,\u001b[0m \u001b[0mid_col\u001b[0m\u001b[0;34m,\u001b[0m \u001b[0mcol_names\u001b[0m\u001b[0;34m,\u001b[0m \u001b[0mrow_names\u001b[0m\u001b[0;34m,\u001b[0m \u001b[0mn_models\u001b[0m\u001b[0;34m)\u001b[0m\u001b[0;34m\u001b[0m\u001b[0m\n\u001b[0m\u001b[1;32m     43\u001b[0m \u001b[0mCv_df_iqr\u001b[0m \u001b[0;34m=\u001b[0m \u001b[0mget_df_iqr\u001b[0m\u001b[0;34m(\u001b[0m\u001b[0mmat\u001b[0m\u001b[0;34m,\u001b[0m \u001b[0mkey_name\u001b[0m\u001b[0;34m,\u001b[0m \u001b[0mid_col\u001b[0m\u001b[0;34m,\u001b[0m \u001b[0mcol_names\u001b[0m\u001b[0;34m,\u001b[0m \u001b[0mrow_names\u001b[0m\u001b[0;34m,\u001b[0m \u001b[0mn_models\u001b[0m\u001b[0;34m)\u001b[0m\u001b[0;34m\u001b[0m\u001b[0m\n\u001b[1;32m     44\u001b[0m \u001b[0;34m\u001b[0m\u001b[0m\n",
      "\u001b[0;32m<ipython-input-24-a5b4fb7dda1a>\u001b[0m in \u001b[0;36mget_df_median\u001b[0;34m(mat, key_name, id_col, col_names, row_names, n_models)\u001b[0m\n\u001b[1;32m      8\u001b[0m         \u001b[0mdf\u001b[0m\u001b[0;34m.\u001b[0m\u001b[0mcolumns\u001b[0m \u001b[0;34m=\u001b[0m \u001b[0mcol_names\u001b[0m\u001b[0;34m\u001b[0m\u001b[0m\n\u001b[1;32m      9\u001b[0m \u001b[0;34m\u001b[0m\u001b[0m\n\u001b[0;32m---> 10\u001b[0;31m     \u001b[0mdf\u001b[0m\u001b[0;34m[\u001b[0m\u001b[0mid_col\u001b[0m\u001b[0;34m]\u001b[0m \u001b[0;34m=\u001b[0m \u001b[0mnp\u001b[0m\u001b[0;34m.\u001b[0m\u001b[0mtile\u001b[0m\u001b[0;34m(\u001b[0m\u001b[0mrow_names\u001b[0m\u001b[0;34m,\u001b[0m \u001b[0mn_models\u001b[0m\u001b[0;34m)\u001b[0m\u001b[0;34m\u001b[0m\u001b[0m\n\u001b[0m\u001b[1;32m     11\u001b[0m     \u001b[0mdf_median\u001b[0m \u001b[0;34m=\u001b[0m \u001b[0mdf\u001b[0m\u001b[0;34m.\u001b[0m\u001b[0mgroupby\u001b[0m\u001b[0;34m(\u001b[0m\u001b[0mid_col\u001b[0m\u001b[0;34m)\u001b[0m\u001b[0;34m.\u001b[0m\u001b[0mmedian\u001b[0m\u001b[0;34m(\u001b[0m\u001b[0;34m)\u001b[0m\u001b[0;34m\u001b[0m\u001b[0m\n\u001b[1;32m     12\u001b[0m \u001b[0;34m\u001b[0m\u001b[0m\n",
      "\u001b[0;32m~/miniconda3/envs/HMPpy/lib/python3.6/site-packages/pandas/core/frame.py\u001b[0m in \u001b[0;36m__setitem__\u001b[0;34m(self, key, value)\u001b[0m\n\u001b[1;32m   3114\u001b[0m         \u001b[0;32melse\u001b[0m\u001b[0;34m:\u001b[0m\u001b[0;34m\u001b[0m\u001b[0m\n\u001b[1;32m   3115\u001b[0m             \u001b[0;31m# set column\u001b[0m\u001b[0;34m\u001b[0m\u001b[0;34m\u001b[0m\u001b[0m\n\u001b[0;32m-> 3116\u001b[0;31m             \u001b[0mself\u001b[0m\u001b[0;34m.\u001b[0m\u001b[0m_set_item\u001b[0m\u001b[0;34m(\u001b[0m\u001b[0mkey\u001b[0m\u001b[0;34m,\u001b[0m \u001b[0mvalue\u001b[0m\u001b[0;34m)\u001b[0m\u001b[0;34m\u001b[0m\u001b[0m\n\u001b[0m\u001b[1;32m   3117\u001b[0m \u001b[0;34m\u001b[0m\u001b[0m\n\u001b[1;32m   3118\u001b[0m     \u001b[0;32mdef\u001b[0m \u001b[0m_setitem_slice\u001b[0m\u001b[0;34m(\u001b[0m\u001b[0mself\u001b[0m\u001b[0;34m,\u001b[0m \u001b[0mkey\u001b[0m\u001b[0;34m,\u001b[0m \u001b[0mvalue\u001b[0m\u001b[0;34m)\u001b[0m\u001b[0;34m:\u001b[0m\u001b[0;34m\u001b[0m\u001b[0m\n",
      "\u001b[0;32m~/miniconda3/envs/HMPpy/lib/python3.6/site-packages/pandas/core/frame.py\u001b[0m in \u001b[0;36m_set_item\u001b[0;34m(self, key, value)\u001b[0m\n\u001b[1;32m   3189\u001b[0m \u001b[0;34m\u001b[0m\u001b[0m\n\u001b[1;32m   3190\u001b[0m         \u001b[0mself\u001b[0m\u001b[0;34m.\u001b[0m\u001b[0m_ensure_valid_index\u001b[0m\u001b[0;34m(\u001b[0m\u001b[0mvalue\u001b[0m\u001b[0;34m)\u001b[0m\u001b[0;34m\u001b[0m\u001b[0m\n\u001b[0;32m-> 3191\u001b[0;31m         \u001b[0mvalue\u001b[0m \u001b[0;34m=\u001b[0m \u001b[0mself\u001b[0m\u001b[0;34m.\u001b[0m\u001b[0m_sanitize_column\u001b[0m\u001b[0;34m(\u001b[0m\u001b[0mkey\u001b[0m\u001b[0;34m,\u001b[0m \u001b[0mvalue\u001b[0m\u001b[0;34m)\u001b[0m\u001b[0;34m\u001b[0m\u001b[0m\n\u001b[0m\u001b[1;32m   3192\u001b[0m         \u001b[0mNDFrame\u001b[0m\u001b[0;34m.\u001b[0m\u001b[0m_set_item\u001b[0m\u001b[0;34m(\u001b[0m\u001b[0mself\u001b[0m\u001b[0;34m,\u001b[0m \u001b[0mkey\u001b[0m\u001b[0;34m,\u001b[0m \u001b[0mvalue\u001b[0m\u001b[0;34m)\u001b[0m\u001b[0;34m\u001b[0m\u001b[0m\n\u001b[1;32m   3193\u001b[0m \u001b[0;34m\u001b[0m\u001b[0m\n",
      "\u001b[0;32m~/miniconda3/envs/HMPpy/lib/python3.6/site-packages/pandas/core/frame.py\u001b[0m in \u001b[0;36m_sanitize_column\u001b[0;34m(self, key, value, broadcast)\u001b[0m\n\u001b[1;32m   3386\u001b[0m \u001b[0;34m\u001b[0m\u001b[0m\n\u001b[1;32m   3387\u001b[0m             \u001b[0;31m# turn me into an ndarray\u001b[0m\u001b[0;34m\u001b[0m\u001b[0;34m\u001b[0m\u001b[0m\n\u001b[0;32m-> 3388\u001b[0;31m             \u001b[0mvalue\u001b[0m \u001b[0;34m=\u001b[0m \u001b[0m_sanitize_index\u001b[0m\u001b[0;34m(\u001b[0m\u001b[0mvalue\u001b[0m\u001b[0;34m,\u001b[0m \u001b[0mself\u001b[0m\u001b[0;34m.\u001b[0m\u001b[0mindex\u001b[0m\u001b[0;34m,\u001b[0m \u001b[0mcopy\u001b[0m\u001b[0;34m=\u001b[0m\u001b[0;32mFalse\u001b[0m\u001b[0;34m)\u001b[0m\u001b[0;34m\u001b[0m\u001b[0m\n\u001b[0m\u001b[1;32m   3389\u001b[0m             \u001b[0;32mif\u001b[0m \u001b[0;32mnot\u001b[0m \u001b[0misinstance\u001b[0m\u001b[0;34m(\u001b[0m\u001b[0mvalue\u001b[0m\u001b[0;34m,\u001b[0m \u001b[0;34m(\u001b[0m\u001b[0mnp\u001b[0m\u001b[0;34m.\u001b[0m\u001b[0mndarray\u001b[0m\u001b[0;34m,\u001b[0m \u001b[0mIndex\u001b[0m\u001b[0;34m)\u001b[0m\u001b[0;34m)\u001b[0m\u001b[0;34m:\u001b[0m\u001b[0;34m\u001b[0m\u001b[0m\n\u001b[1;32m   3390\u001b[0m                 \u001b[0;32mif\u001b[0m \u001b[0misinstance\u001b[0m\u001b[0;34m(\u001b[0m\u001b[0mvalue\u001b[0m\u001b[0;34m,\u001b[0m \u001b[0mlist\u001b[0m\u001b[0;34m)\u001b[0m \u001b[0;32mand\u001b[0m \u001b[0mlen\u001b[0m\u001b[0;34m(\u001b[0m\u001b[0mvalue\u001b[0m\u001b[0;34m)\u001b[0m \u001b[0;34m>\u001b[0m \u001b[0;36m0\u001b[0m\u001b[0;34m:\u001b[0m\u001b[0;34m\u001b[0m\u001b[0m\n",
      "\u001b[0;32m~/miniconda3/envs/HMPpy/lib/python3.6/site-packages/pandas/core/series.py\u001b[0m in \u001b[0;36m_sanitize_index\u001b[0;34m(data, index, copy)\u001b[0m\n\u001b[1;32m   3996\u001b[0m \u001b[0;34m\u001b[0m\u001b[0m\n\u001b[1;32m   3997\u001b[0m     \u001b[0;32mif\u001b[0m \u001b[0mlen\u001b[0m\u001b[0;34m(\u001b[0m\u001b[0mdata\u001b[0m\u001b[0;34m)\u001b[0m \u001b[0;34m!=\u001b[0m \u001b[0mlen\u001b[0m\u001b[0;34m(\u001b[0m\u001b[0mindex\u001b[0m\u001b[0;34m)\u001b[0m\u001b[0;34m:\u001b[0m\u001b[0;34m\u001b[0m\u001b[0m\n\u001b[0;32m-> 3998\u001b[0;31m         \u001b[0;32mraise\u001b[0m \u001b[0mValueError\u001b[0m\u001b[0;34m(\u001b[0m\u001b[0;34m'Length of values does not match length of '\u001b[0m \u001b[0;34m'index'\u001b[0m\u001b[0;34m)\u001b[0m\u001b[0;34m\u001b[0m\u001b[0m\n\u001b[0m\u001b[1;32m   3999\u001b[0m \u001b[0;34m\u001b[0m\u001b[0m\n\u001b[1;32m   4000\u001b[0m     \u001b[0;32mif\u001b[0m \u001b[0misinstance\u001b[0m\u001b[0;34m(\u001b[0m\u001b[0mdata\u001b[0m\u001b[0;34m,\u001b[0m \u001b[0mABCIndexClass\u001b[0m\u001b[0;34m)\u001b[0m \u001b[0;32mand\u001b[0m \u001b[0;32mnot\u001b[0m \u001b[0mcopy\u001b[0m\u001b[0;34m:\u001b[0m\u001b[0;34m\u001b[0m\u001b[0m\n",
      "\u001b[0;31mValueError\u001b[0m: Length of values does not match length of index"
     ]
    }
   ],
   "source": [
    "def get_df_median(mat, key_name, id_col, col_names, row_names, n_models):\n",
    "    \n",
    "    try:\n",
    "        df = pd.DataFrame(data=mat['mcaResults'][key_name].item())\n",
    "        df.columns = col_names\n",
    "    except ValueError:\n",
    "        df = pd.DataFrame(data=mat['mcaResults'][key_name].item()[0])\n",
    "        df.columns = col_names\n",
    "        \n",
    "    df[id_col] = np.tile(row_names, n_models)\n",
    "    df_median = df.groupby(id_col).median()\n",
    "    \n",
    "    return df_median\n",
    "\n",
    "\n",
    "def get_df_iqr(mat, key_name, id_col, col_names, row_names, n_models):\n",
    "    \n",
    "    try:\n",
    "        df = pd.DataFrame(data=mat['mcaResults'][key_name].item())\n",
    "        df.columns = col_names\n",
    "    except ValueError:\n",
    "        df = pd.DataFrame(data=mat['mcaResults'][key_name].item()[0])\n",
    "        df.columns = col_names\n",
    "\n",
    "    df[id_col] = np.tile(row_names, n_models)\n",
    "   \n",
    "    df_q2 = df.groupby(id_col).quantile(0.25)\n",
    "    df_q4 = df.groupby(id_col).quantile(0.75)\n",
    "    \n",
    "    df_iqr = df_q4.subtract(df_q2)    \n",
    "\n",
    "    return df_iqr\n",
    "\n",
    "\n",
    "\n",
    "mat = scipy.io.loadmat(file_in_MCA, squeeze_me=True)\n",
    "\n",
    "key_name = 'vControl'\n",
    "id_col = 'rxns'\n",
    "col_names = rxn_names\n",
    "row_names = rxn_names\n",
    "Cv_df_median = get_df_median(mat, key_name, id_col, col_names, row_names, n_models)\n",
    "Cv_df_iqr = get_df_iqr(mat, key_name, id_col, col_names, row_names, n_models)\n",
    "\n",
    "key_name = 'xControl'\n",
    "id_col = 'mets'\n",
    "col_names = rxn_names\n",
    "row_names = met_names\n",
    "Cv_df_median = get_df_median(mat, key_name, id_col, col_names, row_names, n_models)\n",
    "Cv_df_iqr = get_df_iqr(mat, key_name, id_col, col_names, row_names, n_models)\n",
    "    \n"
   ]
  },
  {
   "cell_type": "code",
   "execution_count": 30,
   "metadata": {},
   "outputs": [],
   "source": [
    "def get_heatmaps(C_df_in, id_col):\n",
    "    \n",
    "    C_df = C_df_in\n",
    "    \n",
    "    C_df[id_col] = C_df.index\n",
    "    C_df = C_df.melt(id_vars=[id_col], var_name='variable')\n",
    "    \n",
    "    Cx_in = alt.Chart(C_df).mark_rect().encode(\n",
    "        x='variable:N',\n",
    "        y=id_col,\n",
    "        color=alt.Color('value:Q', scale=alt.Scale(scheme='redblue', domain=[-1,1])),\n",
    "        tooltip='value:Q'\n",
    "    ).properties(\n",
    "        width=300,\n",
    "        height=250\n",
    "    )\n",
    "\n",
    "    return Cx_in "
   ]
  },
  {
   "cell_type": "code",
   "execution_count": 34,
   "metadata": {},
   "outputs": [
    {
     "name": "stdout",
     "output_type": "stream",
     "text": [
      "/home/mrama/GRASP_test/GRASP/output_HMP/MCA_HMP2360_r0_t0.mat\n"
     ]
    },
    {
     "data": {
      "application/vnd.vegalite.v2+json": {
       "$schema": "https://vega.github.io/schema/vega-lite/v2.4.3.json",
       "config": {
        "view": {
         "height": 300,
         "width": 400
        }
       },
       "hconcat": [
        {
         "vconcat": [
          {
           "data": {
            "values": [
             {
              "rxns": "AANAT",
              "value": 0.4112395817384503,
              "variable": "TPH"
             },
             {
              "rxns": "AANAT_tryptm",
              "value": -1.0371185078990748,
              "variable": "TPH"
             },
             {
              "rxns": "ASMT",
              "value": 0.41132077558687363,
              "variable": "TPH"
             },
             {
              "rxns": "DDC",
              "value": 0.9416326968109885,
              "variable": "TPH"
             },
             {
              "rxns": "DDC_tryptm",
              "value": -1.0371185078980203,
              "variable": "TPH"
             },
             {
              "rxns": "EX_fivehtp",
              "value": -0.0026721965734749437,
              "variable": "TPH"
             },
             {
              "rxns": "EX_meltn",
              "value": 0.4113207755868736,
              "variable": "TPH"
             },
             {
              "rxns": "EX_nactryptm",
              "value": -1.037118507899045,
              "variable": "TPH"
             },
             {
              "rxns": "EX_nactsertn",
              "value": -0.0036919365517191207,
              "variable": "TPH"
             },
             {
              "rxns": "EX_srtn",
              "value": 2.4632291007613545,
              "variable": "TPH"
             },
             {
              "rxns": "EX_trp",
              "value": 1.4582888480935918,
              "variable": "TPH"
             },
             {
              "rxns": "IN_trp",
              "value": 0.07731624527691376,
              "variable": "TPH"
             },
             {
              "rxns": "TPH",
              "value": 0.9464025100449452,
              "variable": "TPH"
             },
             {
              "rxns": "AANAT",
              "value": 0.01760528578265603,
              "variable": "DDC"
             },
             {
              "rxns": "AANAT_tryptm",
              "value": 0.41534434448407537,
              "variable": "DDC"
             },
             {
              "rxns": "ASMT",
              "value": 0.01758426566391957,
              "variable": "DDC"
             },
             {
              "rxns": "DDC",
              "value": 0.0022782500383782267,
              "variable": "DDC"
             },
             {
              "rxns": "DDC_tryptm",
              "value": 0.41534434448365287,
              "variable": "DDC"
             },
             {
              "rxns": "EX_fivehtp",
              "value": 0.005274841782071056,
              "variable": "DDC"
             },
             {
              "rxns": "EX_meltn",
              "value": 0.017584265663919556,
              "variable": "DDC"
             },
             {
              "rxns": "EX_nactryptm",
              "value": 0.4153443444840639,
              "variable": "DDC"
             },
             {
              "rxns": "EX_nactsertn",
              "value": -0.00012931406496145768,
              "variable": "DDC"
             },
             {
              "rxns": "EX_srtn",
              "value": 0.004413479400655105,
              "variable": "DDC"
             },
             {
              "rxns": "EX_trp",
              "value": 0.004496886263441856,
              "variable": "DDC"
             },
             {
              "rxns": "IN_trp",
              "value": 0.00027371798544378585,
              "variable": "DDC"
             },
             {
              "rxns": "TPH",
              "value": 0.0017581810931782606,
              "variable": "DDC"
             },
             {
              "rxns": "AANAT",
              "value": 0.3059057683664289,
              "variable": "AANAT"
             },
             {
              "rxns": "AANAT_tryptm",
              "value": 0.003485188000217706,
              "variable": "AANAT"
             },
             {
              "rxns": "ASMT",
              "value": 0.30602932673216365,
              "variable": "AANAT"
             },
             {
              "rxns": "DDC",
              "value": 2.5018290924842466e-06,
              "variable": "AANAT"
             },
             {
              "rxns": "DDC_tryptm",
              "value": 0.0034851880002099173,
              "variable": "AANAT"
             },
             {
              "rxns": "EX_fivehtp",
              "value": 7.456189531788097e-06,
              "variable": "AANAT"
             },
             {
              "rxns": "EX_meltn",
              "value": 0.3060293267321639,
              "variable": "AANAT"
             },
             {
              "rxns": "EX_nactryptm",
              "value": 0.003485188000213492,
              "variable": "AANAT"
             },
             {
              "rxns": "EX_nactsertn",
              "value": -0.002637718726327989,
              "variable": "AANAT"
             },
             {
              "rxns": "EX_srtn",
              "value": -0.9027422279692521,
              "variable": "AANAT"
             },
             {
              "rxns": "EX_trp",
              "value": 2.0381630262249512e-05,
              "variable": "AANAT"
             },
             {
              "rxns": "IN_trp",
              "value": 8.506629811809949e-07,
              "variable": "AANAT"
             },
             {
              "rxns": "TPH",
              "value": 1.4387736875234075e-06,
              "variable": "AANAT"
             },
             {
              "rxns": "AANAT",
              "value": 0.21260423364458286,
              "variable": "ASMT"
             },
             {
              "rxns": "AANAT_tryptm",
              "value": 0.01481806957420877,
              "variable": "ASMT"
             },
             {
              "rxns": "ASMT",
              "value": 0.2138741688649401,
              "variable": "ASMT"
             },
             {
              "rxns": "DDC",
              "value": 1.5103903076106143e-05,
              "variable": "ASMT"
             },
             {
              "rxns": "DDC_tryptm",
              "value": 0.014818069574194168,
              "variable": "ASMT"
             },
             {
              "rxns": "EX_fivehtp",
              "value": 4.185251965409553e-05,
              "variable": "ASMT"
             },
             {
              "rxns": "EX_meltn",
              "value": 0.2138741688649406,
              "variable": "ASMT"
             },
             {
              "rxns": "EX_nactryptm",
              "value": 0.0148180695742097,
              "variable": "ASMT"
             },
             {
              "rxns": "EX_nactsertn",
              "value": 0.008164499349414099,
              "variable": "ASMT"
             },
             {
              "rxns": "EX_srtn",
              "value": -0.624938249648836,
              "variable": "ASMT"
             },
             {
              "rxns": "EX_trp",
              "value": 7.783933652260356e-05,
              "variable": "ASMT"
             },
             {
              "rxns": "IN_trp",
              "value": 4.276976675064482e-06,
              "variable": "ASMT"
             },
             {
              "rxns": "TPH",
              "value": 1.091529164162827e-05,
              "variable": "ASMT"
             },
             {
              "rxns": "AANAT",
              "value": 0.013956184616830175,
              "variable": "DDC_tryptm"
             },
             {
              "rxns": "AANAT_tryptm",
              "value": 0.9973353856883516,
              "variable": "DDC_tryptm"
             },
             {
              "rxns": "ASMT",
              "value": 0.013994117032649505,
              "variable": "DDC_tryptm"
             },
             {
              "rxns": "DDC",
              "value": -5.2413154467001474e-05,
              "variable": "DDC_tryptm"
             },
             {
              "rxns": "DDC_tryptm",
              "value": 0.9973353856873494,
              "variable": "DDC_tryptm"
             },
             {
              "rxns": "EX_fivehtp",
              "value": -8.372704885657006e-07,
              "variable": "DDC_tryptm"
             },
             {
              "rxns": "EX_meltn",
              "value": 0.013994117032649522,
              "variable": "DDC_tryptm"
             },
             {
              "rxns": "EX_nactryptm",
              "value": 0.9973353856883372,
              "variable": "DDC_tryptm"
             },
             {
              "rxns": "EX_nactsertn",
              "value": -6.15527863411664e-05,
              "variable": "DDC_tryptm"
             },
             {
              "rxns": "EX_srtn",
              "value": -0.04415747039114086,
              "variable": "DDC_tryptm"
             },
             {
              "rxns": "EX_trp",
              "value": 0.0015173691799739656,
              "variable": "DDC_tryptm"
             },
             {
              "rxns": "IN_trp",
              "value": 7.182912372878398e-05,
              "variable": "DDC_tryptm"
             },
             {
              "rxns": "TPH",
              "value": -4.767531912839526e-05,
              "variable": "DDC_tryptm"
             },
             {
              "rxns": "AANAT",
              "value": 0.009221756739186225,
              "variable": "AANAT_tryptm"
             },
             {
              "rxns": "AANAT_tryptm",
              "value": 0.02257189926825731,
              "variable": "AANAT_tryptm"
             },
             {
              "rxns": "ASMT",
              "value": 0.009268602489763493,
              "variable": "AANAT_tryptm"
             },
             {
              "rxns": "DDC",
              "value": 1.8856036797269706e-05,
              "variable": "AANAT_tryptm"
             },
             {
              "rxns": "DDC_tryptm",
              "value": 0.022571899268234375,
              "variable": "AANAT_tryptm"
             },
             {
              "rxns": "EX_fivehtp",
              "value": 4.8525072932818924e-05,
              "variable": "AANAT_tryptm"
             },
             {
              "rxns": "EX_meltn",
              "value": 0.009268602489763415,
              "variable": "AANAT_tryptm"
             },
             {
              "rxns": "EX_nactryptm",
              "value": 0.0225718992682568,
              "variable": "AANAT_tryptm"
             },
             {
              "rxns": "EX_nactsertn",
              "value": -4.237164264685727e-05,
              "variable": "AANAT_tryptm"
             },
             {
              "rxns": "EX_srtn",
              "value": -0.023793460381252556,
              "variable": "AANAT_tryptm"
             },
             {
              "rxns": "EX_trp",
              "value": 0.00010915386476731318,
              "variable": "AANAT_tryptm"
             },
             {
              "rxns": "IN_trp",
              "value": 5.657431762376021e-06,
              "variable": "AANAT_tryptm"
             },
             {
              "rxns": "TPH",
              "value": 1.266627881295845e-05,
              "variable": "AANAT_tryptm"
             },
             {
              "rxns": "AANAT",
              "value": 0.010387681048862434,
              "variable": "IN_trp"
             },
             {
              "rxns": "AANAT_tryptm",
              "value": 0.12726063963314446,
              "variable": "IN_trp"
             },
             {
              "rxns": "ASMT",
              "value": 0.010411112421638096,
              "variable": "IN_trp"
             },
             {
              "rxns": "DDC",
              "value": 0.008431671741780082,
              "variable": "IN_trp"
             },
             {
              "rxns": "DDC_tryptm",
              "value": 0.1272606396330148,
              "variable": "IN_trp"
             },
             {
              "rxns": "EX_fivehtp",
              "value": -0.0005197542923514784,
              "variable": "IN_trp"
             },
             {
              "rxns": "EX_meltn",
              "value": 0.010411112421639095,
              "variable": "IN_trp"
             },
             {
              "rxns": "EX_nactryptm",
              "value": 0.12726063963314094,
              "variable": "IN_trp"
             },
             {
              "rxns": "EX_nactsertn",
              "value": -3.6654685214459986e-05,
              "variable": "IN_trp"
             },
             {
              "rxns": "EX_srtn",
              "value": 0.0041339021284215825,
              "variable": "IN_trp"
             },
             {
              "rxns": "EX_trp",
              "value": -0.5979927816647356,
              "variable": "IN_trp"
             },
             {
              "rxns": "IN_trp",
              "value": 0.9682725720685448,
              "variable": "IN_trp"
             },
             {
              "rxns": "TPH",
              "value": 0.008472172623929568,
              "variable": "IN_trp"
             },
             {
              "rxns": "AANAT",
              "value": 0.01604760893642094,
              "variable": "EX_trp"
             },
             {
              "rxns": "AANAT_tryptm",
              "value": 0.19660104774348408,
              "variable": "EX_trp"
             },
             {
              "rxns": "ASMT",
              "value": 0.01608380734349353,
              "variable": "EX_trp"
             },
             {
              "rxns": "DDC",
              "value": 0.013025830323041696,
              "variable": "EX_trp"
             },
             {
              "rxns": "DDC_tryptm",
              "value": 0.19660104774328377,
              "variable": "EX_trp"
             },
             {
              "rxns": "EX_fivehtp",
              "value": -0.00080295241906721,
              "variable": "EX_trp"
             },
             {
              "rxns": "EX_meltn",
              "value": 0.016083807343495075,
              "variable": "EX_trp"
             },
             {
              "rxns": "EX_nactryptm",
              "value": 0.1966010477434787,
              "variable": "EX_trp"
             },
             {
              "rxns": "EX_nactsertn",
              "value": -5.662669572182135e-05,
              "variable": "EX_trp"
             },
             {
              "rxns": "EX_srtn",
              "value": 0.006386338242991435,
              "variable": "EX_trp"
             },
             {
              "rxns": "EX_trp",
              "value": 0.0761793453401125,
              "variable": "EX_trp"
             },
             {
              "rxns": "IN_trp",
              "value": -0.049014727503423686,
              "variable": "EX_trp"
             },
             {
              "rxns": "TPH",
              "value": 0.013088398890102763,
              "variable": "EX_trp"
             },
             {
              "rxns": "AANAT",
              "value": -0.12903498917429332,
              "variable": "EX_srtn"
             },
             {
              "rxns": "AANAT_tryptm",
              "value": 0.012898709127994538,
              "variable": "EX_srtn"
             },
             {
              "rxns": "ASMT",
              "value": -0.12910274404130484,
              "variable": "EX_srtn"
             },
             {
              "rxns": "DDC",
              "value": 1.2807474753734871e-05,
              "variable": "EX_srtn"
             },
             {
              "rxns": "DDC_tryptm",
              "value": 0.01289870912798131,
              "variable": "EX_srtn"
             },
             {
              "rxns": "EX_fivehtp",
              "value": 3.336301175902654e-05,
              "variable": "EX_srtn"
             },
             {
              "rxns": "EX_meltn",
              "value": -0.1291027440413045,
              "variable": "EX_srtn"
             },
             {
              "rxns": "EX_nactryptm",
              "value": 0.01289870912799404,
              "variable": "EX_srtn"
             },
             {
              "rxns": "EX_nactsertn",
              "value": 0.0016736975236970105,
              "variable": "EX_srtn"
             },
             {
              "rxns": "EX_srtn",
              "value": 0.3850323115756614,
              "variable": "EX_srtn"
             },
             {
              "rxns": "EX_trp",
              "value": 6.578656169676416e-05,
              "variable": "EX_srtn"
             },
             {
              "rxns": "IN_trp",
              "value": 3.4516938673893923e-06,
              "variable": "EX_srtn"
             },
             {
              "rxns": "TPH",
              "value": 8.564054806726365e-06,
              "variable": "EX_srtn"
             },
             {
              "rxns": "AANAT",
              "value": 0.00200635541769863,
              "variable": "EX_fivehtp"
             },
             {
              "rxns": "AANAT_tryptm",
              "value": -0.002551974454663714,
              "variable": "EX_fivehtp"
             },
             {
              "rxns": "ASMT",
              "value": 0.002005156808333815,
              "variable": "EX_fivehtp"
             },
             {
              "rxns": "DDC",
              "value": 0.00446128423151196,
              "variable": "EX_fivehtp"
             },
             {
              "rxns": "DDC_tryptm",
              "value": -0.002551974454661092,
              "variable": "EX_fivehtp"
             },
             {
              "rxns": "EX_fivehtp",
              "value": 0.9999750320273885,
              "variable": "EX_fivehtp"
             },
             {
              "rxns": "EX_meltn",
              "value": 0.002005156808333768,
              "variable": "EX_fivehtp"
             },
             {
              "rxns": "EX_nactryptm",
              "value": -0.0025519744546636074,
              "variable": "EX_fivehtp"
             },
             {
              "rxns": "EX_nactsertn",
              "value": -2.001194208630021e-05,
              "variable": "EX_fivehtp"
             },
             {
              "rxns": "EX_srtn",
              "value": 0.011067648093216234,
              "variable": "EX_fivehtp"
             },
             {
              "rxns": "EX_trp",
              "value": -2.220518509841597e-05,
              "variable": "EX_fivehtp"
             },
             {
              "rxns": "IN_trp",
              "value": -1.4458290644324291e-06,
              "variable": "EX_fivehtp"
             },
             {
              "rxns": "TPH",
              "value": -8.312412377459153e-06,
              "variable": "EX_fivehtp"
             },
             {
              "rxns": "AANAT",
              "value": 0.00023798531927104598,
              "variable": "EX_nactsertn"
             },
             {
              "rxns": "AANAT_tryptm",
              "value": 2.4324149429545807e-05,
              "variable": "EX_nactsertn"
             },
             {
              "rxns": "ASMT",
              "value": -0.0006196050286808241,
              "variable": "EX_nactsertn"
             },
             {
              "rxns": "DDC",
              "value": 2.58497585442286e-08,
              "variable": "EX_nactsertn"
             },
             {
              "rxns": "DDC_tryptm",
              "value": 2.4324149429521538e-05,
              "variable": "EX_nactsertn"
             },
             {
              "rxns": "EX_fivehtp",
              "value": 6.556890778824383e-08,
              "variable": "EX_nactsertn"
             },
             {
              "rxns": "EX_meltn",
              "value": -0.0006196050286808236,
              "variable": "EX_nactsertn"
             },
             {
              "rxns": "EX_nactryptm",
              "value": 2.4324149429545675e-05,
              "variable": "EX_nactsertn"
             },
             {
              "rxns": "EX_nactsertn",
              "value": 1.000007393240038,
              "variable": "EX_nactsertn"
             },
             {
              "rxns": "EX_srtn",
              "value": -0.0006995429060513043,
              "variable": "EX_nactsertn"
             },
             {
              "rxns": "EX_trp",
              "value": 1.2120758479180297e-07,
              "variable": "EX_nactsertn"
             },
             {
              "rxns": "IN_trp",
              "value": 6.75039490264879e-09,
              "variable": "EX_nactsertn"
             },
             {
              "rxns": "TPH",
              "value": 1.8551946346585205e-08,
              "variable": "EX_nactsertn"
             },
             {
              "rxns": "AANAT",
              "value": 0.04891208308479484,
              "variable": "EX_meltn"
             },
             {
              "rxns": "AANAT_tryptm",
              "value": 0.007310345217792363,
              "variable": "EX_meltn"
             },
             {
              "rxns": "ASMT",
              "value": 0.04893566906101116,
              "variable": "EX_meltn"
             },
             {
              "rxns": "DDC",
              "value": 7.1736141727068104e-06,
              "variable": "EX_meltn"
             },
             {
              "rxns": "DDC_tryptm",
              "value": 0.007310345217784698,
              "variable": "EX_meltn"
             },
             {
              "rxns": "EX_fivehtp",
              "value": 1.7372166406251235e-05,
              "variable": "EX_meltn"
             },
             {
              "rxns": "EX_meltn",
              "value": 0.048935669061011045,
              "variable": "EX_meltn"
             },
             {
              "rxns": "EX_nactryptm",
              "value": 0.007310345217792052,
              "variable": "EX_meltn"
             },
             {
              "rxns": "EX_nactsertn",
              "value": 5.886386134943543e-06,
              "variable": "EX_meltn"
             },
             {
              "rxns": "EX_srtn",
              "value": -0.14418242396580255,
              "variable": "EX_meltn"
             },
             {
              "rxns": "EX_trp",
              "value": 3.501909275360149e-05,
              "variable": "EX_meltn"
             },
             {
              "rxns": "IN_trp",
              "value": 1.967985351928542e-06,
              "variable": "EX_meltn"
             },
             {
              "rxns": "TPH",
              "value": 4.923200391825211e-06,
              "variable": "EX_meltn"
             },
             {
              "rxns": "AANAT",
              "value": -0.01422619564410147,
              "variable": "EX_nactryptm"
             },
             {
              "rxns": "AANAT_tryptm",
              "value": -0.008077634590022087,
              "variable": "EX_nactryptm"
             },
             {
              "rxns": "ASMT",
              "value": -0.014193028318177646,
              "variable": "EX_nactryptm"
             },
             {
              "rxns": "DDC",
              "value": -3.266273886734641e-06,
              "variable": "EX_nactryptm"
             },
             {
              "rxns": "DDC_tryptm",
              "value": -0.00807763459001336,
              "variable": "EX_nactryptm"
             },
             {
              "rxns": "EX_fivehtp",
              "value": -1.2503988912292155e-05,
              "variable": "EX_nactryptm"
             },
             {
              "rxns": "EX_meltn",
              "value": -0.014193028318177635,
              "variable": "EX_nactryptm"
             },
             {
              "rxns": "EX_nactryptm",
              "value": -0.008077634590022198,
              "variable": "EX_nactryptm"
             },
             {
              "rxns": "EX_nactsertn",
              "value": 8.88840674599215e-05,
              "variable": "EX_nactryptm"
             },
             {
              "rxns": "EX_srtn",
              "value": 0.04006426899168813,
              "variable": "EX_nactryptm"
             },
             {
              "rxns": "EX_trp",
              "value": -3.945173667343787e-05,
              "variable": "EX_nactryptm"
             },
             {
              "rxns": "IN_trp",
              "value": -1.6554644771594405e-06,
              "variable": "EX_nactryptm"
             },
             {
              "rxns": "TPH",
              "value": -1.6754805694637544e-06,
              "variable": "EX_nactryptm"
             }
            ]
           },
           "encoding": {
            "color": {
             "field": "value",
             "scale": {
              "domain": [
               -1,
               1
              ],
              "scheme": "redblue"
             },
             "type": "quantitative"
            },
            "tooltip": {
             "field": "value",
             "type": "quantitative"
            },
            "x": {
             "field": "variable",
             "type": "nominal"
            },
            "y": {
             "field": "rxns",
             "type": "nominal"
            }
           },
           "height": 250,
           "mark": "rect",
           "width": 300
          },
          {
           "data": {
            "values": [
             {
              "rxn": "AANAT",
              "value": 0.2660637025200991,
              "variable": "AANAT"
             },
             {
              "rxn": "AANAT_tryptm",
              "value": 0.04601644034244495,
              "variable": "AANAT"
             },
             {
              "rxn": "ASMT",
              "value": 0.26576334749328745,
              "variable": "AANAT"
             },
             {
              "rxn": "DDC",
              "value": 0.00010749576044011326,
              "variable": "AANAT"
             },
             {
              "rxn": "DDC_tryptm",
              "value": 0.04601644034239776,
              "variable": "AANAT"
             },
             {
              "rxn": "EX_fivehtp",
              "value": 0.00021544230790774082,
              "variable": "AANAT"
             },
             {
              "rxn": "EX_meltn",
              "value": 0.265763347493288,
              "variable": "AANAT"
             },
             {
              "rxn": "EX_nactryptm",
              "value": 0.04601644034244397,
              "variable": "AANAT"
             },
             {
              "rxn": "EX_nactsertn",
              "value": 0.06626167975527064,
              "variable": "AANAT"
             },
             {
              "rxn": "EX_srtn",
              "value": 0.7820548937279985,
              "variable": "AANAT"
             },
             {
              "rxn": "EX_trp",
              "value": 0.0003021644583682448,
              "variable": "AANAT"
             },
             {
              "rxn": "IN_trp",
              "value": 1.7890795557502742e-05,
              "variable": "AANAT"
             },
             {
              "rxn": "TPH",
              "value": 9.269884640302683e-05,
              "variable": "AANAT"
             },
             {
              "rxn": "AANAT",
              "value": 0.04968435701734886,
              "variable": "AANAT_tryptm"
             },
             {
              "rxn": "AANAT_tryptm",
              "value": 0.10051970579883168,
              "variable": "AANAT_tryptm"
             },
             {
              "rxn": "ASMT",
              "value": 0.04976706688967075,
              "variable": "AANAT_tryptm"
             },
             {
              "rxn": "DDC",
              "value": 0.00034692791431186295,
              "variable": "AANAT_tryptm"
             },
             {
              "rxn": "DDC_tryptm",
              "value": 0.10051970579873015,
              "variable": "AANAT_tryptm"
             },
             {
              "rxn": "EX_fivehtp",
              "value": 0.0005744293944142463,
              "variable": "AANAT_tryptm"
             },
             {
              "rxn": "EX_meltn",
              "value": 0.04976706688967071,
              "variable": "AANAT_tryptm"
             },
             {
              "rxn": "EX_nactryptm",
              "value": 0.10051970579883036,
              "variable": "AANAT_tryptm"
             },
             {
              "rxn": "EX_nactsertn",
              "value": 0.005677930052987222,
              "variable": "AANAT_tryptm"
             },
             {
              "rxn": "EX_srtn",
              "value": 0.1438984407073669,
              "variable": "AANAT_tryptm"
             },
             {
              "rxn": "EX_trp",
              "value": 0.0007440741333636764,
              "variable": "AANAT_tryptm"
             },
             {
              "rxn": "IN_trp",
              "value": 5.4943355150243455e-05,
              "variable": "AANAT_tryptm"
             },
             {
              "rxn": "TPH",
              "value": 0.00032253498474764283,
              "variable": "AANAT_tryptm"
             },
             {
              "rxn": "AANAT",
              "value": 0.36067847119334007,
              "variable": "ASMT"
             },
             {
              "rxn": "AANAT_tryptm",
              "value": 0.0608148723563041,
              "variable": "ASMT"
             },
             {
              "rxn": "ASMT",
              "value": 0.3606756065721801,
              "variable": "ASMT"
             },
             {
              "rxn": "DDC",
              "value": 0.00025469758187450595,
              "variable": "ASMT"
             },
             {
              "rxn": "DDC_tryptm",
              "value": 0.0608148723562412,
              "variable": "ASMT"
             },
             {
              "rxn": "EX_fivehtp",
              "value": 0.0004142489900805161,
              "variable": "ASMT"
             },
             {
              "rxn": "EX_meltn",
              "value": 0.3606756065721811,
              "variable": "ASMT"
             },
             {
              "rxn": "EX_nactryptm",
              "value": 0.0608148723563033,
              "variable": "ASMT"
             },
             {
              "rxn": "EX_nactsertn",
              "value": 0.15061398526928454,
              "variable": "ASMT"
             },
             {
              "rxn": "EX_srtn",
              "value": 1.061955304902664,
              "variable": "ASMT"
             },
             {
              "rxn": "EX_trp",
              "value": 0.000535085092174933,
              "variable": "ASMT"
             },
             {
              "rxn": "IN_trp",
              "value": 3.672521038899439e-05,
              "variable": "ASMT"
             },
             {
              "rxn": "TPH",
              "value": 0.0002363273604533959,
              "variable": "ASMT"
             },
             {
              "rxn": "AANAT",
              "value": 0.10601098872373374,
              "variable": "DDC"
             },
             {
              "rxn": "AANAT_tryptm",
              "value": 0.7467499625727738,
              "variable": "DDC"
             },
             {
              "rxn": "ASMT",
              "value": 0.10613233628943389,
              "variable": "DDC"
             },
             {
              "rxn": "DDC",
              "value": 0.02472227348266537,
              "variable": "DDC"
             },
             {
              "rxn": "DDC_tryptm",
              "value": 0.7467499625720132,
              "variable": "DDC"
             },
             {
              "rxn": "EX_fivehtp",
              "value": 0.03425178794771295,
              "variable": "DDC"
             },
             {
              "rxn": "EX_meltn",
              "value": 0.10613233628943325,
              "variable": "DDC"
             },
             {
              "rxn": "EX_nactryptm",
              "value": 0.7467499625727525,
              "variable": "DDC"
             },
             {
              "rxn": "EX_nactsertn",
              "value": 0.011122573491674191,
              "variable": "DDC"
             },
             {
              "rxn": "EX_srtn",
              "value": 0.2925072563441582,
              "variable": "DDC"
             },
             {
              "rxn": "EX_trp",
              "value": 0.0372569592408829,
              "variable": "DDC"
             },
             {
              "rxn": "IN_trp",
              "value": 0.0022318643664993414,
              "variable": "DDC"
             },
             {
              "rxn": "TPH",
              "value": 0.024286670538186436,
              "variable": "DDC"
             },
             {
              "rxn": "AANAT",
              "value": 0.17776817455150934,
              "variable": "DDC_tryptm"
             },
             {
              "rxn": "AANAT_tryptm",
              "value": 0.11536076345781177,
              "variable": "DDC_tryptm"
             },
             {
              "rxn": "ASMT",
              "value": 0.17786776961147385,
              "variable": "DDC_tryptm"
             },
             {
              "rxn": "DDC",
              "value": 0.0005392235239586809,
              "variable": "DDC_tryptm"
             },
             {
              "rxn": "DDC_tryptm",
              "value": 0.11536076345770063,
              "variable": "DDC_tryptm"
             },
             {
              "rxn": "EX_fivehtp",
              "value": 0.0003627073735177626,
              "variable": "DDC_tryptm"
             },
             {
              "rxn": "EX_meltn",
              "value": 0.17786776961147388,
              "variable": "DDC_tryptm"
             },
             {
              "rxn": "EX_nactryptm",
              "value": 0.1153607634578353,
              "variable": "DDC_tryptm"
             },
             {
              "rxn": "EX_nactsertn",
              "value": 0.01858761060434758,
              "variable": "DDC_tryptm"
             },
             {
              "rxn": "EX_srtn",
              "value": 0.5125670617194963,
              "variable": "DDC_tryptm"
             },
             {
              "rxn": "EX_trp",
              "value": 0.0011888268376642145,
              "variable": "DDC_tryptm"
             },
             {
              "rxn": "IN_trp",
              "value": 0.0002412475322151281,
              "variable": "DDC_tryptm"
             },
             {
              "rxn": "TPH",
              "value": 0.0005155218542290115,
              "variable": "DDC_tryptm"
             },
             {
              "rxn": "AANAT",
              "value": 0.001702785978970088,
              "variable": "EX_fivehtp"
             },
             {
              "rxn": "AANAT_tryptm",
              "value": 0.003951130372709006,
              "variable": "EX_fivehtp"
             },
             {
              "rxn": "ASMT",
              "value": 0.0017014561344546155,
              "variable": "EX_fivehtp"
             },
             {
              "rxn": "DDC",
              "value": 0.00011969575970483069,
              "variable": "EX_fivehtp"
             },
             {
              "rxn": "DDC_tryptm",
              "value": 0.003951130372704984,
              "variable": "EX_fivehtp"
             },
             {
              "rxn": "EX_fivehtp",
              "value": 0.000166291665382845,
              "variable": "EX_fivehtp"
             },
             {
              "rxn": "EX_meltn",
              "value": 0.0017014561344546161,
              "variable": "EX_fivehtp"
             },
             {
              "rxn": "EX_nactryptm",
              "value": 0.003951130372708899,
              "variable": "EX_fivehtp"
             },
             {
              "rxn": "EX_nactsertn",
              "value": 0.0004939967020594894,
              "variable": "EX_fivehtp"
             },
             {
              "rxn": "EX_srtn",
              "value": 0.005113693223149611,
              "variable": "EX_fivehtp"
             },
             {
              "rxn": "EX_trp",
              "value": 0.00018015517155292753,
              "variable": "EX_fivehtp"
             },
             {
              "rxn": "IN_trp",
              "value": 1.0869623843272395e-05,
              "variable": "EX_fivehtp"
             },
             {
              "rxn": "TPH",
              "value": 0.00011876209312995629,
              "variable": "EX_fivehtp"
             },
             {
              "rxn": "AANAT",
              "value": 0.05629035444439519,
              "variable": "EX_meltn"
             },
             {
              "rxn": "AANAT_tryptm",
              "value": 0.02239777011131239,
              "variable": "EX_meltn"
             },
             {
              "rxn": "ASMT",
              "value": 0.056351922340481836,
              "variable": "EX_meltn"
             },
             {
              "rxn": "DDC",
              "value": 0.000105893528755405,
              "variable": "EX_meltn"
             },
             {
              "rxn": "DDC_tryptm",
              "value": 0.022397770111239678,
              "variable": "EX_meltn"
             },
             {
              "rxn": "EX_fivehtp",
              "value": 0.00016760149662151116,
              "variable": "EX_meltn"
             },
             {
              "rxn": "EX_meltn",
              "value": 0.056351922340482946,
              "variable": "EX_meltn"
             },
             {
              "rxn": "EX_nactryptm",
              "value": 0.022397770111229266,
              "variable": "EX_meltn"
             },
             {
              "rxn": "EX_nactsertn",
              "value": 0.006148809794629687,
              "variable": "EX_meltn"
             },
             {
              "rxn": "EX_srtn",
              "value": 0.165414518836386,
              "variable": "EX_meltn"
             },
             {
              "rxn": "EX_trp",
              "value": 0.00020517762299096328,
              "variable": "EX_meltn"
             },
             {
              "rxn": "IN_trp",
              "value": 1.4191599866929826e-05,
              "variable": "EX_meltn"
             },
             {
              "rxn": "TPH",
              "value": 9.958604957260482e-05,
              "variable": "EX_meltn"
             },
             {
              "rxn": "AANAT",
              "value": 0.18153360877460167,
              "variable": "EX_nactryptm"
             },
             {
              "rxn": "AANAT_tryptm",
              "value": 0.11105469398622808,
              "variable": "EX_nactryptm"
             },
             {
              "rxn": "ASMT",
              "value": 0.18072674229264732,
              "variable": "EX_nactryptm"
             },
             {
              "rxn": "DDC",
              "value": 0.0002581935741625234,
              "variable": "EX_nactryptm"
             },
             {
              "rxn": "DDC_tryptm",
              "value": 0.11105469398611485,
              "variable": "EX_nactryptm"
             },
             {
              "rxn": "EX_fivehtp",
              "value": 0.0004847019763738841,
              "variable": "EX_nactryptm"
             },
             {
              "rxn": "EX_meltn",
              "value": 0.18072674229264757,
              "variable": "EX_nactryptm"
             },
             {
              "rxn": "EX_nactryptm",
              "value": 0.1110546939862258,
              "variable": "EX_nactryptm"
             },
             {
              "rxn": "EX_nactsertn",
              "value": 0.016382831204663984,
              "variable": "EX_nactryptm"
             },
             {
              "rxn": "EX_srtn",
              "value": 0.5139915833161214,
              "variable": "EX_nactryptm"
             },
             {
              "rxn": "EX_trp",
              "value": 0.0007470917662202559,
              "variable": "EX_nactryptm"
             },
             {
              "rxn": "IN_trp",
              "value": 4.482110285687922e-05,
              "variable": "EX_nactryptm"
             },
             {
              "rxn": "TPH",
              "value": 0.00022566787017277453,
              "variable": "EX_nactryptm"
             },
             {
              "rxn": "AANAT",
              "value": 0.00030604797302877284,
              "variable": "EX_nactsertn"
             },
             {
              "rxn": "AANAT_tryptm",
              "value": 7.572504099456512e-05,
              "variable": "EX_nactsertn"
             },
             {
              "rxn": "ASMT",
              "value": 0.0003064968026486181,
              "variable": "EX_nactsertn"
             },
             {
              "rxn": "DDC",
              "value": 3.706090461862032e-07,
              "variable": "EX_nactsertn"
             },
             {
              "rxn": "DDC_tryptm",
              "value": 7.572504099448889e-05,
              "variable": "EX_nactsertn"
             },
             {
              "rxn": "EX_fivehtp",
              "value": 6.09922020039208e-07,
              "variable": "EX_nactsertn"
             },
             {
              "rxn": "EX_meltn",
              "value": 0.0003064968026486206,
              "variable": "EX_nactsertn"
             },
             {
              "rxn": "EX_nactryptm",
              "value": 7.572504099456377e-05,
              "variable": "EX_nactsertn"
             },
             {
              "rxn": "EX_nactsertn",
              "value": 0.00013500820821477078,
              "variable": "EX_nactsertn"
             },
             {
              "rxn": "EX_srtn",
              "value": 0.0009022283743928646,
              "variable": "EX_nactsertn"
             },
             {
              "rxn": "EX_trp",
              "value": 7.222969027723383e-07,
              "variable": "EX_nactsertn"
             },
             {
              "rxn": "IN_trp",
              "value": 5.170964888942602e-08,
              "variable": "EX_nactsertn"
             },
             {
              "rxn": "TPH",
              "value": 3.4331331666892704e-07,
              "variable": "EX_nactsertn"
             },
             {
              "rxn": "AANAT",
              "value": 0.07763451624065029,
              "variable": "EX_srtn"
             },
             {
              "rxn": "AANAT_tryptm",
              "value": 0.04598246078517082,
              "variable": "EX_srtn"
             },
             {
              "rxn": "ASMT",
              "value": 0.07799659666031072,
              "variable": "EX_srtn"
             },
             {
              "rxn": "DDC",
              "value": 0.00020746596890594362,
              "variable": "EX_srtn"
             },
             {
              "rxn": "DDC_tryptm",
              "value": 0.04598246078512406,
              "variable": "EX_srtn"
             },
             {
              "rxn": "EX_fivehtp",
              "value": 0.00034602886093446815,
              "variable": "EX_srtn"
             },
             {
              "rxn": "EX_meltn",
              "value": 0.07799659666031074,
              "variable": "EX_srtn"
             },
             {
              "rxn": "EX_nactryptm",
              "value": 0.0459824607851679,
              "variable": "EX_srtn"
             },
             {
              "rxn": "EX_nactsertn",
              "value": 0.030890909793154786,
              "variable": "EX_srtn"
             },
             {
              "rxn": "EX_srtn",
              "value": 0.22837990729965718,
              "variable": "EX_srtn"
             },
             {
              "rxn": "EX_trp",
              "value": 0.0004029779585435366,
              "variable": "EX_srtn"
             },
             {
              "rxn": "IN_trp",
              "value": 2.791021413513982e-05,
              "variable": "EX_srtn"
             },
             {
              "rxn": "TPH",
              "value": 0.00018981300883467393,
              "variable": "EX_srtn"
             },
             {
              "rxn": "AANAT",
              "value": 0.09651821094967084,
              "variable": "EX_trp"
             },
             {
              "rxn": "AANAT_tryptm",
              "value": 0.36176335625873457,
              "variable": "EX_trp"
             },
             {
              "rxn": "ASMT",
              "value": 0.09670345831803273,
              "variable": "EX_trp"
             },
             {
              "rxn": "DDC",
              "value": 0.13670455871446371,
              "variable": "EX_trp"
             },
             {
              "rxn": "DDC_tryptm",
              "value": 0.3617633562583661,
              "variable": "EX_trp"
             },
             {
              "rxn": "EX_fivehtp",
              "value": 0.006367916643886209,
              "variable": "EX_trp"
             },
             {
              "rxn": "EX_meltn",
              "value": 0.0967034583180329,
              "variable": "EX_trp"
             },
             {
              "rxn": "EX_nactryptm",
              "value": 0.3617633562587244,
              "variable": "EX_trp"
             },
             {
              "rxn": "EX_nactsertn",
              "value": 0.011902043132004533,
              "variable": "EX_trp"
             },
             {
              "rxn": "EX_srtn",
              "value": 0.4557589136368717,
              "variable": "EX_trp"
             },
             {
              "rxn": "EX_trp",
              "value": 0.24991407751840572,
              "variable": "EX_trp"
             },
             {
              "rxn": "IN_trp",
              "value": 0.11168512370382638,
              "variable": "EX_trp"
             },
             {
              "rxn": "TPH",
              "value": 0.13737496616381326,
              "variable": "EX_trp"
             },
             {
              "rxn": "AANAT",
              "value": 0.062476621577969085,
              "variable": "IN_trp"
             },
             {
              "rxn": "AANAT_tryptm",
              "value": 0.2341708584045198,
              "variable": "IN_trp"
             },
             {
              "rxn": "ASMT",
              "value": 0.06259653293581108,
              "variable": "IN_trp"
             },
             {
              "rxn": "DDC",
              "value": 0.08848940421451032,
              "variable": "IN_trp"
             },
             {
              "rxn": "DDC_tryptm",
              "value": 0.2341708584042813,
              "variable": "IN_trp"
             },
             {
              "rxn": "EX_fivehtp",
              "value": 0.004121977754100569,
              "variable": "IN_trp"
             },
             {
              "rxn": "EX_meltn",
              "value": 0.06259653293581119,
              "variable": "IN_trp"
             },
             {
              "rxn": "EX_nactryptm",
              "value": 0.23417085840451324,
              "variable": "IN_trp"
             },
             {
              "rxn": "EX_nactsertn",
              "value": 0.00770423982631278,
              "variable": "IN_trp"
             },
             {
              "rxn": "EX_srtn",
              "value": 0.29501455629886186,
              "variable": "IN_trp"
             },
             {
              "rxn": "EX_trp",
              "value": 0.1617703757093718,
              "variable": "IN_trp"
             },
             {
              "rxn": "IN_trp",
              "value": 0.07229422448755429,
              "variable": "IN_trp"
             },
             {
              "rxn": "TPH",
              "value": 0.08892336162113798,
              "variable": "IN_trp"
             },
             {
              "rxn": "AANAT",
              "value": 0.44995979698823196,
              "variable": "TPH"
             },
             {
              "rxn": "AANAT_tryptm",
              "value": 1.2160026235934547,
              "variable": "TPH"
             },
             {
              "rxn": "ASMT",
              "value": 0.4507547357611693,
              "variable": "TPH"
             },
             {
              "rxn": "DDC",
              "value": 0.23564000239143024,
              "variable": "TPH"
             },
             {
              "rxn": "DDC_tryptm",
              "value": 1.21600262359222,
              "variable": "TPH"
             },
             {
              "rxn": "EX_fivehtp",
              "value": 0.021437318309586364,
              "variable": "TPH"
             },
             {
              "rxn": "EX_meltn",
              "value": 0.45075473576117003,
              "variable": "TPH"
             },
             {
              "rxn": "EX_nactryptm",
              "value": 1.2160026235934236,
              "variable": "TPH"
             },
             {
              "rxn": "EX_nactsertn",
              "value": 0.10612869351980683,
              "variable": "TPH"
             },
             {
              "rxn": "EX_srtn",
              "value": 1.547719464123907,
              "variable": "TPH"
             },
             {
              "rxn": "EX_trp",
              "value": 0.4321653442347009,
              "variable": "TPH"
             },
             {
              "rxn": "IN_trp",
              "value": 0.17676260247547876,
              "variable": "TPH"
             },
             {
              "rxn": "TPH",
              "value": 0.23626814579287092,
              "variable": "TPH"
             }
            ]
           },
           "encoding": {
            "color": {
             "field": "value",
             "scale": {
              "domain": [
               -1,
               1
              ],
              "scheme": "redblue"
             },
             "type": "quantitative"
            },
            "tooltip": {
             "field": "value",
             "type": "quantitative"
            },
            "x": {
             "field": "variable",
             "type": "nominal"
            },
            "y": {
             "field": "rxn",
             "type": "nominal"
            }
           },
           "height": 250,
           "mark": "rect",
           "width": 300
          }
         ]
        },
        {
         "vconcat": [
          {
           "data": {
            "values": [
             {
              "rxns": "AANAT",
              "value": 0.4112395817384502,
              "variable": "TPH"
             },
             {
              "rxns": "AANAT_tryptm",
              "value": -1.037118507899075,
              "variable": "TPH"
             },
             {
              "rxns": "ASMT",
              "value": 0.41132077558687363,
              "variable": "TPH"
             },
             {
              "rxns": "DDC",
              "value": 0.9416326968109885,
              "variable": "TPH"
             },
             {
              "rxns": "DDC_tryptm",
              "value": -1.0371185078980205,
              "variable": "TPH"
             },
             {
              "rxns": "EX_fivehtp",
              "value": -0.0026721965734749437,
              "variable": "TPH"
             },
             {
              "rxns": "EX_meltn",
              "value": 0.4113207755868736,
              "variable": "TPH"
             },
             {
              "rxns": "EX_nactryptm",
              "value": -1.0371185078990452,
              "variable": "TPH"
             },
             {
              "rxns": "EX_nactsertn",
              "value": -0.0036919365517191216,
              "variable": "TPH"
             },
             {
              "rxns": "EX_srtn",
              "value": 2.4632291007613545,
              "variable": "TPH"
             },
             {
              "rxns": "EX_trp",
              "value": 1.4582888480935914,
              "variable": "TPH"
             },
             {
              "rxns": "IN_trp",
              "value": 0.07731624527691375,
              "variable": "TPH"
             },
             {
              "rxns": "TPH",
              "value": 0.9464025100449451,
              "variable": "TPH"
             },
             {
              "rxns": "AANAT",
              "value": 0.03855051162071997,
              "variable": "DDC"
             },
             {
              "rxns": "AANAT_tryptm",
              "value": 1.4489467240166938,
              "variable": "DDC"
             },
             {
              "rxns": "ASMT",
              "value": 0.038566237571529986,
              "variable": "DDC"
             },
             {
              "rxns": "DDC",
              "value": 0.0020468920629708297,
              "variable": "DDC"
             },
             {
              "rxns": "DDC_tryptm",
              "value": 1.4489467240152198,
              "variable": "DDC"
             },
             {
              "rxns": "EX_fivehtp",
              "value": 0.004729142892063089,
              "variable": "DDC"
             },
             {
              "rxns": "EX_meltn",
              "value": 0.03856623757153064,
              "variable": "DDC"
             },
             {
              "rxns": "EX_nactryptm",
              "value": 1.448946724016655,
              "variable": "DDC"
             },
             {
              "rxns": "EX_nactsertn",
              "value": -0.00024855677474889187,
              "variable": "DDC"
             },
             {
              "rxns": "EX_srtn",
              "value": -0.01998285325256903,
              "variable": "DDC"
             },
             {
              "rxns": "EX_trp",
              "value": 0.005991843017064879,
              "variable": "DDC"
             },
             {
              "rxns": "IN_trp",
              "value": 0.00043885959021496446,
              "variable": "DDC"
             },
             {
              "rxns": "TPH",
              "value": 0.0015714016445126857,
              "variable": "DDC"
             },
             {
              "rxns": "AANAT",
              "value": 0.3111077136370781,
              "variable": "AANAT"
             },
             {
              "rxns": "AANAT_tryptm",
              "value": 0.054271333881842965,
              "variable": "AANAT"
             },
             {
              "rxns": "ASMT",
              "value": 0.30983884708401876,
              "variable": "AANAT"
             },
             {
              "rxns": "DDC",
              "value": 4.572173980217971e-05,
              "variable": "AANAT"
             },
             {
              "rxns": "DDC_tryptm",
              "value": 0.05427133388178721,
              "variable": "AANAT"
             },
             {
              "rxns": "EX_fivehtp",
              "value": 0.00011317168623851419,
              "variable": "AANAT"
             },
             {
              "rxns": "EX_meltn",
              "value": 0.3098388470840188,
              "variable": "AANAT"
             },
             {
              "rxns": "EX_nactryptm",
              "value": 0.05427133388184116,
              "variable": "AANAT"
             },
             {
              "rxns": "EX_nactsertn",
              "value": -0.002576155375482311,
              "variable": "AANAT"
             },
             {
              "rxns": "EX_srtn",
              "value": -0.9121688956476879,
              "variable": "AANAT"
             },
             {
              "rxns": "EX_trp",
              "value": 0.00025240355647434084,
              "variable": "AANAT"
             },
             {
              "rxns": "IN_trp",
              "value": 1.3040553311743358e-05,
              "variable": "AANAT"
             },
             {
              "rxns": "TPH",
              "value": 3.1596449655475865e-05,
              "variable": "AANAT"
             },
             {
              "rxns": "AANAT",
              "value": 0.21260423364458286,
              "variable": "ASMT"
             },
             {
              "rxns": "AANAT_tryptm",
              "value": 0.01481806957420877,
              "variable": "ASMT"
             },
             {
              "rxns": "ASMT",
              "value": 0.2138741688649401,
              "variable": "ASMT"
             },
             {
              "rxns": "DDC",
              "value": 1.5103903076106147e-05,
              "variable": "ASMT"
             },
             {
              "rxns": "DDC_tryptm",
              "value": 0.014818069574194168,
              "variable": "ASMT"
             },
             {
              "rxns": "EX_fivehtp",
              "value": 4.185251965409553e-05,
              "variable": "ASMT"
             },
             {
              "rxns": "EX_meltn",
              "value": 0.2138741688649406,
              "variable": "ASMT"
             },
             {
              "rxns": "EX_nactryptm",
              "value": 0.0148180695742097,
              "variable": "ASMT"
             },
             {
              "rxns": "EX_nactsertn",
              "value": 0.008164499349414099,
              "variable": "ASMT"
             },
             {
              "rxns": "EX_srtn",
              "value": -0.624938249648836,
              "variable": "ASMT"
             },
             {
              "rxns": "EX_trp",
              "value": 7.783933652260356e-05,
              "variable": "ASMT"
             },
             {
              "rxns": "IN_trp",
              "value": 4.276976675064482e-06,
              "variable": "ASMT"
             },
             {
              "rxns": "TPH",
              "value": 1.091529164162827e-05,
              "variable": "ASMT"
             },
             {
              "rxns": "AANAT",
              "value": 0.010387681048862434,
              "variable": "IN_trp"
             },
             {
              "rxns": "AANAT_tryptm",
              "value": 0.12726063963314446,
              "variable": "IN_trp"
             },
             {
              "rxns": "ASMT",
              "value": 0.010411112421638096,
              "variable": "IN_trp"
             },
             {
              "rxns": "DDC",
              "value": 0.008431671741780082,
              "variable": "IN_trp"
             },
             {
              "rxns": "DDC_tryptm",
              "value": 0.1272606396330148,
              "variable": "IN_trp"
             },
             {
              "rxns": "EX_fivehtp",
              "value": -0.0005197542923514784,
              "variable": "IN_trp"
             },
             {
              "rxns": "EX_meltn",
              "value": 0.010411112421639095,
              "variable": "IN_trp"
             },
             {
              "rxns": "EX_nactryptm",
              "value": 0.12726063963314094,
              "variable": "IN_trp"
             },
             {
              "rxns": "EX_nactsertn",
              "value": -3.6654685214459986e-05,
              "variable": "IN_trp"
             },
             {
              "rxns": "EX_srtn",
              "value": 0.0041339021284215825,
              "variable": "IN_trp"
             },
             {
              "rxns": "EX_trp",
              "value": -0.5979927816647356,
              "variable": "IN_trp"
             },
             {
              "rxns": "IN_trp",
              "value": 0.9682725720685448,
              "variable": "IN_trp"
             },
             {
              "rxns": "TPH",
              "value": 0.008472172623929568,
              "variable": "IN_trp"
             },
             {
              "rxns": "AANAT",
              "value": 0.01604760893642094,
              "variable": "EX_trp"
             },
             {
              "rxns": "AANAT_tryptm",
              "value": 0.19660104774348408,
              "variable": "EX_trp"
             },
             {
              "rxns": "ASMT",
              "value": 0.01608380734349353,
              "variable": "EX_trp"
             },
             {
              "rxns": "DDC",
              "value": 0.013025830323041696,
              "variable": "EX_trp"
             },
             {
              "rxns": "DDC_tryptm",
              "value": 0.19660104774328377,
              "variable": "EX_trp"
             },
             {
              "rxns": "EX_fivehtp",
              "value": -0.00080295241906721,
              "variable": "EX_trp"
             },
             {
              "rxns": "EX_meltn",
              "value": 0.016083807343495075,
              "variable": "EX_trp"
             },
             {
              "rxns": "EX_nactryptm",
              "value": 0.1966010477434787,
              "variable": "EX_trp"
             },
             {
              "rxns": "EX_nactsertn",
              "value": -5.662669572182135e-05,
              "variable": "EX_trp"
             },
             {
              "rxns": "EX_srtn",
              "value": 0.006386338242991435,
              "variable": "EX_trp"
             },
             {
              "rxns": "EX_trp",
              "value": 0.0761793453401125,
              "variable": "EX_trp"
             },
             {
              "rxns": "IN_trp",
              "value": -0.049014727503423686,
              "variable": "EX_trp"
             },
             {
              "rxns": "TPH",
              "value": 0.013088398890102763,
              "variable": "EX_trp"
             },
             {
              "rxns": "AANAT",
              "value": -0.1290349891742933,
              "variable": "EX_srtn"
             },
             {
              "rxns": "AANAT_tryptm",
              "value": 0.012898709127994538,
              "variable": "EX_srtn"
             },
             {
              "rxns": "ASMT",
              "value": -0.12910274404130484,
              "variable": "EX_srtn"
             },
             {
              "rxns": "DDC",
              "value": 1.280747475373487e-05,
              "variable": "EX_srtn"
             },
             {
              "rxns": "DDC_tryptm",
              "value": 0.01289870912798131,
              "variable": "EX_srtn"
             },
             {
              "rxns": "EX_fivehtp",
              "value": 3.336301175902653e-05,
              "variable": "EX_srtn"
             },
             {
              "rxns": "EX_meltn",
              "value": -0.1291027440413045,
              "variable": "EX_srtn"
             },
             {
              "rxns": "EX_nactryptm",
              "value": 0.01289870912799404,
              "variable": "EX_srtn"
             },
             {
              "rxns": "EX_nactsertn",
              "value": 0.0016736975236970105,
              "variable": "EX_srtn"
             },
             {
              "rxns": "EX_srtn",
              "value": 0.3850323115756614,
              "variable": "EX_srtn"
             },
             {
              "rxns": "EX_trp",
              "value": 6.578656169676416e-05,
              "variable": "EX_srtn"
             },
             {
              "rxns": "IN_trp",
              "value": 3.4516938673893923e-06,
              "variable": "EX_srtn"
             },
             {
              "rxns": "TPH",
              "value": 8.564054806726365e-06,
              "variable": "EX_srtn"
             },
             {
              "rxns": "AANAT",
              "value": 0.00200635541769863,
              "variable": "EX_fivehtp"
             },
             {
              "rxns": "AANAT_tryptm",
              "value": -0.002551974454663714,
              "variable": "EX_fivehtp"
             },
             {
              "rxns": "ASMT",
              "value": 0.002005156808333815,
              "variable": "EX_fivehtp"
             },
             {
              "rxns": "DDC",
              "value": 0.00446128423151196,
              "variable": "EX_fivehtp"
             },
             {
              "rxns": "DDC_tryptm",
              "value": -0.002551974454661092,
              "variable": "EX_fivehtp"
             },
             {
              "rxns": "EX_fivehtp",
              "value": 0.9999750320273885,
              "variable": "EX_fivehtp"
             },
             {
              "rxns": "EX_meltn",
              "value": 0.002005156808333768,
              "variable": "EX_fivehtp"
             },
             {
              "rxns": "EX_nactryptm",
              "value": -0.0025519744546636074,
              "variable": "EX_fivehtp"
             },
             {
              "rxns": "EX_nactsertn",
              "value": -2.001194208630021e-05,
              "variable": "EX_fivehtp"
             },
             {
              "rxns": "EX_srtn",
              "value": 0.011067648093216234,
              "variable": "EX_fivehtp"
             },
             {
              "rxns": "EX_trp",
              "value": -2.220518509841597e-05,
              "variable": "EX_fivehtp"
             },
             {
              "rxns": "IN_trp",
              "value": -1.4458290644324291e-06,
              "variable": "EX_fivehtp"
             },
             {
              "rxns": "TPH",
              "value": -8.312412377459153e-06,
              "variable": "EX_fivehtp"
             },
             {
              "rxns": "AANAT",
              "value": 0.00023798531927104598,
              "variable": "EX_nactsertn"
             },
             {
              "rxns": "AANAT_tryptm",
              "value": 2.4324149429545807e-05,
              "variable": "EX_nactsertn"
             },
             {
              "rxns": "ASMT",
              "value": -0.0006196050286808241,
              "variable": "EX_nactsertn"
             },
             {
              "rxns": "DDC",
              "value": 2.58497585442286e-08,
              "variable": "EX_nactsertn"
             },
             {
              "rxns": "DDC_tryptm",
              "value": 2.4324149429521538e-05,
              "variable": "EX_nactsertn"
             },
             {
              "rxns": "EX_fivehtp",
              "value": 6.556890778824383e-08,
              "variable": "EX_nactsertn"
             },
             {
              "rxns": "EX_meltn",
              "value": -0.0006196050286808236,
              "variable": "EX_nactsertn"
             },
             {
              "rxns": "EX_nactryptm",
              "value": 2.4324149429545675e-05,
              "variable": "EX_nactsertn"
             },
             {
              "rxns": "EX_nactsertn",
              "value": 1.000007393240038,
              "variable": "EX_nactsertn"
             },
             {
              "rxns": "EX_srtn",
              "value": -0.0006995429060513043,
              "variable": "EX_nactsertn"
             },
             {
              "rxns": "EX_trp",
              "value": 1.2120758479180297e-07,
              "variable": "EX_nactsertn"
             },
             {
              "rxns": "IN_trp",
              "value": 6.75039490264879e-09,
              "variable": "EX_nactsertn"
             },
             {
              "rxns": "TPH",
              "value": 1.8551946346585205e-08,
              "variable": "EX_nactsertn"
             },
             {
              "rxns": "AANAT",
              "value": 0.04891208308479484,
              "variable": "EX_meltn"
             },
             {
              "rxns": "AANAT_tryptm",
              "value": 0.007310345217792363,
              "variable": "EX_meltn"
             },
             {
              "rxns": "ASMT",
              "value": 0.04893566906101116,
              "variable": "EX_meltn"
             },
             {
              "rxns": "DDC",
              "value": 7.1736141727068104e-06,
              "variable": "EX_meltn"
             },
             {
              "rxns": "DDC_tryptm",
              "value": 0.007310345217784698,
              "variable": "EX_meltn"
             },
             {
              "rxns": "EX_fivehtp",
              "value": 1.7372166406251235e-05,
              "variable": "EX_meltn"
             },
             {
              "rxns": "EX_meltn",
              "value": 0.048935669061011045,
              "variable": "EX_meltn"
             },
             {
              "rxns": "EX_nactryptm",
              "value": 0.007310345217792052,
              "variable": "EX_meltn"
             },
             {
              "rxns": "EX_nactsertn",
              "value": 5.886386134943543e-06,
              "variable": "EX_meltn"
             },
             {
              "rxns": "EX_srtn",
              "value": -0.14418242396580255,
              "variable": "EX_meltn"
             },
             {
              "rxns": "EX_trp",
              "value": 3.501909275360149e-05,
              "variable": "EX_meltn"
             },
             {
              "rxns": "IN_trp",
              "value": 1.967985351928542e-06,
              "variable": "EX_meltn"
             },
             {
              "rxns": "TPH",
              "value": 4.923200391825211e-06,
              "variable": "EX_meltn"
             },
             {
              "rxns": "AANAT",
              "value": -0.01422619564410147,
              "variable": "EX_nactryptm"
             },
             {
              "rxns": "AANAT_tryptm",
              "value": -0.008077634590022087,
              "variable": "EX_nactryptm"
             },
             {
              "rxns": "ASMT",
              "value": -0.014193028318177646,
              "variable": "EX_nactryptm"
             },
             {
              "rxns": "DDC",
              "value": -3.266273886734641e-06,
              "variable": "EX_nactryptm"
             },
             {
              "rxns": "DDC_tryptm",
              "value": -0.00807763459001336,
              "variable": "EX_nactryptm"
             },
             {
              "rxns": "EX_fivehtp",
              "value": -1.2503988912292155e-05,
              "variable": "EX_nactryptm"
             },
             {
              "rxns": "EX_meltn",
              "value": -0.014193028318177635,
              "variable": "EX_nactryptm"
             },
             {
              "rxns": "EX_nactryptm",
              "value": -0.008077634590022198,
              "variable": "EX_nactryptm"
             },
             {
              "rxns": "EX_nactsertn",
              "value": 8.88840674599215e-05,
              "variable": "EX_nactryptm"
             },
             {
              "rxns": "EX_srtn",
              "value": 0.04006426899168813,
              "variable": "EX_nactryptm"
             },
             {
              "rxns": "EX_trp",
              "value": -3.945173667343787e-05,
              "variable": "EX_nactryptm"
             },
             {
              "rxns": "IN_trp",
              "value": -1.6554644771594405e-06,
              "variable": "EX_nactryptm"
             },
             {
              "rxns": "TPH",
              "value": -1.6754805694637544e-06,
              "variable": "EX_nactryptm"
             }
            ]
           },
           "encoding": {
            "color": {
             "field": "value",
             "scale": {
              "domain": [
               -1,
               1
              ],
              "scheme": "redblue"
             },
             "type": "quantitative"
            },
            "tooltip": {
             "field": "value",
             "type": "quantitative"
            },
            "x": {
             "field": "variable",
             "type": "nominal"
            },
            "y": {
             "field": "rxns",
             "type": "nominal"
            }
           },
           "height": 250,
           "mark": "rect",
           "width": 300
          },
          {
           "data": {
            "values": [
             {
              "rxn": "AANAT",
              "value": 0.29933035559453736,
              "variable": "AANAT"
             },
             {
              "rxn": "AANAT_tryptm",
              "value": 0.16497196145925577,
              "variable": "AANAT"
             },
             {
              "rxn": "ASMT",
              "value": 0.2993745646582354,
              "variable": "AANAT"
             },
             {
              "rxn": "DDC",
              "value": 0.0007574125778249038,
              "variable": "AANAT"
             },
             {
              "rxn": "DDC_tryptm",
              "value": 0.16497196145908524,
              "variable": "AANAT"
             },
             {
              "rxn": "EX_fivehtp",
              "value": 0.0011966641733325608,
              "variable": "AANAT"
             },
             {
              "rxn": "EX_meltn",
              "value": 0.29937456465823586,
              "variable": "AANAT"
             },
             {
              "rxn": "EX_nactryptm",
              "value": 0.16497196145925058,
              "variable": "AANAT"
             },
             {
              "rxn": "EX_nactsertn",
              "value": 0.06730349914317732,
              "variable": "AANAT"
             },
             {
              "rxn": "EX_srtn",
              "value": 0.8773588120947834,
              "variable": "AANAT"
             },
             {
              "rxn": "EX_trp",
              "value": 0.0014191303013436644,
              "variable": "AANAT"
             },
             {
              "rxn": "IN_trp",
              "value": 9.851631086505805e-05,
              "variable": "AANAT"
             },
             {
              "rxn": "TPH",
              "value": 0.0007139211596088062,
              "variable": "AANAT"
             },
             {
              "rxn": "AANAT",
              "value": 0.36067847119334007,
              "variable": "ASMT"
             },
             {
              "rxn": "AANAT_tryptm",
              "value": 0.06081487235630412,
              "variable": "ASMT"
             },
             {
              "rxn": "ASMT",
              "value": 0.3606756065721801,
              "variable": "ASMT"
             },
             {
              "rxn": "DDC",
              "value": 0.00025469758187450595,
              "variable": "ASMT"
             },
             {
              "rxn": "DDC_tryptm",
              "value": 0.060814872356241216,
              "variable": "ASMT"
             },
             {
              "rxn": "EX_fivehtp",
              "value": 0.0004142489900805161,
              "variable": "ASMT"
             },
             {
              "rxn": "EX_meltn",
              "value": 0.3606756065721811,
              "variable": "ASMT"
             },
             {
              "rxn": "EX_nactryptm",
              "value": 0.060814872356303326,
              "variable": "ASMT"
             },
             {
              "rxn": "EX_nactsertn",
              "value": 0.15061398526928454,
              "variable": "ASMT"
             },
             {
              "rxn": "EX_srtn",
              "value": 1.061955304902664,
              "variable": "ASMT"
             },
             {
              "rxn": "EX_trp",
              "value": 0.000535085092174933,
              "variable": "ASMT"
             },
             {
              "rxn": "IN_trp",
              "value": 3.672521038899439e-05,
              "variable": "ASMT"
             },
             {
              "rxn": "TPH",
              "value": 0.0002363273604533959,
              "variable": "ASMT"
             },
             {
              "rxn": "AANAT",
              "value": 0.2932507096421371,
              "variable": "DDC"
             },
             {
              "rxn": "AANAT_tryptm",
              "value": 0.8775218795903383,
              "variable": "DDC"
             },
             {
              "rxn": "ASMT",
              "value": 0.2930321126102028,
              "variable": "DDC"
             },
             {
              "rxn": "DDC",
              "value": 0.023572919159280357,
              "variable": "DDC"
             },
             {
              "rxn": "DDC_tryptm",
              "value": 0.8775218795894488,
              "variable": "DDC"
             },
             {
              "rxn": "EX_fivehtp",
              "value": 0.0333856836274516,
              "variable": "DDC"
             },
             {
              "rxn": "EX_meltn",
              "value": 0.2930321126102041,
              "variable": "DDC"
             },
             {
              "rxn": "EX_nactryptm",
              "value": 0.8775218795903155,
              "variable": "DDC"
             },
             {
              "rxn": "EX_nactsertn",
              "value": 0.03269059606934827,
              "variable": "DDC"
             },
             {
              "rxn": "EX_srtn",
              "value": 0.8642001195039033,
              "variable": "DDC"
             },
             {
              "rxn": "EX_trp",
              "value": 0.03614251522291459,
              "variable": "DDC"
             },
             {
              "rxn": "IN_trp",
              "value": 0.0024617046259842496,
              "variable": "DDC"
             },
             {
              "rxn": "TPH",
              "value": 0.023186913282230798,
              "variable": "DDC"
             },
             {
              "rxn": "AANAT",
              "value": 0.001702785978970088,
              "variable": "EX_fivehtp"
             },
             {
              "rxn": "AANAT_tryptm",
              "value": 0.003951130372709006,
              "variable": "EX_fivehtp"
             },
             {
              "rxn": "ASMT",
              "value": 0.0017014561344546155,
              "variable": "EX_fivehtp"
             },
             {
              "rxn": "DDC",
              "value": 0.00011969575970483069,
              "variable": "EX_fivehtp"
             },
             {
              "rxn": "DDC_tryptm",
              "value": 0.003951130372704984,
              "variable": "EX_fivehtp"
             },
             {
              "rxn": "EX_fivehtp",
              "value": 0.000166291665382845,
              "variable": "EX_fivehtp"
             },
             {
              "rxn": "EX_meltn",
              "value": 0.0017014561344546161,
              "variable": "EX_fivehtp"
             },
             {
              "rxn": "EX_nactryptm",
              "value": 0.003951130372708899,
              "variable": "EX_fivehtp"
             },
             {
              "rxn": "EX_nactsertn",
              "value": 0.0004939967020594894,
              "variable": "EX_fivehtp"
             },
             {
              "rxn": "EX_srtn",
              "value": 0.005113693223149611,
              "variable": "EX_fivehtp"
             },
             {
              "rxn": "EX_trp",
              "value": 0.00018015517155292753,
              "variable": "EX_fivehtp"
             },
             {
              "rxn": "IN_trp",
              "value": 1.0869623843272395e-05,
              "variable": "EX_fivehtp"
             },
             {
              "rxn": "TPH",
              "value": 0.00011876209312995629,
              "variable": "EX_fivehtp"
             },
             {
              "rxn": "AANAT",
              "value": 0.05629035444439519,
              "variable": "EX_meltn"
             },
             {
              "rxn": "AANAT_tryptm",
              "value": 0.02239777011131239,
              "variable": "EX_meltn"
             },
             {
              "rxn": "ASMT",
              "value": 0.056351922340481836,
              "variable": "EX_meltn"
             },
             {
              "rxn": "DDC",
              "value": 0.000105893528755405,
              "variable": "EX_meltn"
             },
             {
              "rxn": "DDC_tryptm",
              "value": 0.022397770111239678,
              "variable": "EX_meltn"
             },
             {
              "rxn": "EX_fivehtp",
              "value": 0.00016760149662151116,
              "variable": "EX_meltn"
             },
             {
              "rxn": "EX_meltn",
              "value": 0.056351922340482946,
              "variable": "EX_meltn"
             },
             {
              "rxn": "EX_nactryptm",
              "value": 0.022397770111229266,
              "variable": "EX_meltn"
             },
             {
              "rxn": "EX_nactsertn",
              "value": 0.006148809794629687,
              "variable": "EX_meltn"
             },
             {
              "rxn": "EX_srtn",
              "value": 0.165414518836386,
              "variable": "EX_meltn"
             },
             {
              "rxn": "EX_trp",
              "value": 0.00020517762299096328,
              "variable": "EX_meltn"
             },
             {
              "rxn": "IN_trp",
              "value": 1.4191599866929826e-05,
              "variable": "EX_meltn"
             },
             {
              "rxn": "TPH",
              "value": 9.958604957260482e-05,
              "variable": "EX_meltn"
             },
             {
              "rxn": "AANAT",
              "value": 0.18153360877460167,
              "variable": "EX_nactryptm"
             },
             {
              "rxn": "AANAT_tryptm",
              "value": 0.11105469398622808,
              "variable": "EX_nactryptm"
             },
             {
              "rxn": "ASMT",
              "value": 0.18072674229264732,
              "variable": "EX_nactryptm"
             },
             {
              "rxn": "DDC",
              "value": 0.0002581935741625234,
              "variable": "EX_nactryptm"
             },
             {
              "rxn": "DDC_tryptm",
              "value": 0.11105469398611485,
              "variable": "EX_nactryptm"
             },
             {
              "rxn": "EX_fivehtp",
              "value": 0.0004847019763738841,
              "variable": "EX_nactryptm"
             },
             {
              "rxn": "EX_meltn",
              "value": 0.18072674229264757,
              "variable": "EX_nactryptm"
             },
             {
              "rxn": "EX_nactryptm",
              "value": 0.1110546939862258,
              "variable": "EX_nactryptm"
             },
             {
              "rxn": "EX_nactsertn",
              "value": 0.016382831204663984,
              "variable": "EX_nactryptm"
             },
             {
              "rxn": "EX_srtn",
              "value": 0.5139915833161214,
              "variable": "EX_nactryptm"
             },
             {
              "rxn": "EX_trp",
              "value": 0.0007470917662202559,
              "variable": "EX_nactryptm"
             },
             {
              "rxn": "IN_trp",
              "value": 4.482110285687922e-05,
              "variable": "EX_nactryptm"
             },
             {
              "rxn": "TPH",
              "value": 0.00022566787017277453,
              "variable": "EX_nactryptm"
             },
             {
              "rxn": "AANAT",
              "value": 0.00030604797302877284,
              "variable": "EX_nactsertn"
             },
             {
              "rxn": "AANAT_tryptm",
              "value": 7.572504099456512e-05,
              "variable": "EX_nactsertn"
             },
             {
              "rxn": "ASMT",
              "value": 0.0003064968026486181,
              "variable": "EX_nactsertn"
             },
             {
              "rxn": "DDC",
              "value": 3.706090461862032e-07,
              "variable": "EX_nactsertn"
             },
             {
              "rxn": "DDC_tryptm",
              "value": 7.572504099448889e-05,
              "variable": "EX_nactsertn"
             },
             {
              "rxn": "EX_fivehtp",
              "value": 6.09922020039208e-07,
              "variable": "EX_nactsertn"
             },
             {
              "rxn": "EX_meltn",
              "value": 0.0003064968026486206,
              "variable": "EX_nactsertn"
             },
             {
              "rxn": "EX_nactryptm",
              "value": 7.572504099456377e-05,
              "variable": "EX_nactsertn"
             },
             {
              "rxn": "EX_nactsertn",
              "value": 0.00013500820821477078,
              "variable": "EX_nactsertn"
             },
             {
              "rxn": "EX_srtn",
              "value": 0.0009022283743928646,
              "variable": "EX_nactsertn"
             },
             {
              "rxn": "EX_trp",
              "value": 7.222969027723383e-07,
              "variable": "EX_nactsertn"
             },
             {
              "rxn": "IN_trp",
              "value": 5.170964888942602e-08,
              "variable": "EX_nactsertn"
             },
             {
              "rxn": "TPH",
              "value": 3.4331331666892704e-07,
              "variable": "EX_nactsertn"
             },
             {
              "rxn": "AANAT",
              "value": 0.07763451624065026,
              "variable": "EX_srtn"
             },
             {
              "rxn": "AANAT_tryptm",
              "value": 0.04598246078517082,
              "variable": "EX_srtn"
             },
             {
              "rxn": "ASMT",
              "value": 0.0779965966603107,
              "variable": "EX_srtn"
             },
             {
              "rxn": "DDC",
              "value": 0.00020746596890594362,
              "variable": "EX_srtn"
             },
             {
              "rxn": "DDC_tryptm",
              "value": 0.04598246078512406,
              "variable": "EX_srtn"
             },
             {
              "rxn": "EX_fivehtp",
              "value": 0.00034602886093446815,
              "variable": "EX_srtn"
             },
             {
              "rxn": "EX_meltn",
              "value": 0.07799659666031071,
              "variable": "EX_srtn"
             },
             {
              "rxn": "EX_nactryptm",
              "value": 0.0459824607851679,
              "variable": "EX_srtn"
             },
             {
              "rxn": "EX_nactsertn",
              "value": 0.030890909793154786,
              "variable": "EX_srtn"
             },
             {
              "rxn": "EX_srtn",
              "value": 0.22837990729965718,
              "variable": "EX_srtn"
             },
             {
              "rxn": "EX_trp",
              "value": 0.0004029779585435366,
              "variable": "EX_srtn"
             },
             {
              "rxn": "IN_trp",
              "value": 2.791021413513982e-05,
              "variable": "EX_srtn"
             },
             {
              "rxn": "TPH",
              "value": 0.0001898130088346739,
              "variable": "EX_srtn"
             },
             {
              "rxn": "AANAT",
              "value": 0.09651821094967081,
              "variable": "EX_trp"
             },
             {
              "rxn": "AANAT_tryptm",
              "value": 0.36176335625873457,
              "variable": "EX_trp"
             },
             {
              "rxn": "ASMT",
              "value": 0.0967034583180327,
              "variable": "EX_trp"
             },
             {
              "rxn": "DDC",
              "value": 0.13670455871446371,
              "variable": "EX_trp"
             },
             {
              "rxn": "DDC_tryptm",
              "value": 0.3617633562583661,
              "variable": "EX_trp"
             },
             {
              "rxn": "EX_fivehtp",
              "value": 0.006367916643886209,
              "variable": "EX_trp"
             },
             {
              "rxn": "EX_meltn",
              "value": 0.09670345831803288,
              "variable": "EX_trp"
             },
             {
              "rxn": "EX_nactryptm",
              "value": 0.3617633562587244,
              "variable": "EX_trp"
             },
             {
              "rxn": "EX_nactsertn",
              "value": 0.011902043132004533,
              "variable": "EX_trp"
             },
             {
              "rxn": "EX_srtn",
              "value": 0.4557589136368717,
              "variable": "EX_trp"
             },
             {
              "rxn": "EX_trp",
              "value": 0.24991407751840572,
              "variable": "EX_trp"
             },
             {
              "rxn": "IN_trp",
              "value": 0.11168512370382638,
              "variable": "EX_trp"
             },
             {
              "rxn": "TPH",
              "value": 0.13737496616381326,
              "variable": "EX_trp"
             },
             {
              "rxn": "AANAT",
              "value": 0.062476621577969085,
              "variable": "IN_trp"
             },
             {
              "rxn": "AANAT_tryptm",
              "value": 0.2341708584045198,
              "variable": "IN_trp"
             },
             {
              "rxn": "ASMT",
              "value": 0.06259653293581108,
              "variable": "IN_trp"
             },
             {
              "rxn": "DDC",
              "value": 0.08848940421451032,
              "variable": "IN_trp"
             },
             {
              "rxn": "DDC_tryptm",
              "value": 0.2341708584042813,
              "variable": "IN_trp"
             },
             {
              "rxn": "EX_fivehtp",
              "value": 0.004121977754100569,
              "variable": "IN_trp"
             },
             {
              "rxn": "EX_meltn",
              "value": 0.06259653293581119,
              "variable": "IN_trp"
             },
             {
              "rxn": "EX_nactryptm",
              "value": 0.23417085840451324,
              "variable": "IN_trp"
             },
             {
              "rxn": "EX_nactsertn",
              "value": 0.00770423982631278,
              "variable": "IN_trp"
             },
             {
              "rxn": "EX_srtn",
              "value": 0.29501455629886186,
              "variable": "IN_trp"
             },
             {
              "rxn": "EX_trp",
              "value": 0.1617703757093718,
              "variable": "IN_trp"
             },
             {
              "rxn": "IN_trp",
              "value": 0.07229422448755429,
              "variable": "IN_trp"
             },
             {
              "rxn": "TPH",
              "value": 0.08892336162113798,
              "variable": "IN_trp"
             },
             {
              "rxn": "AANAT",
              "value": 0.44995979698823196,
              "variable": "TPH"
             },
             {
              "rxn": "AANAT_tryptm",
              "value": 1.2160026235934547,
              "variable": "TPH"
             },
             {
              "rxn": "ASMT",
              "value": 0.4507547357611693,
              "variable": "TPH"
             },
             {
              "rxn": "DDC",
              "value": 0.23564000239143024,
              "variable": "TPH"
             },
             {
              "rxn": "DDC_tryptm",
              "value": 1.2160026235922197,
              "variable": "TPH"
             },
             {
              "rxn": "EX_fivehtp",
              "value": 0.021437318309586364,
              "variable": "TPH"
             },
             {
              "rxn": "EX_meltn",
              "value": 0.45075473576117003,
              "variable": "TPH"
             },
             {
              "rxn": "EX_nactryptm",
              "value": 1.2160026235934234,
              "variable": "TPH"
             },
             {
              "rxn": "EX_nactsertn",
              "value": 0.10612869351980686,
              "variable": "TPH"
             },
             {
              "rxn": "EX_srtn",
              "value": 1.5477194641239067,
              "variable": "TPH"
             },
             {
              "rxn": "EX_trp",
              "value": 0.43216534423470065,
              "variable": "TPH"
             },
             {
              "rxn": "IN_trp",
              "value": 0.17676260247547876,
              "variable": "TPH"
             },
             {
              "rxn": "TPH",
              "value": 0.23626814579287092,
              "variable": "TPH"
             }
            ]
           },
           "encoding": {
            "color": {
             "field": "value",
             "scale": {
              "domain": [
               -1,
               1
              ],
              "scheme": "redblue"
             },
             "type": "quantitative"
            },
            "tooltip": {
             "field": "value",
             "type": "quantitative"
            },
            "x": {
             "field": "variable",
             "type": "nominal"
            },
            "y": {
             "field": "rxn",
             "type": "nominal"
            }
           },
           "height": 250,
           "mark": "rect",
           "width": 300
          }
         ]
        }
       ]
      },
      "image/png": "[encoded data removed]",
      "text/plain": [
       "<VegaLite 2 object>\n",
       "\n",
       "If you see this message, it means the renderer has not been properly enabled\n",
       "for the frontend that you are using. For more information, see\n",
       "https://altair-viz.github.io/user_guide/troubleshooting.html\n"
      ]
     },
     "execution_count": 34,
     "metadata": {},
     "output_type": "execute_result"
    }
   ],
   "source": [
    "alt.vconcat(get_heatmaps(Cv_df_median_list[ind], 'rxns'),\n",
    "            get_heatmaps(Cv_df_iqr_list[ind], 'rxn'))"
   ]
  },
  {
   "cell_type": "code",
   "execution_count": 35,
   "metadata": {},
   "outputs": [
    {
     "name": "stdout",
     "output_type": "stream",
     "text": [
      "/home/mrama/GRASP_test/GRASP/output_HMP/MCA_HMP2360_r0_t1.mat\n"
     ]
    },
    {
     "data": {
      "application/vnd.vegalite.v2+json": {
       "$schema": "https://vega.github.io/schema/vega-lite/v2.4.3.json",
       "config": {
        "view": {
         "height": 300,
         "width": 400
        }
       },
       "hconcat": [
        {
         "vconcat": [
          {
           "data": {
            "values": [
             {
              "rxns": "AANAT",
              "value": 0.603829362873583,
              "variable": "TPH"
             },
             {
              "rxns": "AANAT_tryptm",
              "value": -1.2098838089944444,
              "variable": "TPH"
             },
             {
              "rxns": "ASMT",
              "value": 0.5987166552439178,
              "variable": "TPH"
             },
             {
              "rxns": "DDC",
              "value": 0.9277454811469343,
              "variable": "TPH"
             },
             {
              "rxns": "DDC_tryptm",
              "value": -1.2098838089925577,
              "variable": "TPH"
             },
             {
              "rxns": "EX_fivehtp",
              "value": 0.8788205349029112,
              "variable": "TPH"
             },
             {
              "rxns": "EX_meltn",
              "value": 0.5987166552439145,
              "variable": "TPH"
             },
             {
              "rxns": "EX_nactryptm",
              "value": -1.2098838089943387,
              "variable": "TPH"
             },
             {
              "rxns": "EX_nactsertn",
              "value": -0.0069709574050188005,
              "variable": "TPH"
             },
             {
              "rxns": "EX_srtn",
              "value": 2.5753600934494294,
              "variable": "TPH"
             },
             {
              "rxns": "EX_trp",
              "value": 1.6877661707229197,
              "variable": "TPH"
             },
             {
              "rxns": "IN_trp",
              "value": 0.10752137656430176,
              "variable": "TPH"
             },
             {
              "rxns": "TPH",
              "value": 0.9298987143249167,
              "variable": "TPH"
             },
             {
              "rxns": "AANAT",
              "value": 0.002150325096680871,
              "variable": "DDC"
             },
             {
              "rxns": "AANAT_tryptm",
              "value": 0.39363516704519774,
              "variable": "DDC"
             },
             {
              "rxns": "ASMT",
              "value": 0.0021341661351046274,
              "variable": "DDC"
             },
             {
              "rxns": "DDC",
              "value": 0.013215763754465537,
              "variable": "DDC"
             },
             {
              "rxns": "DDC_tryptm",
              "value": 0.3936351670445848,
              "variable": "DDC"
             },
             {
              "rxns": "EX_fivehtp",
              "value": -1.4306693542113798,
              "variable": "DDC"
             },
             {
              "rxns": "EX_meltn",
              "value": 0.0021341661351046088,
              "variable": "DDC"
             },
             {
              "rxns": "EX_nactryptm",
              "value": 0.3936351670451642,
              "variable": "DDC"
             },
             {
              "rxns": "EX_nactsertn",
              "value": -5.0042450337488725e-06,
              "variable": "DDC"
             },
             {
              "rxns": "EX_srtn",
              "value": 0.11542315171606264,
              "variable": "DDC"
             },
             {
              "rxns": "EX_trp",
              "value": 0.004221005130371732,
              "variable": "DDC"
             },
             {
              "rxns": "IN_trp",
              "value": 0.00032630214081758735,
              "variable": "DDC"
             },
             {
              "rxns": "TPH",
              "value": 0.0016933612003983529,
              "variable": "DDC"
             },
             {
              "rxns": "AANAT",
              "value": 0.27883002696171105,
              "variable": "AANAT"
             },
             {
              "rxns": "AANAT_tryptm",
              "value": 0.021089095750581682,
              "variable": "AANAT"
             },
             {
              "rxns": "ASMT",
              "value": 0.2764317503128724,
              "variable": "AANAT"
             },
             {
              "rxns": "DDC",
              "value": 0.00027682077226882023,
              "variable": "AANAT"
             },
             {
              "rxns": "DDC_tryptm",
              "value": 0.021089095750549076,
              "variable": "AANAT"
             },
             {
              "rxns": "EX_fivehtp",
              "value": -0.025426001039419725,
              "variable": "AANAT"
             },
             {
              "rxns": "EX_meltn",
              "value": 0.27643175031287326,
              "variable": "AANAT"
             },
             {
              "rxns": "EX_nactryptm",
              "value": 0.021089095750579802,
              "variable": "AANAT"
             },
             {
              "rxns": "EX_nactsertn",
              "value": -0.003257225124807182,
              "variable": "AANAT"
             },
             {
              "rxns": "EX_srtn",
              "value": -1.541378165248842,
              "variable": "AANAT"
             },
             {
              "rxns": "EX_trp",
              "value": 0.00010312709406643103,
              "variable": "AANAT"
             },
             {
              "rxns": "IN_trp",
              "value": 6.028406624847499e-06,
              "variable": "AANAT"
             },
             {
              "rxns": "TPH",
              "value": 1.0840631025203546e-05,
              "variable": "AANAT"
             },
             {
              "rxns": "AANAT",
              "value": 0.08985631387585005,
              "variable": "ASMT"
             },
             {
              "rxns": "AANAT_tryptm",
              "value": 0.012870500488084398,
              "variable": "ASMT"
             },
             {
              "rxns": "ASMT",
              "value": 0.0902162900505632,
              "variable": "ASMT"
             },
             {
              "rxns": "DDC",
              "value": 0.00015819265045206009,
              "variable": "ASMT"
             },
             {
              "rxns": "DDC_tryptm",
              "value": 0.012870500488061166,
              "variable": "ASMT"
             },
             {
              "rxns": "EX_fivehtp",
              "value": -0.01360285741824696,
              "variable": "ASMT"
             },
             {
              "rxns": "EX_meltn",
              "value": 0.09021629005056321,
              "variable": "ASMT"
             },
             {
              "rxns": "EX_nactryptm",
              "value": 0.01287050048808233,
              "variable": "ASMT"
             },
             {
              "rxns": "EX_nactsertn",
              "value": 0.009231644239702115,
              "variable": "ASMT"
             },
             {
              "rxns": "EX_srtn",
              "value": -0.49655748622425055,
              "variable": "ASMT"
             },
             {
              "rxns": "EX_trp",
              "value": 6.737276835333531e-05,
              "variable": "ASMT"
             },
             {
              "rxns": "IN_trp",
              "value": 4.335371926714021e-06,
              "variable": "ASMT"
             },
             {
              "rxns": "TPH",
              "value": 1.106595422174785e-05,
              "variable": "ASMT"
             },
             {
              "rxns": "AANAT",
              "value": -0.019553167859398812,
              "variable": "DDC_tryptm"
             },
             {
              "rxns": "AANAT_tryptm",
              "value": 0.9645764841739858,
              "variable": "DDC_tryptm"
             },
             {
              "rxns": "ASMT",
              "value": -0.019395302108172675,
              "variable": "DDC_tryptm"
             },
             {
              "rxns": "DDC",
              "value": -0.0004381175966084697,
              "variable": "DDC_tryptm"
             },
             {
              "rxns": "DDC_tryptm",
              "value": 0.9645764841724827,
              "variable": "DDC_tryptm"
             },
             {
              "rxns": "EX_fivehtp",
              "value": 0.03178367800112674,
              "variable": "DDC_tryptm"
             },
             {
              "rxns": "EX_meltn",
              "value": -0.019395302108172637,
              "variable": "DDC_tryptm"
             },
             {
              "rxns": "EX_nactryptm",
              "value": 0.9645764841739035,
              "variable": "DDC_tryptm"
             },
             {
              "rxns": "EX_nactsertn",
              "value": 0.00016957548133965795,
              "variable": "DDC_tryptm"
             },
             {
              "rxns": "EX_srtn",
              "value": 0.09879868622687135,
              "variable": "DDC_tryptm"
             },
             {
              "rxns": "EX_trp",
              "value": 0.0009417877160115547,
              "variable": "DDC_tryptm"
             },
             {
              "rxns": "IN_trp",
              "value": 3.911211050068619e-05,
              "variable": "DDC_tryptm"
             },
             {
              "rxns": "TPH",
              "value": -0.00015637040566933961,
              "variable": "DDC_tryptm"
             },
             {
              "rxns": "AANAT",
              "value": 0.005752985591396558,
              "variable": "AANAT_tryptm"
             },
             {
              "rxns": "AANAT_tryptm",
              "value": 0.01838281330883018,
              "variable": "AANAT_tryptm"
             },
             {
              "rxns": "ASMT",
              "value": 0.00569057752349276,
              "variable": "AANAT_tryptm"
             },
             {
              "rxns": "DDC",
              "value": 0.00019247685238617132,
              "variable": "AANAT_tryptm"
             },
             {
              "rxns": "DDC_tryptm",
              "value": 0.018382813308801413,
              "variable": "AANAT_tryptm"
             },
             {
              "rxns": "EX_fivehtp",
              "value": -0.016463580811949145,
              "variable": "AANAT_tryptm"
             },
             {
              "rxns": "EX_meltn",
              "value": 0.005690577523492751,
              "variable": "AANAT_tryptm"
             },
             {
              "rxns": "EX_nactryptm",
              "value": 0.018382813308828426,
              "variable": "AANAT_tryptm"
             },
             {
              "rxns": "EX_nactsertn",
              "value": -3.10889347907036e-05,
              "variable": "AANAT_tryptm"
             },
             {
              "rxns": "EX_srtn",
              "value": -0.026347251785000855,
              "variable": "AANAT_tryptm"
             },
             {
              "rxns": "EX_trp",
              "value": 8.728353708741856e-05,
              "variable": "AANAT_tryptm"
             },
             {
              "rxns": "IN_trp",
              "value": 5.530310542794443e-06,
              "variable": "AANAT_tryptm"
             },
             {
              "rxns": "TPH",
              "value": 1.255197713403411e-05,
              "variable": "AANAT_tryptm"
             },
             {
              "rxns": "AANAT",
              "value": 0.0018593916991888526,
              "variable": "IN_trp"
             },
             {
              "rxns": "AANAT_tryptm",
              "value": 0.24663616550333944,
              "variable": "IN_trp"
             },
             {
              "rxns": "ASMT",
              "value": 0.001845793137395108,
              "variable": "IN_trp"
             },
             {
              "rxns": "DDC",
              "value": 0.014616026217504994,
              "variable": "IN_trp"
             },
             {
              "rxns": "DDC_tryptm",
              "value": 0.2466361655029549,
              "variable": "IN_trp"
             },
             {
              "rxns": "EX_fivehtp",
              "value": 0.4044250636787696,
              "variable": "IN_trp"
             },
             {
              "rxns": "EX_meltn",
              "value": 0.001845793137395366,
              "variable": "IN_trp"
             },
             {
              "rxns": "EX_nactryptm",
              "value": 0.24663616550331774,
              "variable": "IN_trp"
             },
             {
              "rxns": "EX_nactsertn",
              "value": -2.295918032916337e-06,
              "variable": "IN_trp"
             },
             {
              "rxns": "EX_srtn",
              "value": 0.07596524345489332,
              "variable": "IN_trp"
             },
             {
              "rxns": "EX_trp",
              "value": -0.8981973543996074,
              "variable": "IN_trp"
             },
             {
              "rxns": "IN_trp",
              "value": 0.9434350770204241,
              "variable": "IN_trp"
             },
             {
              "rxns": "TPH",
              "value": 0.016759759612365963,
              "variable": "IN_trp"
             },
             {
              "rxns": "AANAT",
              "value": 0.001804775232512637,
              "variable": "EX_trp"
             },
             {
              "rxns": "AANAT_tryptm",
              "value": 0.23939164789027403,
              "variable": "EX_trp"
             },
             {
              "rxns": "ASMT",
              "value": 0.0017915761053282798,
              "variable": "EX_trp"
             },
             {
              "rxns": "DDC",
              "value": 0.014186705322292187,
              "variable": "EX_trp"
             },
             {
              "rxns": "DDC_tryptm",
              "value": 0.23939164788990075,
              "variable": "EX_trp"
             },
             {
              "rxns": "EX_fivehtp",
              "value": 0.3925457657217702,
              "variable": "EX_trp"
             },
             {
              "rxns": "EX_meltn",
              "value": 0.0017915761053285302,
              "variable": "EX_trp"
             },
             {
              "rxns": "EX_nactryptm",
              "value": 0.23939164789025297,
              "variable": "EX_trp"
             },
             {
              "rxns": "EX_nactsertn",
              "value": -2.2284793481084045e-06,
              "variable": "EX_trp"
             },
             {
              "rxns": "EX_srtn",
              "value": 0.07373389371319321,
              "variable": "EX_trp"
             },
             {
              "rxns": "EX_trp",
              "value": 0.12818566424924827,
              "variable": "EX_trp"
             },
             {
              "rxns": "IN_trp",
              "value": -0.05490342463455039,
              "variable": "EX_trp"
             },
             {
              "rxns": "TPH",
              "value": 0.016267470197086013,
              "variable": "EX_trp"
             },
             {
              "rxns": "AANAT",
              "value": -0.09725862364965786,
              "variable": "EX_srtn"
             },
             {
              "rxns": "AANAT_tryptm",
              "value": 0.009353709396164428,
              "variable": "EX_srtn"
             },
             {
              "rxns": "ASMT",
              "value": -0.09644081296241623,
              "variable": "EX_srtn"
             },
             {
              "rxns": "DDC",
              "value": 0.0001193465042904279,
              "variable": "EX_srtn"
             },
             {
              "rxns": "DDC_tryptm",
              "value": 0.009353709396149901,
              "variable": "EX_srtn"
             },
             {
              "rxns": "EX_fivehtp",
              "value": -0.010541058058608728,
              "variable": "EX_srtn"
             },
             {
              "rxns": "EX_meltn",
              "value": -0.0964408129624161,
              "variable": "EX_srtn"
             },
             {
              "rxns": "EX_nactryptm",
              "value": 0.009353709396163624,
              "variable": "EX_srtn"
             },
             {
              "rxns": "EX_nactsertn",
              "value": 0.0010670457089806344,
              "variable": "EX_srtn"
             },
             {
              "rxns": "EX_srtn",
              "value": 0.5480947949803768,
              "variable": "EX_srtn"
             },
             {
              "rxns": "EX_trp",
              "value": 4.669426215762141e-05,
              "variable": "EX_srtn"
             },
             {
              "rxns": "IN_trp",
              "value": 2.897505823564662e-06,
              "variable": "EX_srtn"
             },
             {
              "rxns": "TPH",
              "value": 7.279065545392643e-06,
              "variable": "EX_srtn"
             },
             {
              "rxns": "AANAT",
              "value": -0.003721759397448222,
              "variable": "EX_fivehtp"
             },
             {
              "rxns": "AANAT_tryptm",
              "value": 0.003365546890195488,
              "variable": "EX_fivehtp"
             },
             {
              "rxns": "ASMT",
              "value": -0.0036910845163956587,
              "variable": "EX_fivehtp"
             },
             {
              "rxns": "DDC",
              "value": -0.00584589236871833,
              "variable": "EX_fivehtp"
             },
             {
              "rxns": "DDC_tryptm",
              "value": 0.0033655468901900728,
              "variable": "EX_fivehtp"
             },
             {
              "rxns": "EX_fivehtp",
              "value": 0.9903821852622756,
              "variable": "EX_fivehtp"
             },
             {
              "rxns": "EX_meltn",
              "value": -0.003691084516395661,
              "variable": "EX_fivehtp"
             },
             {
              "rxns": "EX_nactryptm",
              "value": 0.00336554689019501,
              "variable": "EX_fivehtp"
             },
             {
              "rxns": "EX_nactsertn",
              "value": 4.032844161643505e-05,
              "variable": "EX_fivehtp"
             },
             {
              "rxns": "EX_srtn",
              "value": -0.016258985908826934,
              "variable": "EX_fivehtp"
             },
             {
              "rxns": "EX_trp",
              "value": 2.903297973501729e-05,
              "variable": "EX_fivehtp"
             },
             {
              "rxns": "IN_trp",
              "value": 2.338340048746743e-06,
              "variable": "EX_fivehtp"
             },
             {
              "rxns": "TPH",
              "value": 1.1178846516048241e-05,
              "variable": "EX_fivehtp"
             },
             {
              "rxns": "AANAT",
              "value": -0.0009357506128099956,
              "variable": "EX_nactsertn"
             },
             {
              "rxns": "AANAT_tryptm",
              "value": -0.00017224675396709457,
              "variable": "EX_nactsertn"
             },
             {
              "rxns": "ASMT",
              "value": 0.006095546977546535,
              "variable": "EX_nactsertn"
             },
             {
              "rxns": "DDC",
              "value": -1.997271515253937e-06,
              "variable": "EX_nactsertn"
             },
             {
              "rxns": "DDC_tryptm",
              "value": -0.00017224675396683545,
              "variable": "EX_nactsertn"
             },
             {
              "rxns": "EX_fivehtp",
              "value": 0.00018046809917341417,
              "variable": "EX_nactsertn"
             },
             {
              "rxns": "EX_meltn",
              "value": 0.006095546977546512,
              "variable": "EX_nactsertn"
             },
             {
              "rxns": "EX_nactryptm",
              "value": -0.00017224675396718407,
              "variable": "EX_nactsertn"
             },
             {
              "rxns": "EX_nactsertn",
              "value": 0.9999324085784048,
              "variable": "EX_nactsertn"
             },
             {
              "rxns": "EX_srtn",
              "value": 0.005164510357029315,
              "variable": "EX_nactsertn"
             },
             {
              "rxns": "EX_trp",
              "value": -8.500570398137247e-07,
              "variable": "EX_nactsertn"
             },
             {
              "rxns": "IN_trp",
              "value": -5.673119380122239e-08,
              "variable": "EX_nactsertn"
             },
             {
              "rxns": "TPH",
              "value": -1.5631406176514772e-07,
              "variable": "EX_nactsertn"
             },
             {
              "rxns": "AANAT",
              "value": 0.03477343709176895,
              "variable": "EX_meltn"
             },
             {
              "rxns": "AANAT_tryptm",
              "value": 0.0069481061880895595,
              "variable": "EX_meltn"
             },
             {
              "rxns": "ASMT",
              "value": 0.034512794912800016,
              "variable": "EX_meltn"
             },
             {
              "rxns": "DDC",
              "value": 8.07164929649041e-05,
              "variable": "EX_meltn"
             },
             {
              "rxns": "DDC_tryptm",
              "value": 0.006948106188078753,
              "variable": "EX_meltn"
             },
             {
              "rxns": "EX_fivehtp",
              "value": -0.0071462831118289305,
              "variable": "EX_meltn"
             },
             {
              "rxns": "EX_meltn",
              "value": 0.03451279491279913,
              "variable": "EX_meltn"
             },
             {
              "rxns": "EX_nactryptm",
              "value": 0.006948106188088916,
              "variable": "EX_meltn"
             },
             {
              "rxns": "EX_nactsertn",
              "value": 9.08328792060942e-06,
              "variable": "EX_meltn"
             },
             {
              "rxns": "EX_srtn",
              "value": -0.19135669629279323,
              "variable": "EX_meltn"
             },
             {
              "rxns": "EX_trp",
              "value": 3.393312951297281e-05,
              "variable": "EX_meltn"
             },
             {
              "rxns": "IN_trp",
              "value": 2.2051236167363126e-06,
              "variable": "EX_meltn"
             },
             {
              "rxns": "TPH",
              "value": 6.484164912253185e-06,
              "variable": "EX_meltn"
             },
             {
              "rxns": "AANAT",
              "value": 0.012614650891792312,
              "variable": "EX_nactryptm"
             },
             {
              "rxns": "AANAT_tryptm",
              "value": 0.014342288845605511,
              "variable": "EX_nactryptm"
             },
             {
              "rxns": "ASMT",
              "value": 0.012506470170168716,
              "variable": "EX_nactryptm"
             },
             {
              "rxns": "DDC",
              "value": 0.00015293104519344114,
              "variable": "EX_nactryptm"
             },
             {
              "rxns": "DDC_tryptm",
              "value": 0.014342288845583338,
              "variable": "EX_nactryptm"
             },
             {
              "rxns": "EX_fivehtp",
              "value": -0.013377628440076707,
              "variable": "EX_nactryptm"
             },
             {
              "rxns": "EX_meltn",
              "value": 0.012506470170168737,
              "variable": "EX_nactryptm"
             },
             {
              "rxns": "EX_nactryptm",
              "value": 0.0143422888456054,
              "variable": "EX_nactryptm"
             },
             {
              "rxns": "EX_nactsertn",
              "value": -0.00014315410562924612,
              "variable": "EX_nactryptm"
             },
             {
              "rxns": "EX_srtn",
              "value": -0.06590245781480523,
              "variable": "EX_nactryptm"
             },
             {
              "rxns": "EX_trp",
              "value": 6.65107819849779e-05,
              "variable": "EX_nactryptm"
             },
             {
              "rxns": "IN_trp",
              "value": 4.289144473439655e-06,
              "variable": "EX_nactryptm"
             },
             {
              "rxns": "TPH",
              "value": 1.1719536351118583e-05,
              "variable": "EX_nactryptm"
             }
            ]
           },
           "encoding": {
            "color": {
             "field": "value",
             "scale": {
              "domain": [
               -1,
               1
              ],
              "scheme": "redblue"
             },
             "type": "quantitative"
            },
            "tooltip": {
             "field": "value",
             "type": "quantitative"
            },
            "x": {
             "field": "variable",
             "type": "nominal"
            },
            "y": {
             "field": "rxns",
             "type": "nominal"
            }
           },
           "height": 250,
           "mark": "rect",
           "width": 300
          },
          {
           "data": {
            "values": [
             {
              "rxn": "AANAT",
              "value": 0.15152252538500388,
              "variable": "AANAT"
             },
             {
              "rxn": "AANAT_tryptm",
              "value": 0.09743161441860766,
              "variable": "AANAT"
             },
             {
              "rxn": "ASMT",
              "value": 0.15051502748550538,
              "variable": "AANAT"
             },
             {
              "rxn": "DDC",
              "value": 0.0014106507537613984,
              "variable": "AANAT"
             },
             {
              "rxn": "DDC_tryptm",
              "value": 0.09743161441845788,
              "variable": "AANAT"
             },
             {
              "rxn": "EX_fivehtp",
              "value": 0.11138251894313937,
              "variable": "AANAT"
             },
             {
              "rxn": "EX_meltn",
              "value": 0.15051502748550508,
              "variable": "AANAT"
             },
             {
              "rxn": "EX_nactryptm",
              "value": 0.09743161441860228,
              "variable": "AANAT"
             },
             {
              "rxn": "EX_nactsertn",
              "value": 0.022641654849259275,
              "variable": "AANAT"
             },
             {
              "rxn": "EX_srtn",
              "value": 0.8417340901711978,
              "variable": "AANAT"
             },
             {
              "rxn": "EX_trp",
              "value": 0.0008072080075846531,
              "variable": "AANAT"
             },
             {
              "rxn": "IN_trp",
              "value": 6.466699297809116e-05,
              "variable": "AANAT"
             },
             {
              "rxn": "TPH",
              "value": 0.0003459867660598226,
              "variable": "AANAT"
             },
             {
              "rxn": "AANAT",
              "value": 0.014197154722745922,
              "variable": "AANAT_tryptm"
             },
             {
              "rxn": "AANAT_tryptm",
              "value": 0.051841663403317584,
              "variable": "AANAT_tryptm"
             },
             {
              "rxn": "ASMT",
              "value": 0.014054150726742275,
              "variable": "AANAT_tryptm"
             },
             {
              "rxn": "DDC",
              "value": 0.0005972167561514649,
              "variable": "AANAT_tryptm"
             },
             {
              "rxn": "DDC_tryptm",
              "value": 0.05184166340324002,
              "variable": "AANAT_tryptm"
             },
             {
              "rxn": "EX_fivehtp",
              "value": 0.04546197988505678,
              "variable": "AANAT_tryptm"
             },
             {
              "rxn": "EX_meltn",
              "value": 0.014054150726742275,
              "variable": "AANAT_tryptm"
             },
             {
              "rxn": "EX_nactryptm",
              "value": 0.05184166340331605,
              "variable": "AANAT_tryptm"
             },
             {
              "rxn": "EX_nactsertn",
              "value": 0.0003772116521960115,
              "variable": "AANAT_tryptm"
             },
             {
              "rxn": "EX_srtn",
              "value": 0.0759386330329582,
              "variable": "AANAT_tryptm"
             },
             {
              "rxn": "EX_trp",
              "value": 0.00047366523101086805,
              "variable": "AANAT_tryptm"
             },
             {
              "rxn": "IN_trp",
              "value": 3.988066266243613e-05,
              "variable": "AANAT_tryptm"
             },
             {
              "rxn": "TPH",
              "value": 0.00022790038115330595,
              "variable": "AANAT_tryptm"
             },
             {
              "rxn": "AANAT",
              "value": 0.16969979727848744,
              "variable": "ASMT"
             },
             {
              "rxn": "AANAT_tryptm",
              "value": 0.04453778645252701,
              "variable": "ASMT"
             },
             {
              "rxn": "ASMT",
              "value": 0.16932469898858848,
              "variable": "ASMT"
             },
             {
              "rxn": "DDC",
              "value": 0.0006673885506202088,
              "variable": "ASMT"
             },
             {
              "rxn": "DDC_tryptm",
              "value": 0.04453778645245379,
              "variable": "ASMT"
             },
             {
              "rxn": "EX_fivehtp",
              "value": 0.04810509188672156,
              "variable": "ASMT"
             },
             {
              "rxn": "EX_meltn",
              "value": 0.16932469898858846,
              "variable": "ASMT"
             },
             {
              "rxn": "EX_nactryptm",
              "value": 0.04453778645252116,
              "variable": "ASMT"
             },
             {
              "rxn": "EX_nactsertn",
              "value": 0.06324803670011198,
              "variable": "ASMT"
             },
             {
              "rxn": "EX_srtn",
              "value": 0.9330077814936939,
              "variable": "ASMT"
             },
             {
              "rxn": "EX_trp",
              "value": 0.0004804660304525393,
              "variable": "ASMT"
             },
             {
              "rxn": "IN_trp",
              "value": 3.7266621027369685e-05,
              "variable": "ASMT"
             },
             {
              "rxn": "TPH",
              "value": 0.0002138326268648983,
              "variable": "ASMT"
             },
             {
              "rxn": "AANAT",
              "value": 0.021754595973370372,
              "variable": "DDC"
             },
             {
              "rxn": "AANAT_tryptm",
              "value": 0.5864892691030993,
              "variable": "DDC"
             },
             {
              "rxn": "ASMT",
              "value": 0.021557274231080205,
              "variable": "DDC"
             },
             {
              "rxn": "DDC",
              "value": 0.029966789970558294,
              "variable": "DDC"
             },
             {
              "rxn": "DDC_tryptm",
              "value": 0.5864892691021912,
              "variable": "DDC"
             },
             {
              "rxn": "EX_fivehtp",
              "value": 0.6286355767297249,
              "variable": "DDC"
             },
             {
              "rxn": "EX_meltn",
              "value": 0.021557274231079532,
              "variable": "DDC"
             },
             {
              "rxn": "EX_nactryptm",
              "value": 0.5864892691030561,
              "variable": "DDC"
             },
             {
              "rxn": "EX_nactsertn",
              "value": 0.0003170441668780892,
              "variable": "DDC"
             },
             {
              "rxn": "EX_srtn",
              "value": 0.2203756269159125,
              "variable": "DDC"
             },
             {
              "rxn": "EX_trp",
              "value": 0.047829100379455265,
              "variable": "DDC"
             },
             {
              "rxn": "IN_trp",
              "value": 0.0029689906109404284,
              "variable": "DDC"
             },
             {
              "rxn": "TPH",
              "value": 0.026878819144228433,
              "variable": "DDC"
             },
             {
              "rxn": "AANAT",
              "value": 0.02857114941368684,
              "variable": "DDC_tryptm"
             },
             {
              "rxn": "AANAT_tryptm",
              "value": 0.08849674915113737,
              "variable": "DDC_tryptm"
             },
             {
              "rxn": "ASMT",
              "value": 0.028291096021461737,
              "variable": "DDC_tryptm"
             },
             {
              "rxn": "DDC",
              "value": 0.0010732358672752348,
              "variable": "DDC_tryptm"
             },
             {
              "rxn": "DDC_tryptm",
              "value": 0.08849674915100225,
              "variable": "DDC_tryptm"
             },
             {
              "rxn": "EX_fivehtp",
              "value": 0.0798287291785508,
              "variable": "DDC_tryptm"
             },
             {
              "rxn": "EX_meltn",
              "value": 0.028291096021461765,
              "variable": "DDC_tryptm"
             },
             {
              "rxn": "EX_nactryptm",
              "value": 0.08849674915113304,
              "variable": "DDC_tryptm"
             },
             {
              "rxn": "EX_nactsertn",
              "value": 0.0014055829730053092,
              "variable": "DDC_tryptm"
             },
             {
              "rxn": "EX_srtn",
              "value": 0.154731402625369,
              "variable": "DDC_tryptm"
             },
             {
              "rxn": "EX_trp",
              "value": 0.00102203018957511,
              "variable": "DDC_tryptm"
             },
             {
              "rxn": "IN_trp",
              "value": 0.0001309541680826742,
              "variable": "DDC_tryptm"
             },
             {
              "rxn": "TPH",
              "value": 0.0005056934219268603,
              "variable": "DDC_tryptm"
             },
             {
              "rxn": "AANAT",
              "value": 0.0015895513533648524,
              "variable": "EX_fivehtp"
             },
             {
              "rxn": "AANAT_tryptm",
              "value": 0.004227961420633579,
              "variable": "EX_fivehtp"
             },
             {
              "rxn": "ASMT",
              "value": 0.0015795527965696762,
              "variable": "EX_fivehtp"
             },
             {
              "rxn": "DDC",
              "value": 0.00019569280058562462,
              "variable": "EX_fivehtp"
             },
             {
              "rxn": "DDC_tryptm",
              "value": 0.004227961420626437,
              "variable": "EX_fivehtp"
             },
             {
              "rxn": "EX_fivehtp",
              "value": 0.004526920594515982,
              "variable": "EX_fivehtp"
             },
             {
              "rxn": "EX_meltn",
              "value": 0.0015795527965696827,
              "variable": "EX_fivehtp"
             },
             {
              "rxn": "EX_nactryptm",
              "value": 0.004227961420632419,
              "variable": "EX_fivehtp"
             },
             {
              "rxn": "EX_nactsertn",
              "value": 0.00027544329572623804,
              "variable": "EX_fivehtp"
             },
             {
              "rxn": "EX_srtn",
              "value": 0.008591729489812119,
              "variable": "EX_fivehtp"
             },
             {
              "rxn": "EX_trp",
              "value": 0.0003238025571071874,
              "variable": "EX_fivehtp"
             },
             {
              "rxn": "IN_trp",
              "value": 1.98041066384197e-05,
              "variable": "EX_fivehtp"
             },
             {
              "rxn": "TPH",
              "value": 0.00017975732756435398,
              "variable": "EX_fivehtp"
             },
             {
              "rxn": "AANAT",
              "value": 0.0348532081838378,
              "variable": "EX_meltn"
             },
             {
              "rxn": "AANAT_tryptm",
              "value": 0.01725263875289825,
              "variable": "EX_meltn"
             },
             {
              "rxn": "ASMT",
              "value": 0.03460466820782809,
              "variable": "EX_meltn"
             },
             {
              "rxn": "DDC",
              "value": 0.0002557819296271993,
              "variable": "EX_meltn"
             },
             {
              "rxn": "DDC_tryptm",
              "value": 0.017252638752871793,
              "variable": "EX_meltn"
             },
             {
              "rxn": "EX_fivehtp",
              "value": 0.018039991599109333,
              "variable": "EX_meltn"
             },
             {
              "rxn": "EX_meltn",
              "value": 0.03460466820782859,
              "variable": "EX_meltn"
             },
             {
              "rxn": "EX_nactryptm",
              "value": 0.017252638752896655,
              "variable": "EX_meltn"
             },
             {
              "rxn": "EX_nactsertn",
              "value": 0.0007665566206871024,
              "variable": "EX_meltn"
             },
             {
              "rxn": "EX_srtn",
              "value": 0.19253865965008787,
              "variable": "EX_meltn"
             },
             {
              "rxn": "EX_trp",
              "value": 0.0002104699484393239,
              "variable": "EX_meltn"
             },
             {
              "rxn": "IN_trp",
              "value": 1.5973650639502197e-05,
              "variable": "EX_meltn"
             },
             {
              "rxn": "TPH",
              "value": 0.00010795017559485195,
              "variable": "EX_meltn"
             },
             {
              "rxn": "AANAT",
              "value": 0.016329225897037003,
              "variable": "EX_nactryptm"
             },
             {
              "rxn": "AANAT_tryptm",
              "value": 0.03552990743225745,
              "variable": "EX_nactryptm"
             },
             {
              "rxn": "ASMT",
              "value": 0.016160951726428653,
              "variable": "EX_nactryptm"
             },
             {
              "rxn": "DDC",
              "value": 0.0004433485412718898,
              "variable": "EX_nactryptm"
             },
             {
              "rxn": "DDC_tryptm",
              "value": 0.03552990743220251,
              "variable": "EX_nactryptm"
             },
             {
              "rxn": "EX_fivehtp",
              "value": 0.03173216989851927,
              "variable": "EX_nactryptm"
             },
             {
              "rxn": "EX_meltn",
              "value": 0.01616095172642859,
              "variable": "EX_nactryptm"
             },
             {
              "rxn": "EX_nactryptm",
              "value": 0.03552990743225476,
              "variable": "EX_nactryptm"
             },
             {
              "rxn": "EX_nactsertn",
              "value": 0.0010133759518966968,
              "variable": "EX_nactryptm"
             },
             {
              "rxn": "EX_srtn",
              "value": 0.0877335405787446,
              "variable": "EX_nactryptm"
             },
             {
              "rxn": "EX_trp",
              "value": 0.0003766917214136406,
              "variable": "EX_nactryptm"
             },
             {
              "rxn": "IN_trp",
              "value": 3.176519256702058e-05,
              "variable": "EX_nactryptm"
             },
             {
              "rxn": "TPH",
              "value": 0.0001960399555700823,
              "variable": "EX_nactryptm"
             },
             {
              "rxn": "AANAT",
              "value": 0.001211858962185325,
              "variable": "EX_nactsertn"
             },
             {
              "rxn": "AANAT_tryptm",
              "value": 0.00044576832592750317,
              "variable": "EX_nactsertn"
             },
             {
              "rxn": "ASMT",
              "value": 0.0012117690485093898,
              "variable": "EX_nactsertn"
             },
             {
              "rxn": "DDC",
              "value": 7.068601041586892e-06,
              "variable": "EX_nactsertn"
             },
             {
              "rxn": "DDC_tryptm",
              "value": 0.00044576832592679676,
              "variable": "EX_nactsertn"
             },
             {
              "rxn": "EX_fivehtp",
              "value": 0.0004890904834318412,
              "variable": "EX_nactsertn"
             },
             {
              "rxn": "EX_meltn",
              "value": 0.0012117690485093898,
              "variable": "EX_nactsertn"
             },
             {
              "rxn": "EX_nactryptm",
              "value": 0.0004457683259274847,
              "variable": "EX_nactsertn"
             },
             {
              "rxn": "EX_nactsertn",
              "value": 0.000455258678411008,
              "variable": "EX_nactsertn"
             },
             {
              "rxn": "EX_srtn",
              "value": 0.006662061435254302,
              "variable": "EX_nactsertn"
             },
             {
              "rxn": "EX_trp",
              "value": 5.603677988450611e-06,
              "variable": "EX_nactsertn"
             },
             {
              "rxn": "IN_trp",
              "value": 4.343507748419872e-07,
              "variable": "EX_nactsertn"
             },
             {
              "rxn": "TPH",
              "value": 2.7135680115427294e-06,
              "variable": "EX_nactsertn"
             },
             {
              "rxn": "AANAT",
              "value": 0.040370350049111825,
              "variable": "EX_srtn"
             },
             {
              "rxn": "AANAT_tryptm",
              "value": 0.030800106498958195,
              "variable": "EX_srtn"
             },
             {
              "rxn": "ASMT",
              "value": 0.04008910166004967,
              "variable": "EX_srtn"
             },
             {
              "rxn": "DDC",
              "value": 0.0004634009461274632,
              "variable": "EX_srtn"
             },
             {
              "rxn": "DDC_tryptm",
              "value": 0.030800106498910386,
              "variable": "EX_srtn"
             },
             {
              "rxn": "EX_fivehtp",
              "value": 0.03523159255974604,
              "variable": "EX_srtn"
             },
             {
              "rxn": "EX_meltn",
              "value": 0.0400891016600496,
              "variable": "EX_srtn"
             },
             {
              "rxn": "EX_nactryptm",
              "value": 0.030800106498955617,
              "variable": "EX_srtn"
             },
             {
              "rxn": "EX_nactsertn",
              "value": 0.00726064411569884,
              "variable": "EX_srtn"
             },
             {
              "rxn": "EX_srtn",
              "value": 0.22447762417074713,
              "variable": "EX_srtn"
             },
             {
              "rxn": "EX_trp",
              "value": 0.0003217821011741948,
              "variable": "EX_srtn"
             },
             {
              "rxn": "IN_trp",
              "value": 2.414743083317819e-05,
              "variable": "EX_srtn"
             },
             {
              "rxn": "TPH",
              "value": 0.00015409136258129352,
              "variable": "EX_srtn"
             },
             {
              "rxn": "AANAT",
              "value": 0.09658457499191693,
              "variable": "EX_trp"
             },
             {
              "rxn": "AANAT_tryptm",
              "value": 0.3709825373636969,
              "variable": "EX_trp"
             },
             {
              "rxn": "ASMT",
              "value": 0.09573955244317303,
              "variable": "EX_trp"
             },
             {
              "rxn": "DDC",
              "value": 0.15810320966145552,
              "variable": "EX_trp"
             },
             {
              "rxn": "DDC_tryptm",
              "value": 0.37098253736311765,
              "variable": "EX_trp"
             },
             {
              "rxn": "EX_fivehtp",
              "value": 0.4527192216354738,
              "variable": "EX_trp"
             },
             {
              "rxn": "EX_meltn",
              "value": 0.09573955244317317,
              "variable": "EX_trp"
             },
             {
              "rxn": "EX_nactryptm",
              "value": 0.3709825373636617,
              "variable": "EX_trp"
             },
             {
              "rxn": "EX_nactsertn",
              "value": 0.0010769079014361182,
              "variable": "EX_trp"
             },
             {
              "rxn": "EX_srtn",
              "value": 0.4579942968488034,
              "variable": "EX_trp"
             },
             {
              "rxn": "EX_trp",
              "value": 0.3636718559874125,
              "variable": "EX_trp"
             },
             {
              "rxn": "IN_trp",
              "value": 0.12691974882098211,
              "variable": "EX_trp"
             },
             {
              "rxn": "TPH",
              "value": 0.15822708604973765,
              "variable": "EX_trp"
             },
             {
              "rxn": "AANAT",
              "value": 0.09950743659066452,
              "variable": "IN_trp"
             },
             {
              "rxn": "AANAT_tryptm",
              "value": 0.3822092846197369,
              "variable": "IN_trp"
             },
             {
              "rxn": "ASMT",
              "value": 0.09863684180165341,
              "variable": "IN_trp"
             },
             {
              "rxn": "DDC",
              "value": 0.16288776040568032,
              "variable": "IN_trp"
             },
             {
              "rxn": "DDC_tryptm",
              "value": 0.38220928461913994,
              "variable": "IN_trp"
             },
             {
              "rxn": "EX_fivehtp",
              "value": 0.4664195006711682,
              "variable": "IN_trp"
             },
             {
              "rxn": "EX_meltn",
              "value": 0.09863684180165357,
              "variable": "IN_trp"
             },
             {
              "rxn": "EX_nactryptm",
              "value": 0.3822092846197005,
              "variable": "IN_trp"
             },
             {
              "rxn": "EX_nactsertn",
              "value": 0.001109497502319685,
              "variable": "IN_trp"
             },
             {
              "rxn": "EX_srtn",
              "value": 0.4718542112587058,
              "variable": "IN_trp"
             },
             {
              "rxn": "EX_trp",
              "value": 0.374677365951087,
              "variable": "IN_trp"
             },
             {
              "rxn": "IN_trp",
              "value": 0.1307606194774258,
              "variable": "IN_trp"
             },
             {
              "rxn": "TPH",
              "value": 0.16301538556583753,
              "variable": "IN_trp"
             },
             {
              "rxn": "AANAT",
              "value": 0.33878585908674563,
              "variable": "TPH"
             },
             {
              "rxn": "AANAT_tryptm",
              "value": 1.1461455837810925,
              "variable": "TPH"
             },
             {
              "rxn": "ASMT",
              "value": 0.336057201257379,
              "variable": "TPH"
             },
             {
              "rxn": "DDC",
              "value": 0.3164441975008332,
              "variable": "TPH"
             },
             {
              "rxn": "DDC_tryptm",
              "value": 1.1461455837793113,
              "variable": "TPH"
             },
             {
              "rxn": "EX_fivehtp",
              "value": 1.1033678664265563,
              "variable": "TPH"
             },
             {
              "rxn": "EX_meltn",
              "value": 0.3360572012573784,
              "variable": "TPH"
             },
             {
              "rxn": "EX_nactryptm",
              "value": 1.146145583781002,
              "variable": "TPH"
             },
             {
              "rxn": "EX_nactsertn",
              "value": 0.04617846911285383,
              "variable": "TPH"
             },
             {
              "rxn": "EX_srtn",
              "value": 1.7853561885779405,
              "variable": "TPH"
             },
             {
              "rxn": "EX_trp",
              "value": 0.7279739989834839,
              "variable": "TPH"
             },
             {
              "rxn": "IN_trp",
              "value": 0.24901271065674896,
              "variable": "TPH"
             },
             {
              "rxn": "TPH",
              "value": 0.317678546269071,
              "variable": "TPH"
             }
            ]
           },
           "encoding": {
            "color": {
             "field": "value",
             "scale": {
              "domain": [
               -1,
               1
              ],
              "scheme": "redblue"
             },
             "type": "quantitative"
            },
            "tooltip": {
             "field": "value",
             "type": "quantitative"
            },
            "x": {
             "field": "variable",
             "type": "nominal"
            },
            "y": {
             "field": "rxn",
             "type": "nominal"
            }
           },
           "height": 250,
           "mark": "rect",
           "width": 300
          }
         ]
        },
        {
         "vconcat": [
          {
           "data": {
            "values": [
             {
              "rxns": "AANAT",
              "value": 0.6038293628735829,
              "variable": "TPH"
             },
             {
              "rxns": "AANAT_tryptm",
              "value": -1.2098838089944444,
              "variable": "TPH"
             },
             {
              "rxns": "ASMT",
              "value": 0.5987166552439177,
              "variable": "TPH"
             },
             {
              "rxns": "DDC",
              "value": 0.9277454811469343,
              "variable": "TPH"
             },
             {
              "rxns": "DDC_tryptm",
              "value": -1.2098838089925574,
              "variable": "TPH"
             },
             {
              "rxns": "EX_fivehtp",
              "value": 0.8788205349029112,
              "variable": "TPH"
             },
             {
              "rxns": "EX_meltn",
              "value": 0.5987166552439144,
              "variable": "TPH"
             },
             {
              "rxns": "EX_nactryptm",
              "value": -1.2098838089943387,
              "variable": "TPH"
             },
             {
              "rxns": "EX_nactsertn",
              "value": -0.0069709574050188005,
              "variable": "TPH"
             },
             {
              "rxns": "EX_srtn",
              "value": 2.5753600934494294,
              "variable": "TPH"
             },
             {
              "rxns": "EX_trp",
              "value": 1.6877661707229195,
              "variable": "TPH"
             },
             {
              "rxns": "IN_trp",
              "value": 0.10752137656430176,
              "variable": "TPH"
             },
             {
              "rxns": "TPH",
              "value": 0.9298987143249164,
              "variable": "TPH"
             },
             {
              "rxns": "AANAT",
              "value": -0.013565194210542047,
              "variable": "DDC"
             },
             {
              "rxns": "AANAT_tryptm",
              "value": 1.3340953527370663,
              "variable": "DDC"
             },
             {
              "rxns": "ASMT",
              "value": -0.013440185156974219,
              "variable": "DDC"
             },
             {
              "rxns": "DDC",
              "value": 0.012904383968436295,
              "variable": "DDC"
             },
             {
              "rxns": "DDC_tryptm",
              "value": 1.3340953527349884,
              "variable": "DDC"
             },
             {
              "rxns": "EX_fivehtp",
              "value": -1.3779453751692499,
              "variable": "DDC"
             },
             {
              "rxns": "EX_meltn",
              "value": -0.013440185156979687,
              "variable": "DDC"
             },
             {
              "rxns": "EX_nactryptm",
              "value": 1.3340953527369506,
              "variable": "DDC"
             },
             {
              "rxns": "EX_nactsertn",
              "value": 4.70944259915706e-05,
              "variable": "DDC"
             },
             {
              "rxns": "EX_srtn",
              "value": 0.25364182042377553,
              "variable": "DDC"
             },
             {
              "rxns": "EX_trp",
              "value": 0.005535040899072524,
              "variable": "DDC"
             },
             {
              "rxns": "IN_trp",
              "value": 0.000521836947954026,
              "variable": "DDC"
             },
             {
              "rxns": "TPH",
              "value": 0.0018186557805898924,
              "variable": "DDC"
             },
             {
              "rxns": "AANAT",
              "value": 0.28730822184141575,
              "variable": "AANAT"
             },
             {
              "rxns": "AANAT_tryptm",
              "value": 0.06573303793999671,
              "variable": "AANAT"
             },
             {
              "rxns": "ASMT",
              "value": 0.2849472427255517,
              "variable": "AANAT"
             },
             {
              "rxns": "DDC",
              "value": 0.0007457481494705044,
              "variable": "AANAT"
             },
             {
              "rxns": "DDC_tryptm",
              "value": 0.06573303793989373,
              "variable": "AANAT"
             },
             {
              "rxns": "EX_fivehtp",
              "value": -0.06711631915389452,
              "variable": "AANAT"
             },
             {
              "rxns": "EX_meltn",
              "value": 0.28494724272555216,
              "variable": "AANAT"
             },
             {
              "rxns": "EX_nactryptm",
              "value": 0.06573303793999055,
              "variable": "AANAT"
             },
             {
              "rxns": "EX_nactsertn",
              "value": -0.003354692380939985,
              "variable": "AANAT"
             },
             {
              "rxns": "EX_srtn",
              "value": -1.5846855360099343,
              "variable": "AANAT"
             },
             {
              "rxns": "EX_trp",
              "value": 0.0002886468017584947,
              "variable": "AANAT"
             },
             {
              "rxns": "IN_trp",
              "value": 2.127774068788733e-05,
              "variable": "AANAT"
             },
             {
              "rxns": "TPH",
              "value": 6.014455143662538e-05,
              "variable": "AANAT"
             },
             {
              "rxns": "AANAT",
              "value": 0.08985631387585005,
              "variable": "ASMT"
             },
             {
              "rxns": "AANAT_tryptm",
              "value": 0.012870500488084398,
              "variable": "ASMT"
             },
             {
              "rxns": "ASMT",
              "value": 0.09021629005056318,
              "variable": "ASMT"
             },
             {
              "rxns": "DDC",
              "value": 0.00015819265045206009,
              "variable": "ASMT"
             },
             {
              "rxns": "DDC_tryptm",
              "value": 0.012870500488061166,
              "variable": "ASMT"
             },
             {
              "rxns": "EX_fivehtp",
              "value": -0.01360285741824696,
              "variable": "ASMT"
             },
             {
              "rxns": "EX_meltn",
              "value": 0.0902162900505632,
              "variable": "ASMT"
             },
             {
              "rxns": "EX_nactryptm",
              "value": 0.01287050048808233,
              "variable": "ASMT"
             },
             {
              "rxns": "EX_nactsertn",
              "value": 0.009231644239702113,
              "variable": "ASMT"
             },
             {
              "rxns": "EX_srtn",
              "value": -0.49655748622425055,
              "variable": "ASMT"
             },
             {
              "rxns": "EX_trp",
              "value": 6.737276835333531e-05,
              "variable": "ASMT"
             },
             {
              "rxns": "IN_trp",
              "value": 4.33537192671402e-06,
              "variable": "ASMT"
             },
             {
              "rxns": "TPH",
              "value": 1.1065954221747848e-05,
              "variable": "ASMT"
             },
             {
              "rxns": "AANAT",
              "value": 0.0018593916991888524,
              "variable": "IN_trp"
             },
             {
              "rxns": "AANAT_tryptm",
              "value": 0.24663616550333944,
              "variable": "IN_trp"
             },
             {
              "rxns": "ASMT",
              "value": 0.0018457931373951077,
              "variable": "IN_trp"
             },
             {
              "rxns": "DDC",
              "value": 0.014616026217504994,
              "variable": "IN_trp"
             },
             {
              "rxns": "DDC_tryptm",
              "value": 0.2466361655029549,
              "variable": "IN_trp"
             },
             {
              "rxns": "EX_fivehtp",
              "value": 0.4044250636787696,
              "variable": "IN_trp"
             },
             {
              "rxns": "EX_meltn",
              "value": 0.0018457931373953658,
              "variable": "IN_trp"
             },
             {
              "rxns": "EX_nactryptm",
              "value": 0.24663616550331774,
              "variable": "IN_trp"
             },
             {
              "rxns": "EX_nactsertn",
              "value": -2.295918032916337e-06,
              "variable": "IN_trp"
             },
             {
              "rxns": "EX_srtn",
              "value": 0.0759652434548933,
              "variable": "IN_trp"
             },
             {
              "rxns": "EX_trp",
              "value": -0.8981973543996074,
              "variable": "IN_trp"
             },
             {
              "rxns": "IN_trp",
              "value": 0.9434350770204241,
              "variable": "IN_trp"
             },
             {
              "rxns": "TPH",
              "value": 0.01675975961236596,
              "variable": "IN_trp"
             },
             {
              "rxns": "AANAT",
              "value": 0.001804775232512637,
              "variable": "EX_trp"
             },
             {
              "rxns": "AANAT_tryptm",
              "value": 0.23939164789027403,
              "variable": "EX_trp"
             },
             {
              "rxns": "ASMT",
              "value": 0.0017915761053282798,
              "variable": "EX_trp"
             },
             {
              "rxns": "DDC",
              "value": 0.014186705322292187,
              "variable": "EX_trp"
             },
             {
              "rxns": "DDC_tryptm",
              "value": 0.23939164788990075,
              "variable": "EX_trp"
             },
             {
              "rxns": "EX_fivehtp",
              "value": 0.3925457657217702,
              "variable": "EX_trp"
             },
             {
              "rxns": "EX_meltn",
              "value": 0.0017915761053285302,
              "variable": "EX_trp"
             },
             {
              "rxns": "EX_nactryptm",
              "value": 0.23939164789025297,
              "variable": "EX_trp"
             },
             {
              "rxns": "EX_nactsertn",
              "value": -2.2284793481084045e-06,
              "variable": "EX_trp"
             },
             {
              "rxns": "EX_srtn",
              "value": 0.07373389371319321,
              "variable": "EX_trp"
             },
             {
              "rxns": "EX_trp",
              "value": 0.12818566424924827,
              "variable": "EX_trp"
             },
             {
              "rxns": "IN_trp",
              "value": -0.05490342463455039,
              "variable": "EX_trp"
             },
             {
              "rxns": "TPH",
              "value": 0.016267470197086013,
              "variable": "EX_trp"
             },
             {
              "rxns": "AANAT",
              "value": -0.09725862364965786,
              "variable": "EX_srtn"
             },
             {
              "rxns": "AANAT_tryptm",
              "value": 0.009353709396164428,
              "variable": "EX_srtn"
             },
             {
              "rxns": "ASMT",
              "value": -0.09644081296241623,
              "variable": "EX_srtn"
             },
             {
              "rxns": "DDC",
              "value": 0.0001193465042904279,
              "variable": "EX_srtn"
             },
             {
              "rxns": "DDC_tryptm",
              "value": 0.009353709396149901,
              "variable": "EX_srtn"
             },
             {
              "rxns": "EX_fivehtp",
              "value": -0.010541058058608728,
              "variable": "EX_srtn"
             },
             {
              "rxns": "EX_meltn",
              "value": -0.0964408129624161,
              "variable": "EX_srtn"
             },
             {
              "rxns": "EX_nactryptm",
              "value": 0.009353709396163624,
              "variable": "EX_srtn"
             },
             {
              "rxns": "EX_nactsertn",
              "value": 0.0010670457089806344,
              "variable": "EX_srtn"
             },
             {
              "rxns": "EX_srtn",
              "value": 0.5480947949803768,
              "variable": "EX_srtn"
             },
             {
              "rxns": "EX_trp",
              "value": 4.669426215762141e-05,
              "variable": "EX_srtn"
             },
             {
              "rxns": "IN_trp",
              "value": 2.897505823564662e-06,
              "variable": "EX_srtn"
             },
             {
              "rxns": "TPH",
              "value": 7.279065545392643e-06,
              "variable": "EX_srtn"
             },
             {
              "rxns": "AANAT",
              "value": -0.003721759397448222,
              "variable": "EX_fivehtp"
             },
             {
              "rxns": "AANAT_tryptm",
              "value": 0.003365546890195488,
              "variable": "EX_fivehtp"
             },
             {
              "rxns": "ASMT",
              "value": -0.0036910845163956587,
              "variable": "EX_fivehtp"
             },
             {
              "rxns": "DDC",
              "value": -0.00584589236871833,
              "variable": "EX_fivehtp"
             },
             {
              "rxns": "DDC_tryptm",
              "value": 0.0033655468901900728,
              "variable": "EX_fivehtp"
             },
             {
              "rxns": "EX_fivehtp",
              "value": 0.9903821852622756,
              "variable": "EX_fivehtp"
             },
             {
              "rxns": "EX_meltn",
              "value": -0.003691084516395661,
              "variable": "EX_fivehtp"
             },
             {
              "rxns": "EX_nactryptm",
              "value": 0.00336554689019501,
              "variable": "EX_fivehtp"
             },
             {
              "rxns": "EX_nactsertn",
              "value": 4.032844161643505e-05,
              "variable": "EX_fivehtp"
             },
             {
              "rxns": "EX_srtn",
              "value": -0.016258985908826934,
              "variable": "EX_fivehtp"
             },
             {
              "rxns": "EX_trp",
              "value": 2.903297973501729e-05,
              "variable": "EX_fivehtp"
             },
             {
              "rxns": "IN_trp",
              "value": 2.338340048746743e-06,
              "variable": "EX_fivehtp"
             },
             {
              "rxns": "TPH",
              "value": 1.1178846516048241e-05,
              "variable": "EX_fivehtp"
             },
             {
              "rxns": "AANAT",
              "value": -0.0009357506128099958,
              "variable": "EX_nactsertn"
             },
             {
              "rxns": "AANAT_tryptm",
              "value": -0.0001722467539670946,
              "variable": "EX_nactsertn"
             },
             {
              "rxns": "ASMT",
              "value": 0.006095546977546537,
              "variable": "EX_nactsertn"
             },
             {
              "rxns": "DDC",
              "value": -1.997271515253937e-06,
              "variable": "EX_nactsertn"
             },
             {
              "rxns": "DDC_tryptm",
              "value": -0.00017224675396683545,
              "variable": "EX_nactsertn"
             },
             {
              "rxns": "EX_fivehtp",
              "value": 0.0001804680991734142,
              "variable": "EX_nactsertn"
             },
             {
              "rxns": "EX_meltn",
              "value": 0.006095546977546514,
              "variable": "EX_nactsertn"
             },
             {
              "rxns": "EX_nactryptm",
              "value": -0.00017224675396718407,
              "variable": "EX_nactsertn"
             },
             {
              "rxns": "EX_nactsertn",
              "value": 0.999932408578405,
              "variable": "EX_nactsertn"
             },
             {
              "rxns": "EX_srtn",
              "value": 0.0051645103570293165,
              "variable": "EX_nactsertn"
             },
             {
              "rxns": "EX_trp",
              "value": -8.500570398137249e-07,
              "variable": "EX_nactsertn"
             },
             {
              "rxns": "IN_trp",
              "value": -5.6731193801222393e-08,
              "variable": "EX_nactsertn"
             },
             {
              "rxns": "TPH",
              "value": -1.5631406176514772e-07,
              "variable": "EX_nactsertn"
             },
             {
              "rxns": "AANAT",
              "value": 0.03477343709176895,
              "variable": "EX_meltn"
             },
             {
              "rxns": "AANAT_tryptm",
              "value": 0.0069481061880895595,
              "variable": "EX_meltn"
             },
             {
              "rxns": "ASMT",
              "value": 0.034512794912800016,
              "variable": "EX_meltn"
             },
             {
              "rxns": "DDC",
              "value": 8.07164929649041e-05,
              "variable": "EX_meltn"
             },
             {
              "rxns": "DDC_tryptm",
              "value": 0.006948106188078753,
              "variable": "EX_meltn"
             },
             {
              "rxns": "EX_fivehtp",
              "value": -0.0071462831118289305,
              "variable": "EX_meltn"
             },
             {
              "rxns": "EX_meltn",
              "value": 0.03451279491279913,
              "variable": "EX_meltn"
             },
             {
              "rxns": "EX_nactryptm",
              "value": 0.006948106188088916,
              "variable": "EX_meltn"
             },
             {
              "rxns": "EX_nactsertn",
              "value": 9.08328792060942e-06,
              "variable": "EX_meltn"
             },
             {
              "rxns": "EX_srtn",
              "value": -0.19135669629279323,
              "variable": "EX_meltn"
             },
             {
              "rxns": "EX_trp",
              "value": 3.393312951297281e-05,
              "variable": "EX_meltn"
             },
             {
              "rxns": "IN_trp",
              "value": 2.2051236167363126e-06,
              "variable": "EX_meltn"
             },
             {
              "rxns": "TPH",
              "value": 6.484164912253185e-06,
              "variable": "EX_meltn"
             },
             {
              "rxns": "AANAT",
              "value": 0.012614650891792315,
              "variable": "EX_nactryptm"
             },
             {
              "rxns": "AANAT_tryptm",
              "value": 0.014342288845605514,
              "variable": "EX_nactryptm"
             },
             {
              "rxns": "ASMT",
              "value": 0.012506470170168716,
              "variable": "EX_nactryptm"
             },
             {
              "rxns": "DDC",
              "value": 0.00015293104519344114,
              "variable": "EX_nactryptm"
             },
             {
              "rxns": "DDC_tryptm",
              "value": 0.014342288845583341,
              "variable": "EX_nactryptm"
             },
             {
              "rxns": "EX_fivehtp",
              "value": -0.013377628440076703,
              "variable": "EX_nactryptm"
             },
             {
              "rxns": "EX_meltn",
              "value": 0.012506470170168737,
              "variable": "EX_nactryptm"
             },
             {
              "rxns": "EX_nactryptm",
              "value": 0.014342288845605403,
              "variable": "EX_nactryptm"
             },
             {
              "rxns": "EX_nactsertn",
              "value": -0.0001431541056292461,
              "variable": "EX_nactryptm"
             },
             {
              "rxns": "EX_srtn",
              "value": -0.06590245781480522,
              "variable": "EX_nactryptm"
             },
             {
              "rxns": "EX_trp",
              "value": 6.65107819849779e-05,
              "variable": "EX_nactryptm"
             },
             {
              "rxns": "IN_trp",
              "value": 4.289144473439656e-06,
              "variable": "EX_nactryptm"
             },
             {
              "rxns": "TPH",
              "value": 1.1719536351118579e-05,
              "variable": "EX_nactryptm"
             }
            ]
           },
           "encoding": {
            "color": {
             "field": "value",
             "scale": {
              "domain": [
               -1,
               1
              ],
              "scheme": "redblue"
             },
             "type": "quantitative"
            },
            "tooltip": {
             "field": "value",
             "type": "quantitative"
            },
            "x": {
             "field": "variable",
             "type": "nominal"
            },
            "y": {
             "field": "rxns",
             "type": "nominal"
            }
           },
           "height": 250,
           "mark": "rect",
           "width": 300
          },
          {
           "data": {
            "values": [
             {
              "rxn": "AANAT",
              "value": 0.15763772811586266,
              "variable": "AANAT"
             },
             {
              "rxn": "AANAT_tryptm",
              "value": 0.14104856442834457,
              "variable": "AANAT"
             },
             {
              "rxn": "ASMT",
              "value": 0.15670082544084407,
              "variable": "AANAT"
             },
             {
              "rxn": "DDC",
              "value": 0.0020896925336858583,
              "variable": "AANAT"
             },
             {
              "rxn": "DDC_tryptm",
              "value": 0.14104856442813077,
              "variable": "AANAT"
             },
             {
              "rxn": "EX_fivehtp",
              "value": 0.14848476113678213,
              "variable": "AANAT"
             },
             {
              "rxn": "EX_meltn",
              "value": 0.15670082544084502,
              "variable": "AANAT"
             },
             {
              "rxn": "EX_nactryptm",
              "value": 0.14104856442834374,
              "variable": "AANAT"
             },
             {
              "rxn": "EX_nactsertn",
              "value": 0.023205960616594086,
              "variable": "AANAT"
             },
             {
              "rxn": "EX_srtn",
              "value": 0.8669100152835485,
              "variable": "AANAT"
             },
             {
              "rxn": "EX_trp",
              "value": 0.0018260954140432953,
              "variable": "AANAT"
             },
             {
              "rxn": "IN_trp",
              "value": 0.00013808318556935163,
              "variable": "AANAT"
             },
             {
              "rxn": "TPH",
              "value": 0.0009393164224729088,
              "variable": "AANAT"
             },
             {
              "rxn": "AANAT",
              "value": 0.16969979727848744,
              "variable": "ASMT"
             },
             {
              "rxn": "AANAT_tryptm",
              "value": 0.04453778645252701,
              "variable": "ASMT"
             },
             {
              "rxn": "ASMT",
              "value": 0.16932469898858848,
              "variable": "ASMT"
             },
             {
              "rxn": "DDC",
              "value": 0.0006673885506202088,
              "variable": "ASMT"
             },
             {
              "rxn": "DDC_tryptm",
              "value": 0.04453778645245379,
              "variable": "ASMT"
             },
             {
              "rxn": "EX_fivehtp",
              "value": 0.04810509188672155,
              "variable": "ASMT"
             },
             {
              "rxn": "EX_meltn",
              "value": 0.16932469898858846,
              "variable": "ASMT"
             },
             {
              "rxn": "EX_nactryptm",
              "value": 0.04453778645252116,
              "variable": "ASMT"
             },
             {
              "rxn": "EX_nactsertn",
              "value": 0.06324803670011198,
              "variable": "ASMT"
             },
             {
              "rxn": "EX_srtn",
              "value": 0.9330077814936939,
              "variable": "ASMT"
             },
             {
              "rxn": "EX_trp",
              "value": 0.0004804660304525393,
              "variable": "ASMT"
             },
             {
              "rxn": "IN_trp",
              "value": 3.7266621027369685e-05,
              "variable": "ASMT"
             },
             {
              "rxn": "TPH",
              "value": 0.0002138326268648983,
              "variable": "ASMT"
             },
             {
              "rxn": "AANAT",
              "value": 0.047809827676206486,
              "variable": "DDC"
             },
             {
              "rxn": "AANAT_tryptm",
              "value": 0.6093286673791232,
              "variable": "DDC"
             },
             {
              "rxn": "ASMT",
              "value": 0.04738432997117832,
              "variable": "DDC"
             },
             {
              "rxn": "DDC",
              "value": 0.02915570399937687,
              "variable": "DDC"
             },
             {
              "rxn": "DDC_tryptm",
              "value": 0.6093286673781699,
              "variable": "DDC"
             },
             {
              "rxn": "EX_fivehtp",
              "value": 0.646085766492102,
              "variable": "DDC"
             },
             {
              "rxn": "EX_meltn",
              "value": 0.047384329971179084,
              "variable": "DDC"
             },
             {
              "rxn": "EX_nactryptm",
              "value": 0.6093286673790637,
              "variable": "DDC"
             },
             {
              "rxn": "EX_nactsertn",
              "value": 0.0008593250883908945,
              "variable": "DDC"
             },
             {
              "rxn": "EX_srtn",
              "value": 0.3527832788281024,
              "variable": "DDC"
             },
             {
              "rxn": "EX_trp",
              "value": 0.04643038950791526,
              "variable": "DDC"
             },
             {
              "rxn": "IN_trp",
              "value": 0.002933647669573824,
              "variable": "DDC"
             },
             {
              "rxn": "TPH",
              "value": 0.026329694808644895,
              "variable": "DDC"
             },
             {
              "rxn": "AANAT",
              "value": 0.0015895513533648524,
              "variable": "EX_fivehtp"
             },
             {
              "rxn": "AANAT_tryptm",
              "value": 0.004227961420633579,
              "variable": "EX_fivehtp"
             },
             {
              "rxn": "ASMT",
              "value": 0.0015795527965696762,
              "variable": "EX_fivehtp"
             },
             {
              "rxn": "DDC",
              "value": 0.00019569280058562462,
              "variable": "EX_fivehtp"
             },
             {
              "rxn": "DDC_tryptm",
              "value": 0.004227961420626437,
              "variable": "EX_fivehtp"
             },
             {
              "rxn": "EX_fivehtp",
              "value": 0.004526920594515982,
              "variable": "EX_fivehtp"
             },
             {
              "rxn": "EX_meltn",
              "value": 0.0015795527965696827,
              "variable": "EX_fivehtp"
             },
             {
              "rxn": "EX_nactryptm",
              "value": 0.004227961420632419,
              "variable": "EX_fivehtp"
             },
             {
              "rxn": "EX_nactsertn",
              "value": 0.00027544329572623804,
              "variable": "EX_fivehtp"
             },
             {
              "rxn": "EX_srtn",
              "value": 0.008591729489812119,
              "variable": "EX_fivehtp"
             },
             {
              "rxn": "EX_trp",
              "value": 0.0003238025571071874,
              "variable": "EX_fivehtp"
             },
             {
              "rxn": "IN_trp",
              "value": 1.98041066384197e-05,
              "variable": "EX_fivehtp"
             },
             {
              "rxn": "TPH",
              "value": 0.00017975732756435398,
              "variable": "EX_fivehtp"
             },
             {
              "rxn": "AANAT",
              "value": 0.0348532081838378,
              "variable": "EX_meltn"
             },
             {
              "rxn": "AANAT_tryptm",
              "value": 0.01725263875289825,
              "variable": "EX_meltn"
             },
             {
              "rxn": "ASMT",
              "value": 0.03460466820782809,
              "variable": "EX_meltn"
             },
             {
              "rxn": "DDC",
              "value": 0.0002557819296271993,
              "variable": "EX_meltn"
             },
             {
              "rxn": "DDC_tryptm",
              "value": 0.017252638752871793,
              "variable": "EX_meltn"
             },
             {
              "rxn": "EX_fivehtp",
              "value": 0.018039991599109333,
              "variable": "EX_meltn"
             },
             {
              "rxn": "EX_meltn",
              "value": 0.03460466820782859,
              "variable": "EX_meltn"
             },
             {
              "rxn": "EX_nactryptm",
              "value": 0.017252638752896655,
              "variable": "EX_meltn"
             },
             {
              "rxn": "EX_nactsertn",
              "value": 0.0007665566206871024,
              "variable": "EX_meltn"
             },
             {
              "rxn": "EX_srtn",
              "value": 0.19253865965008787,
              "variable": "EX_meltn"
             },
             {
              "rxn": "EX_trp",
              "value": 0.0002104699484393239,
              "variable": "EX_meltn"
             },
             {
              "rxn": "IN_trp",
              "value": 1.5973650639502197e-05,
              "variable": "EX_meltn"
             },
             {
              "rxn": "TPH",
              "value": 0.00010795017559485195,
              "variable": "EX_meltn"
             },
             {
              "rxn": "AANAT",
              "value": 0.016329225897037006,
              "variable": "EX_nactryptm"
             },
             {
              "rxn": "AANAT_tryptm",
              "value": 0.03552990743225746,
              "variable": "EX_nactryptm"
             },
             {
              "rxn": "ASMT",
              "value": 0.01616095172642865,
              "variable": "EX_nactryptm"
             },
             {
              "rxn": "DDC",
              "value": 0.00044334854127188976,
              "variable": "EX_nactryptm"
             },
             {
              "rxn": "DDC_tryptm",
              "value": 0.035529907432202516,
              "variable": "EX_nactryptm"
             },
             {
              "rxn": "EX_fivehtp",
              "value": 0.031732169898519264,
              "variable": "EX_nactryptm"
             },
             {
              "rxn": "EX_meltn",
              "value": 0.016160951726428587,
              "variable": "EX_nactryptm"
             },
             {
              "rxn": "EX_nactryptm",
              "value": 0.035529907432254766,
              "variable": "EX_nactryptm"
             },
             {
              "rxn": "EX_nactsertn",
              "value": 0.0010133759518966968,
              "variable": "EX_nactryptm"
             },
             {
              "rxn": "EX_srtn",
              "value": 0.08773354057874463,
              "variable": "EX_nactryptm"
             },
             {
              "rxn": "EX_trp",
              "value": 0.0003766917214136406,
              "variable": "EX_nactryptm"
             },
             {
              "rxn": "IN_trp",
              "value": 3.176519256702059e-05,
              "variable": "EX_nactryptm"
             },
             {
              "rxn": "TPH",
              "value": 0.00019603995557008236,
              "variable": "EX_nactryptm"
             },
             {
              "rxn": "AANAT",
              "value": 0.0012118589621853255,
              "variable": "EX_nactsertn"
             },
             {
              "rxn": "AANAT_tryptm",
              "value": 0.0004457683259275033,
              "variable": "EX_nactsertn"
             },
             {
              "rxn": "ASMT",
              "value": 0.001211769048509389,
              "variable": "EX_nactsertn"
             },
             {
              "rxn": "DDC",
              "value": 7.068601041586893e-06,
              "variable": "EX_nactsertn"
             },
             {
              "rxn": "DDC_tryptm",
              "value": 0.00044576832592679676,
              "variable": "EX_nactsertn"
             },
             {
              "rxn": "EX_fivehtp",
              "value": 0.0004890904834318412,
              "variable": "EX_nactsertn"
             },
             {
              "rxn": "EX_meltn",
              "value": 0.001211769048509389,
              "variable": "EX_nactsertn"
             },
             {
              "rxn": "EX_nactryptm",
              "value": 0.0004457683259274848,
              "variable": "EX_nactsertn"
             },
             {
              "rxn": "EX_nactsertn",
              "value": 0.00045525867841078593,
              "variable": "EX_nactsertn"
             },
             {
              "rxn": "EX_srtn",
              "value": 0.006662061435254301,
              "variable": "EX_nactsertn"
             },
             {
              "rxn": "EX_trp",
              "value": 5.603677988450611e-06,
              "variable": "EX_nactsertn"
             },
             {
              "rxn": "IN_trp",
              "value": 4.343507748419873e-07,
              "variable": "EX_nactsertn"
             },
             {
              "rxn": "TPH",
              "value": 2.7135680115427294e-06,
              "variable": "EX_nactsertn"
             },
             {
              "rxn": "AANAT",
              "value": 0.040370350049111825,
              "variable": "EX_srtn"
             },
             {
              "rxn": "AANAT_tryptm",
              "value": 0.030800106498958195,
              "variable": "EX_srtn"
             },
             {
              "rxn": "ASMT",
              "value": 0.04008910166004967,
              "variable": "EX_srtn"
             },
             {
              "rxn": "DDC",
              "value": 0.0004634009461274632,
              "variable": "EX_srtn"
             },
             {
              "rxn": "DDC_tryptm",
              "value": 0.030800106498910386,
              "variable": "EX_srtn"
             },
             {
              "rxn": "EX_fivehtp",
              "value": 0.03523159255974604,
              "variable": "EX_srtn"
             },
             {
              "rxn": "EX_meltn",
              "value": 0.0400891016600496,
              "variable": "EX_srtn"
             },
             {
              "rxn": "EX_nactryptm",
              "value": 0.030800106498955617,
              "variable": "EX_srtn"
             },
             {
              "rxn": "EX_nactsertn",
              "value": 0.00726064411569884,
              "variable": "EX_srtn"
             },
             {
              "rxn": "EX_srtn",
              "value": 0.22447762417074713,
              "variable": "EX_srtn"
             },
             {
              "rxn": "EX_trp",
              "value": 0.0003217821011741948,
              "variable": "EX_srtn"
             },
             {
              "rxn": "IN_trp",
              "value": 2.414743083317819e-05,
              "variable": "EX_srtn"
             },
             {
              "rxn": "TPH",
              "value": 0.00015409136258129352,
              "variable": "EX_srtn"
             },
             {
              "rxn": "AANAT",
              "value": 0.09658457499191693,
              "variable": "EX_trp"
             },
             {
              "rxn": "AANAT_tryptm",
              "value": 0.3709825373636969,
              "variable": "EX_trp"
             },
             {
              "rxn": "ASMT",
              "value": 0.09573955244317303,
              "variable": "EX_trp"
             },
             {
              "rxn": "DDC",
              "value": 0.15810320966145552,
              "variable": "EX_trp"
             },
             {
              "rxn": "DDC_tryptm",
              "value": 0.37098253736311765,
              "variable": "EX_trp"
             },
             {
              "rxn": "EX_fivehtp",
              "value": 0.4527192216354738,
              "variable": "EX_trp"
             },
             {
              "rxn": "EX_meltn",
              "value": 0.09573955244317317,
              "variable": "EX_trp"
             },
             {
              "rxn": "EX_nactryptm",
              "value": 0.3709825373636617,
              "variable": "EX_trp"
             },
             {
              "rxn": "EX_nactsertn",
              "value": 0.0010769079014361182,
              "variable": "EX_trp"
             },
             {
              "rxn": "EX_srtn",
              "value": 0.4579942968488034,
              "variable": "EX_trp"
             },
             {
              "rxn": "EX_trp",
              "value": 0.3636718559874125,
              "variable": "EX_trp"
             },
             {
              "rxn": "IN_trp",
              "value": 0.12691974882098211,
              "variable": "EX_trp"
             },
             {
              "rxn": "TPH",
              "value": 0.15822708604973765,
              "variable": "EX_trp"
             },
             {
              "rxn": "AANAT",
              "value": 0.09950743659066452,
              "variable": "IN_trp"
             },
             {
              "rxn": "AANAT_tryptm",
              "value": 0.3822092846197369,
              "variable": "IN_trp"
             },
             {
              "rxn": "ASMT",
              "value": 0.09863684180165341,
              "variable": "IN_trp"
             },
             {
              "rxn": "DDC",
              "value": 0.16288776040568032,
              "variable": "IN_trp"
             },
             {
              "rxn": "DDC_tryptm",
              "value": 0.38220928461913994,
              "variable": "IN_trp"
             },
             {
              "rxn": "EX_fivehtp",
              "value": 0.4664195006711682,
              "variable": "IN_trp"
             },
             {
              "rxn": "EX_meltn",
              "value": 0.09863684180165357,
              "variable": "IN_trp"
             },
             {
              "rxn": "EX_nactryptm",
              "value": 0.3822092846197005,
              "variable": "IN_trp"
             },
             {
              "rxn": "EX_nactsertn",
              "value": 0.001109497502319685,
              "variable": "IN_trp"
             },
             {
              "rxn": "EX_srtn",
              "value": 0.4718542112587058,
              "variable": "IN_trp"
             },
             {
              "rxn": "EX_trp",
              "value": 0.374677365951087,
              "variable": "IN_trp"
             },
             {
              "rxn": "IN_trp",
              "value": 0.13076061947742568,
              "variable": "IN_trp"
             },
             {
              "rxn": "TPH",
              "value": 0.16301538556583753,
              "variable": "IN_trp"
             },
             {
              "rxn": "AANAT",
              "value": 0.33878585908674574,
              "variable": "TPH"
             },
             {
              "rxn": "AANAT_tryptm",
              "value": 1.146145583781092,
              "variable": "TPH"
             },
             {
              "rxn": "ASMT",
              "value": 0.3360572012573788,
              "variable": "TPH"
             },
             {
              "rxn": "DDC",
              "value": 0.31644419750083297,
              "variable": "TPH"
             },
             {
              "rxn": "DDC_tryptm",
              "value": 1.1461455837793113,
              "variable": "TPH"
             },
             {
              "rxn": "EX_fivehtp",
              "value": 1.1033678664265563,
              "variable": "TPH"
             },
             {
              "rxn": "EX_meltn",
              "value": 0.33605720125737837,
              "variable": "TPH"
             },
             {
              "rxn": "EX_nactryptm",
              "value": 1.1461455837810017,
              "variable": "TPH"
             },
             {
              "rxn": "EX_nactsertn",
              "value": 0.04617846911285383,
              "variable": "TPH"
             },
             {
              "rxn": "EX_srtn",
              "value": 1.7853561885779405,
              "variable": "TPH"
             },
             {
              "rxn": "EX_trp",
              "value": 0.7279739989834841,
              "variable": "TPH"
             },
             {
              "rxn": "IN_trp",
              "value": 0.24901271065674896,
              "variable": "TPH"
             },
             {
              "rxn": "TPH",
              "value": 0.31767854626907077,
              "variable": "TPH"
             }
            ]
           },
           "encoding": {
            "color": {
             "field": "value",
             "scale": {
              "domain": [
               -1,
               1
              ],
              "scheme": "redblue"
             },
             "type": "quantitative"
            },
            "tooltip": {
             "field": "value",
             "type": "quantitative"
            },
            "x": {
             "field": "variable",
             "type": "nominal"
            },
            "y": {
             "field": "rxn",
             "type": "nominal"
            }
           },
           "height": 250,
           "mark": "rect",
           "width": 300
          }
         ]
        }
       ]
      },
      "image/png": "[encoded data removed]",
      "text/plain": [
       "<VegaLite 2 object>\n",
       "\n",
       "If you see this message, it means the renderer has not been properly enabled\n",
       "for the frontend that you are using. For more information, see\n",
       "https://altair-viz.github.io/user_guide/troubleshooting.html\n"
      ]
     },
     "execution_count": 35,
     "metadata": {},
     "output_type": "execute_result"
    }
   ],
   "source": [
    "alt.vconcat(get_heatmaps(Cx_df_median_list[ind], 'mets'),\n",
    "            get_heatmaps(Cx_df_iqr_list[ind], 'mets'))"
   ]
  },
  {
   "cell_type": "code",
   "execution_count": null,
   "metadata": {},
   "outputs": [],
   "source": []
  }
 ],
 "metadata": {
  "kernelspec": {
   "display_name": "Python 3",
   "language": "python",
   "name": "python3"
  },
  "language_info": {
   "codemirror_mode": {
    "name": "ipython",
    "version": 3
   },
   "file_extension": ".py",
   "mimetype": "text/x-python",
   "name": "python",
   "nbconvert_exporter": "python",
   "pygments_lexer": "ipython3",
   "version": "3.6.5"
  }
 },
 "nbformat": 4,
 "nbformat_minor": 2
}
