{
 "cells": [
  {
   "cell_type": "code",
   "execution_count": 1,
   "metadata": {},
   "outputs": [],
   "source": [
    "import altair as alt\n",
    "import numpy as np\n",
    "import pandas as pd\n",
    "\n",
    "from set_up_grasp_models.check_models.thermodynamics_checks import check_thermodynamic_feasibility\n",
    "\n",
    "# comment the following line if you're using jupyter lab, uncomment if you're using jupyter notebook\n",
    "#alt.renderers.enable('notebook')"
   ]
  },
  {
   "cell_type": "markdown",
   "metadata": {},
   "source": [
    "### Define path to input excel file"
   ]
  },
  {
   "cell_type": "code",
   "execution_count": 2,
   "metadata": {},
   "outputs": [],
   "source": [
    "file_in = '../io/input/toy_model.xlsx'"
   ]
  },
  {
   "cell_type": "markdown",
   "metadata": {},
   "source": [
    "### Load the data"
   ]
  },
  {
   "cell_type": "code",
   "execution_count": 3,
   "metadata": {},
   "outputs": [
    {
     "name": "stdout",
     "output_type": "stream",
     "text": [
      "\n",
      "Checking if fluxes and Gibbs energies are compatible.\n",
      "\n",
      "Everything seems to be OK.\n"
     ]
    }
   ],
   "source": [
    "data_dict = pd.read_excel(file_in, sheet_name=None, index_col=0)\n",
    "\n",
    "# Get flux and Gibbs energies info from check_thermodynamic_feasibility\n",
    "flag, flux_df, dG_df = check_thermodynamic_feasibility(data_dict) \n",
    "\n",
    "# Modify dataframes\n",
    "dG_df['rxn'] = dG_df.index\n",
    "\n",
    "flux_df['rxn'] = flux_df.index\n",
    "flux_df['flux_min'] = flux_df['vref_mean (umol/gCDW/h)'] - flux_df['vref_std (umol/gCDW/h)']\n",
    "flux_df['flux_max'] = flux_df['vref_mean (umol/gCDW/h)'] + flux_df['vref_std (umol/gCDW/h)']\n",
    "flux_df['flux'] = flux_df['vref_mean (umol/gCDW/h)']"
   ]
  },
  {
   "cell_type": "markdown",
   "metadata": {},
   "source": [
    "### Function to plot Gibbs energies and flux values with altair"
   ]
  },
  {
   "cell_type": "code",
   "execution_count": 4,
   "metadata": {},
   "outputs": [],
   "source": [
    "def plot_dG_and_flux(dG_df, flux_df, height=400, width=600):\n",
    "    threshold_df = pd.DataFrame([{\"ThresholdValue\": 0, \"Threshold\": \"hazardous\"}])\n",
    "    \n",
    "    rect_dG = alt.Chart(dG_df).mark_rect().encode(\n",
    "        y ='rxn:N',\n",
    "        x='∆G_min',\n",
    "        x2='∆G_max'\n",
    "    ).properties(\n",
    "        height=height,\n",
    "        width=width\n",
    "    )\n",
    "\n",
    "    point_dG = alt.Chart(dG_df).mark_point(size=100, color='red', filled=True).encode(\n",
    "        y ='rxn:N',\n",
    "        x='∆G_mean',\n",
    "        tooltip=['rxn', '∆G_min', '∆G_mean', '∆G_max']\n",
    "    ).interactive()\n",
    "\n",
    "\n",
    "    rule_dG = alt.Chart(threshold_df).mark_rule().encode(\n",
    "        x='ThresholdValue:Q'\n",
    "    )\n",
    "\n",
    "\n",
    "    rect_flux = alt.Chart(flux_df).mark_rect().encode(\n",
    "        y ='rxn:N',\n",
    "        x='flux_min:Q',\n",
    "        x2='flux_max:Q'\n",
    "    ).properties(\n",
    "        height=height,\n",
    "        width=width\n",
    "    )\n",
    "\n",
    "    point_flux = alt.Chart(flux_df).mark_point(size=100, color='red', filled=True).encode(\n",
    "        y ='rxn:N',\n",
    "        x='flux',\n",
    "        tooltip=['rxn', 'flux_min', 'flux', 'flux_max']\n",
    "    ).interactive()\n",
    "\n",
    "\n",
    "    rule_flux = alt.Chart(threshold_df).mark_rule().encode(\n",
    "        x='ThresholdValue:Q'\n",
    "    )\n",
    "\n",
    "    return alt.hconcat(rect_dG + point_dG + rule_dG, rect_flux + point_flux + rule_flux)"
   ]
  },
  {
   "cell_type": "markdown",
   "metadata": {},
   "source": [
    "### Plot Gibbs free energies (on the left) and reaction fluxes (on the right)"
   ]
  },
  {
   "cell_type": "code",
   "execution_count": 5,
   "metadata": {},
   "outputs": [
    {
     "data": {
      "application/vnd.vegalite.v3+json": {
       "$schema": "https://vega.github.io/schema/vega-lite/v3.4.0.json",
       "config": {
        "mark": {
         "tooltip": null
        },
        "view": {
         "height": 300,
         "width": 400
        }
       },
       "datasets": {
        "data-1be3fe115e82bb0437f62db9024d3007": [
         {
          "rxn": "r1",
          "∆G_max": -29.341206135403382,
          "∆G_mean": -63.91482327339725,
          "∆G_min": -135.41621425284532
         },
         {
          "rxn": "r2",
          "∆G_max": 38.50037405757083,
          "∆G_mean": -11.536645623040977,
          "∆G_min": -24.684239623671157
         },
         {
          "rxn": "r3",
          "∆G_max": -7.976937186601427,
          "∆G_mean": -25.362332055987448,
          "∆G_min": -42.53074552602638
         },
         {
          "rxn": "r4_1",
          "∆G_max": 17.197859497009688,
          "∆G_mean": -10.938720218088957,
          "∆G_min": -39.11595184217879
         },
         {
          "rxn": "r4_2",
          "∆G_max": 17.197859497009688,
          "∆G_mean": -10.938720218088957,
          "∆G_min": -39.11595184217879
         },
         {
          "rxn": "r5",
          "∆G_max": 1.4305649510788263,
          "∆G_mean": -20.213711252872944,
          "∆G_min": -41.857463964782085
         },
         {
          "rxn": "r6",
          "∆G_max": 1.3101066348431196,
          "∆G_mean": -16.1504523617635,
          "∆G_min": -68.98091598957109
         },
         {
          "rxn": "r7",
          "∆G_max": 52.59693283676754,
          "∆G_mean": 11.458256680613442,
          "∆G_min": -10.295831504837128
         },
         {
          "rxn": "r8",
          "∆G_max": 10.295831504837128,
          "∆G_mean": -16.458256680613445,
          "∆G_min": -62.59693283676754
         },
         {
          "rxn": "r9",
          "∆G_max": 2.218407312112504,
          "∆G_mean": -15.644332737812928,
          "∆G_min": -33.46861092291279
         },
         {
          "rxn": "r10",
          "∆G_max": 46.39954137761934,
          "∆G_mean": -0.061777835799187386,
          "∆G_min": -9.640955616667462
         },
         {
          "rxn": "r11",
          "∆G_max": 1.4227517572817057,
          "∆G_mean": -20.31364107646995,
          "∆G_min": -61.43501725413108
         },
         {
          "rxn": "r12",
          "∆G_max": 1.1629453128128606,
          "∆G_mean": -6.717099035877138,
          "∆G_min": -14.557040888786577
         },
         {
          "rxn": "r13",
          "∆G_max": 44.03365335723729,
          "∆G_mean": -0.7788828538480641,
          "∆G_min": -10.044166067124607
         }
        ],
        "data-c4efda258943a001a7970e6a60317289": [
         {
          "flux": 7.187451150529764,
          "flux_max": 7.187471194685855,
          "flux_min": 7.187431106373673,
          "rxn": "r1",
          "vref_mean (umol/gCDW/h)": 7.187451150529764,
          "vref_std (umol/gCDW/h)": 2.0044156091594728e-05
         },
         {
          "flux": 7.129631386634685,
          "flux_max": 7.129651430790523,
          "flux_min": 7.129611342478847,
          "rxn": "r2",
          "vref_mean (umol/gCDW/h)": 7.129631386634685,
          "vref_std (umol/gCDW/h)": 2.0044155838141843e-05
         },
         {
          "flux": 6.844262248797274,
          "flux_max": 6.844282291827748,
          "flux_min": 6.8442422057667995,
          "rxn": "r3",
          "vref_mean (umol/gCDW/h)": 6.844262248797274,
          "vref_std (umol/gCDW/h)": 2.004303047426937e-05
         },
         {
          "flux": 3.424328166281937,
          "flux_max": 3.4243381877971744,
          "flux_min": 3.4243181447667,
          "rxn": "r4_1",
          "vref_mean (umol/gCDW/h)": 3.424328166281937,
          "vref_std (umol/gCDW/h)": 1.0021515237120788e-05
         },
         {
          "flux": 3.424328166281932,
          "flux_max": 3.424338187797169,
          "flux_min": 3.4243181447666946,
          "rxn": "r4_2",
          "vref_mean (umol/gCDW/h)": 3.424328166281932,
          "vref_std (umol/gCDW/h)": 1.0021515237120809e-05
         },
         {
          "flux": -0.0024268492580794936,
          "flux_max": -0.002426849192051073,
          "flux_min": -0.002426849324107914,
          "rxn": "r5",
          "vref_mean (umol/gCDW/h)": -0.0024268492580794936,
          "vref_std (umol/gCDW/h)": 6.602842045720366e-11
         },
         {
          "flux": -0.002426849258059651,
          "flux_max": -0.0024268491920312303,
          "flux_min": -0.0024268493240880715,
          "rxn": "r6",
          "vref_mean (umol/gCDW/h)": -0.002426849258059651,
          "vref_std (umol/gCDW/h)": 6.602842045587702e-11
         },
         {
          "flux": -14.829907771770007,
          "flux_max": -13.726402404518204,
          "flux_min": -15.933413139021809,
          "rxn": "r7",
          "vref_mean (umol/gCDW/h)": -14.829907771770007,
          "vref_std (umol/gCDW/h)": 1.1035053672518018
         },
         {
          "flux": -22.0149320730417,
          "flux_max": -20.911426705971937,
          "flux_min": -23.11843744011146,
          "rxn": "r8",
          "vref_mean (umol/gCDW/h)": -22.0149320730417,
          "vref_std (umol/gCDW/h)": 1.10350536706976
         },
         {
          "flux": 0.285369137837419,
          "flux_max": 0.285369350234856,
          "flux_min": 0.28536892543998205,
          "rxn": "r9",
          "vref_mean (umol/gCDW/h)": 0.285369137837419,
          "vref_std (umol/gCDW/h)": 2.12397436954052e-07
         },
         {
          "flux": 0.0578197638950879,
          "flux_max": 0.05781976708264159,
          "flux_min": 0.05781976070753422,
          "rxn": "r10",
          "vref_mean (umol/gCDW/h)": 0.0578197638950879,
          "vref_std (umol/gCDW/h)": 3.18755368558865e-09
         },
         {
          "flux": -0.00439408376660814,
          "flux_max": -0.004394083733229418,
          "flux_min": -0.0043940837999868615,
          "rxn": "r11",
          "vref_mean (umol/gCDW/h)": -0.00439408376660814,
          "vref_std (umol/gCDW/h)": 3.33787220043099e-11
         },
         {
          "flux": 6.84865633256387,
          "flux_max": 6.848676375594344,
          "flux_min": 6.848636289533395,
          "rxn": "r12",
          "vref_mean (umol/gCDW/h)": 6.84865633256387,
          "vref_std (umol/gCDW/h)": 2.00430304742416e-05
         },
         {
          "flux": -0.00242684925806694,
          "flux_max": -0.0024268491920385192,
          "flux_min": -0.0024268493240953604,
          "rxn": "r13",
          "vref_mean (umol/gCDW/h)": -0.00242684925806694,
          "vref_std (umol/gCDW/h)": 6.60284204552005e-11
         }
        ],
        "data-d7255ad842f014c46f35befde053a015": [
         {
          "Threshold": "hazardous",
          "ThresholdValue": 0
         }
        ]
       },
       "hconcat": [
        {
         "data": {
          "name": "data-1be3fe115e82bb0437f62db9024d3007"
         },
         "layer": [
          {
           "encoding": {
            "x": {
             "field": "∆G_min",
             "type": "quantitative"
            },
            "x2": {
             "field": "∆G_max"
            },
            "y": {
             "field": "rxn",
             "type": "nominal"
            }
           },
           "height": 600,
           "mark": "rect",
           "width": 400
          },
          {
           "encoding": {
            "tooltip": [
             {
              "field": "rxn",
              "type": "nominal"
             },
             {
              "field": "∆G_min",
              "type": "quantitative"
             },
             {
              "field": "∆G_mean",
              "type": "quantitative"
             },
             {
              "field": "∆G_max",
              "type": "quantitative"
             }
            ],
            "x": {
             "field": "∆G_mean",
             "type": "quantitative"
            },
            "y": {
             "field": "rxn",
             "type": "nominal"
            }
           },
           "mark": {
            "color": "red",
            "filled": true,
            "size": 100,
            "type": "point"
           },
           "selection": {
            "selector001": {
             "bind": "scales",
             "encodings": [
              "x",
              "y"
             ],
             "type": "interval"
            }
           }
          },
          {
           "data": {
            "name": "data-d7255ad842f014c46f35befde053a015"
           },
           "encoding": {
            "x": {
             "field": "ThresholdValue",
             "type": "quantitative"
            }
           },
           "mark": "rule"
          }
         ]
        },
        {
         "data": {
          "name": "data-c4efda258943a001a7970e6a60317289"
         },
         "layer": [
          {
           "encoding": {
            "x": {
             "field": "flux_min",
             "type": "quantitative"
            },
            "x2": {
             "field": "flux_max"
            },
            "y": {
             "field": "rxn",
             "type": "nominal"
            }
           },
           "height": 600,
           "mark": "rect",
           "width": 400
          },
          {
           "encoding": {
            "tooltip": [
             {
              "field": "rxn",
              "type": "nominal"
             },
             {
              "field": "flux_min",
              "type": "quantitative"
             },
             {
              "field": "flux",
              "type": "quantitative"
             },
             {
              "field": "flux_max",
              "type": "quantitative"
             }
            ],
            "x": {
             "field": "flux",
             "type": "quantitative"
            },
            "y": {
             "field": "rxn",
             "type": "nominal"
            }
           },
           "mark": {
            "color": "red",
            "filled": true,
            "size": 100,
            "type": "point"
           },
           "selection": {
            "selector002": {
             "bind": "scales",
             "encodings": [
              "x",
              "y"
             ],
             "type": "interval"
            }
           }
          },
          {
           "data": {
            "name": "data-d7255ad842f014c46f35befde053a015"
           },
           "encoding": {
            "x": {
             "field": "ThresholdValue",
             "type": "quantitative"
            }
           },
           "mark": "rule"
          }
         ]
        }
       ]
      },
      "image/png": "[encoded data removed]",
      "text/plain": [
       "<VegaLite 3 object>\n",
       "\n",
       "If you see this message, it means the renderer has not been properly enabled\n",
       "for the frontend that you are using. For more information, see\n",
       "https://altair-viz.github.io/user_guide/troubleshooting.html\n"
      ]
     },
     "execution_count": 5,
     "metadata": {},
     "output_type": "execute_result"
    }
   ],
   "source": [
    "height=600\n",
    "width=400\n",
    "plot_dG_and_flux(dG_df,  flux_df, height, width)"
   ]
  },
  {
   "cell_type": "code",
   "execution_count": null,
   "metadata": {},
   "outputs": [],
   "source": []
  }
 ],
 "metadata": {
  "kernelspec": {
   "display_name": "Python 3",
   "language": "python",
   "name": "python3"
  },
  "language_info": {
   "codemirror_mode": {
    "name": "ipython",
    "version": 3
   },
   "file_extension": ".py",
   "mimetype": "text/x-python",
   "name": "python",
   "nbconvert_exporter": "python",
   "pygments_lexer": "ipython3",
   "version": "3.7.0"
  }
 },
 "nbformat": 4,
 "nbformat_minor": 4
}
