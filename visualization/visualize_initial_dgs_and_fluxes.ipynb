{
 "cells": [
  {
   "cell_type": "code",
   "execution_count": 1,
   "metadata": {},
   "outputs": [],
   "source": [
    "import altair as alt\n",
    "import numpy as np\n",
    "import pandas as pd\n",
    "\n",
    "from set_up_grasp_models.check_models.thermodynamics_checks import check_thermodynamic_feasibility\n",
    "\n",
    "# comment the following line if you're using jupyter lab, uncomment if you're using jupyter notebook\n",
    "#alt.renderers.enable('notebook')"
   ]
  },
  {
   "cell_type": "code",
   "execution_count": 2,
   "metadata": {},
   "outputs": [
    {
     "name": "stdout",
     "output_type": "stream",
     "text": [
      "\n",
      "Checking if fluxes and Gibbs energies are compatible.\n",
      "\n",
      "Everything seems to be OK.\n"
     ]
    }
   ],
   "source": [
    "file_in = '../io/input/toy_model.xlsx'\n",
    "data_dict = pd.read_excel(file_in, sheet_name=None)\n",
    "\n",
    "# Get flux and Gibbs energies info from check_thermodynamic_feasibility\n",
    "flag, flux_df, dG_df = check_thermodynamic_feasibility(data_dict) \n",
    "\n",
    "# Modify dataframes\n",
    "dG_df['rxn'] = dG_df.index\n",
    "\n",
    "flux_df['rxn'] = flux_df.index\n",
    "flux_df['flux_min'] = flux_df['MBo10_mean'] - flux_df['MBo10_std']\n",
    "flux_df['flux_max'] = flux_df['MBo10_mean'] + flux_df['MBo10_std']\n",
    "flux_df['flux'] = flux_df['MBo10_mean']"
   ]
  },
  {
   "cell_type": "code",
   "execution_count": 3,
   "metadata": {},
   "outputs": [],
   "source": [
    "def plot_dG_and_flux(dG_df, flux_df, height=400, width=600):\n",
    "    threshold_df = pd.DataFrame([{\"ThresholdValue\": 0, \"Threshold\": \"hazardous\"}])\n",
    "    \n",
    "    rect_dG = alt.Chart(dG_df).mark_rect().encode(\n",
    "        y ='rxn:N',\n",
    "        x='∆G_min',\n",
    "        x2='∆G_max'\n",
    "    ).properties(\n",
    "        height=height,\n",
    "        width=width\n",
    "    )\n",
    "\n",
    "    point_dG = alt.Chart(dG_df).mark_point(size=100, color='red', filled=True).encode(\n",
    "        y ='rxn:N',\n",
    "        x='∆G_mean',\n",
    "        tooltip=['rxn', '∆G_min', '∆G_mean', '∆G_max']\n",
    "    ).interactive()\n",
    "\n",
    "\n",
    "    rule_dG = alt.Chart(threshold_df).mark_rule().encode(\n",
    "        x='ThresholdValue:Q'\n",
    "    )\n",
    "\n",
    "\n",
    "    rect_flux = alt.Chart(flux_df).mark_rect().encode(\n",
    "        y ='rxn:N',\n",
    "        x='flux_min:Q',\n",
    "        x2='flux_max:Q'\n",
    "    ).properties(\n",
    "        height=height,\n",
    "        width=width\n",
    "    )\n",
    "\n",
    "    point_flux = alt.Chart(flux_df).mark_point(size=100, color='red', filled=True).encode(\n",
    "        y ='rxn:N',\n",
    "        x='flux',\n",
    "        tooltip=['rxn', 'flux_min', 'flux', 'flux_max']\n",
    "    ).interactive()\n",
    "\n",
    "\n",
    "    rule_flux = alt.Chart(threshold_df).mark_rule().encode(\n",
    "        x='ThresholdValue:Q'\n",
    "    )\n",
    "\n",
    "    return alt.hconcat(rect_dG + point_dG + rule_dG, rect_flux + point_flux + rule_flux)"
   ]
  },
  {
   "cell_type": "code",
   "execution_count": 4,
   "metadata": {},
   "outputs": [
    {
     "data": {
      "application/vnd.vegalite.v2+json": {
       "$schema": "https://vega.github.io/schema/vega-lite/v2.6.0.json",
       "config": {
        "view": {
         "height": 300,
         "width": 400
        }
       },
       "datasets": {
        "data-1be3fe115e82bb0437f62db9024d3007": [
         {
          "rxn": "r1",
          "∆G_max": -29.341206135403382,
          "∆G_mean": -63.91482327339725,
          "∆G_min": -135.41621425284532
         },
         {
          "rxn": "r2",
          "∆G_max": 38.50037405757083,
          "∆G_mean": -11.536645623040977,
          "∆G_min": -24.684239623671157
         },
         {
          "rxn": "r3",
          "∆G_max": -7.976937186601427,
          "∆G_mean": -25.362332055987448,
          "∆G_min": -42.53074552602638
         },
         {
          "rxn": "r4_1",
          "∆G_max": 17.197859497009688,
          "∆G_mean": -10.938720218088957,
          "∆G_min": -39.11595184217879
         },
         {
          "rxn": "r4_2",
          "∆G_max": 17.197859497009688,
          "∆G_mean": -10.938720218088957,
          "∆G_min": -39.11595184217879
         },
         {
          "rxn": "r5",
          "∆G_max": 1.4305649510788263,
          "∆G_mean": -20.213711252872944,
          "∆G_min": -41.857463964782085
         },
         {
          "rxn": "r6",
          "∆G_max": 1.3101066348431196,
          "∆G_mean": -16.1504523617635,
          "∆G_min": -68.98091598957109
         },
         {
          "rxn": "r7",
          "∆G_max": 52.59693283676754,
          "∆G_mean": 11.458256680613442,
          "∆G_min": -10.295831504837128
         },
         {
          "rxn": "r8",
          "∆G_max": 10.295831504837128,
          "∆G_mean": -16.458256680613445,
          "∆G_min": -62.59693283676754
         },
         {
          "rxn": "r9",
          "∆G_max": 2.218407312112504,
          "∆G_mean": -15.644332737812928,
          "∆G_min": -33.46861092291279
         },
         {
          "rxn": "r10",
          "∆G_max": 46.39954137761934,
          "∆G_mean": -0.061777835799187386,
          "∆G_min": -9.640955616667462
         },
         {
          "rxn": "r11",
          "∆G_max": 1.4227517572817057,
          "∆G_mean": -20.31364107646995,
          "∆G_min": -61.43501725413108
         },
         {
          "rxn": "r12",
          "∆G_max": 1.1629453128128606,
          "∆G_mean": -6.717099035877138,
          "∆G_min": -14.557040888786577
         },
         {
          "rxn": "r13",
          "∆G_max": 44.03365335723729,
          "∆G_mean": -0.7788828538480641,
          "∆G_min": -10.044166067124607
         }
        ],
        "data-b485a14a364eae29fcfe579a85b4597b": [
         {
          "MBo10_mean": 7.187451150529768,
          "MBo10_std": 2.0044156091594738e-05,
          "flux": 7.187451150529768,
          "flux_max": 7.187471194685859,
          "flux_min": 7.187431106373676,
          "rxn": "r1"
         },
         {
          "MBo10_mean": 7.129631386634681,
          "MBo10_std": 2.0044155838141846e-05,
          "flux": 7.129631386634681,
          "flux_max": 7.12965143079052,
          "flux_min": 7.129611342478843,
          "rxn": "r2"
         },
         {
          "MBo10_mean": 6.844262248797267,
          "MBo10_std": 2.004303047426939e-05,
          "flux": 6.844262248797267,
          "flux_max": 6.844282291827741,
          "flux_min": 6.844242205766792,
          "rxn": "r3"
         },
         {
          "MBo10_mean": 3.424328166281931,
          "MBo10_std": 1.0021515237120804e-05,
          "flux": 3.424328166281931,
          "flux_max": 3.424338187797168,
          "flux_min": 3.4243181447666937,
          "rxn": "r4_1"
         },
         {
          "MBo10_mean": 3.424328166281933,
          "MBo10_std": 1.00215152371208e-05,
          "flux": 3.424328166281933,
          "flux_max": 3.4243381877971704,
          "flux_min": 3.424318144766696,
          "rxn": "r4_2"
         },
         {
          "MBo10_mean": -0.0024268492580660534,
          "MBo10_std": 6.6028420455318e-11,
          "flux": -0.0024268492580660534,
          "flux_max": -0.0024268491920376328,
          "flux_min": -0.002426849324094474,
          "rxn": "r5"
         },
         {
          "MBo10_mean": -0.0024268492580675574,
          "MBo10_std": 6.602842045521161e-11,
          "flux": -0.0024268492580675574,
          "flux_max": -0.0024268491920391368,
          "flux_min": -0.002426849324095978,
          "rxn": "r6"
         },
         {
          "MBo10_mean": -14.829907771770001,
          "MBo10_std": 1.1035053672518018,
          "flux": -14.829907771770001,
          "flux_max": -13.726402404518199,
          "flux_min": -15.933413139021804,
          "rxn": "r7"
         },
         {
          "MBo10_mean": -22.0149320730417,
          "MBo10_std": 1.10350536706976,
          "flux": -22.0149320730417,
          "flux_max": -20.911426705971937,
          "flux_min": -23.11843744011146,
          "rxn": "r8"
         },
         {
          "MBo10_mean": 0.285369137837419,
          "MBo10_std": 2.12397436954052e-07,
          "flux": 0.285369137837419,
          "flux_max": 0.285369350234856,
          "flux_min": 0.28536892543998205,
          "rxn": "r9"
         },
         {
          "MBo10_mean": 0.0578197638950879,
          "MBo10_std": 3.18755368558865e-09,
          "flux": 0.0578197638950879,
          "flux_max": 0.05781976708264159,
          "flux_min": 0.05781976070753422,
          "rxn": "r10"
         },
         {
          "MBo10_mean": -0.00439408376660814,
          "MBo10_std": 3.33787220043099e-11,
          "flux": -0.00439408376660814,
          "flux_max": -0.004394083733229418,
          "flux_min": -0.0043940837999868615,
          "rxn": "r11"
         },
         {
          "MBo10_mean": 6.84865633256387,
          "MBo10_std": 2.00430304742416e-05,
          "flux": 6.84865633256387,
          "flux_max": 6.848676375594344,
          "flux_min": 6.848636289533395,
          "rxn": "r12"
         },
         {
          "MBo10_mean": -0.00242684925806694,
          "MBo10_std": 6.60284204552005e-11,
          "flux": -0.00242684925806694,
          "flux_max": -0.0024268491920385192,
          "flux_min": -0.0024268493240953604,
          "rxn": "r13"
         }
        ],
        "data-d7255ad842f014c46f35befde053a015": [
         {
          "Threshold": "hazardous",
          "ThresholdValue": 0
         }
        ]
       },
       "hconcat": [
        {
         "layer": [
          {
           "data": {
            "name": "data-1be3fe115e82bb0437f62db9024d3007"
           },
           "encoding": {
            "x": {
             "field": "∆G_min",
             "type": "quantitative"
            },
            "x2": {
             "field": "∆G_max",
             "type": "quantitative"
            },
            "y": {
             "field": "rxn",
             "type": "nominal"
            }
           },
           "height": 600,
           "mark": "rect",
           "width": 400
          },
          {
           "data": {
            "name": "data-1be3fe115e82bb0437f62db9024d3007"
           },
           "encoding": {
            "tooltip": [
             {
              "field": "rxn",
              "type": "nominal"
             },
             {
              "field": "∆G_min",
              "type": "quantitative"
             },
             {
              "field": "∆G_mean",
              "type": "quantitative"
             },
             {
              "field": "∆G_max",
              "type": "quantitative"
             }
            ],
            "x": {
             "field": "∆G_mean",
             "type": "quantitative"
            },
            "y": {
             "field": "rxn",
             "type": "nominal"
            }
           },
           "mark": {
            "color": "red",
            "filled": true,
            "size": 100,
            "type": "point"
           },
           "selection": {
            "selector001": {
             "bind": "scales",
             "encodings": [
              "x",
              "y"
             ],
             "mark": {
              "fill": "#333",
              "fillOpacity": 0.125,
              "stroke": "white"
             },
             "on": "[mousedown, window:mouseup] > window:mousemove!",
             "resolve": "global",
             "translate": "[mousedown, window:mouseup] > window:mousemove!",
             "type": "interval",
             "zoom": "wheel!"
            }
           }
          },
          {
           "data": {
            "name": "data-d7255ad842f014c46f35befde053a015"
           },
           "encoding": {
            "x": {
             "field": "ThresholdValue",
             "type": "quantitative"
            }
           },
           "mark": "rule"
          }
         ]
        },
        {
         "layer": [
          {
           "data": {
            "name": "data-b485a14a364eae29fcfe579a85b4597b"
           },
           "encoding": {
            "x": {
             "field": "flux_min",
             "type": "quantitative"
            },
            "x2": {
             "field": "flux_max",
             "type": "quantitative"
            },
            "y": {
             "field": "rxn",
             "type": "nominal"
            }
           },
           "height": 600,
           "mark": "rect",
           "width": 400
          },
          {
           "data": {
            "name": "data-b485a14a364eae29fcfe579a85b4597b"
           },
           "encoding": {
            "tooltip": [
             {
              "field": "rxn",
              "type": "nominal"
             },
             {
              "field": "flux_min",
              "type": "quantitative"
             },
             {
              "field": "flux",
              "type": "quantitative"
             },
             {
              "field": "flux_max",
              "type": "quantitative"
             }
            ],
            "x": {
             "field": "flux",
             "type": "quantitative"
            },
            "y": {
             "field": "rxn",
             "type": "nominal"
            }
           },
           "mark": {
            "color": "red",
            "filled": true,
            "size": 100,
            "type": "point"
           },
           "selection": {
            "selector002": {
             "bind": "scales",
             "encodings": [
              "x",
              "y"
             ],
             "mark": {
              "fill": "#333",
              "fillOpacity": 0.125,
              "stroke": "white"
             },
             "on": "[mousedown, window:mouseup] > window:mousemove!",
             "resolve": "global",
             "translate": "[mousedown, window:mouseup] > window:mousemove!",
             "type": "interval",
             "zoom": "wheel!"
            }
           }
          },
          {
           "data": {
            "name": "data-d7255ad842f014c46f35befde053a015"
           },
           "encoding": {
            "x": {
             "field": "ThresholdValue",
             "type": "quantitative"
            }
           },
           "mark": "rule"
          }
         ]
        }
       ]
      },
      "image/png": "[encoded data removed]",
      "text/plain": [
       "<VegaLite 2 object>\n",
       "\n",
       "If you see this message, it means the renderer has not been properly enabled\n",
       "for the frontend that you are using. For more information, see\n",
       "https://altair-viz.github.io/user_guide/troubleshooting.html\n"
      ]
     },
     "execution_count": 4,
     "metadata": {},
     "output_type": "execute_result"
    }
   ],
   "source": [
    "height=600\n",
    "width=400\n",
    "plot_dG_and_flux(dG_df,  flux_df, height, width)"
   ]
  },
  {
   "cell_type": "code",
   "execution_count": null,
   "metadata": {},
   "outputs": [],
   "source": []
  }
 ],
 "metadata": {
  "kernelspec": {
   "display_name": "Python 3",
   "language": "python",
   "name": "python3"
  },
  "language_info": {
   "codemirror_mode": {
    "name": "ipython",
    "version": 3
   },
   "file_extension": ".py",
   "mimetype": "text/x-python",
   "name": "python",
   "nbconvert_exporter": "python",
   "pygments_lexer": "ipython3",
   "version": "3.6.9"
  }
 },
 "nbformat": 4,
 "nbformat_minor": 2
}
