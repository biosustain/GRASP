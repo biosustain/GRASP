{
 "cells": [
  {
   "cell_type": "code",
   "execution_count": 1,
   "metadata": {},
   "outputs": [],
   "source": [
    "import altair as alt\n",
    "import numpy as np\n",
    "import pandas as pd\n",
    "\n",
    "from simulation_viz.simulation_viz.thermodynamics_checks import check_thermodynamic_feasibility\n",
    "\n",
    "# comment the following line if you're using jupyter lab, uncomment if you're using jupyter notebook\n",
    "#alt.renderers.enable('notebook')"
   ]
  },
  {
   "cell_type": "markdown",
   "metadata": {},
   "source": [
    "### Define path to input excel file"
   ]
  },
  {
   "cell_type": "code",
   "execution_count": 2,
   "metadata": {},
   "outputs": [],
   "source": [
    "file_in = '../io/input/toy_model.xlsx'"
   ]
  },
  {
   "cell_type": "markdown",
   "metadata": {},
   "source": [
    "### Load the data"
   ]
  },
  {
   "cell_type": "code",
   "execution_count": 3,
   "metadata": {},
   "outputs": [
    {
     "name": "stdout",
     "output_type": "stream",
     "text": [
      "\n",
      "Checking if fluxes and Gibbs energies are compatible.\n",
      "\n",
      "Everything seems to be OK.\n"
     ]
    }
   ],
   "source": [
    "data_dict = pd.read_excel(file_in, sheet_name=None, index_col=0)\n",
    "\n",
    "# Get flux and Gibbs energies info from check_thermodynamic_feasibility\n",
    "flag, flux_df, dG_df = check_thermodynamic_feasibility(data_dict) \n",
    "\n",
    "# Modify dataframes\n",
    "dG_df['rxn'] = dG_df.index\n",
    "\n",
    "flux_df['rxn'] = flux_df.index\n",
    "flux_df['flux_min'] = flux_df['vref_mean (mmol/L/h)'] - flux_df['vref_std (mmol/L/h)']\n",
    "flux_df['flux_max'] = flux_df['vref_mean (mmol/L/h)'] + flux_df['vref_std (mmol/L/h)']\n",
    "flux_df['flux'] = flux_df['vref_mean (mmol/L/h)']"
   ]
  },
  {
   "cell_type": "markdown",
   "metadata": {},
   "source": [
    "### Function to plot Gibbs energies and flux values with altair"
   ]
  },
  {
   "cell_type": "code",
   "execution_count": 4,
   "metadata": {},
   "outputs": [],
   "source": [
    "def plot_dG_and_flux(dG_df, flux_df, height=400, width=600):\n",
    "    threshold_df = pd.DataFrame([{\"ThresholdValue\": 0, \"Threshold\": \"hazardous\"}])\n",
    "    \n",
    "    rect_dG = alt.Chart(dG_df).mark_rect().encode(\n",
    "        y ='rxn:N',\n",
    "        x='∆G_min',\n",
    "        x2='∆G_max'\n",
    "    ).properties(\n",
    "        height=height,\n",
    "        width=width\n",
    "    )\n",
    "\n",
    "    point_dG = alt.Chart(dG_df).mark_point(size=100, color='red', filled=True).encode(\n",
    "        y ='rxn:N',\n",
    "        x='∆G_mean',\n",
    "        tooltip=['rxn', '∆G_min', '∆G_mean', '∆G_max']\n",
    "    ).interactive()\n",
    "\n",
    "\n",
    "    rule_dG = alt.Chart(threshold_df).mark_rule().encode(\n",
    "        x='ThresholdValue:Q'\n",
    "    )\n",
    "\n",
    "\n",
    "    rect_flux = alt.Chart(flux_df).mark_rect().encode(\n",
    "        y ='rxn:N',\n",
    "        x='flux_min:Q',\n",
    "        x2='flux_max:Q'\n",
    "    ).properties(\n",
    "        height=height,\n",
    "        width=width\n",
    "    )\n",
    "\n",
    "    point_flux = alt.Chart(flux_df).mark_point(size=100, color='red', filled=True).encode(\n",
    "        y ='rxn:N',\n",
    "        x='flux',\n",
    "        tooltip=['rxn', 'flux_min', 'flux', 'flux_max']\n",
    "    ).interactive()\n",
    "\n",
    "\n",
    "    rule_flux = alt.Chart(threshold_df).mark_rule().encode(\n",
    "        x='ThresholdValue:Q'\n",
    "    )\n",
    "\n",
    "    return alt.hconcat(rect_dG + point_dG + rule_dG, rect_flux + point_flux + rule_flux)"
   ]
  },
  {
   "cell_type": "markdown",
   "metadata": {},
   "source": [
    "### Plot Gibbs free energies (on the left) and reaction fluxes (on the right)"
   ]
  },
  {
   "cell_type": "code",
   "execution_count": 5,
   "metadata": {},
   "outputs": [
    {
     "data": {
      "text/html": [
       "\n",
       "<div id=\"altair-viz-5f7a4453acda433ab5fc258a7800e82f\"></div>\n",
       "<script type=\"text/javascript\">\n",
       "  (function(spec, embedOpt){\n",
       "    let outputDiv = document.currentScript.previousElementSibling;\n",
       "    if (outputDiv.id !== \"altair-viz-5f7a4453acda433ab5fc258a7800e82f\") {\n",
       "      outputDiv = document.getElementById(\"altair-viz-5f7a4453acda433ab5fc258a7800e82f\");\n",
       "    }\n",
       "    const paths = {\n",
       "      \"vega\": \"https://cdn.jsdelivr.net/npm//vega@5?noext\",\n",
       "      \"vega-lib\": \"https://cdn.jsdelivr.net/npm//vega-lib?noext\",\n",
       "      \"vega-lite\": \"https://cdn.jsdelivr.net/npm//vega-lite@4.8.1?noext\",\n",
       "      \"vega-embed\": \"https://cdn.jsdelivr.net/npm//vega-embed@6?noext\",\n",
       "    };\n",
       "\n",
       "    function loadScript(lib) {\n",
       "      return new Promise(function(resolve, reject) {\n",
       "        var s = document.createElement('script');\n",
       "        s.src = paths[lib];\n",
       "        s.async = true;\n",
       "        s.onload = () => resolve(paths[lib]);\n",
       "        s.onerror = () => reject(`Error loading script: ${paths[lib]}`);\n",
       "        document.getElementsByTagName(\"head\")[0].appendChild(s);\n",
       "      });\n",
       "    }\n",
       "\n",
       "    function showError(err) {\n",
       "      outputDiv.innerHTML = `<div class=\"error\" style=\"color:red;\">${err}</div>`;\n",
       "      throw err;\n",
       "    }\n",
       "\n",
       "    function displayChart(vegaEmbed) {\n",
       "      vegaEmbed(outputDiv, spec, embedOpt)\n",
       "        .catch(err => showError(`Javascript Error: ${err.message}<br>This usually means there's a typo in your chart specification. See the javascript console for the full traceback.`));\n",
       "    }\n",
       "\n",
       "    if(typeof define === \"function\" && define.amd) {\n",
       "      requirejs.config({paths});\n",
       "      require([\"vega-embed\"], displayChart, err => showError(`Error loading script: ${err.message}`));\n",
       "    } else if (typeof vegaEmbed === \"function\") {\n",
       "      displayChart(vegaEmbed);\n",
       "    } else {\n",
       "      loadScript(\"vega\")\n",
       "        .then(() => loadScript(\"vega-lite\"))\n",
       "        .then(() => loadScript(\"vega-embed\"))\n",
       "        .catch(showError)\n",
       "        .then(() => displayChart(vegaEmbed));\n",
       "    }\n",
       "  })({\"config\": {\"view\": {\"continuousWidth\": 400, \"continuousHeight\": 300}}, \"hconcat\": [{\"layer\": [{\"mark\": \"rect\", \"encoding\": {\"x\": {\"type\": \"quantitative\", \"field\": \"\\u2206G_min\"}, \"x2\": {\"field\": \"\\u2206G_max\"}, \"y\": {\"type\": \"nominal\", \"field\": \"rxn\"}}, \"height\": 600, \"width\": 400}, {\"mark\": {\"type\": \"point\", \"color\": \"red\", \"filled\": true, \"size\": 100}, \"encoding\": {\"tooltip\": [{\"type\": \"nominal\", \"field\": \"rxn\"}, {\"type\": \"quantitative\", \"field\": \"\\u2206G_min\"}, {\"type\": \"quantitative\", \"field\": \"\\u2206G_mean\"}, {\"type\": \"quantitative\", \"field\": \"\\u2206G_max\"}], \"x\": {\"type\": \"quantitative\", \"field\": \"\\u2206G_mean\"}, \"y\": {\"type\": \"nominal\", \"field\": \"rxn\"}}, \"selection\": {\"selector001\": {\"type\": \"interval\", \"bind\": \"scales\", \"encodings\": [\"x\", \"y\"]}}}, {\"data\": {\"name\": \"data-d7255ad842f014c46f35befde053a015\"}, \"mark\": \"rule\", \"encoding\": {\"x\": {\"type\": \"quantitative\", \"field\": \"ThresholdValue\"}}}], \"data\": {\"name\": \"data-1be3fe115e82bb0437f62db9024d3007\"}}, {\"layer\": [{\"mark\": \"rect\", \"encoding\": {\"x\": {\"type\": \"quantitative\", \"field\": \"flux_min\"}, \"x2\": {\"field\": \"flux_max\"}, \"y\": {\"type\": \"nominal\", \"field\": \"rxn\"}}, \"height\": 600, \"width\": 400}, {\"mark\": {\"type\": \"point\", \"color\": \"red\", \"filled\": true, \"size\": 100}, \"encoding\": {\"tooltip\": [{\"type\": \"nominal\", \"field\": \"rxn\"}, {\"type\": \"quantitative\", \"field\": \"flux_min\"}, {\"type\": \"quantitative\", \"field\": \"flux\"}, {\"type\": \"quantitative\", \"field\": \"flux_max\"}], \"x\": {\"type\": \"quantitative\", \"field\": \"flux\"}, \"y\": {\"type\": \"nominal\", \"field\": \"rxn\"}}, \"selection\": {\"selector002\": {\"type\": \"interval\", \"bind\": \"scales\", \"encodings\": [\"x\", \"y\"]}}}, {\"data\": {\"name\": \"data-d7255ad842f014c46f35befde053a015\"}, \"mark\": \"rule\", \"encoding\": {\"x\": {\"type\": \"quantitative\", \"field\": \"ThresholdValue\"}}}], \"data\": {\"name\": \"data-8bdb384fea52884fd898e7bf72c20b71\"}}], \"$schema\": \"https://vega.github.io/schema/vega-lite/v4.8.1.json\", \"datasets\": {\"data-1be3fe115e82bb0437f62db9024d3007\": [{\"\\u2206G_min\": -135.41621425284532, \"\\u2206G_mean\": -63.91482327339725, \"\\u2206G_max\": -29.341206135403382, \"rxn\": \"r1\"}, {\"\\u2206G_min\": -24.684239623671157, \"\\u2206G_mean\": -11.536645623040977, \"\\u2206G_max\": 38.50037405757083, \"rxn\": \"r2\"}, {\"\\u2206G_min\": -42.53074552602638, \"\\u2206G_mean\": -25.362332055987448, \"\\u2206G_max\": -7.976937186601427, \"rxn\": \"r3\"}, {\"\\u2206G_min\": -39.11595184217879, \"\\u2206G_mean\": -10.938720218088957, \"\\u2206G_max\": 17.197859497009688, \"rxn\": \"r4_1\"}, {\"\\u2206G_min\": -39.11595184217879, \"\\u2206G_mean\": -10.938720218088957, \"\\u2206G_max\": 17.197859497009688, \"rxn\": \"r4_2\"}, {\"\\u2206G_min\": -41.857463964782085, \"\\u2206G_mean\": -20.213711252872944, \"\\u2206G_max\": 1.4305649510788263, \"rxn\": \"r5\"}, {\"\\u2206G_min\": -68.98091598957109, \"\\u2206G_mean\": -16.1504523617635, \"\\u2206G_max\": 1.3101066348431196, \"rxn\": \"r6\"}, {\"\\u2206G_min\": -10.295831504837128, \"\\u2206G_mean\": 11.458256680613442, \"\\u2206G_max\": 52.59693283676754, \"rxn\": \"r7\"}, {\"\\u2206G_min\": -62.59693283676754, \"\\u2206G_mean\": -16.458256680613445, \"\\u2206G_max\": 10.295831504837128, \"rxn\": \"r8\"}, {\"\\u2206G_min\": -33.46861092291279, \"\\u2206G_mean\": -15.644332737812928, \"\\u2206G_max\": 2.218407312112504, \"rxn\": \"r9\"}, {\"\\u2206G_min\": -9.640955616667462, \"\\u2206G_mean\": -0.061777835799187386, \"\\u2206G_max\": 46.39954137761934, \"rxn\": \"r10\"}, {\"\\u2206G_min\": -61.43501725413108, \"\\u2206G_mean\": -20.31364107646995, \"\\u2206G_max\": 1.4227517572817057, \"rxn\": \"r11\"}, {\"\\u2206G_min\": -14.557040888786577, \"\\u2206G_mean\": -6.717099035877138, \"\\u2206G_max\": 1.1629453128128606, \"rxn\": \"r12\"}, {\"\\u2206G_min\": -10.044166067124607, \"\\u2206G_mean\": -0.7788828538480641, \"\\u2206G_max\": 44.03365335723729, \"rxn\": \"r13\"}], \"data-d7255ad842f014c46f35befde053a015\": [{\"ThresholdValue\": 0, \"Threshold\": \"hazardous\"}], \"data-8bdb384fea52884fd898e7bf72c20b71\": [{\"vref_mean (mmol/L/h)\": 7.187451150529764, \"vref_std (mmol/L/h)\": 2.0044156091594728e-05, \"rxn\": \"r1\", \"flux_min\": 7.187431106373673, \"flux_max\": 7.187471194685855, \"flux\": 7.187451150529764}, {\"vref_mean (mmol/L/h)\": 7.129631386634685, \"vref_std (mmol/L/h)\": 2.0044155838141843e-05, \"rxn\": \"r2\", \"flux_min\": 7.129611342478847, \"flux_max\": 7.129651430790523, \"flux\": 7.129631386634685}, {\"vref_mean (mmol/L/h)\": 6.844262248797274, \"vref_std (mmol/L/h)\": 2.004303047426937e-05, \"rxn\": \"r3\", \"flux_min\": 6.8442422057667995, \"flux_max\": 6.844282291827748, \"flux\": 6.844262248797274}, {\"vref_mean (mmol/L/h)\": 3.424328166281937, \"vref_std (mmol/L/h)\": 1.0021515237120788e-05, \"rxn\": \"r4_1\", \"flux_min\": 3.4243181447667, \"flux_max\": 3.4243381877971744, \"flux\": 3.424328166281937}, {\"vref_mean (mmol/L/h)\": 3.424328166281932, \"vref_std (mmol/L/h)\": 1.0021515237120809e-05, \"rxn\": \"r4_2\", \"flux_min\": 3.4243181447666946, \"flux_max\": 3.424338187797169, \"flux\": 3.424328166281932}, {\"vref_mean (mmol/L/h)\": -0.0024268492580794936, \"vref_std (mmol/L/h)\": 6.602842045720366e-11, \"rxn\": \"r5\", \"flux_min\": -0.002426849324107914, \"flux_max\": -0.002426849192051073, \"flux\": -0.0024268492580794936}, {\"vref_mean (mmol/L/h)\": -0.002426849258059651, \"vref_std (mmol/L/h)\": 6.602842045587702e-11, \"rxn\": \"r6\", \"flux_min\": -0.0024268493240880715, \"flux_max\": -0.0024268491920312303, \"flux\": -0.002426849258059651}, {\"vref_mean (mmol/L/h)\": -14.829907771770007, \"vref_std (mmol/L/h)\": 1.1035053672518018, \"rxn\": \"r7\", \"flux_min\": -15.933413139021809, \"flux_max\": -13.726402404518204, \"flux\": -14.829907771770007}, {\"vref_mean (mmol/L/h)\": -22.0149320730417, \"vref_std (mmol/L/h)\": 1.10350536706976, \"rxn\": \"r8\", \"flux_min\": -23.11843744011146, \"flux_max\": -20.911426705971937, \"flux\": -22.0149320730417}, {\"vref_mean (mmol/L/h)\": 0.285369137837419, \"vref_std (mmol/L/h)\": 2.12397436954052e-07, \"rxn\": \"r9\", \"flux_min\": 0.28536892543998205, \"flux_max\": 0.285369350234856, \"flux\": 0.285369137837419}, {\"vref_mean (mmol/L/h)\": 0.0578197638950879, \"vref_std (mmol/L/h)\": 3.18755368558865e-09, \"rxn\": \"r10\", \"flux_min\": 0.05781976070753422, \"flux_max\": 0.05781976708264159, \"flux\": 0.0578197638950879}, {\"vref_mean (mmol/L/h)\": -0.00439408376660814, \"vref_std (mmol/L/h)\": 3.33787220043099e-11, \"rxn\": \"r11\", \"flux_min\": -0.0043940837999868615, \"flux_max\": -0.004394083733229418, \"flux\": -0.00439408376660814}, {\"vref_mean (mmol/L/h)\": 6.84865633256387, \"vref_std (mmol/L/h)\": 2.00430304742416e-05, \"rxn\": \"r12\", \"flux_min\": 6.848636289533395, \"flux_max\": 6.848676375594344, \"flux\": 6.84865633256387}, {\"vref_mean (mmol/L/h)\": -0.00242684925806694, \"vref_std (mmol/L/h)\": 6.60284204552005e-11, \"rxn\": \"r13\", \"flux_min\": -0.0024268493240953604, \"flux_max\": -0.0024268491920385192, \"flux\": -0.00242684925806694}]}}, {\"mode\": \"vega-lite\"});\n",
       "</script>"
      ],
      "text/plain": [
       "alt.HConcatChart(...)"
      ]
     },
     "execution_count": 5,
     "metadata": {},
     "output_type": "execute_result"
    }
   ],
   "source": [
    "height=600\n",
    "width=400\n",
    "plot_dG_and_flux(dG_df,  flux_df, height, width)"
   ]
  },
  {
   "cell_type": "code",
   "execution_count": null,
   "metadata": {},
   "outputs": [],
   "source": []
  }
 ],
 "metadata": {
  "kernelspec": {
   "display_name": "Python 3",
   "language": "python",
   "name": "python3"
  },
  "language_info": {
   "codemirror_mode": {
    "name": "ipython",
    "version": 3
   },
   "file_extension": ".py",
   "mimetype": "text/x-python",
   "name": "python",
   "nbconvert_exporter": "python",
   "pygments_lexer": "ipython3",
   "version": "3.7.7"
  }
 },
 "nbformat": 4,
 "nbformat_minor": 4
}
