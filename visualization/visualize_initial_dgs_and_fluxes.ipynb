{
 "cells": [
  {
   "cell_type": "code",
   "execution_count": 1,
   "metadata": {},
   "outputs": [],
   "source": [
    "import altair as alt\n",
    "import numpy as np\n",
    "import pandas as pd\n",
    "\n",
    "from simulation_viz.simulation_viz.process_thermodynamics import get_fluxes_and_dGs\n",
    "from simulation_viz.simulation_viz.visualize_MCA import plot_dG_and_flux\n",
    "\n",
    "# comment the following line if you're using jupyter lab, uncomment if you're using jupyter notebook\n",
    "#alt.renderers.enable('notebook')"
   ]
  },
  {
   "cell_type": "markdown",
   "metadata": {},
   "source": [
    "### Define path to input excel file"
   ]
  },
  {
   "cell_type": "code",
   "execution_count": 2,
   "metadata": {},
   "outputs": [],
   "source": [
    "file_in = '../io/input/toy_model.xlsx'"
   ]
  },
  {
   "cell_type": "markdown",
   "metadata": {},
   "source": [
    "### Load the data"
   ]
  },
  {
   "cell_type": "code",
   "execution_count": 3,
   "metadata": {},
   "outputs": [
    {
     "name": "stdout",
     "output_type": "stream",
     "text": [
      "\n",
      "Checking if fluxes and Gibbs energies are compatible.\n",
      "\n"
     ]
    }
   ],
   "source": [
    "data_dict = pd.read_excel(file_in, sheet_name=None, index_col=0)\n",
    "\n",
    "# Get flux and Gibbs energies info\n",
    "flux_df, dG_df = get_fluxes_and_dGs(data_dict) \n",
    "\n",
    "# Modify dataframes\n",
    "dG_df['rxn'] = dG_df.index\n",
    "\n",
    "flux_df['rxn'] = flux_df.index\n",
    "flux_df['flux_min'] = flux_df['vref_mean (mmol/L/h)'] - flux_df['vref_std (mmol/L/h)']\n",
    "flux_df['flux_max'] = flux_df['vref_mean (mmol/L/h)'] + flux_df['vref_std (mmol/L/h)']\n",
    "flux_df['flux'] = flux_df['vref_mean (mmol/L/h)']"
   ]
  },
  {
   "cell_type": "markdown",
   "metadata": {},
   "source": [
    "### Plot Gibbs free energies (on the left) and reaction fluxes (on the right)"
   ]
  },
  {
   "cell_type": "code",
   "execution_count": 4,
   "metadata": {},
   "outputs": [
    {
     "data": {
      "text/html": [
       "\n",
       "<div id=\"altair-viz-edc6588dca4b46e5a281e2dc77971062\"></div>\n",
       "<script type=\"text/javascript\">\n",
       "  var VEGA_DEBUG = (typeof VEGA_DEBUG == \"undefined\") ? {} : VEGA_DEBUG;\n",
       "  (function(spec, embedOpt){\n",
       "    let outputDiv = document.currentScript.previousElementSibling;\n",
       "    if (outputDiv.id !== \"altair-viz-edc6588dca4b46e5a281e2dc77971062\") {\n",
       "      outputDiv = document.getElementById(\"altair-viz-edc6588dca4b46e5a281e2dc77971062\");\n",
       "    }\n",
       "    const paths = {\n",
       "      \"vega\": \"https://cdn.jsdelivr.net/npm//vega@5?noext\",\n",
       "      \"vega-lib\": \"https://cdn.jsdelivr.net/npm//vega-lib?noext\",\n",
       "      \"vega-lite\": \"https://cdn.jsdelivr.net/npm//vega-lite@4.17.0?noext\",\n",
       "      \"vega-embed\": \"https://cdn.jsdelivr.net/npm//vega-embed@6?noext\",\n",
       "    };\n",
       "\n",
       "    function maybeLoadScript(lib, version) {\n",
       "      var key = `${lib.replace(\"-\", \"\")}_version`;\n",
       "      return (VEGA_DEBUG[key] == version) ?\n",
       "        Promise.resolve(paths[lib]) :\n",
       "        new Promise(function(resolve, reject) {\n",
       "          var s = document.createElement('script');\n",
       "          document.getElementsByTagName(\"head\")[0].appendChild(s);\n",
       "          s.async = true;\n",
       "          s.onload = () => {\n",
       "            VEGA_DEBUG[key] = version;\n",
       "            return resolve(paths[lib]);\n",
       "          };\n",
       "          s.onerror = () => reject(`Error loading script: ${paths[lib]}`);\n",
       "          s.src = paths[lib];\n",
       "        });\n",
       "    }\n",
       "\n",
       "    function showError(err) {\n",
       "      outputDiv.innerHTML = `<div class=\"error\" style=\"color:red;\">${err}</div>`;\n",
       "      throw err;\n",
       "    }\n",
       "\n",
       "    function displayChart(vegaEmbed) {\n",
       "      vegaEmbed(outputDiv, spec, embedOpt)\n",
       "        .catch(err => showError(`Javascript Error: ${err.message}<br>This usually means there's a typo in your chart specification. See the javascript console for the full traceback.`));\n",
       "    }\n",
       "\n",
       "    if(typeof define === \"function\" && define.amd) {\n",
       "      requirejs.config({paths});\n",
       "      require([\"vega-embed\"], displayChart, err => showError(`Error loading script: ${err.message}`));\n",
       "    } else {\n",
       "      maybeLoadScript(\"vega\", \"5\")\n",
       "        .then(() => maybeLoadScript(\"vega-lite\", \"4.17.0\"))\n",
       "        .then(() => maybeLoadScript(\"vega-embed\", \"6\"))\n",
       "        .catch(showError)\n",
       "        .then(() => displayChart(vegaEmbed));\n",
       "    }\n",
       "  })({\"config\": {\"view\": {\"continuousWidth\": 400, \"continuousHeight\": 300}}, \"hconcat\": [{\"layer\": [{\"mark\": \"rect\", \"encoding\": {\"x\": {\"field\": \"\\u2206G_min\", \"type\": \"quantitative\"}, \"x2\": {\"field\": \"\\u2206G_max\"}, \"y\": {\"field\": \"rxn\", \"type\": \"nominal\"}}, \"height\": 600, \"width\": 400}, {\"mark\": {\"type\": \"point\", \"color\": \"red\", \"filled\": true, \"size\": 100}, \"encoding\": {\"tooltip\": [{\"field\": \"rxn\", \"type\": \"nominal\"}, {\"field\": \"\\u2206G_min\", \"type\": \"quantitative\"}, {\"field\": \"\\u2206G_mean\", \"type\": \"quantitative\"}, {\"field\": \"\\u2206G_max\", \"type\": \"quantitative\"}], \"x\": {\"field\": \"\\u2206G_mean\", \"type\": \"quantitative\"}, \"y\": {\"field\": \"rxn\", \"type\": \"nominal\"}}, \"selection\": {\"selector001\": {\"type\": \"interval\", \"bind\": \"scales\", \"encodings\": [\"x\", \"y\"]}}}, {\"data\": {\"name\": \"data-d7255ad842f014c46f35befde053a015\"}, \"mark\": \"rule\", \"encoding\": {\"x\": {\"field\": \"ThresholdValue\", \"type\": \"quantitative\"}}}], \"data\": {\"name\": \"data-1be3fe115e82bb0437f62db9024d3007\"}}, {\"layer\": [{\"mark\": \"rect\", \"encoding\": {\"x\": {\"field\": \"flux_min\", \"type\": \"quantitative\"}, \"x2\": {\"field\": \"flux_max\"}, \"y\": {\"field\": \"rxn\", \"type\": \"nominal\"}}, \"height\": 600, \"width\": 400}, {\"mark\": {\"type\": \"point\", \"color\": \"red\", \"filled\": true, \"size\": 100}, \"encoding\": {\"tooltip\": [{\"field\": \"rxn\", \"type\": \"nominal\"}, {\"field\": \"flux_min\", \"type\": \"quantitative\"}, {\"field\": \"flux\", \"type\": \"quantitative\"}, {\"field\": \"flux_max\", \"type\": \"quantitative\"}], \"x\": {\"field\": \"flux\", \"type\": \"quantitative\"}, \"y\": {\"field\": \"rxn\", \"type\": \"nominal\"}}, \"selection\": {\"selector002\": {\"type\": \"interval\", \"bind\": \"scales\", \"encodings\": [\"x\", \"y\"]}}}, {\"data\": {\"name\": \"data-d7255ad842f014c46f35befde053a015\"}, \"mark\": \"rule\", \"encoding\": {\"x\": {\"field\": \"ThresholdValue\", \"type\": \"quantitative\"}}}], \"data\": {\"name\": \"data-91edc22548c17a8f853fbdeb9d0c7929\"}}], \"$schema\": \"https://vega.github.io/schema/vega-lite/v4.17.0.json\", \"datasets\": {\"data-1be3fe115e82bb0437f62db9024d3007\": [{\"\\u2206G_min\": -135.41621425284532, \"\\u2206G_mean\": -63.91482327339725, \"\\u2206G_max\": -29.341206135403382, \"rxn\": \"r1\"}, {\"\\u2206G_min\": -24.684239623671157, \"\\u2206G_mean\": -11.536645623040977, \"\\u2206G_max\": 38.50037405757083, \"rxn\": \"r2\"}, {\"\\u2206G_min\": -42.53074552602638, \"\\u2206G_mean\": -25.362332055987448, \"\\u2206G_max\": -7.976937186601427, \"rxn\": \"r3\"}, {\"\\u2206G_min\": -39.11595184217879, \"\\u2206G_mean\": -10.938720218088957, \"\\u2206G_max\": 17.197859497009688, \"rxn\": \"r4_1\"}, {\"\\u2206G_min\": -39.11595184217879, \"\\u2206G_mean\": -10.938720218088957, \"\\u2206G_max\": 17.197859497009688, \"rxn\": \"r4_2\"}, {\"\\u2206G_min\": -41.857463964782085, \"\\u2206G_mean\": -20.213711252872944, \"\\u2206G_max\": 1.4305649510788263, \"rxn\": \"r5\"}, {\"\\u2206G_min\": -68.98091598957109, \"\\u2206G_mean\": -16.1504523617635, \"\\u2206G_max\": 1.3101066348431196, \"rxn\": \"r6\"}, {\"\\u2206G_min\": -10.295831504837128, \"\\u2206G_mean\": 11.458256680613442, \"\\u2206G_max\": 52.59693283676754, \"rxn\": \"r7\"}, {\"\\u2206G_min\": -62.59693283676754, \"\\u2206G_mean\": -16.458256680613445, \"\\u2206G_max\": 10.295831504837128, \"rxn\": \"r8\"}, {\"\\u2206G_min\": -33.46861092291279, \"\\u2206G_mean\": -15.644332737812928, \"\\u2206G_max\": 2.218407312112504, \"rxn\": \"r9\"}, {\"\\u2206G_min\": -9.640955616667462, \"\\u2206G_mean\": -0.061777835799187386, \"\\u2206G_max\": 46.39954137761934, \"rxn\": \"r10\"}, {\"\\u2206G_min\": -61.43501725413108, \"\\u2206G_mean\": -20.31364107646995, \"\\u2206G_max\": 1.4227517572817057, \"rxn\": \"r11\"}, {\"\\u2206G_min\": -14.557040888786577, \"\\u2206G_mean\": -6.717099035877138, \"\\u2206G_max\": 1.1629453128128606, \"rxn\": \"r12\"}, {\"\\u2206G_min\": -10.044166067124607, \"\\u2206G_mean\": -0.7788828538480641, \"\\u2206G_max\": 44.03365335723729, \"rxn\": \"r13\"}], \"data-d7255ad842f014c46f35befde053a015\": [{\"ThresholdValue\": 0, \"Threshold\": \"hazardous\"}], \"data-91edc22548c17a8f853fbdeb9d0c7929\": [{\"vref_mean (mmol/L/h)\": 7.1874511505298475, \"vref_std (mmol/L/h)\": 0.6854844384773887, \"rxn\": \"r1\", \"flux_min\": 6.501966712052459, \"flux_max\": 7.872935589007236, \"flux\": 7.1874511505298475}, {\"vref_mean (mmol/L/h)\": 7.129631386634763, \"vref_std (mmol/L/h)\": 0.6854600529160633, \"rxn\": \"r2\", \"flux_min\": 6.4441713337187, \"flux_max\": 7.815091439550827, \"flux\": 7.129631386634763}, {\"vref_mean (mmol/L/h)\": 6.844262248797321, \"vref_std (mmol/L/h)\": 0.6848657742181251, \"rxn\": \"r3\", \"flux_min\": 6.159396474579196, \"flux_max\": 7.5291280230154465, \"flux\": 6.844262248797321}, {\"vref_mean (mmol/L/h)\": 3.4243281662819554, \"vref_std (mmol/L/h)\": 0.3424328166281931, \"rxn\": \"r4_1\", \"flux_min\": 3.081895349653762, \"flux_max\": 3.7667609829101485, \"flux\": 3.4243281662819554}, {\"vref_mean (mmol/L/h)\": 3.42432816628195, \"vref_std (mmol/L/h)\": 0.34243281662819347, \"rxn\": \"r4_2\", \"flux_min\": 3.0818953496537564, \"flux_max\": 3.7667609829101436, \"flux\": 3.42432816628195}, {\"vref_mean (mmol/L/h)\": -0.0024268492581316775, \"vref_std (mmol/L/h)\": 0.0002426849258066931, \"rxn\": \"r5\", \"flux_min\": -0.0026695341839383705, \"flux_max\": -0.0021841643323249845, \"flux\": -0.0024268492581316775}, {\"vref_mean (mmol/L/h)\": -0.0024268492581058588, \"vref_std (mmol/L/h)\": 0.0002426849258066935, \"rxn\": \"r6\", \"flux_min\": -0.002669534183912552, \"flux_max\": -0.0021841643322991653, \"flux\": -0.0024268492581058588}, {\"vref_mean (mmol/L/h)\": -14.829907771769985, \"vref_std (mmol/L/h)\": 2.305745284305496, \"rxn\": \"r7\", \"flux_min\": -17.13565305607548, \"flux_max\": -12.524162487464489, \"flux\": -14.829907771769985}, {\"vref_mean (mmol/L/h)\": -22.0149320730417, \"vref_std (mmol/L/h)\": 2.20149320730417, \"rxn\": \"r8\", \"flux_min\": -24.21642528034587, \"flux_max\": -19.813438865737528, \"flux\": -22.0149320730417}, {\"vref_mean (mmol/L/h)\": 0.285369137837419, \"vref_std (mmol/L/h)\": 0.0285369137837419, \"rxn\": \"r9\", \"flux_min\": 0.2568322240536771, \"flux_max\": 0.3139060516211609, \"flux\": 0.285369137837419}, {\"vref_mean (mmol/L/h)\": 0.0578197638950879, \"vref_std (mmol/L/h)\": 0.00578197638950879, \"rxn\": \"r10\", \"flux_min\": 0.052037787505579115, \"flux_max\": 0.0636017402845967, \"flux\": 0.0578197638950879}, {\"vref_mean (mmol/L/h)\": -0.00439408376660814, \"vref_std (mmol/L/h)\": 0.000439408376660814, \"rxn\": \"r11\", \"flux_min\": -0.004833492143268954, \"flux_max\": -0.003954675389947326, \"flux\": -0.00439408376660814}, {\"vref_mean (mmol/L/h)\": 6.84865633256387, \"vref_std (mmol/L/h)\": 0.684865633256387, \"rxn\": \"r12\", \"flux_min\": 6.163790699307483, \"flux_max\": 7.533521965820257, \"flux\": 6.84865633256387}, {\"vref_mean (mmol/L/h)\": -0.00242684925806694, \"vref_std (mmol/L/h)\": 0.000242684925806694, \"rxn\": \"r13\", \"flux_min\": -0.0026695341838736336, \"flux_max\": -0.002184164332260246, \"flux\": -0.00242684925806694}]}}, {\"mode\": \"vega-lite\"});\n",
       "</script>"
      ],
      "text/plain": [
       "alt.HConcatChart(...)"
      ]
     },
     "execution_count": 4,
     "metadata": {},
     "output_type": "execute_result"
    }
   ],
   "source": [
    "height=600\n",
    "width=400\n",
    "plot_dG_and_flux(dG_df,  flux_df, height, width)"
   ]
  },
  {
   "cell_type": "code",
   "execution_count": null,
   "metadata": {},
   "outputs": [],
   "source": []
  }
 ],
 "metadata": {
  "kernelspec": {
   "display_name": "Python 3",
   "language": "python",
   "name": "python3"
  },
  "language_info": {
   "codemirror_mode": {
    "name": "ipython",
    "version": 3
   },
   "file_extension": ".py",
   "mimetype": "text/x-python",
   "name": "python",
   "nbconvert_exporter": "python",
   "pygments_lexer": "ipython3",
   "version": "3.9.7"
  }
 },
 "nbformat": 4,
 "nbformat_minor": 4
}
