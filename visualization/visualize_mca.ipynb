{
 "cells": [
  {
   "cell_type": "code",
   "execution_count": 1,
   "metadata": {},
   "outputs": [
    {
     "data": {
      "text/plain": [
       "DataTransformerRegistry.enable('default')"
      ]
     },
     "execution_count": 1,
     "metadata": {},
     "output_type": "execute_result"
    }
   ],
   "source": [
    "import pandas as pd\n",
    "import altair as alt\n",
    "import numpy as np\n",
    "import scipy.io\n",
    "alt.data_transformers.enable('default', max_rows=None)"
   ]
  },
  {
   "cell_type": "markdown",
   "metadata": {},
   "source": [
    "### Specify the path to the folder that contains the MCA results"
   ]
  },
  {
   "cell_type": "code",
   "execution_count": 2,
   "metadata": {},
   "outputs": [],
   "source": [
    "base_dir = '../io/output/'"
   ]
  },
  {
   "cell_type": "markdown",
   "metadata": {},
   "source": [
    "### Specify the model ID used to generate the MCA file "
   ]
  },
  {
   "cell_type": "markdown",
   "metadata": {},
   "source": [
    "Typically the MCA output file is named as `MCA_modelID.mat`"
   ]
  },
  {
   "cell_type": "code",
   "execution_count": 3,
   "metadata": {},
   "outputs": [],
   "source": [
    "model_id = 'toy_model'"
   ]
  },
  {
   "cell_type": "markdown",
   "metadata": {},
   "source": [
    "### Specify the number of models in the ensemble"
   ]
  },
  {
   "cell_type": "code",
   "execution_count": 4,
   "metadata": {},
   "outputs": [],
   "source": [
    "n_models = 5"
   ]
  },
  {
   "cell_type": "markdown",
   "metadata": {},
   "source": [
    "### Load the data"
   ]
  },
  {
   "cell_type": "code",
   "execution_count": 5,
   "metadata": {},
   "outputs": [],
   "source": [
    "file_in_MCA = f'{base_dir}MCA_{model_id}.mat'\n",
    "file_in_mets = f'{base_dir}{model_id}_metsActive.dat'\n",
    "file_in_rxns = f'{base_dir}{model_id}_rxnsActive.dat'\n",
    "file_in_enzs = f'{base_dir}{model_id}_enzNames.dat'"
   ]
  },
  {
   "cell_type": "markdown",
   "metadata": {},
   "source": [
    "### Get reaction, enzyme, and metabolite names"
   ]
  },
  {
   "cell_type": "code",
   "execution_count": 6,
   "metadata": {},
   "outputs": [],
   "source": [
    "def get_name_list(file_in):\n",
    "    \n",
    "    name_list = []\n",
    "    with open(file_in, 'r') as f_in:\n",
    "        line = f_in.readline()\n",
    "        line = f_in.readline()\n",
    "        while line:          \n",
    "            name_list.append(line[2:].strip())\n",
    "            line = f_in.readline()\n",
    "\n",
    "    return name_list\n",
    "\n",
    "rxn_names = get_name_list(file_in_rxns)\n",
    "enz_names = get_name_list(file_in_enzs)\n",
    "met_names = get_name_list(file_in_mets)"
   ]
  },
  {
   "cell_type": "markdown",
   "metadata": {},
   "source": [
    "### Get control coefficients median and interquartile range"
   ]
  },
  {
   "cell_type": "code",
   "execution_count": 7,
   "metadata": {},
   "outputs": [],
   "source": [
    "def get_df_median(mat, key_name, id_col, col_names, row_names, n_models):\n",
    "    \n",
    "    try:\n",
    "        df = pd.DataFrame(data=mat['mcaResults'][key_name].item())\n",
    "        df.columns = col_names\n",
    "    except ValueError:\n",
    "        df = pd.DataFrame(data=mat['mcaResults'][key_name].item()[0])\n",
    "        df.columns = col_names\n",
    "\n",
    "    df[id_col] = np.tile(row_names, n_models)\n",
    "    df_median = df.groupby(id_col).median()\n",
    "    \n",
    "    return df_median\n",
    "\n",
    "\n",
    "def get_df_iqr(mat, key_name, id_col, col_names, row_names, n_models):\n",
    "    \n",
    "    try:\n",
    "        df = pd.DataFrame(data=mat['mcaResults'][key_name].item())\n",
    "        df.columns = col_names\n",
    "    except ValueError:\n",
    "        df = pd.DataFrame(data=mat['mcaResults'][key_name].item()[0])\n",
    "        df.columns = col_names\n",
    "\n",
    "    df[id_col] = np.tile(row_names, n_models)\n",
    "   \n",
    "    df_q2 = df.groupby(id_col).quantile(0.25)\n",
    "    df_q4 = df.groupby(id_col).quantile(0.75)\n",
    "    \n",
    "    df_iqr = df_q4.subtract(df_q2)    \n",
    "\n",
    "    return df_iqr\n",
    "\n",
    "\n",
    "\n",
    "mat = scipy.io.loadmat(file_in_MCA, squeeze_me=True)\n",
    "\n",
    "key_name = 'vControl'\n",
    "id_col = 'rxns'\n",
    "col_names = rxn_names\n",
    "row_names = rxn_names\n",
    "Cv_df_median = get_df_median(mat, key_name, id_col, col_names, row_names, n_models)\n",
    "Cv_df_iqr = get_df_iqr(mat, key_name, id_col, col_names, row_names, n_models)\n",
    "\n",
    "key_name = 'xControl'\n",
    "id_col = 'mets'\n",
    "col_names = rxn_names\n",
    "row_names = met_names\n",
    "Cx_df_median = get_df_median(mat, key_name, id_col, col_names, row_names, n_models)\n",
    "Cx_df_iqr = get_df_iqr(mat, key_name, id_col, col_names, row_names, n_models)\n",
    "    \n"
   ]
  },
  {
   "cell_type": "markdown",
   "metadata": {},
   "source": [
    "### Define function to plot heatmaps with altair"
   ]
  },
  {
   "cell_type": "code",
   "execution_count": 8,
   "metadata": {},
   "outputs": [],
   "source": [
    "def get_heatmaps(C_df_in, id_col):\n",
    "    \n",
    "    C_df = C_df_in\n",
    "    \n",
    "    C_df[id_col] = C_df.index\n",
    "    C_df = C_df.melt(id_vars=[id_col], var_name='variable')\n",
    "    \n",
    "    Cx_in = alt.Chart(C_df).mark_rect().encode(\n",
    "        x='variable:N',\n",
    "        y=id_col,\n",
    "        color=alt.Color('value:Q', scale=alt.Scale(scheme='redblue', domain=[1,-1])),\n",
    "        tooltip=['value:Q', 'variable:N', id_col]\n",
    "    ).properties(\n",
    "        width=300,\n",
    "        height=250\n",
    "    )\n",
    "\n",
    "    return Cx_in "
   ]
  },
  {
   "cell_type": "markdown",
   "metadata": {},
   "source": [
    "### Plot flux control coefficients median (on the left) and respective interquartile range (on the right)"
   ]
  },
  {
   "cell_type": "code",
   "execution_count": 9,
   "metadata": {},
   "outputs": [
    {
     "data": {
      "text/html": [
       "\n",
       "<div id=\"altair-viz-013ebbc2416b4e93b5af6e201ab0e569\"></div>\n",
       "<script type=\"text/javascript\">\n",
       "  var VEGA_DEBUG = (typeof VEGA_DEBUG == \"undefined\") ? {} : VEGA_DEBUG;\n",
       "  (function(spec, embedOpt){\n",
       "    let outputDiv = document.currentScript.previousElementSibling;\n",
       "    if (outputDiv.id !== \"altair-viz-013ebbc2416b4e93b5af6e201ab0e569\") {\n",
       "      outputDiv = document.getElementById(\"altair-viz-013ebbc2416b4e93b5af6e201ab0e569\");\n",
       "    }\n",
       "    const paths = {\n",
       "      \"vega\": \"https://cdn.jsdelivr.net/npm//vega@5?noext\",\n",
       "      \"vega-lib\": \"https://cdn.jsdelivr.net/npm//vega-lib?noext\",\n",
       "      \"vega-lite\": \"https://cdn.jsdelivr.net/npm//vega-lite@4.17.0?noext\",\n",
       "      \"vega-embed\": \"https://cdn.jsdelivr.net/npm//vega-embed@6?noext\",\n",
       "    };\n",
       "\n",
       "    function maybeLoadScript(lib, version) {\n",
       "      var key = `${lib.replace(\"-\", \"\")}_version`;\n",
       "      return (VEGA_DEBUG[key] == version) ?\n",
       "        Promise.resolve(paths[lib]) :\n",
       "        new Promise(function(resolve, reject) {\n",
       "          var s = document.createElement('script');\n",
       "          document.getElementsByTagName(\"head\")[0].appendChild(s);\n",
       "          s.async = true;\n",
       "          s.onload = () => {\n",
       "            VEGA_DEBUG[key] = version;\n",
       "            return resolve(paths[lib]);\n",
       "          };\n",
       "          s.onerror = () => reject(`Error loading script: ${paths[lib]}`);\n",
       "          s.src = paths[lib];\n",
       "        });\n",
       "    }\n",
       "\n",
       "    function showError(err) {\n",
       "      outputDiv.innerHTML = `<div class=\"error\" style=\"color:red;\">${err}</div>`;\n",
       "      throw err;\n",
       "    }\n",
       "\n",
       "    function displayChart(vegaEmbed) {\n",
       "      vegaEmbed(outputDiv, spec, embedOpt)\n",
       "        .catch(err => showError(`Javascript Error: ${err.message}<br>This usually means there's a typo in your chart specification. See the javascript console for the full traceback.`));\n",
       "    }\n",
       "\n",
       "    if(typeof define === \"function\" && define.amd) {\n",
       "      requirejs.config({paths});\n",
       "      require([\"vega-embed\"], displayChart, err => showError(`Error loading script: ${err.message}`));\n",
       "    } else {\n",
       "      maybeLoadScript(\"vega\", \"5\")\n",
       "        .then(() => maybeLoadScript(\"vega-lite\", \"4.17.0\"))\n",
       "        .then(() => maybeLoadScript(\"vega-embed\", \"6\"))\n",
       "        .catch(showError)\n",
       "        .then(() => displayChart(vegaEmbed));\n",
       "    }\n",
       "  })({\"config\": {\"view\": {\"continuousWidth\": 400, \"continuousHeight\": 300}}, \"hconcat\": [{\"data\": {\"name\": \"data-91017f9bdf0542d4a97512235d02080b\"}, \"mark\": \"rect\", \"encoding\": {\"color\": {\"field\": \"value\", \"scale\": {\"domain\": [1, -1], \"scheme\": \"redblue\"}, \"type\": \"quantitative\"}, \"tooltip\": [{\"field\": \"value\", \"type\": \"quantitative\"}, {\"field\": \"variable\", \"type\": \"nominal\"}, {\"field\": \"rxns\", \"type\": \"nominal\"}], \"x\": {\"field\": \"variable\", \"type\": \"nominal\"}, \"y\": {\"field\": \"rxns\", \"type\": \"nominal\"}}, \"height\": 250, \"width\": 300}, {\"data\": {\"name\": \"data-f5fcc5e69ffa9fcf123eba1721891549\"}, \"mark\": \"rect\", \"encoding\": {\"color\": {\"field\": \"value\", \"scale\": {\"domain\": [1, -1], \"scheme\": \"redblue\"}, \"type\": \"quantitative\"}, \"tooltip\": [{\"field\": \"value\", \"type\": \"quantitative\"}, {\"field\": \"variable\", \"type\": \"nominal\"}, {\"field\": \"rxn\", \"type\": \"nominal\"}], \"x\": {\"field\": \"variable\", \"type\": \"nominal\"}, \"y\": {\"field\": \"rxn\", \"type\": \"nominal\"}}, \"height\": 250, \"width\": 300}], \"$schema\": \"https://vega.github.io/schema/vega-lite/v4.17.0.json\", \"datasets\": {\"data-91017f9bdf0542d4a97512235d02080b\": [{\"rxns\": \"r1\", \"variable\": \"r1\", \"value\": 0.8088975456870522}, {\"rxns\": \"r10\", \"variable\": \"r1\", \"value\": 2.3516330291202783}, {\"rxns\": \"r11\", \"variable\": \"r1\", \"value\": 2.0315113127026527}, {\"rxns\": \"r12\", \"variable\": \"r1\", \"value\": 0.7808318288850769}, {\"rxns\": \"r13\", \"variable\": \"r1\", \"value\": 0.0}, {\"rxns\": \"r2\", \"variable\": \"r1\", \"value\": 0.7999627514200532}, {\"rxns\": \"r3\", \"variable\": \"r1\", \"value\": 0.780569156893882}, {\"rxns\": \"r4_1\", \"variable\": \"r1\", \"value\": 0.6080754344173729}, {\"rxns\": \"r4_2\", \"variable\": \"r1\", \"value\": 0.5294634771075731}, {\"rxns\": \"r5\", \"variable\": \"r1\", \"value\": 2.7622948842628136e-16}, {\"rxns\": \"r6\", \"variable\": \"r1\", \"value\": 1.745535227134994e-17}, {\"rxns\": \"r7\", \"variable\": \"r1\", \"value\": -0.22371299812873344}, {\"rxns\": \"r8\", \"variable\": \"r1\", \"value\": 0.11609621842974219}, {\"rxns\": \"r9\", \"variable\": \"r1\", \"value\": 2.0696946191367123}, {\"rxns\": \"r1\", \"variable\": \"r2\", \"value\": 0.007593080113819297}, {\"rxns\": \"r10\", \"variable\": \"r2\", \"value\": -0.1713769884715651}, {\"rxns\": \"r11\", \"variable\": \"r2\", \"value\": 0.015324084599568622}, {\"rxns\": \"r12\", \"variable\": \"r2\", \"value\": 0.00812669106138235}, {\"rxns\": \"r13\", \"variable\": \"r2\", \"value\": 0.0}, {\"rxns\": \"r2\", \"variable\": \"r2\", \"value\": 0.009146556058779343}, {\"rxns\": \"r3\", \"variable\": \"r2\", \"value\": 0.008107156315549978}, {\"rxns\": \"r4_1\", \"variable\": \"r2\", \"value\": 0.010058241431162884}, {\"rxns\": \"r4_2\", \"variable\": \"r2\", \"value\": 0.003931238476924041}, {\"rxns\": \"r5\", \"variable\": \"r2\", \"value\": 8.273406202062903e-17}, {\"rxns\": \"r6\", \"variable\": \"r2\", \"value\": -7.474651424688676e-17}, {\"rxns\": \"r7\", \"variable\": \"r2\", \"value\": -0.0029049473201503088}, {\"rxns\": \"r8\", \"variable\": \"r2\", \"value\": 0.0003726628986281508}, {\"rxns\": \"r9\", \"variable\": \"r2\", \"value\": 0.015819082194573373}, {\"rxns\": \"r1\", \"variable\": \"r3\", \"value\": 0.003926129179577626}, {\"rxns\": \"r10\", \"variable\": \"r3\", \"value\": -0.08904672644714995}, {\"rxns\": \"r11\", \"variable\": \"r3\", \"value\": 0.014192237621550863}, {\"rxns\": \"r12\", \"variable\": \"r3\", \"value\": 0.008246005483170702}, {\"rxns\": \"r13\", \"variable\": \"r3\", \"value\": 0.0}, {\"rxns\": \"r2\", \"variable\": \"r3\", \"value\": 0.004729379921814895}, {\"rxns\": \"r3\", \"variable\": \"r3\", \"value\": 0.008242100230093752}, {\"rxns\": \"r4_1\", \"variable\": \"r3\", \"value\": 0.00931533309663469}, {\"rxns\": \"r4_2\", \"variable\": \"r3\", \"value\": 0.005875704061651245}, {\"rxns\": \"r5\", \"variable\": \"r3\", \"value\": -1.4572808930989975e-16}, {\"rxns\": \"r6\", \"variable\": \"r3\", \"value\": -8.910223546811959e-17}, {\"rxns\": \"r7\", \"variable\": \"r3\", \"value\": -0.0014339995403391842}, {\"rxns\": \"r8\", \"variable\": \"r3\", \"value\": 0.0001926915900422385}, {\"rxns\": \"r9\", \"variable\": \"r3\", \"value\": -0.09011083338332106}, {\"rxns\": \"r1\", \"variable\": \"r4_1\", \"value\": 0.03175374744190249}, {\"rxns\": \"r10\", \"variable\": \"r4_1\", \"value\": -0.8587919514121451}, {\"rxns\": \"r11\", \"variable\": \"r4_1\", \"value\": -0.7707693153392552}, {\"rxns\": \"r12\", \"variable\": \"r4_1\", \"value\": 0.06611082775510195}, {\"rxns\": \"r13\", \"variable\": \"r4_1\", \"value\": 0.0}, {\"rxns\": \"r2\", \"variable\": \"r4_1\", \"value\": 0.03825027876700005}, {\"rxns\": \"r3\", \"variable\": \"r4_1\", \"value\": 0.06666045795401836}, {\"rxns\": \"r4_1\", \"variable\": \"r4_1\", \"value\": 0.6104740735981949}, {\"rxns\": \"r4_2\", \"variable\": \"r4_1\", \"value\": -0.3129198964078454}, {\"rxns\": \"r5\", \"variable\": \"r4_1\", \"value\": 4.41417502998103e-18}, {\"rxns\": \"r6\", \"variable\": \"r4_1\", \"value\": -2.362594545871031e-18}, {\"rxns\": \"r7\", \"variable\": \"r4_1\", \"value\": -0.01298426748831867}, {\"rxns\": \"r8\", \"variable\": \"r4_1\", \"value\": 0.0015584510352352932}, {\"rxns\": \"r9\", \"variable\": \"r4_1\", \"value\": -0.7287983951004853}, {\"rxns\": \"r1\", \"variable\": \"r4_2\", \"value\": 0.01432524938066372}, {\"rxns\": \"r10\", \"variable\": \"r4_2\", \"value\": -0.7286232177907359}, {\"rxns\": \"r11\", \"variable\": \"r4_2\", \"value\": -0.7314907726588892}, {\"rxns\": \"r12\", \"variable\": \"r4_2\", \"value\": 0.04085643292045846}, {\"rxns\": \"r13\", \"variable\": \"r4_2\", \"value\": 0.0}, {\"rxns\": \"r2\", \"variable\": \"r4_2\", \"value\": 0.017256066649132304}, {\"rxns\": \"r3\", \"variable\": \"r4_2\", \"value\": 0.04130748425342291}, {\"rxns\": \"r4_1\", \"variable\": \"r4_2\", \"value\": -0.29152766248373774}, {\"rxns\": \"r4_2\", \"variable\": \"r4_2\", \"value\": 0.7345099689668522}, {\"rxns\": \"r5\", \"variable\": \"r4_2\", \"value\": -3.833620279677712e-18}, {\"rxns\": \"r6\", \"variable\": \"r4_2\", \"value\": -9.302026889340614e-17}, {\"rxns\": \"r7\", \"variable\": \"r4_2\", \"value\": -0.004350467112246856}, {\"rxns\": \"r8\", \"variable\": \"r4_2\", \"value\": 0.0007030729134615025}, {\"rxns\": \"r9\", \"variable\": \"r4_2\", \"value\": -0.6902134898194305}, {\"rxns\": \"r1\", \"variable\": \"r5\", \"value\": 0.0005254041145845394}, {\"rxns\": \"r10\", \"variable\": \"r5\", \"value\": -0.07038250194425677}, {\"rxns\": \"r11\", \"variable\": \"r5\", \"value\": 0.005528075441885992}, {\"rxns\": \"r12\", \"variable\": \"r5\", \"value\": 0.0031991408094012774}, {\"rxns\": \"r13\", \"variable\": \"r5\", \"value\": 0.0}, {\"rxns\": \"r2\", \"variable\": \"r5\", \"value\": 0.0030744165857655007}, {\"rxns\": \"r3\", \"variable\": \"r5\", \"value\": 0.003196894882658377}, {\"rxns\": \"r4_1\", \"variable\": \"r5\", \"value\": 0.0012208113911710984}, {\"rxns\": \"r4_2\", \"variable\": \"r5\", \"value\": 0.0010367720784920673}, {\"rxns\": \"r5\", \"variable\": \"r5\", \"value\": -2.220446049250313e-16}, {\"rxns\": \"r6\", \"variable\": \"r5\", \"value\": 4.9872796297363245e-17}, {\"rxns\": \"r7\", \"variable\": \"r5\", \"value\": -0.00021484039248313087}, {\"rxns\": \"r8\", \"variable\": \"r5\", \"value\": 2.5786455214120637e-05}, {\"rxns\": \"r9\", \"variable\": \"r5\", \"value\": 0.00023456479132811142}, {\"rxns\": \"r1\", \"variable\": \"r6\", \"value\": 3.3353160353006444e-05}, {\"rxns\": \"r10\", \"variable\": \"r6\", \"value\": -0.031303555869501065}, {\"rxns\": \"r11\", \"variable\": \"r6\", \"value\": 0.004609314614394525}, {\"rxns\": \"r12\", \"variable\": \"r6\", \"value\": 0.0021358082745971947}, {\"rxns\": \"r13\", \"variable\": \"r6\", \"value\": 0.0}, {\"rxns\": \"r2\", \"variable\": \"r6\", \"value\": 0.00036499145012763585}, {\"rxns\": \"r3\", \"variable\": \"r6\", \"value\": 0.0021344912519781923}, {\"rxns\": \"r4_1\", \"variable\": \"r6\", \"value\": 7.9135398837574e-05}, {\"rxns\": \"r4_2\", \"variable\": \"r6\", \"value\": 0.0012313198010288563}, {\"rxns\": \"r5\", \"variable\": \"r6\", \"value\": -4.287912233861426e-16}, {\"rxns\": \"r6\", \"variable\": \"r6\", \"value\": 0.0}, {\"rxns\": \"r7\", \"variable\": \"r6\", \"value\": -1.3638275494776394e-05}, {\"rxns\": \"r8\", \"variable\": \"r6\", \"value\": 1.636949067999419e-06}, {\"rxns\": \"r9\", \"variable\": \"r6\", \"value\": -0.021317103955002942}, {\"rxns\": \"r1\", \"variable\": \"r7\", \"value\": -0.021584259447662006}, {\"rxns\": \"r10\", \"variable\": \"r7\", \"value\": -0.09270991440477594}, {\"rxns\": \"r11\", \"variable\": \"r7\", \"value\": -0.04410832945175503}, {\"rxns\": \"r12\", \"variable\": \"r7\", \"value\": -0.020029913486385706}, {\"rxns\": \"r13\", \"variable\": \"r7\", \"value\": 0.0}, {\"rxns\": \"r2\", \"variable\": \"r7\", \"value\": -0.02104137355081351}, {\"rxns\": \"r3\", \"variable\": \"r7\", \"value\": -0.02001585167384355}, {\"rxns\": \"r4_1\", \"variable\": \"r7\", \"value\": -0.0076435355632020864}, {\"rxns\": \"r4_2\", \"variable\": \"r7\", \"value\": -0.032168926505971335}, {\"rxns\": \"r5\", \"variable\": \"r7\", \"value\": -1.5308519121649177e-17}, {\"rxns\": \"r6\", \"variable\": \"r7\", \"value\": 4.7282604017421456e-17}, {\"rxns\": \"r7\", \"variable\": \"r7\", \"value\": 0.37194181656873415}, {\"rxns\": \"r8\", \"variable\": \"r7\", \"value\": 0.25688930862001047}, {\"rxns\": \"r9\", \"variable\": \"r7\", \"value\": -0.04493976339365035}, {\"rxns\": \"r1\", \"variable\": \"r8\", \"value\": 0.03215262493666674}, {\"rxns\": \"r10\", \"variable\": \"r8\", \"value\": 0.1381037469918906}, {\"rxns\": \"r11\", \"variable\": \"r8\", \"value\": 0.06570522268248723}, {\"rxns\": \"r12\", \"variable\": \"r8\", \"value\": 0.029837219914969182}, {\"rxns\": \"r13\", \"variable\": \"r8\", \"value\": 0.0}, {\"rxns\": \"r2\", \"variable\": \"r8\", \"value\": 0.03134392419494784}, {\"rxns\": \"r3\", \"variable\": \"r8\", \"value\": 0.02981627297510843}, {\"rxns\": \"r4_1\", \"variable\": \"r8\", \"value\": 0.01138606273472732}, {\"rxns\": \"r4_2\", \"variable\": \"r8\", \"value\": 0.04791989417425809}, {\"rxns\": \"r5\", \"variable\": \"r8\", \"value\": 3.296628709704619e-17}, {\"rxns\": \"r6\", \"variable\": \"r8\", \"value\": -9.904282851815852e-17}, {\"rxns\": \"r7\", \"variable\": \"r8\", \"value\": 0.9118168726548286}, {\"rxns\": \"r8\", \"variable\": \"r8\", \"value\": 0.6270472829051297}, {\"rxns\": \"r9\", \"variable\": \"r8\", \"value\": 0.06694375411129055}, {\"rxns\": \"r1\", \"variable\": \"r9\", \"value\": 0.0024771899947676453}, {\"rxns\": \"r10\", \"variable\": \"r9\", \"value\": -0.09520283588472032}, {\"rxns\": \"r11\", \"variable\": \"r9\", \"value\": -0.07623576215579926}, {\"rxns\": \"r12\", \"variable\": \"r9\", \"value\": -0.03185303516448475}, {\"rxns\": \"r13\", \"variable\": \"r9\", \"value\": 0.0}, {\"rxns\": \"r2\", \"variable\": \"r9\", \"value\": 0.002984000802804402}, {\"rxns\": \"r3\", \"variable\": \"r9\", \"value\": -0.03183794977995476}, {\"rxns\": \"r4_1\", \"variable\": \"r9\", \"value\": -0.028017990757488478}, {\"rxns\": \"r4_2\", \"variable\": \"r9\", \"value\": -0.022696929861841224}, {\"rxns\": \"r5\", \"variable\": \"r9\", \"value\": 1.475105731578423e-18}, {\"rxns\": \"r6\", \"variable\": \"r9\", \"value\": -5.937730473049162e-18}, {\"rxns\": \"r7\", \"variable\": \"r9\", \"value\": -0.001012935483293612}, {\"rxns\": \"r8\", \"variable\": \"r9\", \"value\": 0.00012157869929787667}, {\"rxns\": \"r9\", \"variable\": \"r9\", \"value\": 0.9208372308905222}, {\"rxns\": \"r1\", \"variable\": \"r10\", \"value\": 0.0006648375590577095}, {\"rxns\": \"r10\", \"variable\": \"r10\", \"value\": 0.9817714323110088}, {\"rxns\": \"r11\", \"variable\": \"r10\", \"value\": -0.013655471390816493}, {\"rxns\": \"r12\", \"variable\": \"r10\", \"value\": -0.0063275066316691286}, {\"rxns\": \"r13\", \"variable\": \"r10\", \"value\": 0.0}, {\"rxns\": \"r2\", \"variable\": \"r10\", \"value\": -0.006619010366232279}, {\"rxns\": \"r3\", \"variable\": \"r10\", \"value\": -0.006323604844484122}, {\"rxns\": \"r4_1\", \"variable\": \"r10\", \"value\": -0.005062145608595653}, {\"rxns\": \"r4_2\", \"variable\": \"r10\", \"value\": -0.0054356109171200245}, {\"rxns\": \"r5\", \"variable\": \"r10\", \"value\": -5.074902450801736e-20}, {\"rxns\": \"r6\", \"variable\": \"r10\", \"value\": 6.071893560298066e-21}, {\"rxns\": \"r7\", \"variable\": \"r10\", \"value\": -0.00027185543120160875}, {\"rxns\": \"r8\", \"variable\": \"r10\", \"value\": 3.2629748160351985e-05}, {\"rxns\": \"r9\", \"variable\": \"r10\", \"value\": -0.014181100910609788}, {\"rxns\": \"r1\", \"variable\": \"r11\", \"value\": -4.134685811532846e-05}, {\"rxns\": \"r10\", \"variable\": \"r11\", \"value\": 0.0012031915354809837}, {\"rxns\": \"r11\", \"variable\": \"r11\", \"value\": 1.0010471678552453}, {\"rxns\": \"r12\", \"variable\": \"r11\", \"value\": 0.00048522393397501057}, {\"rxns\": \"r13\", \"variable\": \"r11\", \"value\": 0.0}, {\"rxns\": \"r2\", \"variable\": \"r11\", \"value\": -4.9806053661681934e-05}, {\"rxns\": \"r3\", \"variable\": \"r11\", \"value\": -8.679921958724328e-05}, {\"rxns\": \"r4_1\", \"variable\": \"r11\", \"value\": 0.0004807969179573108}, {\"rxns\": \"r4_2\", \"variable\": \"r11\", \"value\": 0.0004063195506739109}, {\"rxns\": \"r5\", \"variable\": \"r11\", \"value\": -7.0302505851449e-21}, {\"rxns\": \"r6\", \"variable\": \"r11\", \"value\": 8.034983011857595e-20}, {\"rxns\": \"r7\", \"variable\": \"r11\", \"value\": 1.6906938828344076e-05}, {\"rxns\": \"r8\", \"variable\": \"r11\", \"value\": -2.0292739920366874e-06}, {\"rxns\": \"r9\", \"variable\": \"r11\", \"value\": 0.001000474122778166}, {\"rxns\": \"r1\", \"variable\": \"r12\", \"value\": 0.0022654685631864836}, {\"rxns\": \"r10\", \"variable\": \"r12\", \"value\": -0.3837109339888202}, {\"rxns\": \"r11\", \"variable\": \"r12\", \"value\": -0.3768372086602511}, {\"rxns\": \"r12\", \"variable\": \"r12\", \"value\": 0.028711736607611615}, {\"rxns\": \"r13\", \"variable\": \"r12\", \"value\": 0.0}, {\"rxns\": \"r2\", \"variable\": \"r12\", \"value\": 0.006524258710532305}, {\"rxns\": \"r3\", \"variable\": \"r12\", \"value\": 0.02902773335954597}, {\"rxns\": \"r4_1\", \"variable\": \"r12\", \"value\": 0.05042246686333712}, {\"rxns\": \"r4_2\", \"variable\": \"r12\", \"value\": 0.05197346877494679}, {\"rxns\": \"r5\", \"variable\": \"r12\", \"value\": -1.6653345369377348e-16}, {\"rxns\": \"r6\", \"variable\": \"r12\", \"value\": 2.0816681711721685e-17}, {\"rxns\": \"r7\", \"variable\": \"r12\", \"value\": -0.000522096142089}, {\"rxns\": \"r8\", \"variable\": \"r12\", \"value\": 0.00037759294353893784}, {\"rxns\": \"r9\", \"variable\": \"r12\", \"value\": -0.38829627342389195}, {\"rxns\": \"r1\", \"variable\": \"r13\", \"value\": -0.0004978893882863179}, {\"rxns\": \"r10\", \"variable\": \"r13\", \"value\": 0.12441872568140913}, {\"rxns\": \"r11\", \"variable\": \"r13\", \"value\": -0.006927554237541374}, {\"rxns\": \"r12\", \"variable\": \"r13\", \"value\": -0.0031458528077325286}, {\"rxns\": \"r13\", \"variable\": \"r13\", \"value\": 1.0}, {\"rxns\": \"r2\", \"variable\": \"r13\", \"value\": -0.0033411158768184013}, {\"rxns\": \"r3\", \"variable\": \"r13\", \"value\": -0.003143644291330759}, {\"rxns\": \"r4_1\", \"variable\": \"r13\", \"value\": -0.0012004763689492546}, {\"rxns\": \"r4_2\", \"variable\": \"r13\", \"value\": -0.0028741438192353133}, {\"rxns\": \"r5\", \"variable\": \"r13\", \"value\": 0.9999999999978305}, {\"rxns\": \"r6\", \"variable\": \"r13\", \"value\": 0.9999999999995374}, {\"rxns\": \"r7\", \"variable\": \"r13\", \"value\": 0.0003663871987329136}, {\"rxns\": \"r8\", \"variable\": \"r13\", \"value\": -6.080892563406264e-05}, {\"rxns\": \"r9\", \"variable\": \"r13\", \"value\": 0.0006358056636555312}], \"data-f5fcc5e69ffa9fcf123eba1721891549\": [{\"rxn\": \"r1\", \"variable\": \"r1\", \"value\": 0.21987522804927895}, {\"rxn\": \"r10\", \"variable\": \"r1\", \"value\": 0.6554085371742304}, {\"rxn\": \"r11\", \"variable\": \"r1\", \"value\": 0.7622559511179829}, {\"rxn\": \"r12\", \"variable\": \"r1\", \"value\": 0.1794712105507288}, {\"rxn\": \"r13\", \"variable\": \"r1\", \"value\": 0.0}, {\"rxn\": \"r2\", \"variable\": \"r1\", \"value\": 0.2055599105961049}, {\"rxn\": \"r3\", \"variable\": \"r1\", \"value\": 0.17917546606243429}, {\"rxn\": \"r4_1\", \"variable\": \"r1\", \"value\": 0.4873699240896962}, {\"rxn\": \"r4_2\", \"variable\": \"r1\", \"value\": 0.6557918670955973}, {\"rxn\": \"r5\", \"variable\": \"r1\", \"value\": 3.762597104893744e-16}, {\"rxn\": \"r6\", \"variable\": \"r1\", \"value\": 1.684848776389352e-16}, {\"rxn\": \"r7\", \"variable\": \"r1\", \"value\": 0.06125373522405014}, {\"rxn\": \"r8\", \"variable\": \"r1\", \"value\": 0.08443132886537467}, {\"rxn\": \"r9\", \"variable\": \"r1\", \"value\": 0.7933549411245988}, {\"rxn\": \"r1\", \"variable\": \"r2\", \"value\": 0.008833752923085783}, {\"rxn\": \"r10\", \"variable\": \"r2\", \"value\": 0.039226085242302866}, {\"rxn\": \"r11\", \"variable\": \"r2\", \"value\": 0.017170386675028647}, {\"rxn\": \"r12\", \"variable\": \"r2\", \"value\": 0.007182111963871273}, {\"rxn\": \"r13\", \"variable\": \"r2\", \"value\": 0.0}, {\"rxn\": \"r2\", \"variable\": \"r2\", \"value\": 0.00752944221139451}, {\"rxn\": \"r3\", \"variable\": \"r2\", \"value\": 0.0071791038406513715}, {\"rxn\": \"r4_1\", \"variable\": \"r2\", \"value\": 0.009860234772252148}, {\"rxn\": \"r4_2\", \"variable\": \"r2\", \"value\": 0.0025443031114005506}, {\"rxn\": \"r5\", \"variable\": \"r2\", \"value\": 1.8199324174513095e-16}, {\"rxn\": \"r6\", \"variable\": \"r2\", \"value\": 3.80876679126881e-16}, {\"rxn\": \"r7\", \"variable\": \"r2\", \"value\": 0.00310407179945239}, {\"rxn\": \"r8\", \"variable\": \"r2\", \"value\": 0.0008032554629570607}, {\"rxn\": \"r9\", \"variable\": \"r2\", \"value\": 0.01810066560796056}, {\"rxn\": \"r1\", \"variable\": \"r3\", \"value\": 0.006220200995020331}, {\"rxn\": \"r10\", \"variable\": \"r3\", \"value\": 0.06707701588199338}, {\"rxn\": \"r11\", \"variable\": \"r3\", \"value\": 0.001361634468592065}, {\"rxn\": \"r12\", \"variable\": \"r3\", \"value\": 0.0017365437012050698}, {\"rxn\": \"r13\", \"variable\": \"r3\", \"value\": 0.0}, {\"rxn\": \"r2\", \"variable\": \"r3\", \"value\": 0.005534230784753625}, {\"rxn\": \"r3\", \"variable\": \"r3\", \"value\": 0.001737924263117696}, {\"rxn\": \"r4_1\", \"variable\": \"r3\", \"value\": 0.009149172632841877}, {\"rxn\": \"r4_2\", \"variable\": \"r3\", \"value\": 0.004554368176700983}, {\"rxn\": \"r5\", \"variable\": \"r3\", \"value\": 1.8825205023838674e-16}, {\"rxn\": \"r6\", \"variable\": \"r3\", \"value\": 2.1789871494398603e-16}, {\"rxn\": \"r7\", \"variable\": \"r3\", \"value\": 0.0016047959865328754}, {\"rxn\": \"r8\", \"variable\": \"r3\", \"value\": 0.0010368514202630603}, {\"rxn\": \"r9\", \"variable\": \"r3\", \"value\": 0.08102356789981927}, {\"rxn\": \"r1\", \"variable\": \"r4_1\", \"value\": 0.13711249264397468}, {\"rxn\": \"r10\", \"variable\": \"r4_1\", \"value\": 0.46958888887259975}, {\"rxn\": \"r11\", \"variable\": \"r4_1\", \"value\": 0.18406831107630417}, {\"rxn\": \"r12\", \"variable\": \"r4_1\", \"value\": 0.14659594149898705}, {\"rxn\": \"r13\", \"variable\": \"r4_1\", \"value\": 0.0}, {\"rxn\": \"r2\", \"variable\": \"r4_1\", \"value\": 0.13579875288792195}, {\"rxn\": \"r3\", \"variable\": \"r4_1\", \"value\": 0.14693539963715657}, {\"rxn\": \"r4_1\", \"variable\": \"r4_1\", \"value\": 0.39582652182061073}, {\"rxn\": \"r4_2\", \"variable\": \"r4_1\", \"value\": 0.24722690737215366}, {\"rxn\": \"r5\", \"variable\": \"r4_1\", \"value\": 2.0447607048121895e-16}, {\"rxn\": \"r6\", \"variable\": \"r4_1\", \"value\": 2.012146668626345e-16}, {\"rxn\": \"r7\", \"variable\": \"r4_1\", \"value\": 0.033907447778676346}, {\"rxn\": \"r8\", \"variable\": \"r4_1\", \"value\": 0.012470819784884462}, {\"rxn\": \"r9\", \"variable\": \"r4_1\", \"value\": 0.09126460788076618}, {\"rxn\": \"r1\", \"variable\": \"r4_2\", \"value\": 0.018853477258005756}, {\"rxn\": \"r10\", \"variable\": \"r4_2\", \"value\": 0.8891215955531213}, {\"rxn\": \"r11\", \"variable\": \"r4_2\", \"value\": 0.4166703100380304}, {\"rxn\": \"r12\", \"variable\": \"r4_2\", \"value\": 0.04627831101786671}, {\"rxn\": \"r13\", \"variable\": \"r4_2\", \"value\": 0.0}, {\"rxn\": \"r2\", \"variable\": \"r4_2\", \"value\": 0.007243850474310112}, {\"rxn\": \"r3\", \"variable\": \"r4_2\", \"value\": 0.04700869740172005}, {\"rxn\": \"r4_1\", \"variable\": \"r4_2\", \"value\": 0.2130491088111655}, {\"rxn\": \"r4_2\", \"variable\": \"r4_2\", \"value\": 0.41086537136035695}, {\"rxn\": \"r5\", \"variable\": \"r4_2\", \"value\": 2.301961807913027e-16}, {\"rxn\": \"r6\", \"variable\": \"r4_2\", \"value\": 1.2271126365403075e-16}, {\"rxn\": \"r7\", \"variable\": \"r4_2\", \"value\": 0.005850867528030253}, {\"rxn\": \"r8\", \"variable\": \"r4_2\", \"value\": 0.0031432141296723797}, {\"rxn\": \"r9\", \"variable\": \"r4_2\", \"value\": 0.40818662083903284}, {\"rxn\": \"r1\", \"variable\": \"r5\", \"value\": 0.0028351277648930025}, {\"rxn\": \"r10\", \"variable\": \"r5\", \"value\": 0.05491011096686395}, {\"rxn\": \"r11\", \"variable\": \"r5\", \"value\": 0.005561412193780591}, {\"rxn\": \"r12\", \"variable\": \"r5\", \"value\": 0.002824661838616037}, {\"rxn\": \"r13\", \"variable\": \"r5\", \"value\": 0.0}, {\"rxn\": \"r2\", \"variable\": \"r5\", \"value\": 0.00272293616958192}, {\"rxn\": \"r3\", \"variable\": \"r5\", \"value\": 0.002823904258192571}, {\"rxn\": \"r4_1\", \"variable\": \"r5\", \"value\": 0.0030976329013732507}, {\"rxn\": \"r4_2\", \"variable\": \"r5\", \"value\": 0.004438234361918642}, {\"rxn\": \"r5\", \"variable\": \"r5\", \"value\": 4.440892098500626e-16}, {\"rxn\": \"r6\", \"variable\": \"r5\", \"value\": 2.451222071935239e-16}, {\"rxn\": \"r7\", \"variable\": \"r5\", \"value\": 0.0006534139977899172}, {\"rxn\": \"r8\", \"variable\": \"r5\", \"value\": 0.0004724687113725607}, {\"rxn\": \"r9\", \"variable\": \"r5\", \"value\": 0.012000468116504225}, {\"rxn\": \"r1\", \"variable\": \"r6\", \"value\": 0.002966377082988523}, {\"rxn\": \"r10\", \"variable\": \"r6\", \"value\": 0.05028881938641503}, {\"rxn\": \"r11\", \"variable\": \"r6\", \"value\": 0.006444839595760988}, {\"rxn\": \"r12\", \"variable\": \"r6\", \"value\": 0.00410104152156837}, {\"rxn\": \"r13\", \"variable\": \"r6\", \"value\": 0.0}, {\"rxn\": \"r2\", \"variable\": \"r6\", \"value\": 0.003170029918328225}, {\"rxn\": \"r3\", \"variable\": \"r6\", \"value\": 0.004099671540891005}, {\"rxn\": \"r4_1\", \"variable\": \"r6\", \"value\": 0.004567299400383414}, {\"rxn\": \"r4_2\", \"variable\": \"r6\", \"value\": 0.002124191515716865}, {\"rxn\": \"r5\", \"variable\": \"r6\", \"value\": 3.8743198048820033e-16}, {\"rxn\": \"r6\", \"variable\": \"r6\", \"value\": 2.220446049250313e-16}, {\"rxn\": \"r7\", \"variable\": \"r6\", \"value\": 0.000683591102053089}, {\"rxn\": \"r8\", \"variable\": \"r6\", \"value\": 0.0004944492817674116}, {\"rxn\": \"r9\", \"variable\": \"r6\", \"value\": 0.04416695405652696}, {\"rxn\": \"r1\", \"variable\": \"r7\", \"value\": 0.07927723631921851}, {\"rxn\": \"r10\", \"variable\": \"r7\", \"value\": 0.33273567012698874}, {\"rxn\": \"r11\", \"variable\": \"r7\", \"value\": 0.2884746438389201}, {\"rxn\": \"r12\", \"variable\": \"r7\", \"value\": 0.06746169562212487}, {\"rxn\": \"r13\", \"variable\": \"r7\", \"value\": 0.0}, {\"rxn\": \"r2\", \"variable\": \"r7\", \"value\": 0.07730181723870394}, {\"rxn\": \"r3\", \"variable\": \"r7\", \"value\": 0.0673033430743136}, {\"rxn\": \"r4_1\", \"variable\": \"r7\", \"value\": 0.08433081493121285}, {\"rxn\": \"r4_2\", \"variable\": \"r7\", \"value\": 0.04484994452374751}, {\"rxn\": \"r5\", \"variable\": \"r7\", \"value\": 8.573983991703453e-17}, {\"rxn\": \"r6\", \"variable\": \"r7\", \"value\": 3.9992683847457183e-16}, {\"rxn\": \"r7\", \"variable\": \"r7\", \"value\": 0.22522619166621938}, {\"rxn\": \"r8\", \"variable\": \"r7\", \"value\": 0.1910927559423202}, {\"rxn\": \"r9\", \"variable\": \"r7\", \"value\": 0.30296589099853993}, {\"rxn\": \"r1\", \"variable\": \"r8\", \"value\": 0.12220627675811595}, {\"rxn\": \"r10\", \"variable\": \"r8\", \"value\": 0.5134484456435605}, {\"rxn\": \"r11\", \"variable\": \"r8\", \"value\": 0.44501175956645245}, {\"rxn\": \"r12\", \"variable\": \"r8\", \"value\": 0.10397145304294773}, {\"rxn\": \"r13\", \"variable\": \"r8\", \"value\": 0.0}, {\"rxn\": \"r2\", \"variable\": \"r8\", \"value\": 0.11915685885876633}, {\"rxn\": \"r3\", \"variable\": \"r8\", \"value\": 0.10372706070209234}, {\"rxn\": \"r4_1\", \"variable\": \"r8\", \"value\": 0.13023593647008583}, {\"rxn\": \"r4_2\", \"variable\": \"r8\", \"value\": 0.06905290108596156}, {\"rxn\": \"r5\", \"variable\": \"r8\", \"value\": 1.9341935791602132e-16}, {\"rxn\": \"r6\", \"variable\": \"r8\", \"value\": 5.894614599919972e-16}, {\"rxn\": \"r7\", \"variable\": \"r8\", \"value\": 0.34854685520199635}, {\"rxn\": \"r8\", \"variable\": \"r8\", \"value\": 0.2712747641966974}, {\"rxn\": \"r9\", \"variable\": \"r8\", \"value\": 0.46737801920772126}, {\"rxn\": \"r1\", \"variable\": \"r9\", \"value\": 0.006820842037762175}, {\"rxn\": \"r10\", \"variable\": \"r9\", \"value\": 0.03234141427535728}, {\"rxn\": \"r11\", \"variable\": \"r9\", \"value\": 0.029171372663971996}, {\"rxn\": \"r12\", \"variable\": \"r9\", \"value\": 0.005784776757209925}, {\"rxn\": \"r13\", \"variable\": \"r9\", \"value\": 0.0}, {\"rxn\": \"r2\", \"variable\": \"r9\", \"value\": 0.006304051293081368}, {\"rxn\": \"r3\", \"variable\": \"r9\", \"value\": 0.005772931266106611}, {\"rxn\": \"r4_1\", \"variable\": \"r9\", \"value\": 0.017656122845581393}, {\"rxn\": \"r4_2\", \"variable\": \"r9\", \"value\": 0.021814965531345477}, {\"rxn\": \"r5\", \"variable\": \"r9\", \"value\": 2.1161360859413485e-17}, {\"rxn\": \"r6\", \"variable\": \"r9\", \"value\": 7.238901452470883e-18}, {\"rxn\": \"r7\", \"variable\": \"r9\", \"value\": 0.0015719312741612132}, {\"rxn\": \"r8\", \"variable\": \"r9\", \"value\": 0.0011368288540480275}, {\"rxn\": \"r9\", \"variable\": \"r9\", \"value\": 0.028717030420677525}, {\"rxn\": \"r1\", \"variable\": \"r10\", \"value\": 0.0013749917969891915}, {\"rxn\": \"r10\", \"variable\": \"r10\", \"value\": 0.004507292870671198}, {\"rxn\": \"r11\", \"variable\": \"r10\", \"value\": 0.0024230236450098717}, {\"rxn\": \"r12\", \"variable\": \"r10\", \"value\": 0.0015891869534543912}, {\"rxn\": \"r13\", \"variable\": \"r10\", \"value\": 0.0}, {\"rxn\": \"r2\", \"variable\": \"r10\", \"value\": 0.0018116493335523622}, {\"rxn\": \"r3\", \"variable\": \"r10\", \"value\": 0.0015860700546617944}, {\"rxn\": \"r4_1\", \"variable\": \"r10\", \"value\": 0.0032730300860443575}, {\"rxn\": \"r4_2\", \"variable\": \"r10\", \"value\": 0.0038855630641676307}, {\"rxn\": \"r5\", \"variable\": \"r10\", \"value\": 3.7308500645566714e-18}, {\"rxn\": \"r6\", \"variable\": \"r10\", \"value\": 3.0347994431508194e-18}, {\"rxn\": \"r7\", \"variable\": \"r10\", \"value\": 0.0003168805761791095}, {\"rxn\": \"r8\", \"variable\": \"r10\", \"value\": 0.00022916977867985507}, {\"rxn\": \"r9\", \"variable\": \"r10\", \"value\": 0.0022278362559963964}, {\"rxn\": \"r1\", \"variable\": \"r11\", \"value\": 9.853891607397656e-05}, {\"rxn\": \"r10\", \"variable\": \"r11\", \"value\": 0.0005544328793966428}, {\"rxn\": \"r11\", \"variable\": \"r11\", \"value\": 0.00016298318428309422}, {\"rxn\": \"r12\", \"variable\": \"r11\", \"value\": 7.201704214124363e-05}, {\"rxn\": \"r13\", \"variable\": \"r11\", \"value\": 0.0}, {\"rxn\": \"r2\", \"variable\": \"r11\", \"value\": 9.210735783409172e-05}, {\"rxn\": \"r3\", \"variable\": \"r11\", \"value\": 7.383942248406718e-05}, {\"rxn\": \"r4_1\", \"variable\": \"r11\", \"value\": 0.0002898307430680947}, {\"rxn\": \"r4_2\", \"variable\": \"r11\", \"value\": 0.00025121519179985817}, {\"rxn\": \"r5\", \"variable\": \"r11\", \"value\": 3.674966241841039e-19}, {\"rxn\": \"r6\", \"variable\": \"r11\", \"value\": 9.514426468903211e-20}, {\"rxn\": \"r7\", \"variable\": \"r11\", \"value\": 2.2709268007525697e-05}, {\"rxn\": \"r8\", \"variable\": \"r11\", \"value\": 1.642349028911613e-05}, {\"rxn\": \"r9\", \"variable\": \"r11\", \"value\": 0.00020498900332885156}, {\"rxn\": \"r1\", \"variable\": \"r12\", \"value\": 0.016905609576113294}, {\"rxn\": \"r10\", \"variable\": \"r12\", \"value\": 0.3552327380016066}, {\"rxn\": \"r11\", \"variable\": \"r12\", \"value\": 0.33465095007626244}, {\"rxn\": \"r12\", \"variable\": \"r12\", \"value\": 0.024374461436043826}, {\"rxn\": \"r13\", \"variable\": \"r12\", \"value\": 0.0}, {\"rxn\": \"r2\", \"variable\": \"r12\", \"value\": 0.017928217785283924}, {\"rxn\": \"r3\", \"variable\": \"r12\", \"value\": 0.024544681926606936}, {\"rxn\": \"r4_1\", \"variable\": \"r12\", \"value\": 0.13884130540470274}, {\"rxn\": \"r4_2\", \"variable\": \"r12\", \"value\": 0.08805983387147895}, {\"rxn\": \"r5\", \"variable\": \"r12\", \"value\": 1.8648277366750676e-16}, {\"rxn\": \"r6\", \"variable\": \"r12\", \"value\": 1.6653345369377348e-16}, {\"rxn\": \"r7\", \"variable\": \"r12\", \"value\": 0.006915080743883962}, {\"rxn\": \"r8\", \"variable\": \"r12\", \"value\": 0.0008281115779649297}, {\"rxn\": \"r9\", \"variable\": \"r12\", \"value\": 0.2869349002863685}, {\"rxn\": \"r1\", \"variable\": \"r13\", \"value\": 0.0058072153408616324}, {\"rxn\": \"r10\", \"variable\": \"r13\", \"value\": 0.0747188867848181}, {\"rxn\": \"r11\", \"variable\": \"r13\", \"value\": 0.006002216518493408}, {\"rxn\": \"r12\", \"variable\": \"r13\", \"value\": 0.004861037289591981}, {\"rxn\": \"r13\", \"variable\": \"r13\", \"value\": 0.0}, {\"rxn\": \"r2\", \"variable\": \"r13\", \"value\": 0.0054453425037888775}, {\"rxn\": \"r3\", \"variable\": \"r13\", \"value\": 0.004860193293639126}, {\"rxn\": \"r4_1\", \"variable\": \"r13\", \"value\": 0.0076346055142436035}, {\"rxn\": \"r4_2\", \"variable\": \"r13\", \"value\": 0.002783874859925609}, {\"rxn\": \"r5\", \"variable\": \"r13\", \"value\": 1.1102230246251565e-13}, {\"rxn\": \"r6\", \"variable\": \"r13\", \"value\": 2.4868995751603507e-14}, {\"rxn\": \"r7\", \"variable\": \"r13\", \"value\": 0.0013293968822664889}, {\"rxn\": \"r8\", \"variable\": \"r13\", \"value\": 0.00098266343557333}, {\"rxn\": \"r9\", \"variable\": \"r13\", \"value\": 0.03398536941458688}]}}, {\"mode\": \"vega-lite\"});\n",
       "</script>"
      ],
      "text/plain": [
       "alt.HConcatChart(...)"
      ]
     },
     "execution_count": 9,
     "metadata": {},
     "output_type": "execute_result"
    }
   ],
   "source": [
    "alt.hconcat(get_heatmaps(Cv_df_median, 'rxns'),\n",
    "            get_heatmaps(Cv_df_iqr, 'rxn'))"
   ]
  },
  {
   "cell_type": "markdown",
   "metadata": {},
   "source": [
    "### Plot concentration control coefficients median (on the left) and respective interquartile range (on the right)"
   ]
  },
  {
   "cell_type": "code",
   "execution_count": 10,
   "metadata": {},
   "outputs": [
    {
     "data": {
      "text/html": [
       "\n",
       "<div id=\"altair-viz-a0461c2ba9e64b1ab51902f26bfb7f9d\"></div>\n",
       "<script type=\"text/javascript\">\n",
       "  var VEGA_DEBUG = (typeof VEGA_DEBUG == \"undefined\") ? {} : VEGA_DEBUG;\n",
       "  (function(spec, embedOpt){\n",
       "    let outputDiv = document.currentScript.previousElementSibling;\n",
       "    if (outputDiv.id !== \"altair-viz-a0461c2ba9e64b1ab51902f26bfb7f9d\") {\n",
       "      outputDiv = document.getElementById(\"altair-viz-a0461c2ba9e64b1ab51902f26bfb7f9d\");\n",
       "    }\n",
       "    const paths = {\n",
       "      \"vega\": \"https://cdn.jsdelivr.net/npm//vega@5?noext\",\n",
       "      \"vega-lib\": \"https://cdn.jsdelivr.net/npm//vega-lib?noext\",\n",
       "      \"vega-lite\": \"https://cdn.jsdelivr.net/npm//vega-lite@4.17.0?noext\",\n",
       "      \"vega-embed\": \"https://cdn.jsdelivr.net/npm//vega-embed@6?noext\",\n",
       "    };\n",
       "\n",
       "    function maybeLoadScript(lib, version) {\n",
       "      var key = `${lib.replace(\"-\", \"\")}_version`;\n",
       "      return (VEGA_DEBUG[key] == version) ?\n",
       "        Promise.resolve(paths[lib]) :\n",
       "        new Promise(function(resolve, reject) {\n",
       "          var s = document.createElement('script');\n",
       "          document.getElementsByTagName(\"head\")[0].appendChild(s);\n",
       "          s.async = true;\n",
       "          s.onload = () => {\n",
       "            VEGA_DEBUG[key] = version;\n",
       "            return resolve(paths[lib]);\n",
       "          };\n",
       "          s.onerror = () => reject(`Error loading script: ${paths[lib]}`);\n",
       "          s.src = paths[lib];\n",
       "        });\n",
       "    }\n",
       "\n",
       "    function showError(err) {\n",
       "      outputDiv.innerHTML = `<div class=\"error\" style=\"color:red;\">${err}</div>`;\n",
       "      throw err;\n",
       "    }\n",
       "\n",
       "    function displayChart(vegaEmbed) {\n",
       "      vegaEmbed(outputDiv, spec, embedOpt)\n",
       "        .catch(err => showError(`Javascript Error: ${err.message}<br>This usually means there's a typo in your chart specification. See the javascript console for the full traceback.`));\n",
       "    }\n",
       "\n",
       "    if(typeof define === \"function\" && define.amd) {\n",
       "      requirejs.config({paths});\n",
       "      require([\"vega-embed\"], displayChart, err => showError(`Error loading script: ${err.message}`));\n",
       "    } else {\n",
       "      maybeLoadScript(\"vega\", \"5\")\n",
       "        .then(() => maybeLoadScript(\"vega-lite\", \"4.17.0\"))\n",
       "        .then(() => maybeLoadScript(\"vega-embed\", \"6\"))\n",
       "        .catch(showError)\n",
       "        .then(() => displayChart(vegaEmbed));\n",
       "    }\n",
       "  })({\"config\": {\"view\": {\"continuousWidth\": 400, \"continuousHeight\": 300}}, \"hconcat\": [{\"data\": {\"name\": \"data-0fb2ff29cccf3bf06aed564069c4be2d\"}, \"mark\": \"rect\", \"encoding\": {\"color\": {\"field\": \"value\", \"scale\": {\"domain\": [1, -1], \"scheme\": \"redblue\"}, \"type\": \"quantitative\"}, \"tooltip\": [{\"field\": \"value\", \"type\": \"quantitative\"}, {\"field\": \"variable\", \"type\": \"nominal\"}, {\"field\": \"mets\", \"type\": \"nominal\"}], \"x\": {\"field\": \"variable\", \"type\": \"nominal\"}, \"y\": {\"field\": \"mets\", \"type\": \"nominal\"}}, \"height\": 250, \"width\": 300}, {\"data\": {\"name\": \"data-f6bc703ed15bf3eca5da676be912c8aa\"}, \"mark\": \"rect\", \"encoding\": {\"color\": {\"field\": \"value\", \"scale\": {\"domain\": [1, -1], \"scheme\": \"redblue\"}, \"type\": \"quantitative\"}, \"tooltip\": [{\"field\": \"value\", \"type\": \"quantitative\"}, {\"field\": \"variable\", \"type\": \"nominal\"}, {\"field\": \"mets\", \"type\": \"nominal\"}], \"x\": {\"field\": \"variable\", \"type\": \"nominal\"}, \"y\": {\"field\": \"mets\", \"type\": \"nominal\"}}, \"height\": 250, \"width\": 300}], \"$schema\": \"https://vega.github.io/schema/vega-lite/v4.17.0.json\", \"datasets\": {\"data-0fb2ff29cccf3bf06aed564069c4be2d\": [{\"mets\": \"m10\", \"variable\": \"r1\", \"value\": 0.9635418239653278}, {\"mets\": \"m11\", \"variable\": \"r1\", \"value\": 1.4171045381252272}, {\"mets\": \"m5\", \"variable\": \"r1\", \"value\": 2.0706320570699224}, {\"mets\": \"m6\", \"variable\": \"r1\", \"value\": -0.2236596055489555}, {\"mets\": \"m7\", \"variable\": \"r1\", \"value\": 2.0681098029571245}, {\"mets\": \"m8\", \"variable\": \"r1\", \"value\": 2.0315113127026527}, {\"mets\": \"m9\", \"variable\": \"r1\", \"value\": 0.7171957241614445}, {\"mets\": \"m10\", \"variable\": \"r2\", \"value\": -0.04122782194884728}, {\"mets\": \"m11\", \"variable\": \"r2\", \"value\": 0.003270393659849964}, {\"mets\": \"m5\", \"variable\": \"r2\", \"value\": -0.13352642343326937}, {\"mets\": \"m6\", \"variable\": \"r2\", \"value\": -0.002904748261893235}, {\"mets\": \"m7\", \"variable\": \"r2\", \"value\": 0.015805971844282892}, {\"mets\": \"m8\", \"variable\": \"r2\", \"value\": 0.015324084599568622}, {\"mets\": \"m9\", \"variable\": \"r2\", \"value\": 0.007127576770411742}, {\"mets\": \"m10\", \"variable\": \"r3\", \"value\": -0.05040054405915737}, {\"mets\": \"m11\", \"variable\": \"r3\", \"value\": 0.0027841065474650765}, {\"mets\": \"m5\", \"variable\": \"r3\", \"value\": -0.08283393730098201}, {\"mets\": \"m6\", \"variable\": \"r3\", \"value\": -0.0014339012771289825}, {\"mets\": \"m7\", \"variable\": \"r3\", \"value\": -0.09003615240144792}, {\"mets\": \"m8\", \"variable\": \"r3\", \"value\": 0.014192237621550863}, {\"mets\": \"m9\", \"variable\": \"r3\", \"value\": 0.007126599088474542}, {\"mets\": \"m10\", \"variable\": \"r4_1\", \"value\": -0.38447060677180217}, {\"mets\": \"m11\", \"variable\": \"r4_1\", \"value\": -0.16835254746836512}, {\"mets\": \"m5\", \"variable\": \"r4_1\", \"value\": -0.6766466455497705}, {\"mets\": \"m6\", \"variable\": \"r4_1\", \"value\": -0.012983719507907556}, {\"mets\": \"m7\", \"variable\": \"r4_1\", \"value\": -0.7281943902578918}, {\"mets\": \"m8\", \"variable\": \"r4_1\", \"value\": -0.7707693153392552}, {\"mets\": \"m9\", \"variable\": \"r4_1\", \"value\": 0.06381026873962307}, {\"mets\": \"m10\", \"variable\": \"r4_2\", \"value\": -0.31050658361791766}, {\"mets\": \"m11\", \"variable\": \"r4_2\", \"value\": -0.13546191082917716}, {\"mets\": \"m5\", \"variable\": \"r4_2\", \"value\": -0.6415586843697848}, {\"mets\": \"m6\", \"variable\": \"r4_2\", \"value\": -0.004350169001367249}, {\"mets\": \"m7\", \"variable\": \"r4_2\", \"value\": -0.6829802791811368}, {\"mets\": \"m8\", \"variable\": \"r4_2\", \"value\": -0.7314907726588892}, {\"mets\": \"m9\", \"variable\": \"r4_2\", \"value\": 0.038754506421004614}, {\"mets\": \"m10\", \"variable\": \"r5\", \"value\": -1.3874518560112163}, {\"mets\": \"m11\", \"variable\": \"r5\", \"value\": -0.27036209022123914}, {\"mets\": \"m5\", \"variable\": \"r5\", \"value\": -0.05483772261794085}, {\"mets\": \"m6\", \"variable\": \"r5\", \"value\": -0.00021483132548518873}, {\"mets\": \"m7\", \"variable\": \"r5\", \"value\": 0.00023437039151766098}, {\"mets\": \"m8\", \"variable\": \"r5\", \"value\": 0.005528075441885992}, {\"mets\": \"m9\", \"variable\": \"r5\", \"value\": 0.002861289133903695}, {\"mets\": \"m10\", \"variable\": \"r6\", \"value\": -0.009035911045779435}, {\"mets\": \"m11\", \"variable\": \"r6\", \"value\": -2.8098990178500305}, {\"mets\": \"m5\", \"variable\": \"r6\", \"value\": -0.019612518763156516}, {\"mets\": \"m6\", \"variable\": \"r6\", \"value\": -1.3637699912994886e-05}, {\"mets\": \"m7\", \"variable\": \"r6\", \"value\": -0.021212994779170213}, {\"mets\": \"m8\", \"variable\": \"r6\", \"value\": 0.004609314614394525}, {\"mets\": \"m9\", \"variable\": \"r6\", \"value\": 0.001973956190480956}, {\"mets\": \"m10\", \"variable\": \"r7\", \"value\": -0.084816807366035}, {\"mets\": \"m11\", \"variable\": \"r7\", \"value\": -0.0758651044285235}, {\"mets\": \"m5\", \"variable\": \"r7\", \"value\": -0.05272554578934744}, {\"mets\": \"m6\", \"variable\": \"r7\", \"value\": -0.6198494328044539}, {\"mets\": \"m7\", \"variable\": \"r7\", \"value\": -0.04490535190923396}, {\"mets\": \"m8\", \"variable\": \"r7\", \"value\": -0.04410832945175503}, {\"mets\": \"m9\", \"variable\": \"r7\", \"value\": -0.018999441589321972}, {\"mets\": \"m10\", \"variable\": \"r8\", \"value\": 0.12634591435385256}, {\"mets\": \"m11\", \"variable\": \"r8\", \"value\": 0.11714403956512623}, {\"mets\": \"m5\", \"variable\": \"r8\", \"value\": 0.07854171242041694}, {\"mets\": \"m6\", \"variable\": \"r8\", \"value\": 0.8998993823292493}, {\"mets\": \"m7\", \"variable\": \"r8\", \"value\": 0.06689249362887109}, {\"mets\": \"m8\", \"variable\": \"r8\", \"value\": 0.06570522268248723}, {\"mets\": \"m9\", \"variable\": \"r8\", \"value\": 0.028302194981896737}, {\"mets\": \"m10\", \"variable\": \"r9\", \"value\": -0.04198854802443677}, {\"mets\": \"m11\", \"variable\": \"r9\", \"value\": -0.05362734826203969}, {\"mets\": \"m5\", \"variable\": \"r9\", \"value\": -0.07417620235811537}, {\"mets\": \"m6\", \"variable\": \"r9\", \"value\": -0.0010128927339584596}, {\"mets\": \"m7\", \"variable\": \"r9\", \"value\": -0.0790905989765002}, {\"mets\": \"m8\", \"variable\": \"r9\", \"value\": -0.07623576215579926}, {\"mets\": \"m9\", \"variable\": \"r9\", \"value\": -0.030744596657414833}, {\"mets\": \"m10\", \"variable\": \"r10\", \"value\": -0.008116698727868904}, {\"mets\": \"m11\", \"variable\": \"r10\", \"value\": -0.009883157057436512}, {\"mets\": \"m5\", \"variable\": \"r10\", \"value\": -0.014202580343662072}, {\"mets\": \"m6\", \"variable\": \"r10\", \"value\": -0.0002718439579744061}, {\"mets\": \"m7\", \"variable\": \"r10\", \"value\": -0.01416817246015256}, {\"mets\": \"m8\", \"variable\": \"r10\", \"value\": -0.013655471390816493}, {\"mets\": \"m9\", \"variable\": \"r10\", \"value\": -0.0058480065998658915}, {\"mets\": \"m10\", \"variable\": \"r11\", \"value\": 0.0005307782930294484}, {\"mets\": \"m11\", \"variable\": \"r11\", \"value\": 0.0007749567407959612}, {\"mets\": \"m5\", \"variable\": \"r11\", \"value\": 0.0009374529443584881}, {\"mets\": \"m6\", \"variable\": \"r11\", \"value\": 1.690622529781198e-05}, {\"mets\": \"m7\", \"variable\": \"r11\", \"value\": 0.0009995620229199386}, {\"mets\": \"m8\", \"variable\": \"r11\", \"value\": 0.0010471678552452705}, {\"mets\": \"m9\", \"variable\": \"r11\", \"value\": 0.00044845354315341534}, {\"mets\": \"m10\", \"variable\": \"r12\", \"value\": -0.21718080614633148}, {\"mets\": \"m11\", \"variable\": \"r12\", \"value\": -0.5335416175569814}, {\"mets\": \"m5\", \"variable\": \"r12\", \"value\": -0.3569394262527489}, {\"mets\": \"m6\", \"variable\": \"r12\", \"value\": -0.0005220603660364195}, {\"mets\": \"m7\", \"variable\": \"r12\", \"value\": -0.3879744658690376}, {\"mets\": \"m8\", \"variable\": \"r12\", \"value\": -0.3768372086602511}, {\"mets\": \"m9\", \"variable\": \"r12\", \"value\": -0.9141726464440937}, {\"mets\": \"m10\", \"variable\": \"r13\", \"value\": 1.4112861724038386}, {\"mets\": \"m11\", \"variable\": \"r13\", \"value\": 2.9794537273505615}, {\"mets\": \"m5\", \"variable\": \"r13\", \"value\": 0.09693942924618543}, {\"mets\": \"m6\", \"variable\": \"r13\", \"value\": 0.00036637173594242743}, {\"mets\": \"m7\", \"variable\": \"r13\", \"value\": 0.0006352787282199181}, {\"mets\": \"m8\", \"variable\": \"r13\", \"value\": -0.006927554237541374}, {\"mets\": \"m9\", \"variable\": \"r13\", \"value\": -0.002984009227485874}], \"data-f6bc703ed15bf3eca5da676be912c8aa\": [{\"mets\": \"m10\", \"variable\": \"r1\", \"value\": 0.37686668856499383}, {\"mets\": \"m11\", \"variable\": \"r1\", \"value\": 0.8064455105148761}, {\"mets\": \"m5\", \"variable\": \"r1\", \"value\": 0.7160478446035923}, {\"mets\": \"m6\", \"variable\": \"r1\", \"value\": 0.05765294625579706}, {\"mets\": \"m7\", \"variable\": \"r1\", \"value\": 0.79252171477185}, {\"mets\": \"m8\", \"variable\": \"r1\", \"value\": 0.7622559511179829}, {\"mets\": \"m9\", \"variable\": \"r1\", \"value\": 0.23797427221466994}, {\"mets\": \"m10\", \"variable\": \"r2\", \"value\": 0.0561674462455379}, {\"mets\": \"m11\", \"variable\": \"r2\", \"value\": 0.010834774382748465}, {\"mets\": \"m5\", \"variable\": \"r2\", \"value\": 0.0511588768685555}, {\"mets\": \"m6\", \"variable\": \"r2\", \"value\": 0.003103941144709196}, {\"mets\": \"m7\", \"variable\": \"r2\", \"value\": 0.017996369610959795}, {\"mets\": \"m8\", \"variable\": \"r2\", \"value\": 0.017170386675028647}, {\"mets\": \"m9\", \"variable\": \"r2\", \"value\": 0.006960845203605718}, {\"mets\": \"m10\", \"variable\": \"r3\", \"value\": 0.037611977321880236}, {\"mets\": \"m11\", \"variable\": \"r3\", \"value\": 0.046745344714144016}, {\"mets\": \"m5\", \"variable\": \"r3\", \"value\": 0.07573542205615563}, {\"mets\": \"m6\", \"variable\": \"r3\", \"value\": 0.0016047363103616561}, {\"mets\": \"m7\", \"variable\": \"r3\", \"value\": 0.0799243026178797}, {\"mets\": \"m8\", \"variable\": \"r3\", \"value\": 0.001361634468592065}, {\"mets\": \"m9\", \"variable\": \"r3\", \"value\": 0.0014794126628465114}, {\"mets\": \"m10\", \"variable\": \"r4_1\", \"value\": 0.04165085028027399}, {\"mets\": \"m11\", \"variable\": \"r4_1\", \"value\": 0.9662506979942045}, {\"mets\": \"m5\", \"variable\": \"r4_1\", \"value\": 0.08622900048436355}, {\"mets\": \"m6\", \"variable\": \"r4_1\", \"value\": 0.03390512595534306}, {\"mets\": \"m7\", \"variable\": \"r4_1\", \"value\": 0.08329223121438645}, {\"mets\": \"m8\", \"variable\": \"r4_1\", \"value\": 0.18406831107630417}, {\"mets\": \"m9\", \"variable\": \"r4_1\", \"value\": 0.12571037296474083}, {\"mets\": \"m10\", \"variable\": \"r4_2\", \"value\": 0.2084089931316598}, {\"mets\": \"m11\", \"variable\": \"r4_2\", \"value\": 0.4366990112936193}, {\"mets\": \"m5\", \"variable\": \"r4_2\", \"value\": 0.3881993293393254}, {\"mets\": \"m6\", \"variable\": \"r4_2\", \"value\": 0.005850709180334204}, {\"mets\": \"m7\", \"variable\": \"r4_2\", \"value\": 0.4078947901418064}, {\"mets\": \"m8\", \"variable\": \"r4_2\", \"value\": 0.4166703100380304}, {\"mets\": \"m9\", \"variable\": \"r4_2\", \"value\": 0.04154905083449453}, {\"mets\": \"m10\", \"variable\": \"r5\", \"value\": 1.370287624512406}, {\"mets\": \"m11\", \"variable\": \"r5\", \"value\": 0.3580044396052709}, {\"mets\": \"m5\", \"variable\": \"r5\", \"value\": 0.055963014688376084}, {\"mets\": \"m6\", \"variable\": \"r5\", \"value\": 0.0006533698305896326}, {\"mets\": \"m7\", \"variable\": \"r5\", \"value\": 0.011990557988306217}, {\"mets\": \"m8\", \"variable\": \"r5\", \"value\": 0.005561412193780591}, {\"mets\": \"m9\", \"variable\": \"r5\", \"value\": 0.002399246137287518}, {\"mets\": \"m10\", \"variable\": \"r6\", \"value\": 0.021325053728620477}, {\"mets\": \"m11\", \"variable\": \"r6\", \"value\": 1.3983134087793416}, {\"mets\": \"m5\", \"variable\": \"r6\", \"value\": 0.04139841783633444}, {\"mets\": \"m6\", \"variable\": \"r6\", \"value\": 0.0006835467076498695}, {\"mets\": \"m7\", \"variable\": \"r6\", \"value\": 0.0441266250146079}, {\"mets\": \"m8\", \"variable\": \"r6\", \"value\": 0.006444839595760988}, {\"mets\": \"m9\", \"variable\": \"r6\", \"value\": 0.0033305893889453626}, {\"mets\": \"m10\", \"variable\": \"r7\", \"value\": 0.1378460560546363}, {\"mets\": \"m11\", \"variable\": \"r7\", \"value\": 0.10347935302073741}, {\"mets\": \"m5\", \"variable\": \"r7\", \"value\": 0.2926119695420353}, {\"mets\": \"m6\", \"variable\": \"r7\", \"value\": 0.22508981552786955}, {\"mets\": \"m7\", \"variable\": \"r7\", \"value\": 0.2998359496667273}, {\"mets\": \"m8\", \"variable\": \"r7\", \"value\": 0.2884746438389201}, {\"mets\": \"m9\", \"variable\": \"r7\", \"value\": 0.05926834980610604}, {\"mets\": \"m10\", \"variable\": \"r8\", \"value\": 0.21412024390009338}, {\"mets\": \"m11\", \"variable\": \"r8\", \"value\": 0.15416426756875445}, {\"mets\": \"m5\", \"variable\": \"r8\", \"value\": 0.4515663591396141}, {\"mets\": \"m6\", \"variable\": \"r8\", \"value\": 0.34855101540759337}, {\"mets\": \"m7\", \"variable\": \"r8\", \"value\": 0.46254544275695464}, {\"mets\": \"m8\", \"variable\": \"r8\", \"value\": 0.44501175956645245}, {\"mets\": \"m9\", \"variable\": \"r8\", \"value\": 0.09133494243182075}, {\"mets\": \"m10\", \"variable\": \"r9\", \"value\": 0.01265883748593924}, {\"mets\": \"m11\", \"variable\": \"r9\", \"value\": 0.026290844513313004}, {\"mets\": \"m5\", \"variable\": \"r9\", \"value\": 0.027904650846361276}, {\"mets\": \"m6\", \"variable\": \"r9\", \"value\": 0.0015718237544096374}, {\"mets\": \"m7\", \"variable\": \"r9\", \"value\": 0.028698625442226677}, {\"mets\": \"m8\", \"variable\": \"r9\", \"value\": 0.029171372663971996}, {\"mets\": \"m9\", \"variable\": \"r9\", \"value\": 0.00858156807918753}, {\"mets\": \"m10\", \"variable\": \"r10\", \"value\": 0.0005420823926714233}, {\"mets\": \"m11\", \"variable\": \"r10\", \"value\": 0.0030773115770745063}, {\"mets\": \"m5\", \"variable\": \"r10\", \"value\": 0.0018712581995282366}, {\"mets\": \"m6\", \"variable\": \"r10\", \"value\": 0.0003168589009781175}, {\"mets\": \"m7\", \"variable\": \"r10\", \"value\": 0.002226988792902793}, {\"mets\": \"m8\", \"variable\": \"r10\", \"value\": 0.0024230236450098717}, {\"mets\": \"m9\", \"variable\": \"r10\", \"value\": 0.002240017571520328}, {\"mets\": \"m10\", \"variable\": \"r11\", \"value\": 8.36181768852966e-05}, {\"mets\": \"m11\", \"variable\": \"r11\", \"value\": 0.000284121212650257}, {\"mets\": \"m5\", \"variable\": \"r11\", \"value\": 0.00020875282864995246}, {\"mets\": \"m6\", \"variable\": \"r11\", \"value\": 2.2707714511050564e-05}, {\"mets\": \"m7\", \"variable\": \"r11\", \"value\": 0.00020489186485692665}, {\"mets\": \"m8\", \"variable\": \"r11\", \"value\": 0.00016298318428320654}, {\"mets\": \"m9\", \"variable\": \"r11\", \"value\": 0.00012823248790235013}, {\"mets\": \"m10\", \"variable\": \"r12\", \"value\": 0.14724919357254768}, {\"mets\": \"m11\", \"variable\": \"r12\", \"value\": 0.5209285755480775}, {\"mets\": \"m5\", \"variable\": \"r12\", \"value\": 0.2687793058608111}, {\"mets\": \"m6\", \"variable\": \"r12\", \"value\": 0.00691479015826087}, {\"mets\": \"m7\", \"variable\": \"r12\", \"value\": 0.28674889322324926}, {\"mets\": \"m8\", \"variable\": \"r12\", \"value\": 0.33465095007626244}, {\"mets\": \"m9\", \"variable\": \"r12\", \"value\": 0.10920192712026011}, {\"mets\": \"m10\", \"variable\": \"r13\", \"value\": 1.3830322907099983}, {\"mets\": \"m11\", \"variable\": \"r13\", \"value\": 1.6555133282119834}, {\"mets\": \"m5\", \"variable\": \"r13\", \"value\": 0.08135456652404385}, {\"mets\": \"m6\", \"variable\": \"r13\", \"value\": 0.0013304776544698835}, {\"mets\": \"m7\", \"variable\": \"r13\", \"value\": 0.03379371923035722}, {\"mets\": \"m8\", \"variable\": \"r13\", \"value\": 0.006002216518493408}, {\"mets\": \"m9\", \"variable\": \"r13\", \"value\": 0.003651081758970028}]}}, {\"mode\": \"vega-lite\"});\n",
       "</script>"
      ],
      "text/plain": [
       "alt.HConcatChart(...)"
      ]
     },
     "execution_count": 10,
     "metadata": {},
     "output_type": "execute_result"
    }
   ],
   "source": [
    "alt.hconcat(get_heatmaps(Cx_df_median, 'mets'),\n",
    "            get_heatmaps(Cx_df_iqr, 'mets'))"
   ]
  }
 ],
 "metadata": {
  "kernelspec": {
   "display_name": "Python 3",
   "language": "python",
   "name": "python3"
  },
  "language_info": {
   "codemirror_mode": {
    "name": "ipython",
    "version": 3
   },
   "file_extension": ".py",
   "mimetype": "text/x-python",
   "name": "python",
   "nbconvert_exporter": "python",
   "pygments_lexer": "ipython3",
   "version": "3.9.7"
  }
 },
 "nbformat": 4,
 "nbformat_minor": 4
}
