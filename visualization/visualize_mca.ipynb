{
 "cells": [
  {
   "cell_type": "code",
   "execution_count": 1,
   "metadata": {},
   "outputs": [
    {
     "data": {
      "text/plain": [
       "DataTransformerRegistry.enable('default')"
      ]
     },
     "execution_count": 1,
     "metadata": {},
     "output_type": "execute_result"
    }
   ],
   "source": [
    "import pandas as pd\n",
    "import altair as alt\n",
    "import numpy as np\n",
    "import scipy.io\n",
    "alt.data_transformers.enable('default', max_rows=None)"
   ]
  },
  {
   "cell_type": "markdown",
   "metadata": {},
   "source": [
    "### Specify the path to the folder that contains the MCA results"
   ]
  },
  {
   "cell_type": "code",
   "execution_count": 2,
   "metadata": {},
   "outputs": [],
   "source": [
    "base_dir = '../io/output/'"
   ]
  },
  {
   "cell_type": "markdown",
   "metadata": {},
   "source": [
    "### Specify the model ID used to generate the MCA file "
   ]
  },
  {
   "cell_type": "markdown",
   "metadata": {},
   "source": [
    "Typically the MCA output file is named as `MCA_modelID.mat`"
   ]
  },
  {
   "cell_type": "code",
   "execution_count": 3,
   "metadata": {},
   "outputs": [],
   "source": [
    "model_id = 'toy_model'"
   ]
  },
  {
   "cell_type": "markdown",
   "metadata": {},
   "source": [
    "### Specify the number of models in the ensemble"
   ]
  },
  {
   "cell_type": "code",
   "execution_count": 4,
   "metadata": {},
   "outputs": [],
   "source": [
    "n_models = 5"
   ]
  },
  {
   "cell_type": "markdown",
   "metadata": {},
   "source": [
    "### Load the data"
   ]
  },
  {
   "cell_type": "code",
   "execution_count": 5,
   "metadata": {},
   "outputs": [],
   "source": [
    "file_in_MCA = f'{base_dir}MCA_{model_id}.mat'\n",
    "file_in_mets = f'{base_dir}{model_id}_metsActive.dat'\n",
    "file_in_rxns = f'{base_dir}{model_id}_rxnsActive.dat'\n",
    "file_in_enzs = f'{base_dir}{model_id}_enzNames.dat'"
   ]
  },
  {
   "cell_type": "markdown",
   "metadata": {},
   "source": [
    "### Get reaction, enzyme, and metabolite names"
   ]
  },
  {
   "cell_type": "code",
   "execution_count": 6,
   "metadata": {},
   "outputs": [],
   "source": [
    "def get_name_list(file_in):\n",
    "    \n",
    "    name_list = []\n",
    "    with open(file_in, 'r') as f_in:\n",
    "        line = f_in.readline()\n",
    "        line = f_in.readline()\n",
    "        while line:          \n",
    "            name_list.append(line[2:].strip())\n",
    "            line = f_in.readline()\n",
    "\n",
    "    return name_list\n",
    "\n",
    "rxn_names = get_name_list(file_in_rxns)\n",
    "enz_names = get_name_list(file_in_enzs)\n",
    "met_names = get_name_list(file_in_mets)"
   ]
  },
  {
   "cell_type": "markdown",
   "metadata": {},
   "source": [
    "### Get control coefficients median and interquartile range"
   ]
  },
  {
   "cell_type": "code",
   "execution_count": 7,
   "metadata": {},
   "outputs": [],
   "source": [
    "def get_df_median(mat, key_name, id_col, col_names, row_names, n_models):\n",
    "    \n",
    "    try:\n",
    "        df = pd.DataFrame(data=mat['mcaResults'][key_name].item())\n",
    "        df.columns = col_names\n",
    "    except ValueError:\n",
    "        df = pd.DataFrame(data=mat['mcaResults'][key_name].item()[0])\n",
    "        df.columns = col_names\n",
    "\n",
    "    df[id_col] = np.tile(row_names, n_models)\n",
    "    df_median = df.groupby(id_col).median()\n",
    "    \n",
    "    return df_median\n",
    "\n",
    "\n",
    "def get_df_iqr(mat, key_name, id_col, col_names, row_names, n_models):\n",
    "    \n",
    "    try:\n",
    "        df = pd.DataFrame(data=mat['mcaResults'][key_name].item())\n",
    "        df.columns = col_names\n",
    "    except ValueError:\n",
    "        df = pd.DataFrame(data=mat['mcaResults'][key_name].item()[0])\n",
    "        df.columns = col_names\n",
    "\n",
    "    df[id_col] = np.tile(row_names, n_models)\n",
    "   \n",
    "    df_q2 = df.groupby(id_col).quantile(0.25)\n",
    "    df_q4 = df.groupby(id_col).quantile(0.75)\n",
    "    \n",
    "    df_iqr = df_q4.subtract(df_q2)    \n",
    "\n",
    "    return df_iqr\n",
    "\n",
    "\n",
    "\n",
    "mat = scipy.io.loadmat(file_in_MCA, squeeze_me=True)\n",
    "\n",
    "key_name = 'vControl'\n",
    "id_col = 'rxns'\n",
    "col_names = rxn_names\n",
    "row_names = rxn_names\n",
    "Cv_df_median = get_df_median(mat, key_name, id_col, col_names, row_names, n_models)\n",
    "Cv_df_iqr = get_df_iqr(mat, key_name, id_col, col_names, row_names, n_models)\n",
    "\n",
    "key_name = 'xControl'\n",
    "id_col = 'mets'\n",
    "col_names = rxn_names\n",
    "row_names = met_names\n",
    "Cx_df_median = get_df_median(mat, key_name, id_col, col_names, row_names, n_models)\n",
    "Cx_df_iqr = get_df_iqr(mat, key_name, id_col, col_names, row_names, n_models)\n",
    "    \n"
   ]
  },
  {
   "cell_type": "markdown",
   "metadata": {},
   "source": [
    "### Define function to plot heatmaps with altair"
   ]
  },
  {
   "cell_type": "code",
   "execution_count": 8,
   "metadata": {},
   "outputs": [],
   "source": [
    "def get_heatmaps(C_df_in, id_col):\n",
    "    \n",
    "    C_df = C_df_in\n",
    "    \n",
    "    C_df[id_col] = C_df.index\n",
    "    C_df = C_df.melt(id_vars=[id_col], var_name='variable')\n",
    "    \n",
    "    Cx_in = alt.Chart(C_df).mark_rect().encode(\n",
    "        x='variable:N',\n",
    "        y=id_col,\n",
    "        color=alt.Color('value:Q', scale=alt.Scale(scheme='redblue', domain=[1,-1])),\n",
    "        tooltip='value:Q'\n",
    "    ).properties(\n",
    "        width=300,\n",
    "        height=250\n",
    "    )\n",
    "\n",
    "    return Cx_in "
   ]
  },
  {
   "cell_type": "markdown",
   "metadata": {},
   "source": [
    "### Plot flux control coefficients median (on the left) and respective interquartile range (on the right)"
   ]
  },
  {
   "cell_type": "code",
   "execution_count": 9,
   "metadata": {},
   "outputs": [
    {
     "data": {
      "application/vnd.vegalite.v2+json": {
       "$schema": "https://vega.github.io/schema/vega-lite/v2.6.0.json",
       "config": {
        "view": {
         "height": 300,
         "width": 400
        }
       },
       "datasets": {
        "data-4c8787574a82b761f01a4963241f9ef2": [
         {
          "rxn": "r1",
          "value": 0.0586693411263739,
          "variable": "r1"
         },
         {
          "rxn": "r10",
          "value": 1.1282887606710172,
          "variable": "r1"
         },
         {
          "rxn": "r11",
          "value": 0.17634614212162325,
          "variable": "r1"
         },
         {
          "rxn": "r12",
          "value": 0.045781011143111616,
          "variable": "r1"
         },
         {
          "rxn": "r13",
          "value": 0,
          "variable": "r1"
         },
         {
          "rxn": "r2",
          "value": 0.0471434107935913,
          "variable": "r1"
         },
         {
          "rxn": "r3",
          "value": 0.04569718704324055,
          "variable": "r1"
         },
         {
          "rxn": "r4_1",
          "value": 0.1845157050538323,
          "variable": "r1"
         },
         {
          "rxn": "r4_2",
          "value": 0.1652157883193536,
          "variable": "r1"
         },
         {
          "rxn": "r5",
          "value": 2.4715327402508007e-16,
          "variable": "r1"
         },
         {
          "rxn": "r6",
          "value": 9.715146712679606e-17,
          "variable": "r1"
         },
         {
          "rxn": "r7",
          "value": 0.11703472582493313,
          "variable": "r1"
         },
         {
          "rxn": "r8",
          "value": 0.08136461320891049,
          "variable": "r1"
         },
         {
          "rxn": "r9",
          "value": 0.08182948334143347,
          "variable": "r1"
         },
         {
          "rxn": "r1",
          "value": 0.0009699227145482038,
          "variable": "r10"
         },
         {
          "rxn": "r10",
          "value": 0.011177137228031042,
          "variable": "r10"
         },
         {
          "rxn": "r11",
          "value": 0.0013564825349079677,
          "variable": "r10"
         },
         {
          "rxn": "r12",
          "value": 0.0008545134230459293,
          "variable": "r10"
         },
         {
          "rxn": "r13",
          "value": 0,
          "variable": "r10"
         },
         {
          "rxn": "r2",
          "value": 0.0008871444191230751,
          "variable": "r10"
         },
         {
          "rxn": "r3",
          "value": 0.0008541911539326668,
          "variable": "r10"
         },
         {
          "rxn": "r4_1",
          "value": 0.001573679641325397,
          "variable": "r10"
         },
         {
          "rxn": "r4_2",
          "value": 0.0013720468857864607,
          "variable": "r10"
         },
         {
          "rxn": "r5",
          "value": 1.3733695907942357e-18,
          "variable": "r10"
         },
         {
          "rxn": "r6",
          "value": 1.877378362685775e-18,
          "variable": "r10"
         },
         {
          "rxn": "r7",
          "value": 0.00018997158639261758,
          "variable": "r10"
         },
         {
          "rxn": "r8",
          "value": 0.0001886906128695842,
          "variable": "r10"
         },
         {
          "rxn": "r9",
          "value": 0.001677491934013042,
          "variable": "r10"
         },
         {
          "rxn": "r1",
          "value": 5.808456640299621e-05,
          "variable": "r11"
         },
         {
          "rxn": "r10",
          "value": 0.0008454310051627986,
          "variable": "r11"
         },
         {
          "rxn": "r11",
          "value": 8.91532283393559e-05,
          "variable": "r11"
         },
         {
          "rxn": "r12",
          "value": 4.836622710671374e-05,
          "variable": "r11"
         },
         {
          "rxn": "r13",
          "value": 0,
          "variable": "r11"
         },
         {
          "rxn": "r2",
          "value": 5.118654496582135e-05,
          "variable": "r11"
         },
         {
          "rxn": "r3",
          "value": 4.835212130897403e-05,
          "variable": "r11"
         },
         {
          "rxn": "r4_1",
          "value": 7.521192857080016e-05,
          "variable": "r11"
         },
         {
          "rxn": "r4_2",
          "value": 9.5240478890499e-05,
          "variable": "r11"
         },
         {
          "rxn": "r5",
          "value": 2.375999492140036e-19,
          "variable": "r11"
         },
         {
          "rxn": "r6",
          "value": 1.4504475550175955e-19,
          "variable": "r11"
         },
         {
          "rxn": "r7",
          "value": 1.1381268391387177e-05,
          "variable": "r11"
         },
         {
          "rxn": "r8",
          "value": 1.1296733609083276e-05,
          "variable": "r11"
         },
         {
          "rxn": "r9",
          "value": 0.00011916705252451815,
          "variable": "r11"
         },
         {
          "rxn": "r1",
          "value": 0.01589139476823156,
          "variable": "r12"
         },
         {
          "rxn": "r10",
          "value": 0.1028761966263354,
          "variable": "r12"
         },
         {
          "rxn": "r11",
          "value": 0.12428148580209075,
          "variable": "r12"
         },
         {
          "rxn": "r12",
          "value": 0.021910630857761793,
          "variable": "r12"
         },
         {
          "rxn": "r13",
          "value": 0,
          "variable": "r12"
         },
         {
          "rxn": "r2",
          "value": 0.01638566839667306,
          "variable": "r12"
         },
         {
          "rxn": "r3",
          "value": 0.02200448763637354,
          "variable": "r12"
         },
         {
          "rxn": "r4_1",
          "value": 0.08730104915070033,
          "variable": "r12"
         },
         {
          "rxn": "r4_2",
          "value": 0.07913984236878369,
          "variable": "r12"
         },
         {
          "rxn": "r5",
          "value": 3.1051550219984847e-16,
          "variable": "r12"
         },
         {
          "rxn": "r6",
          "value": 5.551115123125783e-17,
          "variable": "r12"
         },
         {
          "rxn": "r7",
          "value": 0.0031080731891844275,
          "variable": "r12"
         },
         {
          "rxn": "r8",
          "value": 0.0030945444047201756,
          "variable": "r12"
         },
         {
          "rxn": "r9",
          "value": 0.1183754788546118,
          "variable": "r12"
         },
         {
          "rxn": "r1",
          "value": 0.016971226333758655,
          "variable": "r13"
         },
         {
          "rxn": "r10",
          "value": 0.3964165464426401,
          "variable": "r13"
         },
         {
          "rxn": "r11",
          "value": 0.045342613036672606,
          "variable": "r13"
         },
         {
          "rxn": "r12",
          "value": 0.021354785078213298,
          "variable": "r13"
         },
         {
          "rxn": "r13",
          "value": 0,
          "variable": "r13"
         },
         {
          "rxn": "r2",
          "value": 0.020323711493630048,
          "variable": "r13"
         },
         {
          "rxn": "r3",
          "value": 0.02133938465642149,
          "variable": "r13"
         },
         {
          "rxn": "r4_1",
          "value": 0.02661605116116355,
          "variable": "r13"
         },
         {
          "rxn": "r4_2",
          "value": 0.009251771691596007,
          "variable": "r13"
         },
         {
          "rxn": "r5",
          "value": 2.55351295663786e-15,
          "variable": "r13"
         },
         {
          "rxn": "r6",
          "value": 3.3306690738754696e-16,
          "variable": "r13"
         },
         {
          "rxn": "r7",
          "value": 0.004568402655201545,
          "variable": "r13"
         },
         {
          "rxn": "r8",
          "value": 0.0024388006381554418,
          "variable": "r13"
         },
         {
          "rxn": "r9",
          "value": 0.003287532675561089,
          "variable": "r13"
         },
         {
          "rxn": "r1",
          "value": 0.020694743675437825,
          "variable": "r2"
         },
         {
          "rxn": "r10",
          "value": 0.17066720262424084,
          "variable": "r2"
         },
         {
          "rxn": "r11",
          "value": 0.04119532531556133,
          "variable": "r2"
         },
         {
          "rxn": "r12",
          "value": 0.020884388791543106,
          "variable": "r2"
         },
         {
          "rxn": "r13",
          "value": 0,
          "variable": "r2"
         },
         {
          "rxn": "r2",
          "value": 0.021656612163614142,
          "variable": "r2"
         },
         {
          "rxn": "r3",
          "value": 0.020871348970269495,
          "variable": "r2"
         },
         {
          "rxn": "r4_1",
          "value": 0.016912060548067313,
          "variable": "r2"
         },
         {
          "rxn": "r4_2",
          "value": 0.01657102754659913,
          "variable": "r2"
         },
         {
          "rxn": "r5",
          "value": 1.4641794426622197e-16,
          "variable": "r2"
         },
         {
          "rxn": "r6",
          "value": 9.528313605942329e-17,
          "variable": "r2"
         },
         {
          "rxn": "r7",
          "value": 0.004046756177832251,
          "variable": "r2"
         },
         {
          "rxn": "r8",
          "value": 0.004030420718691585,
          "variable": "r2"
         },
         {
          "rxn": "r9",
          "value": 0.04049027886732365,
          "variable": "r2"
         },
         {
          "rxn": "r1",
          "value": 0.001851695909160129,
          "variable": "r3"
         },
         {
          "rxn": "r10",
          "value": 0.03601243258594705,
          "variable": "r3"
         },
         {
          "rxn": "r11",
          "value": 0.0006723386324087709,
          "variable": "r3"
         },
         {
          "rxn": "r12",
          "value": 0.0006967241439962877,
          "variable": "r3"
         },
         {
          "rxn": "r13",
          "value": 0,
          "variable": "r3"
         },
         {
          "rxn": "r2",
          "value": 0.0015032910140587335,
          "variable": "r3"
         },
         {
          "rxn": "r3",
          "value": 0.000696546092132655,
          "variable": "r3"
         },
         {
          "rxn": "r4_1",
          "value": 0.0013760236187207518,
          "variable": "r3"
         },
         {
          "rxn": "r4_2",
          "value": 0.00010515189940199878,
          "variable": "r3"
         },
         {
          "rxn": "r5",
          "value": 5.340569893467607e-17,
          "variable": "r3"
         },
         {
          "rxn": "r6",
          "value": 7.691802516974717e-17,
          "variable": "r3"
         },
         {
          "rxn": "r7",
          "value": 0.0005035692500250184,
          "variable": "r3"
         },
         {
          "rxn": "r8",
          "value": 0.00026532393280949467,
          "variable": "r3"
         },
         {
          "rxn": "r9",
          "value": 0.01153891938652677,
          "variable": "r3"
         },
         {
          "rxn": "r1",
          "value": 0.06140962849822548,
          "variable": "r4_1"
         },
         {
          "rxn": "r10",
          "value": 0.7751792370028445,
          "variable": "r4_1"
         },
         {
          "rxn": "r11",
          "value": 0.19010535605703915,
          "variable": "r4_1"
         },
         {
          "rxn": "r12",
          "value": 0.04744284008082249,
          "variable": "r4_1"
         },
         {
          "rxn": "r13",
          "value": 0,
          "variable": "r4_1"
         },
         {
          "rxn": "r2",
          "value": 0.055621111813252765,
          "variable": "r4_1"
         },
         {
          "rxn": "r3",
          "value": 0.047325923209292534,
          "variable": "r4_1"
         },
         {
          "rxn": "r4_1",
          "value": 0.12739285860662175,
          "variable": "r4_1"
         },
         {
          "rxn": "r4_2",
          "value": 0.11798339237056577,
          "variable": "r4_1"
         },
         {
          "rxn": "r5",
          "value": 3.6960562708676804e-16,
          "variable": "r4_1"
         },
         {
          "rxn": "r6",
          "value": 1.667771394919947e-16,
          "variable": "r4_1"
         },
         {
          "rxn": "r7",
          "value": 0.012029168179824582,
          "variable": "r4_1"
         },
         {
          "rxn": "r8",
          "value": 0.011945857904659395,
          "variable": "r4_1"
         },
         {
          "rxn": "r9",
          "value": 0.10776794462410189,
          "variable": "r4_1"
         },
         {
          "rxn": "r1",
          "value": 0.013230075968179362,
          "variable": "r4_2"
         },
         {
          "rxn": "r10",
          "value": 0.5449834426515126,
          "variable": "r4_2"
         },
         {
          "rxn": "r11",
          "value": 0.16762380224446832,
          "variable": "r4_2"
         },
         {
          "rxn": "r12",
          "value": 0.013172206257252381,
          "variable": "r4_2"
         },
         {
          "rxn": "r13",
          "value": 0,
          "variable": "r4_2"
         },
         {
          "rxn": "r2",
          "value": 0.00868524076101219,
          "variable": "r4_2"
         },
         {
          "rxn": "r3",
          "value": 0.013350016569874605,
          "variable": "r4_2"
         },
         {
          "rxn": "r4_1",
          "value": 0.20750268781814474,
          "variable": "r4_2"
         },
         {
          "rxn": "r4_2",
          "value": 0.09022975802253097,
          "variable": "r4_2"
         },
         {
          "rxn": "r5",
          "value": 2.580819470539138e-16,
          "variable": "r4_2"
         },
         {
          "rxn": "r6",
          "value": 2.70278222138803e-17,
          "variable": "r4_2"
         },
         {
          "rxn": "r7",
          "value": 0.0037981168758458076,
          "variable": "r4_2"
         },
         {
          "rxn": "r8",
          "value": 0.0025667827782311654,
          "variable": "r4_2"
         },
         {
          "rxn": "r9",
          "value": 0.1684581875694804,
          "variable": "r4_2"
         },
         {
          "rxn": "r1",
          "value": 0.016589407763133696,
          "variable": "r5"
         },
         {
          "rxn": "r10",
          "value": 0.332561214901276,
          "variable": "r5"
         },
         {
          "rxn": "r11",
          "value": 0.03974033122854532,
          "variable": "r5"
         },
         {
          "rxn": "r12",
          "value": 0.018592087520795286,
          "variable": "r5"
         },
         {
          "rxn": "r13",
          "value": 0,
          "variable": "r5"
         },
         {
          "rxn": "r2",
          "value": 0.019434990883584462,
          "variable": "r5"
         },
         {
          "rxn": "r3",
          "value": 0.018578510140057656,
          "variable": "r5"
         },
         {
          "rxn": "r4_1",
          "value": 0.02275778594756321,
          "variable": "r5"
         },
         {
          "rxn": "r4_2",
          "value": 0.008089377250283586,
          "variable": "r5"
         },
         {
          "rxn": "r5",
          "value": 6.661338147750939e-16,
          "variable": "r5"
         },
         {
          "rxn": "r6",
          "value": 1.3120011711851416e-16,
          "variable": "r5"
         },
         {
          "rxn": "r7",
          "value": 0.004472614215870412,
          "variable": "r5"
         },
         {
          "rxn": "r8",
          "value": 0.002403237103713914,
          "variable": "r5"
         },
         {
          "rxn": "r9",
          "value": 0.03997673153608479,
          "variable": "r5"
         },
         {
          "rxn": "r1",
          "value": 0.0003849322514910433,
          "variable": "r6"
         },
         {
          "rxn": "r10",
          "value": 0.06367415229023889,
          "variable": "r6"
         },
         {
          "rxn": "r11",
          "value": 0.005614668829785095,
          "variable": "r6"
         },
         {
          "rxn": "r12",
          "value": 0.002768374918731162,
          "variable": "r6"
         },
         {
          "rxn": "r13",
          "value": 0,
          "variable": "r6"
         },
         {
          "rxn": "r2",
          "value": 0.0008946673440105143,
          "variable": "r6"
         },
         {
          "rxn": "r3",
          "value": 0.002766547570009329,
          "variable": "r6"
         },
         {
          "rxn": "r4_1",
          "value": 0.0035181458118011474,
          "variable": "r6"
         },
         {
          "rxn": "r4_2",
          "value": 0.0011648975964904348,
          "variable": "r6"
         },
         {
          "rxn": "r5",
          "value": 5.829399178646174e-16,
          "variable": "r6"
         },
         {
          "rxn": "r6",
          "value": 4.440892098500626e-16,
          "variable": "r6"
         },
         {
          "rxn": "r7",
          "value": 0.00010438584184645776,
          "variable": "r6"
         },
         {
          "rxn": "r8",
          "value": 5.5355580591895125e-05,
          "variable": "r6"
         },
         {
          "rxn": "r9",
          "value": 0.04327729171367151,
          "variable": "r6"
         },
         {
          "rxn": "r1",
          "value": 0.0783322698487395,
          "variable": "r7"
         },
         {
          "rxn": "r10",
          "value": 0.33655221725934853,
          "variable": "r7"
         },
         {
          "rxn": "r11",
          "value": 0.1404676687543834,
          "variable": "r7"
         },
         {
          "rxn": "r12",
          "value": 0.07354801826024496,
          "variable": "r7"
         },
         {
          "rxn": "r13",
          "value": 0,
          "variable": "r7"
         },
         {
          "rxn": "r2",
          "value": 0.07623816209160593,
          "variable": "r7"
         },
         {
          "rxn": "r3",
          "value": 0.07350505518559829,
          "variable": "r7"
         },
         {
          "rxn": "r4_1",
          "value": 0.09475442956176836,
          "variable": "r7"
         },
         {
          "rxn": "r4_2",
          "value": 0.025421284223243062,
          "variable": "r7"
         },
         {
          "rxn": "r5",
          "value": 6.3989386502279495e-16,
          "variable": "r7"
         },
         {
          "rxn": "r6",
          "value": 4.707643905529779e-16,
          "variable": "r7"
         },
         {
          "rxn": "r7",
          "value": 0.17017215032092725,
          "variable": "r7"
         },
         {
          "rxn": "r8",
          "value": 0.135994286300265,
          "variable": "r7"
         },
         {
          "rxn": "r9",
          "value": 0.1417886997582486,
          "variable": "r7"
         },
         {
          "rxn": "r1",
          "value": 0.1162839059006062,
          "variable": "r8"
         },
         {
          "rxn": "r10",
          "value": 0.49961026838616773,
          "variable": "r8"
         },
         {
          "rxn": "r11",
          "value": 0.2085236289852653,
          "variable": "r8"
         },
         {
          "rxn": "r12",
          "value": 0.10918170571420016,
          "variable": "r8"
         },
         {
          "rxn": "r13",
          "value": 0,
          "variable": "r8"
         },
         {
          "rxn": "r2",
          "value": 0.11317521225689517,
          "variable": "r8"
         },
         {
          "rxn": "r3",
          "value": 0.10911792722113405,
          "variable": "r8"
         },
         {
          "rxn": "r4_1",
          "value": 0.1406625288926642,
          "variable": "r8"
         },
         {
          "rxn": "r4_2",
          "value": 0.03773778326858645,
          "variable": "r8"
         },
         {
          "rxn": "r5",
          "value": 9.01272843912954e-16,
          "variable": "r8"
         },
         {
          "rxn": "r6",
          "value": 6.932883165085245e-16,
          "variable": "r8"
         },
         {
          "rxn": "r7",
          "value": 0.25261979964367065,
          "variable": "r8"
         },
         {
          "rxn": "r8",
          "value": 0.20188291264503144,
          "variable": "r8"
         },
         {
          "rxn": "r9",
          "value": 0.21048469363003908,
          "variable": "r8"
         },
         {
          "rxn": "r1",
          "value": 0.003958724918883626,
          "variable": "r9"
         },
         {
          "rxn": "r10",
          "value": 0.056478546431499826,
          "variable": "r9"
         },
         {
          "rxn": "r11",
          "value": 0.0058305754877709115,
          "variable": "r9"
         },
         {
          "rxn": "r12",
          "value": 0.0033815322773498857,
          "variable": "r9"
         },
         {
          "rxn": "r13",
          "value": 0,
          "variable": "r9"
         },
         {
          "rxn": "r2",
          "value": 0.003511673533787856,
          "variable": "r9"
         },
         {
          "rxn": "r3",
          "value": 0.0033804636490163686,
          "variable": "r9"
         },
         {
          "rxn": "r4_1",
          "value": 0.004939156336088081,
          "variable": "r9"
         },
         {
          "rxn": "r4_2",
          "value": 0.00618254425072602,
          "variable": "r9"
         },
         {
          "rxn": "r5",
          "value": 1.053586820164644e-17,
          "variable": "r9"
         },
         {
          "rxn": "r6",
          "value": 1.486428893539453e-17,
          "variable": "r9"
         },
         {
          "rxn": "r7",
          "value": 0.0007756291382398694,
          "variable": "r9"
         },
         {
          "rxn": "r8",
          "value": 0.0007699607398935958,
          "variable": "r9"
         },
         {
          "rxn": "r9",
          "value": 0.006658597086258267,
          "variable": "r9"
         }
        ],
        "data-880ca502f7b53fc9cd6a48ca888d1206": [
         {
          "rxns": "r1",
          "value": 0.9027122111997846,
          "variable": "r1"
         },
         {
          "rxns": "r10",
          "value": 2.5740575833875847,
          "variable": "r1"
         },
         {
          "rxns": "r11",
          "value": 1.6869265606669421,
          "variable": "r1"
         },
         {
          "rxns": "r12",
          "value": 0.8575914313114181,
          "variable": "r1"
         },
         {
          "rxns": "r13",
          "value": 0,
          "variable": "r1"
         },
         {
          "rxns": "r2",
          "value": 0.8893286617455043,
          "variable": "r1"
         },
         {
          "rxns": "r3",
          "value": 0.8570589899910243,
          "variable": "r1"
         },
         {
          "rxns": "r4_1",
          "value": 1.0748449992683597,
          "variable": "r1"
         },
         {
          "rxns": "r4_2",
          "value": 0.39231639799460166,
          "variable": "r1"
         },
         {
          "rxns": "r5",
          "value": -3.712978351780626e-16,
          "variable": "r1"
         },
         {
          "rxns": "r6",
          "value": 6.456133541446443e-18,
          "variable": "r1"
         },
         {
          "rxns": "r7",
          "value": -0.1762456463732449,
          "variable": "r1"
         },
         {
          "rxns": "r8",
          "value": 0.13387943196618385,
          "variable": "r1"
         },
         {
          "rxns": "r9",
          "value": 1.6632809462992384,
          "variable": "r1"
         },
         {
          "rxns": "r1",
          "value": 0.004803585286904295,
          "variable": "r2"
         },
         {
          "rxns": "r10",
          "value": -0.3257978418922532,
          "variable": "r2"
         },
         {
          "rxns": "r11",
          "value": 0.01209850150035624,
          "variable": "r2"
         },
         {
          "rxns": "r12",
          "value": 0.006645268264239371,
          "variable": "r2"
         },
         {
          "rxns": "r13",
          "value": 0,
          "variable": "r2"
         },
         {
          "rxns": "r2",
          "value": 0.006894655759407731,
          "variable": "r2"
         },
         {
          "rxns": "r3",
          "value": 0.0066417672347952456,
          "variable": "r2"
         },
         {
          "rxns": "r4_1",
          "value": 0.009338749515606275,
          "variable": "r2"
         },
         {
          "rxns": "r4_2",
          "value": 0.0017552461711253348,
          "variable": "r2"
         },
         {
          "rxns": "r5",
          "value": 3.997534060926173e-17,
          "variable": "r2"
         },
         {
          "rxns": "r6",
          "value": 1.997188956054875e-17,
          "variable": "r2"
         },
         {
          "rxns": "r7",
          "value": -0.0015740909830796424,
          "variable": "r2"
         },
         {
          "rxns": "r8",
          "value": 0.0005079239152990652,
          "variable": "r2"
         },
         {
          "rxns": "r9",
          "value": 0.012959906526366968,
          "variable": "r2"
         },
         {
          "rxns": "r1",
          "value": 0.0010582709050565506,
          "variable": "r3"
         },
         {
          "rxns": "r10",
          "value": -0.07428308631070497,
          "variable": "r3"
         },
         {
          "rxns": "r11",
          "value": 0.006147126157505635,
          "variable": "r3"
         },
         {
          "rxns": "r12",
          "value": 0.003068719180431963,
          "variable": "r3"
         },
         {
          "rxns": "r13",
          "value": 0,
          "variable": "r3"
         },
         {
          "rxns": "r2",
          "value": 0.0015189516069290762,
          "variable": "r3"
         },
         {
          "rxns": "r3",
          "value": 0.003066742812832479,
          "variable": "r3"
         },
         {
          "rxns": "r4_1",
          "value": 0.004908321917211953,
          "variable": "r3"
         },
         {
          "rxns": "r4_2",
          "value": 0.0012420040007290979,
          "variable": "r3"
         },
         {
          "rxns": "r5",
          "value": 4.2741586035683197e-17,
          "variable": "r3"
         },
         {
          "rxns": "r6",
          "value": 1.0565460545804304e-17,
          "variable": "r3"
         },
         {
          "rxns": "r7",
          "value": -0.00034678570064029546,
          "variable": "r3"
         },
         {
          "rxns": "r8",
          "value": 0.00011189998083486666,
          "variable": "r3"
         },
         {
          "rxns": "r9",
          "value": -0.048279205452704844,
          "variable": "r3"
         },
         {
          "rxns": "r1",
          "value": 0.0213532004147115,
          "variable": "r4_1"
         },
         {
          "rxns": "r10",
          "value": -1.7302350241287545,
          "variable": "r4_1"
         },
         {
          "rxns": "r11",
          "value": -1.0779427389495921,
          "variable": "r4_1"
         },
         {
          "rxns": "r12",
          "value": 0.07075539940245247,
          "variable": "r4_1"
         },
         {
          "rxns": "r13",
          "value": 0,
          "variable": "r4_1"
         },
         {
          "rxns": "r2",
          "value": 0.030648558821764933,
          "variable": "r4_1"
         },
         {
          "rxns": "r3",
          "value": 0.07143195158276804,
          "variable": "r4_1"
         },
         {
          "rxns": "r4_1",
          "value": 0.26542387227067377,
          "variable": "r4_1"
         },
         {
          "rxns": "r4_2",
          "value": -0.36454378439190893,
          "variable": "r4_1"
         },
         {
          "rxns": "r5",
          "value": -1.3027287446628592e-16,
          "variable": "r4_1"
         },
         {
          "rxns": "r6",
          "value": 3.4091369260520927e-19,
          "variable": "r4_1"
         },
         {
          "rxns": "r7",
          "value": -0.006997248560220338,
          "variable": "r4_1"
         },
         {
          "rxns": "r8",
          "value": 0.002257855437348655,
          "variable": "r4_1"
         },
         {
          "rxns": "r9",
          "value": -1.0236722133330023,
          "variable": "r4_1"
         },
         {
          "rxns": "r1",
          "value": 0.011761592049798127,
          "variable": "r4_2"
         },
         {
          "rxns": "r10",
          "value": -0.61957365764123,
          "variable": "r4_2"
         },
         {
          "rxns": "r11",
          "value": -0.4986942861120977,
          "variable": "r4_2"
         },
         {
          "rxns": "r12",
          "value": 0.028934157563302917,
          "variable": "r4_2"
         },
         {
          "rxns": "r13",
          "value": 0,
          "variable": "r4_2"
         },
         {
          "rxns": "r2",
          "value": 0.015969347348021027,
          "variable": "r4_2"
         },
         {
          "rxns": "r3",
          "value": 0.029279269460224144,
          "variable": "r4_2"
         },
         {
          "rxns": "r4_1",
          "value": -0.3480932445413811,
          "variable": "r4_2"
         },
         {
          "rxns": "r4_2",
          "value": 0.8279941455623864,
          "variable": "r4_2"
         },
         {
          "rxns": "r5",
          "value": -2.775940733864769e-17,
          "variable": "r4_2"
         },
         {
          "rxns": "r6",
          "value": -2.813264040434498e-19,
          "variable": "r4_2"
         },
         {
          "rxns": "r7",
          "value": -0.0026577496611094706,
          "variable": "r4_2"
         },
         {
          "rxns": "r8",
          "value": 0.0012436531314161889,
          "variable": "r4_2"
         },
         {
          "rxns": "r9",
          "value": -0.496591415336436,
          "variable": "r4_2"
         },
         {
          "rxns": "r1",
          "value": 0.004570742157983068,
          "variable": "r5"
         },
         {
          "rxns": "r10",
          "value": -0.24077619976669276,
          "variable": "r5"
         },
         {
          "rxns": "r11",
          "value": 0.011564147296778057,
          "variable": "r5"
         },
         {
          "rxns": "r12",
          "value": 0.006351766872286339,
          "variable": "r5"
         },
         {
          "rxns": "r13",
          "value": 0,
          "variable": "r5"
         },
         {
          "rxns": "r2",
          "value": 0.006560452633206026,
          "variable": "r5"
         },
         {
          "rxns": "r3",
          "value": 0.006348420472720988,
          "variable": "r5"
         },
         {
          "rxns": "r4_1",
          "value": 0.008926285206726286,
          "variable": "r5"
         },
         {
          "rxns": "r4_2",
          "value": 0.0016777222587773576,
          "variable": "r5"
         },
         {
          "rxns": "r5",
          "value": -6.661338147750939e-16,
          "variable": "r5"
         },
         {
          "rxns": "r6",
          "value": 4.228132984777116e-17,
          "variable": "r5"
         },
         {
          "rxns": "r7",
          "value": -0.0014977904184354024,
          "variable": "r5"
         },
         {
          "rxns": "r8",
          "value": 0.0004833034315085987,
          "variable": "r5"
         },
         {
          "rxns": "r9",
          "value": 0.01164580882320503,
          "variable": "r5"
         },
         {
          "rxns": "r1",
          "value": -1.5270281863613194e-06,
          "variable": "r6"
         },
         {
          "rxns": "r10",
          "value": 0.0005909710367141172,
          "variable": "r6"
         },
         {
          "rxns": "r11",
          "value": -6.832342301235248e-05,
          "variable": "r6"
         },
         {
          "rxns": "r12",
          "value": -3.752757931504345e-05,
          "variable": "r6"
         },
         {
          "rxns": "r13",
          "value": 0,
          "variable": "r6"
         },
         {
          "rxns": "r2",
          "value": -1.610224556120512e-05,
          "variable": "r6"
         },
         {
          "rxns": "r3",
          "value": -3.750780807977096e-05,
          "variable": "r6"
         },
         {
          "rxns": "r4_1",
          "value": -5.2738377024824015e-05,
          "variable": "r6"
         },
         {
          "rxns": "r4_2",
          "value": -9.912337212768042e-06,
          "variable": "r6"
         },
         {
          "rxns": "r5",
          "value": 5.820233092635651e-16,
          "variable": "r6"
         },
         {
          "rxns": "r6",
          "value": -2.220446049250313e-16,
          "variable": "r6"
         },
         {
          "rxns": "r7",
          "value": 4.3447315227974973e-07,
          "variable": "r6"
         },
         {
          "rxns": "r8",
          "value": -2.0587134685207437e-07,
          "variable": "r6"
         },
         {
          "rxns": "r9",
          "value": 0.0004972864290929431,
          "variable": "r6"
         },
         {
          "rxns": "r1",
          "value": -0.0591702420979713,
          "variable": "r7"
         },
         {
          "rxns": "r10",
          "value": -0.3645920401188615,
          "variable": "r7"
         },
         {
          "rxns": "r11",
          "value": -0.10233970696667112,
          "variable": "r7"
         },
         {
          "rxns": "r12",
          "value": -0.04799478811686221,
          "variable": "r7"
         },
         {
          "rxns": "r13",
          "value": 0,
          "variable": "r7"
         },
         {
          "rxns": "r2",
          "value": -0.05017734786339585,
          "variable": "r7"
         },
         {
          "rxns": "r3",
          "value": -0.04795989814374716,
          "variable": "r7"
         },
         {
          "rxns": "r4_1",
          "value": -0.0870154661614556,
          "variable": "r7"
         },
         {
          "rxns": "r4_2",
          "value": -0.02084990654885939,
          "variable": "r7"
         },
         {
          "rxns": "r5",
          "value": -2.7799943656229863e-16,
          "variable": "r7"
         },
         {
          "rxns": "r6",
          "value": -4.7244994916119796e-17,
          "variable": "r7"
         },
         {
          "rxns": "r7",
          "value": 0.45991889881558734,
          "variable": "r7"
         },
         {
          "rxns": "r8",
          "value": 0.2904969956785058,
          "variable": "r7"
         },
         {
          "rxns": "r9",
          "value": -0.10336041986513518,
          "variable": "r7"
         },
         {
          "rxns": "r1",
          "value": 0.08783796100282798,
          "variable": "r8"
         },
         {
          "rxns": "r10",
          "value": 0.541235260604081,
          "variable": "r8"
         },
         {
          "rxns": "r11",
          "value": 0.15192283943498527,
          "variable": "r8"
         },
         {
          "rxns": "r12",
          "value": 0.07124804931451303,
          "variable": "r8"
         },
         {
          "rxns": "r13",
          "value": 0,
          "variable": "r8"
         },
         {
          "rxns": "r2",
          "value": 0.07448804954275172,
          "variable": "r8"
         },
         {
          "rxns": "r3",
          "value": 0.07119625530473356,
          "variable": "r8"
         },
         {
          "rxns": "r4_1",
          "value": 0.12917407217427776,
          "variable": "r8"
         },
         {
          "rxns": "r4_2",
          "value": 0.03095159346008676,
          "variable": "r8"
         },
         {
          "rxns": "r5",
          "value": 4.760734399145989e-16,
          "variable": "r8"
         },
         {
          "rxns": "r6",
          "value": 8.537018947809087e-17,
          "variable": "r8"
         },
         {
          "rxns": "r7",
          "value": 0.8017479905803415,
          "variable": "r8"
         },
         {
          "rxns": "r8",
          "value": 0.5687585030394503,
          "variable": "r8"
         },
         {
          "rxns": "r9",
          "value": 0.15343808318913316,
          "variable": "r8"
         },
         {
          "rxns": "r1",
          "value": 0.0016001296643285482,
          "variable": "r9"
         },
         {
          "rxns": "r10",
          "value": -0.09696787471327965,
          "variable": "r9"
         },
         {
          "rxns": "r11",
          "value": -0.0669895481274951,
          "variable": "r9"
         },
         {
          "rxns": "r12",
          "value": -0.03636401157122424,
          "variable": "r9"
         },
         {
          "rxns": "r13",
          "value": 0,
          "variable": "r9"
         },
         {
          "rxns": "r2",
          "value": 0.002296689357434083,
          "variable": "r9"
         },
         {
          "rxns": "r3",
          "value": -0.03634485335667738,
          "variable": "r9"
         },
         {
          "rxns": "r4_1",
          "value": -0.0430245777634751,
          "variable": "r9"
         },
         {
          "rxns": "r4_2",
          "value": -0.015746931357050922,
          "variable": "r9"
         },
         {
          "rxns": "r5",
          "value": 7.509315489422836e-18,
          "variable": "r9"
         },
         {
          "rxns": "r6",
          "value": -1.7403420737640138e-18,
          "variable": "r9"
         },
         {
          "rxns": "r7",
          "value": -0.0005243478622611896,
          "variable": "r9"
         },
         {
          "rxns": "r8",
          "value": 0.0001691953146554066,
          "variable": "r9"
         },
         {
          "rxns": "r9",
          "value": 0.9290712314039555,
          "variable": "r9"
         },
         {
          "rxns": "r1",
          "value": 0.0003631646021429509,
          "variable": "r10"
         },
         {
          "rxns": "r10",
          "value": 0.9790553598794449,
          "variable": "r10"
         },
         {
          "rxns": "r11",
          "value": -0.013315941257045568,
          "variable": "r10"
         },
         {
          "rxns": "r12",
          "value": -0.007313963786450281,
          "variable": "r10"
         },
         {
          "rxns": "r13",
          "value": 0,
          "variable": "r10"
         },
         {
          "rxns": "r2",
          "value": -0.007588527636938942,
          "variable": "r10"
         },
         {
          "rxns": "r3",
          "value": -0.007310110457805992,
          "variable": "r10"
         },
         {
          "rxns": "r4_1",
          "value": -0.00870579928467368,
          "variable": "r10"
         },
         {
          "rxns": "r4_2",
          "value": -0.003186309567002866,
          "variable": "r10"
         },
         {
          "rxns": "r5",
          "value": 9.334483207864149e-19,
          "variable": "r10"
         },
         {
          "rxns": "r6",
          "value": 4.458978077773556e-19,
          "variable": "r10"
         },
         {
          "rxns": "r7",
          "value": -0.00011900571999113609,
          "variable": "r10"
         },
         {
          "rxns": "r8",
          "value": 3.8400481224168077e-05,
          "variable": "r10"
         },
         {
          "rxns": "r9",
          "value": -0.014266054867093073,
          "variable": "r10"
         },
         {
          "rxns": "r1",
          "value": -2.3959206790194752e-05,
          "variable": "r11"
         },
         {
          "rxns": "r10",
          "value": 0.0014454105939238713,
          "variable": "r11"
         },
         {
          "rxns": "r11",
          "value": 1.001042371209822,
          "variable": "r11"
         },
         {
          "rxns": "r12",
          "value": 0.0005622019394648994,
          "variable": "r11"
         },
         {
          "rxns": "r13",
          "value": 0,
          "variable": "r11"
         },
         {
          "rxns": "r2",
          "value": -3.438899763832108e-05,
          "variable": "r11"
         },
         {
          "rxns": "r3",
          "value": -8.010410216228199e-05,
          "variable": "r11"
         },
         {
          "rxns": "r4_1",
          "value": 0.000664735361136696,
          "variable": "r11"
         },
         {
          "rxns": "r4_2",
          "value": 0.00024329215175494947,
          "variable": "r11"
         },
         {
          "rxns": "r5",
          "value": -8.965207729788027e-20,
          "variable": "r11"
         },
         {
          "rxns": "r6",
          "value": 5.744028153731852e-20,
          "variable": "r11"
         },
         {
          "rxns": "r7",
          "value": 7.85121302477958e-06,
          "variable": "r11"
         },
         {
          "rxns": "r8",
          "value": -2.533410649231382e-06,
          "variable": "r11"
         },
         {
          "rxns": "r9",
          "value": 0.0010620370786511282,
          "variable": "r11"
         },
         {
          "rxns": "r1",
          "value": 0.004228231023988137,
          "variable": "r12"
         },
         {
          "rxns": "r10",
          "value": -0.2805532675527006,
          "variable": "r12"
         },
         {
          "rxns": "r11",
          "value": -0.16899340790187126,
          "variable": "r12"
         },
         {
          "rxns": "r12",
          "value": 0.014018975995934713,
          "variable": "r12"
         },
         {
          "rxns": "r13",
          "value": 0,
          "variable": "r12"
         },
         {
          "rxns": "r2",
          "value": 0.006068841425823433,
          "variable": "r12"
         },
         {
          "rxns": "r3",
          "value": 0.014136471748717207,
          "variable": "r12"
         },
         {
          "rxns": "r4_1",
          "value": -0.023291245911374395,
          "variable": "r12"
         },
         {
          "rxns": "r4_2",
          "value": 0.1428413178114674,
          "variable": "r12"
         },
         {
          "rxns": "r5",
          "value": 1.0408340855860843e-16,
          "variable": "r12"
         },
         {
          "rxns": "r6",
          "value": -1.1102230246251565e-16,
          "variable": "r12"
         },
         {
          "rxns": "r7",
          "value": -0.0013855526511377908,
          "variable": "r12"
         },
         {
          "rxns": "r8",
          "value": 0.000447086817079683,
          "variable": "r12"
         },
         {
          "rxns": "r9",
          "value": -0.18742432351375563,
          "variable": "r12"
         },
         {
          "rxns": "r1",
          "value": -0.004539291797636618,
          "variable": "r13"
         },
         {
          "rxns": "r10",
          "value": 0.2402448926151124,
          "variable": "r13"
         },
         {
          "rxns": "r11",
          "value": -0.011460884979874866,
          "variable": "r13"
         },
         {
          "rxns": "r12",
          "value": -0.0062950486252052445,
          "variable": "r13"
         },
         {
          "rxns": "r13",
          "value": 1,
          "variable": "r13"
         },
         {
          "rxns": "r2",
          "value": -0.00652443843151862,
          "variable": "r13"
         },
         {
          "rxns": "r3",
          "value": -0.006291732107391389,
          "variable": "r13"
         },
         {
          "rxns": "r4_1",
          "value": -0.008846577739488985,
          "variable": "r13"
         },
         {
          "rxns": "r4_2",
          "value": -0.0016627409996221947,
          "variable": "r13"
         },
         {
          "rxns": "r5",
          "value": 0.9999999999976986,
          "variable": "r13"
         },
         {
          "rxns": "r6",
          "value": 0.9999999999995135,
          "variable": "r13"
         },
         {
          "rxns": "r7",
          "value": 0.0015981295317498518,
          "variable": "r13"
         },
         {
          "rxns": "r8",
          "value": -0.0005156806167158995,
          "variable": "r13"
         },
         {
          "rxns": "r9",
          "value": -0.03998517636126275,
          "variable": "r13"
         }
        ]
       },
       "hconcat": [
        {
         "data": {
          "name": "data-880ca502f7b53fc9cd6a48ca888d1206"
         },
         "encoding": {
          "color": {
           "field": "value",
           "scale": {
            "domain": [
             1,
             -1
            ],
            "scheme": "redblue"
           },
           "type": "quantitative"
          },
          "tooltip": {
           "field": "value",
           "type": "quantitative"
          },
          "x": {
           "field": "variable",
           "type": "nominal"
          },
          "y": {
           "field": "rxns",
           "type": "nominal"
          }
         },
         "height": 250,
         "mark": "rect",
         "width": 300
        },
        {
         "data": {
          "name": "data-4c8787574a82b761f01a4963241f9ef2"
         },
         "encoding": {
          "color": {
           "field": "value",
           "scale": {
            "domain": [
             1,
             -1
            ],
            "scheme": "redblue"
           },
           "type": "quantitative"
          },
          "tooltip": {
           "field": "value",
           "type": "quantitative"
          },
          "x": {
           "field": "variable",
           "type": "nominal"
          },
          "y": {
           "field": "rxn",
           "type": "nominal"
          }
         },
         "height": 250,
         "mark": "rect",
         "width": 300
        }
       ]
      },
      "image/png": "[encoded data removed]",
      "text/plain": [
       "<VegaLite 2 object>\n",
       "\n",
       "If you see this message, it means the renderer has not been properly enabled\n",
       "for the frontend that you are using. For more information, see\n",
       "https://altair-viz.github.io/user_guide/troubleshooting.html\n"
      ]
     },
     "execution_count": 9,
     "metadata": {},
     "output_type": "execute_result"
    }
   ],
   "source": [
    "alt.hconcat(get_heatmaps(Cv_df_median, 'rxns'),\n",
    "            get_heatmaps(Cv_df_iqr, 'rxn'))"
   ]
  },
  {
   "cell_type": "markdown",
   "metadata": {},
   "source": [
    "### Plot concentration control coefficients median (on the left) and respective interquartile range (on the right)"
   ]
  },
  {
   "cell_type": "code",
   "execution_count": 10,
   "metadata": {},
   "outputs": [
    {
     "data": {
      "application/vnd.vegalite.v2+json": {
       "$schema": "https://vega.github.io/schema/vega-lite/v2.6.0.json",
       "config": {
        "view": {
         "height": 300,
         "width": 400
        }
       },
       "datasets": {
        "data-313ac08e075ffca99660b5b9e294ef1d": [
         {
          "mets": "m10",
          "value": 0.1438882484259787,
          "variable": "r1"
         },
         {
          "mets": "m11",
          "value": 0.8982589237520155,
          "variable": "r1"
         },
         {
          "mets": "m5",
          "value": 0.24702256548955503,
          "variable": "r1"
         },
         {
          "mets": "m6",
          "value": 0.0734585277914131,
          "variable": "r1"
         },
         {
          "mets": "m7",
          "value": 0.14752259932428258,
          "variable": "r1"
         },
         {
          "mets": "m8",
          "value": 0.17634614212162325,
          "variable": "r1"
         },
         {
          "mets": "m9",
          "value": 0.23643786841345693,
          "variable": "r1"
         },
         {
          "mets": "m10",
          "value": 0.0014640017457517944,
          "variable": "r10"
         },
         {
          "mets": "m11",
          "value": 0.007456424503252503,
          "variable": "r10"
         },
         {
          "mets": "m5",
          "value": 0.002653276283999903,
          "variable": "r10"
         },
         {
          "mets": "m6",
          "value": 0.0001887887244785996,
          "variable": "r10"
         },
         {
          "mets": "m7",
          "value": 0.0016546252176515269,
          "variable": "r10"
         },
         {
          "mets": "m8",
          "value": 0.0013564825349079677,
          "variable": "r10"
         },
         {
          "mets": "m9",
          "value": 0.002338310749790339,
          "variable": "r10"
         },
         {
          "mets": "m10",
          "value": 0.00010962949780295167,
          "variable": "r11"
         },
         {
          "mets": "m11",
          "value": 0.0005371919481517042,
          "variable": "r11"
         },
         {
          "mets": "m5",
          "value": 0.0002699122505520345,
          "variable": "r11"
         },
         {
          "mets": "m6",
          "value": 1.1310377740512975e-05,
          "variable": "r11"
         },
         {
          "mets": "m7",
          "value": 0.00011747313334703837,
          "variable": "r11"
         },
         {
          "mets": "m8",
          "value": 8.915322833935916e-05,
          "variable": "r11"
         },
         {
          "mets": "m9",
          "value": 0.0001672989757970253,
          "variable": "r11"
         },
         {
          "mets": "m10",
          "value": 0.019241512832194847,
          "variable": "r12"
         },
         {
          "mets": "m11",
          "value": 0.18955487800556658,
          "variable": "r12"
         },
         {
          "mets": "m5",
          "value": 0.062384345815630876,
          "variable": "r12"
         },
         {
          "mets": "m6",
          "value": 0.003088744502078455,
          "variable": "r12"
         },
         {
          "mets": "m7",
          "value": 0.11858540997714981,
          "variable": "r12"
         },
         {
          "mets": "m8",
          "value": 0.12428148580209075,
          "variable": "r12"
         },
         {
          "mets": "m9",
          "value": 0.0898494289118773,
          "variable": "r12"
         },
         {
          "mets": "m10",
          "value": 0.3752326798680643,
          "variable": "r13"
         },
         {
          "mets": "m11",
          "value": 1.542447626274149,
          "variable": "r13"
         },
         {
          "mets": "m5",
          "value": 0.13015059321328085,
          "variable": "r13"
         },
         {
          "mets": "m6",
          "value": 0.0044601078541832906,
          "variable": "r13"
         },
         {
          "mets": "m7",
          "value": 0.0032217180465985776,
          "variable": "r13"
         },
         {
          "mets": "m8",
          "value": 0.045342613036672606,
          "variable": "r13"
         },
         {
          "mets": "m9",
          "value": 0.020340412280563422,
          "variable": "r13"
         },
         {
          "mets": "m10",
          "value": 0.007193395981943631,
          "variable": "r2"
         },
         {
          "mets": "m11",
          "value": 0.02890904140343262,
          "variable": "r2"
         },
         {
          "mets": "m5",
          "value": 0.052859121856334734,
          "variable": "r2"
         },
         {
          "mets": "m6",
          "value": 0.00402159404516506,
          "variable": "r2"
         },
         {
          "mets": "m7",
          "value": 0.0404935976635686,
          "variable": "r2"
         },
         {
          "mets": "m8",
          "value": 0.04119532531556133,
          "variable": "r2"
         },
         {
          "mets": "m9",
          "value": 0.01350620584697651,
          "variable": "r2"
         },
         {
          "mets": "m10",
          "value": 0.007363447710809138,
          "variable": "r3"
         },
         {
          "mets": "m11",
          "value": 0.01582812515847203,
          "variable": "r3"
         },
         {
          "mets": "m5",
          "value": 0.016429746130667236,
          "variable": "r3"
         },
         {
          "mets": "m6",
          "value": 0.0004899999940693503,
          "variable": "r3"
         },
         {
          "mets": "m7",
          "value": 0.013457647793321877,
          "variable": "r3"
         },
         {
          "mets": "m8",
          "value": 0.0006723386324087709,
          "variable": "r3"
         },
         {
          "mets": "m9",
          "value": 0.0007015000030591886,
          "variable": "r3"
         },
         {
          "mets": "m10",
          "value": 0.019010737907678987,
          "variable": "r4_1"
         },
         {
          "mets": "m11",
          "value": 0.38639531525402904,
          "variable": "r4_1"
         },
         {
          "mets": "m5",
          "value": 0.2006849777664892,
          "variable": "r4_1"
         },
         {
          "mets": "m6",
          "value": 0.01195426128207568,
          "variable": "r4_1"
         },
         {
          "mets": "m7",
          "value": 0.1450688172741026,
          "variable": "r4_1"
         },
         {
          "mets": "m8",
          "value": 0.19010535605703915,
          "variable": "r4_1"
         },
         {
          "mets": "m9",
          "value": 0.014087198771548112,
          "variable": "r4_1"
         },
         {
          "mets": "m10",
          "value": 0.04459477108198676,
          "variable": "r4_2"
         },
         {
          "mets": "m11",
          "value": 0.08989947638077865,
          "variable": "r4_2"
         },
         {
          "mets": "m5",
          "value": 0.11321404016203124,
          "variable": "r4_2"
         },
         {
          "mets": "m6",
          "value": 0.003507274911641986,
          "variable": "r4_2"
         },
         {
          "mets": "m7",
          "value": 0.16772627137813223,
          "variable": "r4_2"
         },
         {
          "mets": "m8",
          "value": 0.16762380224446832,
          "variable": "r4_2"
         },
         {
          "mets": "m9",
          "value": 0.01872975448012317,
          "variable": "r4_2"
         },
         {
          "mets": "m10",
          "value": 0.3660496293591555,
          "variable": "r5"
         },
         {
          "mets": "m11",
          "value": 0.02155377033588062,
          "variable": "r5"
         },
         {
          "mets": "m5",
          "value": 0.10551168137144386,
          "variable": "r5"
         },
         {
          "mets": "m6",
          "value": 0.004353116597276074,
          "variable": "r5"
         },
         {
          "mets": "m7",
          "value": 0.03997623384601655,
          "variable": "r5"
         },
         {
          "mets": "m8",
          "value": 0.03974033122854532,
          "variable": "r5"
         },
         {
          "mets": "m9",
          "value": 0.01761883792435153,
          "variable": "r5"
         },
         {
          "mets": "m10",
          "value": 0.007000488648549673,
          "variable": "r6"
         },
         {
          "mets": "m11",
          "value": 1.5409769383898668,
          "variable": "r6"
         },
         {
          "mets": "m5",
          "value": 0.038859934356281434,
          "variable": "r6"
         },
         {
          "mets": "m6",
          "value": 0.00010141869040995047,
          "variable": "r6"
         },
         {
          "mets": "m7",
          "value": 0.04320789403533763,
          "variable": "r6"
         },
         {
          "mets": "m8",
          "value": 0.005614668829785095,
          "variable": "r6"
         },
         {
          "mets": "m9",
          "value": 0.0027268685184709466,
          "variable": "r6"
         },
         {
          "mets": "m10",
          "value": 0.05737142153153882,
          "variable": "r7"
         },
         {
          "mets": "m11",
          "value": 0.08261599734732403,
          "variable": "r7"
         },
         {
          "mets": "m5",
          "value": 0.14091107882037843,
          "variable": "r7"
         },
         {
          "mets": "m6",
          "value": 0.11538282164451086,
          "variable": "r7"
         },
         {
          "mets": "m7",
          "value": 0.14151642212737858,
          "variable": "r7"
         },
         {
          "mets": "m8",
          "value": 0.1404676687543834,
          "variable": "r7"
         },
         {
          "mets": "m9",
          "value": 0.06575016735423603,
          "variable": "r7"
         },
         {
          "mets": "m10",
          "value": 0.08516761987926524,
          "variable": "r8"
         },
         {
          "mets": "m11",
          "value": 0.12264308030358384,
          "variable": "r8"
         },
         {
          "mets": "m5",
          "value": 0.20918186925443039,
          "variable": "r8"
         },
         {
          "mets": "m6",
          "value": 0.1712852851138542,
          "variable": "r8"
         },
         {
          "mets": "m7",
          "value": 0.21008049869903467,
          "variable": "r8"
         },
         {
          "mets": "m8",
          "value": 0.2085236289852653,
          "variable": "r8"
         },
         {
          "mets": "m9",
          "value": 0.09760583075574086,
          "variable": "r8"
         },
         {
          "mets": "m10",
          "value": 0.007211793440069348,
          "variable": "r9"
         },
         {
          "mets": "m11",
          "value": 0.03672681121503167,
          "variable": "r9"
         },
         {
          "mets": "m5",
          "value": 0.017075494893411355,
          "variable": "r9"
         },
         {
          "mets": "m6",
          "value": 0.0007707982638115183,
          "variable": "r9"
         },
         {
          "mets": "m7",
          "value": 0.006545605691570713,
          "variable": "r9"
         },
         {
          "mets": "m8",
          "value": 0.0058305754877709115,
          "variable": "r9"
         },
         {
          "mets": "m9",
          "value": 0.011000123719159895,
          "variable": "r9"
         }
        ],
        "data-aaa52a45245e34cd7027715bf96aa037": [
         {
          "mets": "m10",
          "value": 0.24760991846424313,
          "variable": "r1"
         },
         {
          "mets": "m11",
          "value": 1.2421511186422514,
          "variable": "r1"
         },
         {
          "mets": "m5",
          "value": 1.5118873610136,
          "variable": "r1"
         },
         {
          "mets": "m6",
          "value": -0.17515124921669925,
          "variable": "r1"
         },
         {
          "mets": "m7",
          "value": 1.6630881423315904,
          "variable": "r1"
         },
         {
          "mets": "m8",
          "value": 1.6869265606669421,
          "variable": "r1"
         },
         {
          "mets": "m9",
          "value": 0.79135367951158,
          "variable": "r1"
         },
         {
          "mets": "m10",
          "value": -0.006206558472324991,
          "variable": "r2"
         },
         {
          "mets": "m11",
          "value": 0.006710308649126,
          "variable": "r2"
         },
         {
          "mets": "m5",
          "value": -0.15147725319490268,
          "variable": "r2"
         },
         {
          "mets": "m6",
          "value": -0.0014552060584764838,
          "variable": "r2"
         },
         {
          "mets": "m7",
          "value": 0.012425224203315864,
          "variable": "r2"
         },
         {
          "mets": "m8",
          "value": 0.01209850150035624,
          "variable": "r2"
         },
         {
          "mets": "m9",
          "value": 0.006169735159036897,
          "variable": "r2"
         },
         {
          "mets": "m10",
          "value": -0.007383965748397851,
          "variable": "r3"
         },
         {
          "mets": "m11",
          "value": -0.0023511878199911165,
          "variable": "r3"
         },
         {
          "mets": "m5",
          "value": -0.043459125011080395,
          "variable": "r3"
         },
         {
          "mets": "m6",
          "value": -0.0003205943353906102,
          "variable": "r3"
         },
         {
          "mets": "m7",
          "value": -0.048199094482956416,
          "variable": "r3"
         },
         {
          "mets": "m8",
          "value": 0.006147126157505635,
          "variable": "r3"
         },
         {
          "mets": "m9",
          "value": 0.0030489079179605457,
          "variable": "r3"
         },
         {
          "mets": "m10",
          "value": -0.14392145497717074,
          "variable": "r4_1"
         },
         {
          "mets": "m11",
          "value": -0.5178804385155703,
          "variable": "r4_1"
         },
         {
          "mets": "m5",
          "value": -0.7497232663257049,
          "variable": "r4_1"
         },
         {
          "mets": "m6",
          "value": -0.0064687737919551375,
          "variable": "r4_1"
         },
         {
          "mets": "m7",
          "value": -1.0235535514408303,
          "variable": "r4_1"
         },
         {
          "mets": "m8",
          "value": -1.0779427389495921,
          "variable": "r4_1"
         },
         {
          "mets": "m9",
          "value": 0.07003109747132981,
          "variable": "r4_1"
         },
         {
          "mets": "m10",
          "value": -0.07113924609736179,
          "variable": "r4_2"
         },
         {
          "mets": "m11",
          "value": -0.14229734113261233,
          "variable": "r4_2"
         },
         {
          "mets": "m5",
          "value": -0.41219782941391037,
          "variable": "r4_2"
         },
         {
          "mets": "m6",
          "value": -0.002641246367372679,
          "variable": "r4_2"
         },
         {
          "mets": "m7",
          "value": -0.4965803525067127,
          "variable": "r4_2"
         },
         {
          "mets": "m8",
          "value": -0.4986942861120977,
          "variable": "r4_2"
         },
         {
          "mets": "m9",
          "value": 0.026307680542201624,
          "variable": "r4_2"
         },
         {
          "mets": "m10",
          "value": -1.3040030816588946,
          "variable": "r5"
         },
         {
          "mets": "m11",
          "value": -0.005499562039479783,
          "variable": "r5"
         },
         {
          "mets": "m5",
          "value": -0.06861389390722733,
          "variable": "r5"
         },
         {
          "mets": "m6",
          "value": -0.0013846681765312843,
          "variable": "r5"
         },
         {
          "mets": "m7",
          "value": 0.011165341768698748,
          "variable": "r5"
         },
         {
          "mets": "m8",
          "value": 0.011564147296778057,
          "variable": "r5"
         },
         {
          "mets": "m9",
          "value": 0.005897236625470748,
          "variable": "r5"
         },
         {
          "mets": "m10",
          "value": 2.1793312227215368e-05,
          "variable": "r6"
         },
         {
          "mets": "m11",
          "value": -3.489294661407614,
          "variable": "r6"
         },
         {
          "mets": "m5",
          "value": 0.0003931687146084326,
          "variable": "r6"
         },
         {
          "mets": "m6",
          "value": 3.60667754408529e-07,
          "variable": "r6"
         },
         {
          "mets": "m7",
          "value": 0.00047677005711230827,
          "variable": "r6"
         },
         {
          "mets": "m8",
          "value": -6.832342301235248e-05,
          "variable": "r6"
         },
         {
          "mets": "m9",
          "value": -3.484211868158061e-05,
          "variable": "r6"
         },
         {
          "mets": "m10",
          "value": -0.24578220863584985,
          "variable": "r7"
         },
         {
          "mets": "m11",
          "value": -0.06895146086023334,
          "variable": "r7"
         },
         {
          "mets": "m5",
          "value": -0.1492853842745809,
          "variable": "r7"
         },
         {
          "mets": "m6",
          "value": -0.48397283453574913,
          "variable": "r7"
         },
         {
          "mets": "m7",
          "value": -0.10335811725037022,
          "variable": "r7"
         },
         {
          "mets": "m8",
          "value": -0.10233970696667112,
          "variable": "r7"
         },
         {
          "mets": "m9",
          "value": -0.04556727391216602,
          "variable": "r7"
         },
         {
          "mets": "m10",
          "value": 0.36486259464003296,
          "variable": "r8"
         },
         {
          "mets": "m11",
          "value": 0.10235813671509127,
          "variable": "r8"
         },
         {
          "mets": "m5",
          "value": 0.22161348842364145,
          "variable": "r8"
         },
         {
          "mets": "m6",
          "value": 0.718455518501872,
          "variable": "r8"
         },
         {
          "mets": "m7",
          "value": 0.15343466496776448,
          "variable": "r8"
         },
         {
          "mets": "m8",
          "value": 0.15192283943498527,
          "variable": "r8"
         },
         {
          "mets": "m9",
          "value": 0.06764441528352728,
          "variable": "r8"
         },
         {
          "mets": "m10",
          "value": -0.011120315412669604,
          "variable": "r9"
         },
         {
          "mets": "m11",
          "value": -0.04931572975741975,
          "variable": "r9"
         },
         {
          "mets": "m5",
          "value": -0.056078290389978025,
          "variable": "r9"
         },
         {
          "mets": "m6",
          "value": -0.00048474592263963794,
          "variable": "r9"
         },
         {
          "mets": "m7",
          "value": -0.06800248523999326,
          "variable": "r9"
         },
         {
          "mets": "m8",
          "value": -0.0669895481274951,
          "variable": "r9"
         },
         {
          "mets": "m9",
          "value": -0.033761815444223756,
          "variable": "r9"
         },
         {
          "mets": "m10",
          "value": -0.0023034647050698496,
          "variable": "r10"
         },
         {
          "mets": "m11",
          "value": -0.009718249622404519,
          "variable": "r10"
         },
         {
          "mets": "m5",
          "value": -0.012727499822259188,
          "variable": "r10"
         },
         {
          "mets": "m6",
          "value": -0.00011001768422918103,
          "variable": "r10"
         },
         {
          "mets": "m7",
          "value": -0.013677485239558104,
          "variable": "r10"
         },
         {
          "mets": "m8",
          "value": -0.013315941257045568,
          "variable": "r10"
         },
         {
          "mets": "m9",
          "value": -0.006790579060294723,
          "variable": "r10"
         },
         {
          "mets": "m10",
          "value": 0.00016648886046278903,
          "variable": "r11"
         },
         {
          "mets": "m11",
          "value": 0.0007510096079400792,
          "variable": "r11"
         },
         {
          "mets": "m5",
          "value": 0.0008396765498737738,
          "variable": "r11"
         },
         {
          "mets": "m6",
          "value": 7.258241666371747e-06,
          "variable": "r11"
         },
         {
          "mets": "m7",
          "value": 0.0010182209869822342,
          "variable": "r11"
         },
         {
          "mets": "m8",
          "value": 0.001042371209821871,
          "variable": "r11"
         },
         {
          "mets": "m9",
          "value": 0.0005219709625661515,
          "variable": "r11"
         },
         {
          "mets": "m10",
          "value": -0.02216272943740042,
          "variable": "r12"
         },
         {
          "mets": "m11",
          "value": -0.539346808033157,
          "variable": "r12"
         },
         {
          "mets": "m5",
          "value": -0.14818297072107514,
          "variable": "r12"
         },
         {
          "mets": "m6",
          "value": -0.0012809072880457842,
          "variable": "r12"
         },
         {
          "mets": "m7",
          "value": -0.17969182386271773,
          "variable": "r12"
         },
         {
          "mets": "m8",
          "value": -0.16899340790187126,
          "variable": "r12"
         },
         {
          "mets": "m9",
          "value": -0.9015620454341459,
          "variable": "r12"
         },
         {
          "mets": "m10",
          "value": 1.3046619641426718,
          "variable": "r13"
         },
         {
          "mets": "m11",
          "value": 3.4947827107996914,
          "variable": "r13"
         },
         {
          "mets": "m5",
          "value": 0.055929838933145515,
          "variable": "r13"
         },
         {
          "mets": "m6",
          "value": 0.001477429069749588,
          "variable": "r13"
         },
         {
          "mets": "m7",
          "value": -0.039984285590331396,
          "variable": "r13"
         },
         {
          "mets": "m8",
          "value": -0.011460884979874866,
          "variable": "r13"
         },
         {
          "mets": "m9",
          "value": -0.005844577116590075,
          "variable": "r13"
         }
        ]
       },
       "hconcat": [
        {
         "data": {
          "name": "data-aaa52a45245e34cd7027715bf96aa037"
         },
         "encoding": {
          "color": {
           "field": "value",
           "scale": {
            "domain": [
             1,
             -1
            ],
            "scheme": "redblue"
           },
           "type": "quantitative"
          },
          "tooltip": {
           "field": "value",
           "type": "quantitative"
          },
          "x": {
           "field": "variable",
           "type": "nominal"
          },
          "y": {
           "field": "mets",
           "type": "nominal"
          }
         },
         "height": 250,
         "mark": "rect",
         "width": 300
        },
        {
         "data": {
          "name": "data-313ac08e075ffca99660b5b9e294ef1d"
         },
         "encoding": {
          "color": {
           "field": "value",
           "scale": {
            "domain": [
             1,
             -1
            ],
            "scheme": "redblue"
           },
           "type": "quantitative"
          },
          "tooltip": {
           "field": "value",
           "type": "quantitative"
          },
          "x": {
           "field": "variable",
           "type": "nominal"
          },
          "y": {
           "field": "mets",
           "type": "nominal"
          }
         },
         "height": 250,
         "mark": "rect",
         "width": 300
        }
       ]
      },
      "image/png": "[encoded data removed]",
      "text/plain": [
       "<VegaLite 2 object>\n",
       "\n",
       "If you see this message, it means the renderer has not been properly enabled\n",
       "for the frontend that you are using. For more information, see\n",
       "https://altair-viz.github.io/user_guide/troubleshooting.html\n"
      ]
     },
     "execution_count": 10,
     "metadata": {},
     "output_type": "execute_result"
    }
   ],
   "source": [
    "alt.hconcat(get_heatmaps(Cx_df_median, 'mets'),\n",
    "            get_heatmaps(Cx_df_iqr, 'mets'))"
   ]
  },
  {
   "cell_type": "code",
   "execution_count": null,
   "metadata": {},
   "outputs": [],
   "source": []
  }
 ],
 "metadata": {
  "kernelspec": {
   "display_name": "Python 3",
   "language": "python",
   "name": "python3"
  },
  "language_info": {
   "codemirror_mode": {
    "name": "ipython",
    "version": 3
   },
   "file_extension": ".py",
   "mimetype": "text/x-python",
   "name": "python",
   "nbconvert_exporter": "python",
   "pygments_lexer": "ipython3",
   "version": "3.6.9"
  }
 },
 "nbformat": 4,
 "nbformat_minor": 2
}
