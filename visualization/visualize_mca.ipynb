{
 "cells": [
  {
   "cell_type": "code",
   "execution_count": 1,
   "metadata": {},
   "outputs": [
    {
     "data": {
      "text/plain": [
       "DataTransformerRegistry.enable('default')"
      ]
     },
     "execution_count": 1,
     "metadata": {},
     "output_type": "execute_result"
    }
   ],
   "source": [
    "import pandas as pd\n",
    "import altair as alt\n",
    "import numpy as np\n",
    "import scipy.io\n",
    "alt.data_transformers.enable('default', max_rows=None)"
   ]
  },
  {
   "cell_type": "markdown",
   "metadata": {},
   "source": [
    "### Specify the path to the folder that contains the MCA results"
   ]
  },
  {
   "cell_type": "code",
   "execution_count": 2,
   "metadata": {},
   "outputs": [],
   "source": [
    "base_dir = '../io/output/'"
   ]
  },
  {
   "cell_type": "markdown",
   "metadata": {},
   "source": [
    "### Specify the model ID used to generate the MCA file "
   ]
  },
  {
   "cell_type": "markdown",
   "metadata": {},
   "source": [
    "Typically the MCA output file is named as `MCA_modelID.mat`"
   ]
  },
  {
   "cell_type": "code",
   "execution_count": 3,
   "metadata": {},
   "outputs": [],
   "source": [
    "model_id = 'toy_model'"
   ]
  },
  {
   "cell_type": "markdown",
   "metadata": {},
   "source": [
    "### Specify the number of models in the ensemble"
   ]
  },
  {
   "cell_type": "code",
   "execution_count": 4,
   "metadata": {},
   "outputs": [],
   "source": [
    "n_models = 5"
   ]
  },
  {
   "cell_type": "markdown",
   "metadata": {},
   "source": [
    "### Load the data"
   ]
  },
  {
   "cell_type": "code",
   "execution_count": 5,
   "metadata": {},
   "outputs": [],
   "source": [
    "file_in_MCA = f'{base_dir}MCA_{model_id}.mat'\n",
    "file_in_mets = f'{base_dir}{model_id}_metsActive.dat'\n",
    "file_in_rxns = f'{base_dir}{model_id}_rxnsActive.dat'\n",
    "file_in_enzs = f'{base_dir}{model_id}_enzNames.dat'"
   ]
  },
  {
   "cell_type": "markdown",
   "metadata": {},
   "source": [
    "### Get reaction, enzyme, and metabolite names"
   ]
  },
  {
   "cell_type": "code",
   "execution_count": 6,
   "metadata": {},
   "outputs": [],
   "source": [
    "def get_name_list(file_in):\n",
    "    \n",
    "    name_list = []\n",
    "    with open(file_in, 'r') as f_in:\n",
    "        line = f_in.readline()\n",
    "        line = f_in.readline()\n",
    "        while line:          \n",
    "            name_list.append(line[2:].strip())\n",
    "            line = f_in.readline()\n",
    "\n",
    "    return name_list\n",
    "\n",
    "rxn_names = get_name_list(file_in_rxns)\n",
    "enz_names = get_name_list(file_in_enzs)\n",
    "met_names = get_name_list(file_in_mets)"
   ]
  },
  {
   "cell_type": "markdown",
   "metadata": {},
   "source": [
    "### Get control coefficients median and interquartile range"
   ]
  },
  {
   "cell_type": "code",
   "execution_count": 7,
   "metadata": {},
   "outputs": [],
   "source": [
    "def get_df_median(mat, key_name, id_col, col_names, row_names, n_models):\n",
    "    \n",
    "    try:\n",
    "        df = pd.DataFrame(data=mat['mcaResults'][key_name].item())\n",
    "        df.columns = col_names\n",
    "    except ValueError:\n",
    "        df = pd.DataFrame(data=mat['mcaResults'][key_name].item()[0])\n",
    "        df.columns = col_names\n",
    "\n",
    "    df[id_col] = np.tile(row_names, n_models)\n",
    "    df_median = df.groupby(id_col).median()\n",
    "    \n",
    "    return df_median\n",
    "\n",
    "\n",
    "def get_df_iqr(mat, key_name, id_col, col_names, row_names, n_models):\n",
    "    \n",
    "    try:\n",
    "        df = pd.DataFrame(data=mat['mcaResults'][key_name].item())\n",
    "        df.columns = col_names\n",
    "    except ValueError:\n",
    "        df = pd.DataFrame(data=mat['mcaResults'][key_name].item()[0])\n",
    "        df.columns = col_names\n",
    "\n",
    "    df[id_col] = np.tile(row_names, n_models)\n",
    "   \n",
    "    df_q2 = df.groupby(id_col).quantile(0.25)\n",
    "    df_q4 = df.groupby(id_col).quantile(0.75)\n",
    "    \n",
    "    df_iqr = df_q4.subtract(df_q2)    \n",
    "\n",
    "    return df_iqr\n",
    "\n",
    "\n",
    "\n",
    "mat = scipy.io.loadmat(file_in_MCA, squeeze_me=True)\n",
    "\n",
    "key_name = 'vControl'\n",
    "id_col = 'rxns'\n",
    "col_names = rxn_names\n",
    "row_names = rxn_names\n",
    "Cv_df_median = get_df_median(mat, key_name, id_col, col_names, row_names, n_models)\n",
    "Cv_df_iqr = get_df_iqr(mat, key_name, id_col, col_names, row_names, n_models)\n",
    "\n",
    "key_name = 'xControl'\n",
    "id_col = 'mets'\n",
    "col_names = rxn_names\n",
    "row_names = met_names\n",
    "Cx_df_median = get_df_median(mat, key_name, id_col, col_names, row_names, n_models)\n",
    "Cx_df_iqr = get_df_iqr(mat, key_name, id_col, col_names, row_names, n_models)\n",
    "    \n"
   ]
  },
  {
   "cell_type": "markdown",
   "metadata": {},
   "source": [
    "### Define function to plot heatmaps with altair"
   ]
  },
  {
   "cell_type": "code",
   "execution_count": 8,
   "metadata": {},
   "outputs": [],
   "source": [
    "def get_heatmaps(C_df_in, id_col):\n",
    "    \n",
    "    C_df = C_df_in\n",
    "    \n",
    "    C_df[id_col] = C_df.index\n",
    "    C_df = C_df.melt(id_vars=[id_col], var_name='variable')\n",
    "    \n",
    "    Cx_in = alt.Chart(C_df).mark_rect().encode(\n",
    "        x='variable:N',\n",
    "        y=id_col,\n",
    "        color=alt.Color('value:Q', scale=alt.Scale(scheme='redblue', domain=[1,-1])),\n",
    "        tooltip='value:Q'\n",
    "    ).properties(\n",
    "        width=300,\n",
    "        height=250\n",
    "    )\n",
    "\n",
    "    return Cx_in "
   ]
  },
  {
   "cell_type": "markdown",
   "metadata": {},
   "source": [
    "### Plot flux control coefficients median (on the left) and respective interquartile range (on the right)"
   ]
  },
  {
   "cell_type": "code",
   "execution_count": 9,
   "metadata": {},
   "outputs": [
    {
     "data": {
      "text/html": [
       "\n",
       "<div id=\"altair-viz-311eeb6b5d764f6899e915648ba01c7d\"></div>\n",
       "<script type=\"text/javascript\">\n",
       "  (function(spec, embedOpt){\n",
       "    let outputDiv = document.currentScript.previousElementSibling;\n",
       "    if (outputDiv.id !== \"altair-viz-311eeb6b5d764f6899e915648ba01c7d\") {\n",
       "      outputDiv = document.getElementById(\"altair-viz-311eeb6b5d764f6899e915648ba01c7d\");\n",
       "    }\n",
       "    const paths = {\n",
       "      \"vega\": \"https://cdn.jsdelivr.net/npm//vega@5?noext\",\n",
       "      \"vega-lib\": \"https://cdn.jsdelivr.net/npm//vega-lib?noext\",\n",
       "      \"vega-lite\": \"https://cdn.jsdelivr.net/npm//vega-lite@4.8.1?noext\",\n",
       "      \"vega-embed\": \"https://cdn.jsdelivr.net/npm//vega-embed@6?noext\",\n",
       "    };\n",
       "\n",
       "    function loadScript(lib) {\n",
       "      return new Promise(function(resolve, reject) {\n",
       "        var s = document.createElement('script');\n",
       "        s.src = paths[lib];\n",
       "        s.async = true;\n",
       "        s.onload = () => resolve(paths[lib]);\n",
       "        s.onerror = () => reject(`Error loading script: ${paths[lib]}`);\n",
       "        document.getElementsByTagName(\"head\")[0].appendChild(s);\n",
       "      });\n",
       "    }\n",
       "\n",
       "    function showError(err) {\n",
       "      outputDiv.innerHTML = `<div class=\"error\" style=\"color:red;\">${err}</div>`;\n",
       "      throw err;\n",
       "    }\n",
       "\n",
       "    function displayChart(vegaEmbed) {\n",
       "      vegaEmbed(outputDiv, spec, embedOpt)\n",
       "        .catch(err => showError(`Javascript Error: ${err.message}<br>This usually means there's a typo in your chart specification. See the javascript console for the full traceback.`));\n",
       "    }\n",
       "\n",
       "    if(typeof define === \"function\" && define.amd) {\n",
       "      requirejs.config({paths});\n",
       "      require([\"vega-embed\"], displayChart, err => showError(`Error loading script: ${err.message}`));\n",
       "    } else if (typeof vegaEmbed === \"function\") {\n",
       "      displayChart(vegaEmbed);\n",
       "    } else {\n",
       "      loadScript(\"vega\")\n",
       "        .then(() => loadScript(\"vega-lite\"))\n",
       "        .then(() => loadScript(\"vega-embed\"))\n",
       "        .catch(showError)\n",
       "        .then(() => displayChart(vegaEmbed));\n",
       "    }\n",
       "  })({\"config\": {\"view\": {\"continuousWidth\": 400, \"continuousHeight\": 300}}, \"hconcat\": [{\"data\": {\"name\": \"data-7bb2b449490af9737aae59ffdfe30252\"}, \"mark\": \"rect\", \"encoding\": {\"color\": {\"type\": \"quantitative\", \"field\": \"value\", \"scale\": {\"domain\": [1, -1], \"scheme\": \"redblue\"}}, \"tooltip\": {\"type\": \"quantitative\", \"field\": \"value\"}, \"x\": {\"type\": \"nominal\", \"field\": \"variable\"}, \"y\": {\"type\": \"nominal\", \"field\": \"rxns\"}}, \"height\": 250, \"width\": 300}, {\"data\": {\"name\": \"data-2f4bd91e38f2f7d7edca1edc3d424a9b\"}, \"mark\": \"rect\", \"encoding\": {\"color\": {\"type\": \"quantitative\", \"field\": \"value\", \"scale\": {\"domain\": [1, -1], \"scheme\": \"redblue\"}}, \"tooltip\": {\"type\": \"quantitative\", \"field\": \"value\"}, \"x\": {\"type\": \"nominal\", \"field\": \"variable\"}, \"y\": {\"type\": \"nominal\", \"field\": \"rxn\"}}, \"height\": 250, \"width\": 300}], \"$schema\": \"https://vega.github.io/schema/vega-lite/v4.8.1.json\", \"datasets\": {\"data-7bb2b449490af9737aae59ffdfe30252\": [{\"rxns\": \"r1\", \"variable\": \"r1\", \"value\": 0.943831120442659}, {\"rxns\": \"r10\", \"variable\": \"r1\", \"value\": 4.60115354783494}, {\"rxns\": \"r11\", \"variable\": \"r1\", \"value\": 2.0863827594591706}, {\"rxns\": \"r12\", \"variable\": \"r1\", \"value\": 0.7818720009063395}, {\"rxns\": \"r13\", \"variable\": \"r1\", \"value\": 0.0}, {\"rxns\": \"r2\", \"variable\": \"r1\", \"value\": 0.8936814872294905}, {\"rxns\": \"r3\", \"variable\": \"r1\", \"value\": 0.7800985308679305}, {\"rxns\": \"r4_1\", \"variable\": \"r1\", \"value\": 0.660654948893451}, {\"rxns\": \"r4_2\", \"variable\": \"r1\", \"value\": 0.9604346695667463}, {\"rxns\": \"r5\", \"variable\": \"r1\", \"value\": -2.376900653739758e-16}, {\"rxns\": \"r6\", \"variable\": \"r1\", \"value\": -6.544574126257137e-17}, {\"rxns\": \"r7\", \"variable\": \"r1\", \"value\": -0.18207061109593317}, {\"rxns\": \"r8\", \"variable\": \"r1\", \"value\": 0.1854945401820912}, {\"rxns\": \"r9\", \"variable\": \"r1\", \"value\": 2.0383466821220857}, {\"rxns\": \"r1\", \"variable\": \"r2\", \"value\": 6.036097655121621e-05}, {\"rxns\": \"r10\", \"variable\": \"r2\", \"value\": -0.7926011487490378}, {\"rxns\": \"r11\", \"variable\": \"r2\", \"value\": 0.0231347549944218}, {\"rxns\": \"r12\", \"variable\": \"r2\", \"value\": 0.007556490047021506}, {\"rxns\": \"r13\", \"variable\": \"r2\", \"value\": 0.0}, {\"rxns\": \"r2\", \"variable\": \"r2\", \"value\": 0.00849908750529893}, {\"rxns\": \"r3\", \"variable\": \"r2\", \"value\": 0.007541356885533195}, {\"rxns\": \"r4_1\", \"variable\": \"r2\", \"value\": 0.0034740266905724086}, {\"rxns\": \"r4_2\", \"variable\": \"r2\", \"value\": 0.008108175355177457}, {\"rxns\": \"r5\", \"variable\": \"r2\", \"value\": -3.232010539966802e-17}, {\"rxns\": \"r6\", \"variable\": \"r2\", \"value\": -7.554253085041402e-17}, {\"rxns\": \"r7\", \"variable\": \"r2\", \"value\": -1.5490847161329876e-05}, {\"rxns\": \"r8\", \"variable\": \"r2\", \"value\": 9.27160415372158e-06}, {\"rxns\": \"r9\", \"variable\": \"r2\", \"value\": 0.022572369981029475}, {\"rxns\": \"r1\", \"variable\": \"r3\", \"value\": 1.3290991221110904e-05}, {\"rxns\": \"r10\", \"variable\": \"r3\", \"value\": -0.043475143631915604}, {\"rxns\": \"r11\", \"variable\": \"r3\", \"value\": 0.007213097326880965}, {\"rxns\": \"r12\", \"variable\": \"r3\", \"value\": 0.0027254604744924916}, {\"rxns\": \"r13\", \"variable\": \"r3\", \"value\": 0.0}, {\"rxns\": \"r2\", \"variable\": \"r3\", \"value\": 0.0004661853576873508}, {\"rxns\": \"r3\", \"variable\": \"r3\", \"value\": 0.002719278487571697}, {\"rxns\": \"r4_1\", \"variable\": \"r3\", \"value\": 0.0014955066133813591}, {\"rxns\": \"r4_2\", \"variable\": \"r3\", \"value\": 0.0022908277633217774}, {\"rxns\": \"r5\", \"variable\": \"r3\", \"value\": 6.732084254365041e-17}, {\"rxns\": \"r6\", \"variable\": \"r3\", \"value\": 8.711108884583118e-17}, {\"rxns\": \"r7\", \"variable\": \"r3\", \"value\": -3.4109573005111405e-06}, {\"rxns\": \"r8\", \"variable\": \"r3\", \"value\": 2.041531076139741e-06}, {\"rxns\": \"r9\", \"variable\": \"r3\", \"value\": -0.018574159043248727}, {\"rxns\": \"r1\", \"variable\": \"r4_1\", \"value\": 7.24846545116809e-06}, {\"rxns\": \"r10\", \"variable\": \"r4_1\", \"value\": -0.9321251259084816}, {\"rxns\": \"r11\", \"variable\": \"r4_1\", \"value\": -0.966937637850906}, {\"rxns\": \"r12\", \"variable\": \"r4_1\", \"value\": 0.12377806752878956}, {\"rxns\": \"r13\", \"variable\": \"r4_1\", \"value\": 0.0}, {\"rxns\": \"r2\", \"variable\": \"r4_1\", \"value\": 0.02717954402937059}, {\"rxns\": \"r3\", \"variable\": \"r4_1\", \"value\": 0.12492956002838354}, {\"rxns\": \"r4_1\", \"variable\": \"r4_1\", \"value\": 0.8147322925771245}, {\"rxns\": \"r4_2\", \"variable\": \"r4_1\", \"value\": -0.16573506372103877}, {\"rxns\": \"r5\", \"variable\": \"r4_1\", \"value\": -7.091756703784063e-18}, {\"rxns\": \"r6\", \"variable\": \"r4_1\", \"value\": -2.2618226282257863e-17}, {\"rxns\": \"r7\", \"variable\": \"r4_1\", \"value\": -1.8602228935851953e-06}, {\"rxns\": \"r8\", \"variable\": \"r4_1\", \"value\": 1.1133832854582118e-06}, {\"rxns\": \"r9\", \"variable\": \"r4_1\", \"value\": -0.9530746090506638}, {\"rxns\": \"r1\", \"variable\": \"r4_2\", \"value\": 0.0002524884501211545}, {\"rxns\": \"r10\", \"variable\": \"r4_2\", \"value\": -2.1926443231290156}, {\"rxns\": \"r11\", \"variable\": \"r4_2\", \"value\": -0.9732267843132738}, {\"rxns\": \"r12\", \"variable\": \"r4_2\", \"value\": 0.05967903303833907}, {\"rxns\": \"r13\", \"variable\": \"r4_2\", \"value\": 0.0}, {\"rxns\": \"r2\", \"variable\": \"r4_2\", \"value\": 0.036724081183709824}, {\"rxns\": \"r3\", \"variable\": \"r4_2\", \"value\": 0.06034216874520808}, {\"rxns\": \"r4_1\", \"variable\": \"r4_2\", \"value\": -0.19798379645092065}, {\"rxns\": \"r4_2\", \"variable\": \"r4_2\", \"value\": 0.3875111367591585}, {\"rxns\": \"r5\", \"variable\": \"r4_2\", \"value\": 3.581246346956364e-18}, {\"rxns\": \"r6\", \"variable\": \"r4_2\", \"value\": -3.543318138184699e-17}, {\"rxns\": \"r7\", \"variable\": \"r4_2\", \"value\": -6.47978249252089e-05}, {\"rxns\": \"r8\", \"variable\": \"r4_2\", \"value\": 3.878288749942802e-05}, {\"rxns\": \"r9\", \"variable\": \"r4_2\", \"value\": -1.0029673089486117}, {\"rxns\": \"r1\", \"variable\": \"r5\", \"value\": 4.428499818402942e-05}, {\"rxns\": \"r10\", \"variable\": \"r5\", \"value\": -0.4383410087178974}, {\"rxns\": \"r11\", \"variable\": \"r5\", \"value\": 0.018569752480497942}, {\"rxns\": \"r12\", \"variable\": \"r5\", \"value\": 0.007548443892782591}, {\"rxns\": \"r13\", \"variable\": \"r5\", \"value\": 0.0}, {\"rxns\": \"r2\", \"variable\": \"r5\", \"value\": 0.007869673088645722}, {\"rxns\": \"r3\", \"variable\": \"r5\", \"value\": 0.007542342211306244}, {\"rxns\": \"r4_1\", \"variable\": \"r5\", \"value\": 0.0019395197634809725}, {\"rxns\": \"r4_2\", \"variable\": \"r5\", \"value\": 0.005032112349473723}, {\"rxns\": \"r5\", \"variable\": \"r5\", \"value\": -6.661338147750939e-16}, {\"rxns\": \"r6\", \"variable\": \"r5\", \"value\": -2.195186850806646e-17}, {\"rxns\": \"r7\", \"variable\": \"r5\", \"value\": -1.1365159704273127e-05}, {\"rxns\": \"r8\", \"variable\": \"r5\", \"value\": 6.802291754894677e-06}, {\"rxns\": \"r9\", \"variable\": \"r5\", \"value\": 0.015720341116808804}, {\"rxns\": \"r1\", \"variable\": \"r6\", \"value\": -1.349252578837519e-10}, {\"rxns\": \"r10\", \"variable\": \"r6\", \"value\": 0.0006016432162396761}, {\"rxns\": \"r11\", \"variable\": \"r6\", \"value\": -2.8873880370983558e-05}, {\"rxns\": \"r12\", \"variable\": \"r6\", \"value\": -1.6565287353174694e-05}, {\"rxns\": \"r13\", \"variable\": \"r6\", \"value\": 0.0}, {\"rxns\": \"r2\", \"variable\": \"r6\", \"value\": -4.879331986952383e-06}, {\"rxns\": \"r3\", \"variable\": \"r6\", \"value\": -1.6557385115006523e-05}, {\"rxns\": \"r4_1\", \"variable\": \"r6\", \"value\": -1.1757413186972285e-05}, {\"rxns\": \"r4_2\", \"variable\": \"r6\", \"value\": -1.7639594830045562e-05}, {\"rxns\": \"r5\", \"variable\": \"r6\", \"value\": 5.322614225322465e-16}, {\"rxns\": \"r6\", \"variable\": \"r6\", \"value\": 0.0}, {\"rxns\": \"r7\", \"variable\": \"r6\", \"value\": 2.7599173695070703e-11}, {\"rxns\": \"r8\", \"variable\": \"r6\", \"value\": -2.5458850878817944e-11}, {\"rxns\": \"r9\", \"variable\": \"r6\", \"value\": 0.0002752058193723802}, {\"rxns\": \"r1\", \"variable\": \"r7\", \"value\": -0.05922533174972695}, {\"rxns\": \"r10\", \"variable\": \"r7\", \"value\": -0.2636052816484213}, {\"rxns\": \"r11\", \"variable\": \"r7\", \"value\": -0.16541281482886813}, {\"rxns\": \"r12\", \"variable\": \"r7\", \"value\": -0.048269270975796565}, {\"rxns\": \"r13\", \"variable\": \"r7\", \"value\": 0.0}, {\"rxns\": \"r2\", \"variable\": \"r7\", \"value\": -0.05430036561850648}, {\"rxns\": \"r3\", \"variable\": \"r7\", \"value\": -0.04817260352020886}, {\"rxns\": \"r4_1\", \"variable\": \"r7\", \"value\": -0.013725056918029051}, {\"rxns\": \"r4_2\", \"variable\": \"r7\", \"value\": -0.02059164198820386}, {\"rxns\": \"r5\", \"variable\": \"r7\", \"value\": 4.743431215754471e-16}, {\"rxns\": \"r6\", \"variable\": \"r7\", \"value\": 2.5585746812766496e-16}, {\"rxns\": \"r7\", \"variable\": \"r7\", \"value\": 0.582168513625348}, {\"rxns\": \"r8\", \"variable\": \"r7\", \"value\": 0.3854285502028275}, {\"rxns\": \"r9\", \"variable\": \"r7\", \"value\": -0.1672473005801275}, {\"rxns\": \"r1\", \"variable\": \"r8\", \"value\": 0.0879197413456321}, {\"rxns\": \"r10\", \"variable\": \"r8\", \"value\": 0.3913208671892082}, {\"rxns\": \"r11\", \"variable\": \"r8\", \"value\": 0.24555458729151097}, {\"rxns\": \"r12\", \"variable\": \"r8\", \"value\": 0.07165551789676257}, {\"rxns\": \"r13\", \"variable\": \"r8\", \"value\": 0.0}, {\"rxns\": \"r2\", \"variable\": \"r8\", \"value\": 0.08060865104692892}, {\"rxns\": \"r3\", \"variable\": \"r8\", \"value\": 0.07151201548924965}, {\"rxns\": \"r4_1\", \"variable\": \"r8\", \"value\": 0.02037478589881865}, {\"rxns\": \"r4_2\", \"variable\": \"r8\", \"value\": 0.030568200869437734}, {\"rxns\": \"r5\", \"variable\": \"r8\", \"value\": -6.898027437988668e-16}, {\"rxns\": \"r6\", \"variable\": \"r8\", \"value\": -4.0139608818945786e-16}, {\"rxns\": \"r7\", \"variable\": \"r8\", \"value\": 0.6202689815796562}, {\"rxns\": \"r8\", \"variable\": \"r8\", \"value\": 0.42783303292833286}, {\"rxns\": \"r9\", \"variable\": \"r8\", \"value\": 0.2482778732231886}, {\"rxns\": \"r1\", \"variable\": \"r9\", \"value\": 1.3117114366876417e-05}, {\"rxns\": \"r10\", \"variable\": \"r9\", \"value\": -0.16764111784242117}, {\"rxns\": \"r11\", \"variable\": \"r9\", \"value\": -0.081290756984405}, {\"rxns\": \"r12\", \"variable\": \"r9\", \"value\": -0.03382942817763844}, {\"rxns\": \"r13\", \"variable\": \"r9\", \"value\": 0.0}, {\"rxns\": \"r2\", \"variable\": \"r9\", \"value\": 0.002330979026006039}, {\"rxns\": \"r3\", \"variable\": \"r9\", \"value\": -0.033752695058635984}, {\"rxns\": \"r4_1\", \"variable\": \"r9\", \"value\": -0.026692930403635184}, {\"rxns\": \"r4_2\", \"variable\": \"r9\", \"value\": -0.0400472850327986}, {\"rxns\": \"r5\", \"variable\": \"r9\", \"value\": 1.6316122981034587e-17}, {\"rxns\": \"r6\", \"variable\": \"r9\", \"value\": -6.660493918674491e-18}, {\"rxns\": \"r7\", \"variable\": \"r9\", \"value\": -3.366334103035301e-06}, {\"rxns\": \"r8\", \"variable\": \"r9\", \"value\": 2.0148231357178553e-06}, {\"rxns\": \"r9\", \"variable\": \"r9\", \"value\": 0.9205790906368053}, {\"rxns\": \"r1\", \"variable\": \"r10\", \"value\": 3.1472245809909014e-06}, {\"rxns\": \"r10\", \"variable\": \"r10\", \"value\": 0.9620314852555832}, {\"rxns\": \"r11\", \"variable\": \"r10\", \"value\": -0.016283022293260046}, {\"rxns\": \"r12\", \"variable\": \"r10\", \"value\": -0.006825726258179531}, {\"rxns\": \"r13\", \"variable\": \"r10\", \"value\": 0.0}, {\"rxns\": \"r2\", \"variable\": \"r10\", \"value\": -0.007550504991051897}, {\"rxns\": \"r3\", \"variable\": \"r10\", \"value\": -0.006810243901738529}, {\"rxns\": \"r4_1\", \"variable\": \"r10\", \"value\": -0.005368179620078471}, {\"rxns\": \"r4_2\", \"variable\": \"r10\", \"value\": -0.008053856062325242}, {\"rxns\": \"r5\", \"variable\": \"r10\", \"value\": 3.914671030425456e-18}, {\"rxns\": \"r6\", \"variable\": \"r10\", \"value\": 4.905688987376334e-19}, {\"rxns\": \"r7\", \"variable\": \"r10\", \"value\": -8.076936085606528e-07}, {\"rxns\": \"r8\", \"variable\": \"r10\", \"value\": 4.834219418779953e-07}, {\"rxns\": \"r9\", \"variable\": \"r10\", \"value\": -0.01590872592966084}, {\"rxns\": \"r1\", \"variable\": \"r11\", \"value\": -1.9344299079172944e-07}, {\"rxns\": \"r10\", \"variable\": \"r11\", \"value\": 0.0025444692592098174}, {\"rxns\": \"r11\", \"variable\": \"r11\", \"value\": 1.0012601480383463}, {\"rxns\": \"r12\", \"variable\": \"r11\", \"value\": 0.0005226517253374952}, {\"rxns\": \"r13\", \"variable\": \"r11\", \"value\": 0.0}, {\"rxns\": \"r2\", \"variable\": \"r11\", \"value\": -3.437581938006664e-05}, {\"rxns\": \"r3\", \"variable\": \"r11\", \"value\": -0.00012054362008565427}, {\"rxns\": \"r4_1\", \"variable\": \"r11\", \"value\": 0.00041136757202658413}, {\"rxns\": \"r4_2\", \"variable\": \"r11\", \"value\": 0.0006171729428386546}, {\"rxns\": \"r5\", \"variable\": \"r11\", \"value\": -8.428358207019954e-20}, {\"rxns\": \"r6\", \"variable\": \"r11\", \"value\": 1.7894368776347884e-19}, {\"rxns\": \"r7\", \"variable\": \"r11\", \"value\": 4.9644587878213854e-08}, {\"rxns\": \"r8\", \"variable\": \"r11\", \"value\": -2.9713350237581742e-08}, {\"rxns\": \"r9\", \"variable\": \"r11\", \"value\": 0.0011712498503033187}, {\"rxns\": \"r1\", \"variable\": \"r12\", \"value\": 4.176497520717983e-05}, {\"rxns\": \"r10\", \"variable\": \"r12\", \"value\": -0.8684915774431905}, {\"rxns\": \"r11\", \"variable\": \"r12\", \"value\": -0.3223846226483917}, {\"rxns\": \"r12\", \"variable\": \"r12\", \"value\": 0.018801520289762008}, {\"rxns\": \"r13\", \"variable\": \"r12\", \"value\": 0.0}, {\"rxns\": \"r2\", \"variable\": \"r12\", \"value\": 0.0074218519795419165}, {\"rxns\": \"r3\", \"variable\": \"r12\", \"value\": 0.01904532418577659}, {\"rxns\": \"r4_1\", \"variable\": \"r12\", \"value\": 0.10571238216450761}, {\"rxns\": \"r4_2\", \"variable\": \"r12\", \"value\": -0.05447780572961533}, {\"rxns\": \"r5\", \"variable\": \"r12\", \"value\": 2.0122792321330962e-16}, {\"rxns\": \"r6\", \"variable\": \"r12\", \"value\": 1.3877787807814457e-16}, {\"rxns\": \"r7\", \"variable\": \"r12\", \"value\": -1.0718429100785188e-05}, {\"rxns\": \"r8\", \"variable\": \"r12\", \"value\": 6.4152096226400795e-06}, {\"rxns\": \"r9\", \"variable\": \"r12\", \"value\": -0.3247987236707109}, {\"rxns\": \"r1\", \"variable\": \"r13\", \"value\": -4.303553701762549e-05}, {\"rxns\": \"r10\", \"variable\": \"r13\", \"value\": 0.46253222367628427}, {\"rxns\": \"r11\", \"variable\": \"r13\", \"value\": -0.023647444153390033}, {\"rxns\": \"r12\", \"variable\": \"r13\", \"value\": -0.005216704715532129}, {\"rxns\": \"r13\", \"variable\": \"r13\", \"value\": 1.0}, {\"rxns\": \"r2\", \"variable\": \"r13\", \"value\": -0.005903616556511504}, {\"rxns\": \"r3\", \"variable\": \"r13\", \"value\": -0.005204871999305194}, {\"rxns\": \"r4_1\", \"variable\": \"r13\", \"value\": -0.0018851639163826363}, {\"rxns\": \"r4_2\", \"variable\": \"r13\", \"value\": -0.004007301455661503}, {\"rxns\": \"r5\", \"variable\": \"r13\", \"value\": 0.9999999999976995}, {\"rxns\": \"r6\", \"variable\": \"r13\", \"value\": 0.9999999999995131}, {\"rxns\": \"r7\", \"variable\": \"r13\", \"value\": 9.769814127768092e-05}, {\"rxns\": \"r8\", \"variable\": \"r13\", \"value\": -6.379335463132736e-05}, {\"rxns\": \"r9\", \"variable\": \"r13\", \"value\": -0.033070274406197614}], \"data-2f4bd91e38f2f7d7edca1edc3d424a9b\": [{\"rxn\": \"r1\", \"variable\": \"r1\", \"value\": 0.06855160868956622}, {\"rxn\": \"r10\", \"variable\": \"r1\", \"value\": 4.251961408057782}, {\"rxn\": \"r11\", \"variable\": \"r1\", \"value\": 1.556739099960906}, {\"rxn\": \"r12\", \"variable\": \"r1\", \"value\": 0.15179602811629667}, {\"rxn\": \"r13\", \"variable\": \"r1\", \"value\": 0.0}, {\"rxn\": \"r2\", \"variable\": \"r1\", \"value\": 0.09253019892871528}, {\"rxn\": \"r3\", \"variable\": \"r1\", \"value\": 0.15259506728172656}, {\"rxn\": \"r4_1\", \"variable\": \"r1\", \"value\": 0.5332556471056703}, {\"rxn\": \"r4_2\", \"variable\": \"r1\", \"value\": 0.0479189523747211}, {\"rxn\": \"r5\", \"variable\": \"r1\", \"value\": 7.142246487663175e-16}, {\"rxn\": \"r6\", \"variable\": \"r1\", \"value\": 5.149129351142847e-16}, {\"rxn\": \"r7\", \"variable\": \"r1\", \"value\": 0.027830659809947866}, {\"rxn\": \"r8\", \"variable\": \"r1\", \"value\": 0.028769211088483487}, {\"rxn\": \"r9\", \"variable\": \"r1\", \"value\": 1.5292981183047618}, {\"rxn\": \"r1\", \"variable\": \"r2\", \"value\": 0.002054402575797057}, {\"rxn\": \"r10\", \"variable\": \"r2\", \"value\": 0.3946705767457187}, {\"rxn\": \"r11\", \"variable\": \"r2\", \"value\": 0.015148948983603732}, {\"rxn\": \"r12\", \"variable\": \"r2\", \"value\": 0.003260295428039406}, {\"rxn\": \"r13\", \"variable\": \"r2\", \"value\": 0.0}, {\"rxn\": \"r2\", \"variable\": \"r2\", \"value\": 0.003523475766757489}, {\"rxn\": \"r3\", \"variable\": \"r2\", \"value\": 0.0032553473610192705}, {\"rxn\": \"r4_1\", \"variable\": \"r2\", \"value\": 0.002323206839146527}, {\"rxn\": \"r4_2\", \"variable\": \"r2\", \"value\": 0.0030260424585663347}, {\"rxn\": \"r5\", \"variable\": \"r2\", \"value\": 2.490896664239569e-16}, {\"rxn\": \"r6\", \"variable\": \"r2\", \"value\": 1.139695634252941e-16}, {\"rxn\": \"r7\", \"variable\": \"r2\", \"value\": 0.00039630410037977805}, {\"rxn\": \"r8\", \"variable\": \"r2\", \"value\": 0.0004037607233746993}, {\"rxn\": \"r9\", \"variable\": \"r2\", \"value\": 0.015833826949420694}, {\"rxn\": \"r1\", \"variable\": \"r3\", \"value\": 0.00011269111872854996}, {\"rxn\": \"r10\", \"variable\": \"r3\", \"value\": 0.029290848148723424}, {\"rxn\": \"r11\", \"variable\": \"r3\", \"value\": 0.007793659383270263}, {\"rxn\": \"r12\", \"variable\": \"r3\", \"value\": 0.0029156731863512132}, {\"rxn\": \"r13\", \"variable\": \"r3\", \"value\": 0.0}, {\"rxn\": \"r2\", \"variable\": \"r3\", \"value\": 0.0018963818714929212}, {\"rxn\": \"r3\", \"variable\": \"r3\", \"value\": 0.002915842351053133}, {\"rxn\": \"r4_1\", \"variable\": \"r3\", \"value\": 0.002136719270523565}, {\"rxn\": \"r4_2\", \"variable\": \"r3\", \"value\": 0.002523783968741023}, {\"rxn\": \"r5\", \"variable\": \"r3\", \"value\": 2.0837137717068486e-16}, {\"rxn\": \"r6\", \"variable\": \"r3\", \"value\": 9.401689089881731e-17}, {\"rxn\": \"r7\", \"variable\": \"r3\", \"value\": 2.17387105809056e-05}, {\"rxn\": \"r8\", \"variable\": \"r3\", \"value\": 2.2147642170753354e-05}, {\"rxn\": \"r9\", \"variable\": \"r3\", \"value\": 0.03873465376806008}, {\"rxn\": \"r1\", \"variable\": \"r4_1\", \"value\": 0.01274164438899688}, {\"rxn\": \"r10\", \"variable\": \"r4_1\", \"value\": 2.8615103503111516}, {\"rxn\": \"r11\", \"variable\": \"r4_1\", \"value\": 1.4523313490202456}, {\"rxn\": \"r12\", \"variable\": \"r4_1\", \"value\": 0.14332696889498003}, {\"rxn\": \"r13\", \"variable\": \"r4_1\", \"value\": 0.0}, {\"rxn\": \"r2\", \"variable\": \"r4_1\", \"value\": 0.048734251226977186}, {\"rxn\": \"r3\", \"variable\": \"r4_1\", \"value\": 0.14529089112906624}, {\"rxn\": \"r4_1\", \"variable\": \"r4_1\", \"value\": 0.5258483847809533}, {\"rxn\": \"r4_2\", \"variable\": \"r4_1\", \"value\": 0.7313680467398513}, {\"rxn\": \"r5\", \"variable\": \"r4_1\", \"value\": 6.207508122866751e-17}, {\"rxn\": \"r6\", \"variable\": \"r4_1\", \"value\": 8.936977091441357e-17}, {\"rxn\": \"r7\", \"variable\": \"r4_1\", \"value\": 0.0024579373601064406}, {\"rxn\": \"r8\", \"variable\": \"r4_1\", \"value\": 0.002504162269558142}, {\"rxn\": \"r9\", \"variable\": \"r4_1\", \"value\": 1.4553435555878256}, {\"rxn\": \"r1\", \"variable\": \"r4_2\", \"value\": 0.008877327408286595}, {\"rxn\": \"r10\", \"variable\": \"r4_2\", \"value\": 3.1624001091045075}, {\"rxn\": \"r11\", \"variable\": \"r4_2\", \"value\": 0.8912464259440132}, {\"rxn\": \"r12\", \"variable\": \"r4_2\", \"value\": 0.028378332766179487}, {\"rxn\": \"r13\", \"variable\": \"r4_2\", \"value\": 0.0}, {\"rxn\": \"r2\", \"variable\": \"r4_2\", \"value\": 0.027086137194643353}, {\"rxn\": \"r3\", \"variable\": \"r4_2\", \"value\": 0.028968740917896488}, {\"rxn\": \"r4_1\", \"variable\": \"r4_2\", \"value\": 0.26247762060796054}, {\"rxn\": \"r4_2\", \"variable\": \"r4_2\", \"value\": 0.687893451182186}, {\"rxn\": \"r5\", \"variable\": \"r4_2\", \"value\": 7.703763152463488e-17}, {\"rxn\": \"r6\", \"variable\": \"r4_2\", \"value\": 1.3046230321840528e-16}, {\"rxn\": \"r7\", \"variable\": \"r4_2\", \"value\": 0.001712483288848536}, {\"rxn\": \"r8\", \"variable\": \"r4_2\", \"value\": 0.001744697087076005}, {\"rxn\": \"r9\", \"variable\": \"r4_2\", \"value\": 0.9018777181171155}, {\"rxn\": \"r1\", \"variable\": \"r5\", \"value\": 0.0020524403864415758}, {\"rxn\": \"r10\", \"variable\": \"r5\", \"value\": 0.5236049193186261}, {\"rxn\": \"r11\", \"variable\": \"r5\", \"value\": 0.014189896067510973}, {\"rxn\": \"r12\", \"variable\": \"r5\", \"value\": 0.0034876976164890765}, {\"rxn\": \"r13\", \"variable\": \"r5\", \"value\": 0.0}, {\"rxn\": \"r2\", \"variable\": \"r5\", \"value\": 0.004935544875324218}, {\"rxn\": \"r3\", \"variable\": \"r5\", \"value\": 0.0034818008068632266}, {\"rxn\": \"r4_1\", \"variable\": \"r5\", \"value\": 0.002102249389119975}, {\"rxn\": \"r4_2\", \"variable\": \"r5\", \"value\": 0.0038200809304861512}, {\"rxn\": \"r5\", \"variable\": \"r5\", \"value\": 6.661338147750939e-16}, {\"rxn\": \"r6\", \"variable\": \"r5\", \"value\": 1.7334012352014689e-16}, {\"rxn\": \"r7\", \"variable\": \"r5\", \"value\": 0.00039592720162063904}, {\"rxn\": \"r8\", \"variable\": \"r5\", \"value\": 0.00040337399648083876}, {\"rxn\": \"r9\", \"variable\": \"r5\", \"value\": 0.02743488527649129}, {\"rxn\": \"r1\", \"variable\": \"r6\", \"value\": 1.111845956487626e-05}, {\"rxn\": \"r10\", \"variable\": \"r6\", \"value\": 0.011390649363765968}, {\"rxn\": \"r11\", \"variable\": \"r6\", \"value\": 0.0023718573198805415}, {\"rxn\": \"r12\", \"variable\": \"r6\", \"value\": 0.0010795520904238612}, {\"rxn\": \"r13\", \"variable\": \"r6\", \"value\": 0.0}, {\"rxn\": \"r2\", \"variable\": \"r6\", \"value\": 0.0002741069638159474}, {\"rxn\": \"r3\", \"variable\": \"r6\", \"value\": 0.0010787224177388416}, {\"rxn\": \"r4_1\", \"variable\": \"r6\", \"value\": 0.0011572309588605344}, {\"rxn\": \"r4_2\", \"variable\": \"r6\", \"value\": 0.0005078946524032341}, {\"rxn\": \"r5\", \"variable\": \"r6\", \"value\": 3.8687320921745967e-16}, {\"rxn\": \"r6\", \"variable\": \"r6\", \"value\": 1.1102230246251565e-16}, {\"rxn\": \"r7\", \"variable\": \"r6\", \"value\": 2.8534049713937187e-06}, {\"rxn\": \"r8\", \"variable\": \"r6\", \"value\": 1.7078250483430718e-06}, {\"rxn\": \"r9\", \"variable\": \"r6\", \"value\": 0.006634295862022221}, {\"rxn\": \"r1\", \"variable\": \"r7\", \"value\": 0.0759283796123835}, {\"rxn\": \"r10\", \"variable\": \"r7\", \"value\": 0.562375380225783}, {\"rxn\": \"r11\", \"variable\": \"r7\", \"value\": 0.1651332978733246}, {\"rxn\": \"r12\", \"variable\": \"r7\", \"value\": 0.07291581438993126}, {\"rxn\": \"r13\", \"variable\": \"r7\", \"value\": 0.0}, {\"rxn\": \"r2\", \"variable\": \"r7\", \"value\": 0.07525088903795463}, {\"rxn\": \"r3\", \"variable\": \"r7\", \"value\": 0.07287807000404807}, {\"rxn\": \"r4_1\", \"variable\": \"r7\", \"value\": 0.1024148550481648}, {\"rxn\": \"r4_2\", \"variable\": \"r7\", \"value\": 0.08746718803950303}, {\"rxn\": \"r5\", \"variable\": \"r7\", \"value\": 4.506038930495079e-16}, {\"rxn\": \"r6\", \"variable\": \"r7\", \"value\": 3.8911938162226653e-16}, {\"rxn\": \"r7\", \"variable\": \"r7\", \"value\": 0.12082328256059072}, {\"rxn\": \"r8\", \"variable\": \"r7\", \"value\": 0.06363354959624545}, {\"rxn\": \"r9\", \"variable\": \"r7\", \"value\": 0.16618096395927004}, {\"rxn\": \"r1\", \"variable\": \"r8\", \"value\": 0.11271534154546121}, {\"rxn\": \"r10\", \"variable\": \"r8\", \"value\": 0.8348437485760525}, {\"rxn\": \"r11\", \"variable\": \"r8\", \"value\": 0.24513964561525395}, {\"rxn\": \"r12\", \"variable\": \"r8\", \"value\": 0.10824320188292452}, {\"rxn\": \"r13\", \"variable\": \"r8\", \"value\": 0.0}, {\"rxn\": \"r2\", \"variable\": \"r8\", \"value\": 0.11170960980351682}, {\"rxn\": \"r3\", \"variable\": \"r8\", \"value\": 0.10818717051009716}, {\"rxn\": \"r4_1\", \"variable\": \"r8\", \"value\": 0.15203439642744707}, {\"rxn\": \"r4_2\", \"variable\": \"r8\", \"value\": 0.12984465129143535}, {\"rxn\": \"r5\", \"variable\": \"r8\", \"value\": 6.800392589198699e-16}, {\"rxn\": \"r6\", \"variable\": \"r8\", \"value\": 5.973845497586891e-16}, {\"rxn\": \"r7\", \"variable\": \"r8\", \"value\": 0.1793616251259973}, {\"rxn\": \"r8\", \"variable\": \"r8\", \"value\": 0.09446372111595891}, {\"rxn\": \"r9\", \"variable\": \"r8\", \"value\": 0.24669490125623797}, {\"rxn\": \"r1\", \"variable\": \"r9\", \"value\": 0.0010081856024384275}, {\"rxn\": \"r10\", \"variable\": \"r9\", \"value\": 0.1366595853821758}, {\"rxn\": \"r11\", \"variable\": \"r9\", \"value\": 0.06574500814297594}, {\"rxn\": \"r12\", \"variable\": \"r9\", \"value\": 0.0041109836630763286}, {\"rxn\": \"r13\", \"variable\": \"r9\", \"value\": 0.0}, {\"rxn\": \"r2\", \"variable\": \"r9\", \"value\": 0.002811076482734212}, {\"rxn\": \"r3\", \"variable\": \"r9\", \"value\": 0.004145727817351091}, {\"rxn\": \"r4_1\", \"variable\": \"r9\", \"value\": 0.02409399908489051}, {\"rxn\": \"r4_2\", \"variable\": \"r9\", \"value\": 0.004803588955905262}, {\"rxn\": \"r5\", \"variable\": \"r9\", \"value\": 2.6771818538355892e-17}, {\"rxn\": \"r6\", \"variable\": \"r9\", \"value\": 1.1835825409180243e-17}, {\"rxn\": \"r7\", \"variable\": \"r9\", \"value\": 0.00019448458218123798}, {\"rxn\": \"r8\", \"variable\": \"r9\", \"value\": 0.00019814262142366697}, {\"rxn\": \"r9\", \"variable\": \"r9\", \"value\": 0.06467126764133957}, {\"rxn\": \"r1\", \"variable\": \"r10\", \"value\": 0.00022093321116730162}, {\"rxn\": \"r10\", \"variable\": \"r10\", \"value\": 0.031151962396790522}, {\"rxn\": \"r11\", \"variable\": \"r10\", \"value\": 0.013167087447770532}, {\"rxn\": \"r12\", \"variable\": \"r10\", \"value\": 0.0008111732069676332}, {\"rxn\": \"r13\", \"variable\": \"r10\", \"value\": 0.0}, {\"rxn\": \"r2\", \"variable\": \"r10\", \"value\": 0.0006060329542029964}, {\"rxn\": \"r3\", \"variable\": \"r10\", \"value\": 0.0008181572631518214}, {\"rxn\": \"r4_1\", \"variable\": \"r10\", \"value\": 0.00487494569499636}, {\"rxn\": \"r4_2\", \"variable\": \"r10\", \"value\": 0.0010229805259525711}, {\"rxn\": \"r5\", \"variable\": \"r10\", \"value\": 5.964480033604892e-18}, {\"rxn\": \"r6\", \"variable\": \"r10\", \"value\": 4.1881588811443155e-18}, {\"rxn\": \"r7\", \"variable\": \"r10\", \"value\": 4.261922674143752e-05}, {\"rxn\": \"r8\", \"variable\": \"r10\", \"value\": 4.34208680609964e-05}, {\"rxn\": \"r9\", \"variable\": \"r10\", \"value\": 0.01295042198088934}, {\"rxn\": \"r1\", \"variable\": \"r11\", \"value\": 1.545158634129498e-05}, {\"rxn\": \"r10\", \"variable\": \"r11\", \"value\": 0.0019363987153076102}, {\"rxn\": \"r11\", \"variable\": \"r11\", \"value\": 0.0010143967731202075}, {\"rxn\": \"r12\", \"variable\": \"r11\", \"value\": 6.632640998280575e-05}, {\"rxn\": \"r13\", \"variable\": \"r11\", \"value\": 0.0}, {\"rxn\": \"r2\", \"variable\": \"r11\", \"value\": 4.3284215422018685e-05}, {\"rxn\": \"r3\", \"variable\": \"r11\", \"value\": 6.68597997931133e-05}, {\"rxn\": \"r4_1\", \"variable\": \"r11\", \"value\": 0.00037176116762267097}, {\"rxn\": \"r4_2\", \"variable\": \"r11\", \"value\": 7.229808229078144e-05}, {\"rxn\": \"r5\", \"variable\": \"r11\", \"value\": 3.389353643605147e-19}, {\"rxn\": \"r6\", \"variable\": \"r11\", \"value\": 2.5224576170132817e-19}, {\"rxn\": \"r7\", \"variable\": \"r11\", \"value\": 2.9806965361259435e-06}, {\"rxn\": \"r8\", \"variable\": \"r11\", \"value\": 3.0367600989222602e-06}, {\"rxn\": \"r9\", \"variable\": \"r11\", \"value\": 0.0009945193336861466}, {\"rxn\": \"r1\", \"variable\": \"r12\", \"value\": 0.0024640020978986274}, {\"rxn\": \"r10\", \"variable\": \"r12\", \"value\": 0.5079668166853291}, {\"rxn\": \"r11\", \"variable\": \"r12\", \"value\": 0.0912446649917924}, {\"rxn\": \"r12\", \"variable\": \"r12\", \"value\": 0.00554935624352082}, {\"rxn\": \"r13\", \"variable\": \"r12\", \"value\": 0.0}, {\"rxn\": \"r2\", \"variable\": \"r12\", \"value\": 0.003149948368084611}, {\"rxn\": \"r3\", \"variable\": \"r12\", \"value\": 0.0056262158539075804}, {\"rxn\": \"r4_1\", \"variable\": \"r12\", \"value\": 0.14767481189270065}, {\"rxn\": \"r4_2\", \"variable\": \"r12\", \"value\": 0.10704519876136391}, {\"rxn\": \"r5\", \"variable\": \"r12\", \"value\": 4.215378046623641e-16}, {\"rxn\": \"r6\", \"variable\": \"r12\", \"value\": 4.996003610813204e-16}, {\"rxn\": \"r7\", \"variable\": \"r12\", \"value\": 0.0004753183245985082}, {\"rxn\": \"r8\", \"variable\": \"r12\", \"value\": 0.00048426076274293536}, {\"rxn\": \"r9\", \"variable\": \"r12\", \"value\": 0.12245062309382565}, {\"rxn\": \"r1\", \"variable\": \"r13\", \"value\": 0.0020270404693610512}, {\"rxn\": \"r10\", \"variable\": \"r13\", \"value\": 0.45501163122933375}, {\"rxn\": \"r11\", \"variable\": \"r13\", \"value\": 0.024363330966094505}, {\"rxn\": \"r12\", \"variable\": \"r13\", \"value\": 0.004700080445236418}, {\"rxn\": \"r13\", \"variable\": \"r13\", \"value\": 0.0}, {\"rxn\": \"r2\", \"variable\": \"r13\", \"value\": 0.004678264639198404}, {\"rxn\": \"r3\", \"variable\": \"r13\", \"value\": 0.004687456444756349}, {\"rxn\": \"r4_1\", \"variable\": \"r13\", \"value\": 0.003639704541245789}, {\"rxn\": \"r4_2\", \"variable\": \"r13\", \"value\": 0.0036619640943619273}, {\"rxn\": \"r5\", \"variable\": \"r13\", \"value\": 1.3322676295501878e-15}, {\"rxn\": \"r6\", \"variable\": \"r13\", \"value\": 7.771561172376096e-16}, {\"rxn\": \"r7\", \"variable\": \"r13\", \"value\": 0.00038713452755355544}, {\"rxn\": \"r8\", \"variable\": \"r13\", \"value\": 0.0004010044176155729}, {\"rxn\": \"r9\", \"variable\": \"r13\", \"value\": 0.04485654363668365}]}}, {\"mode\": \"vega-lite\"});\n",
       "</script>"
      ],
      "text/plain": [
       "alt.HConcatChart(...)"
      ]
     },
     "execution_count": 9,
     "metadata": {},
     "output_type": "execute_result"
    }
   ],
   "source": [
    "alt.hconcat(get_heatmaps(Cv_df_median, 'rxns'),\n",
    "            get_heatmaps(Cv_df_iqr, 'rxn'))"
   ]
  },
  {
   "cell_type": "markdown",
   "metadata": {},
   "source": [
    "### Plot concentration control coefficients median (on the left) and respective interquartile range (on the right)"
   ]
  },
  {
   "cell_type": "code",
   "execution_count": 10,
   "metadata": {},
   "outputs": [
    {
     "data": {
      "text/html": [
       "\n",
       "<div id=\"altair-viz-d2b085bf37d641c1ae717d927373269b\"></div>\n",
       "<script type=\"text/javascript\">\n",
       "  (function(spec, embedOpt){\n",
       "    let outputDiv = document.currentScript.previousElementSibling;\n",
       "    if (outputDiv.id !== \"altair-viz-d2b085bf37d641c1ae717d927373269b\") {\n",
       "      outputDiv = document.getElementById(\"altair-viz-d2b085bf37d641c1ae717d927373269b\");\n",
       "    }\n",
       "    const paths = {\n",
       "      \"vega\": \"https://cdn.jsdelivr.net/npm//vega@5?noext\",\n",
       "      \"vega-lib\": \"https://cdn.jsdelivr.net/npm//vega-lib?noext\",\n",
       "      \"vega-lite\": \"https://cdn.jsdelivr.net/npm//vega-lite@4.8.1?noext\",\n",
       "      \"vega-embed\": \"https://cdn.jsdelivr.net/npm//vega-embed@6?noext\",\n",
       "    };\n",
       "\n",
       "    function loadScript(lib) {\n",
       "      return new Promise(function(resolve, reject) {\n",
       "        var s = document.createElement('script');\n",
       "        s.src = paths[lib];\n",
       "        s.async = true;\n",
       "        s.onload = () => resolve(paths[lib]);\n",
       "        s.onerror = () => reject(`Error loading script: ${paths[lib]}`);\n",
       "        document.getElementsByTagName(\"head\")[0].appendChild(s);\n",
       "      });\n",
       "    }\n",
       "\n",
       "    function showError(err) {\n",
       "      outputDiv.innerHTML = `<div class=\"error\" style=\"color:red;\">${err}</div>`;\n",
       "      throw err;\n",
       "    }\n",
       "\n",
       "    function displayChart(vegaEmbed) {\n",
       "      vegaEmbed(outputDiv, spec, embedOpt)\n",
       "        .catch(err => showError(`Javascript Error: ${err.message}<br>This usually means there's a typo in your chart specification. See the javascript console for the full traceback.`));\n",
       "    }\n",
       "\n",
       "    if(typeof define === \"function\" && define.amd) {\n",
       "      requirejs.config({paths});\n",
       "      require([\"vega-embed\"], displayChart, err => showError(`Error loading script: ${err.message}`));\n",
       "    } else if (typeof vegaEmbed === \"function\") {\n",
       "      displayChart(vegaEmbed);\n",
       "    } else {\n",
       "      loadScript(\"vega\")\n",
       "        .then(() => loadScript(\"vega-lite\"))\n",
       "        .then(() => loadScript(\"vega-embed\"))\n",
       "        .catch(showError)\n",
       "        .then(() => displayChart(vegaEmbed));\n",
       "    }\n",
       "  })({\"config\": {\"view\": {\"continuousWidth\": 400, \"continuousHeight\": 300}}, \"hconcat\": [{\"data\": {\"name\": \"data-d7aa0800772ec1d5810c0dd2d3f45dc4\"}, \"mark\": \"rect\", \"encoding\": {\"color\": {\"type\": \"quantitative\", \"field\": \"value\", \"scale\": {\"domain\": [1, -1], \"scheme\": \"redblue\"}}, \"tooltip\": {\"type\": \"quantitative\", \"field\": \"value\"}, \"x\": {\"type\": \"nominal\", \"field\": \"variable\"}, \"y\": {\"type\": \"nominal\", \"field\": \"mets\"}}, \"height\": 250, \"width\": 300}, {\"data\": {\"name\": \"data-8a5e1f36ed2331d88378ead6288955f8\"}, \"mark\": \"rect\", \"encoding\": {\"color\": {\"type\": \"quantitative\", \"field\": \"value\", \"scale\": {\"domain\": [1, -1], \"scheme\": \"redblue\"}}, \"tooltip\": {\"type\": \"quantitative\", \"field\": \"value\"}, \"x\": {\"type\": \"nominal\", \"field\": \"variable\"}, \"y\": {\"type\": \"nominal\", \"field\": \"mets\"}}, \"height\": 250, \"width\": 300}], \"$schema\": \"https://vega.github.io/schema/vega-lite/v4.8.1.json\", \"datasets\": {\"data-d7aa0800772ec1d5810c0dd2d3f45dc4\": [{\"mets\": \"m10\", \"variable\": \"r1\", \"value\": 0.623628706682483}, {\"mets\": \"m11\", \"variable\": \"r1\", \"value\": 7.165567417262015}, {\"mets\": \"m5\", \"variable\": \"r1\", \"value\": 1.8652957320544985}, {\"mets\": \"m6\", \"variable\": \"r1\", \"value\": -0.18206325186747987}, {\"mets\": \"m7\", \"variable\": \"r1\", \"value\": 2.035206339689407}, {\"mets\": \"m8\", \"variable\": \"r1\", \"value\": 2.0863827594591706}, {\"mets\": \"m9\", \"variable\": \"r1\", \"value\": 0.7615088123294586}, {\"mets\": \"m10\", \"variable\": \"r2\", \"value\": -0.04476818969358367}, {\"mets\": \"m11\", \"variable\": \"r2\", \"value\": 0.054342976018911665}, {\"mets\": \"m5\", \"variable\": \"r2\", \"value\": -0.2853506452351965}, {\"mets\": \"m6\", \"variable\": \"r2\", \"value\": -1.5489896852270445e-05}, {\"mets\": \"m7\", \"variable\": \"r2\", \"value\": 0.022537594262119993}, {\"mets\": \"m8\", \"variable\": \"r2\", \"value\": 0.0231347549944218}, {\"mets\": \"m9\", \"variable\": \"r2\", \"value\": 0.0069283597853654665}, {\"mets\": \"m10\", \"variable\": \"r3\", \"value\": -0.01331826032671763}, {\"mets\": \"m11\", \"variable\": \"r3\", \"value\": -0.03018029868888389}, {\"mets\": \"m5\", \"variable\": \"r3\", \"value\": -0.014158596145154625}, {\"mets\": \"m6\", \"variable\": \"r3\", \"value\": -3.4107480502622514e-06}, {\"mets\": \"m7\", \"variable\": \"r3\", \"value\": -0.018425872958259547}, {\"mets\": \"m8\", \"variable\": \"r3\", \"value\": 0.007213097326880965}, {\"mets\": \"m9\", \"variable\": \"r3\", \"value\": 0.002654478183866159}, {\"mets\": \"m10\", \"variable\": \"r4_1\", \"value\": -0.20655820833205785}, {\"mets\": \"m11\", \"variable\": \"r4_1\", \"value\": -0.7986603798819234}, {\"mets\": \"m5\", \"variable\": \"r4_1\", \"value\": -0.6370846518001655}, {\"mets\": \"m6\", \"variable\": \"r4_1\", \"value\": -1.8601087754449847e-06}, {\"mets\": \"m7\", \"variable\": \"r4_1\", \"value\": -0.9454657745322534}, {\"mets\": \"m8\", \"variable\": \"r4_1\", \"value\": -0.966937637850906}, {\"mets\": \"m9\", \"variable\": \"r4_1\", \"value\": 0.11348906437251818}, {\"mets\": \"m10\", \"variable\": \"r4_2\", \"value\": -0.3277129717420749}, {\"mets\": \"m11\", \"variable\": \"r4_2\", \"value\": -3.5742640638388865}, {\"mets\": \"m5\", \"variable\": \"r4_2\", \"value\": -0.7710974049533763}, {\"mets\": \"m6\", \"variable\": \"r4_2\", \"value\": -6.479384980626178e-05}, {\"mets\": \"m7\", \"variable\": \"r4_2\", \"value\": -0.9664469292952397}, {\"mets\": \"m8\", \"variable\": \"r4_2\", \"value\": -0.9732267843132738}, {\"mets\": \"m9\", \"variable\": \"r4_2\", \"value\": 0.056642829963707036}, {\"mets\": \"m10\", \"variable\": \"r5\", \"value\": -1.7496295712519807}, {\"mets\": \"m11\", \"variable\": \"r5\", \"value\": -0.46390109942072055}, {\"mets\": \"m5\", \"variable\": \"r5\", \"value\": -0.2093530212409505}, {\"mets\": \"m6\", \"variable\": \"r5\", \"value\": -1.1364462491647091e-05}, {\"mets\": \"m7\", \"variable\": \"r5\", \"value\": 0.015696121853864826}, {\"mets\": \"m8\", \"variable\": \"r5\", \"value\": 0.018569752480497942}, {\"mets\": \"m9\", \"variable\": \"r5\", \"value\": 0.006953809164201291}, {\"mets\": \"m10\", \"variable\": \"r6\", \"value\": 8.992169146784766e-05}, {\"mets\": \"m11\", \"variable\": \"r6\", \"value\": -6.949889899802827}, {\"mets\": \"m5\", \"variable\": \"r6\", \"value\": 0.0002115826620197898}, {\"mets\": \"m6\", \"variable\": \"r6\", \"value\": 2.691391096109828e-11}, {\"mets\": \"m7\", \"variable\": \"r6\", \"value\": 0.0002651849334306116}, {\"mets\": \"m8\", \"variable\": \"r6\", \"value\": -2.8873880370983558e-05}, {\"mets\": \"m9\", \"variable\": \"r6\", \"value\": -1.5722519402132974e-05}, {\"mets\": \"m10\", \"variable\": \"r7\", \"value\": -0.21307986301761014}, {\"mets\": \"m11\", \"variable\": \"r7\", \"value\": -0.15485625253470464}, {\"mets\": \"m5\", \"variable\": \"r7\", \"value\": -0.18016774186618986}, {\"mets\": \"m6\", \"variable\": \"r7\", \"value\": -0.4074571052480172}, {\"mets\": \"m7\", \"variable\": \"r7\", \"value\": -0.1659120881826085}, {\"mets\": \"m8\", \"variable\": \"r7\", \"value\": -0.16541281482886813}, {\"mets\": \"m9\", \"variable\": \"r7\", \"value\": -0.044256906820043566}, {\"mets\": \"m10\", \"variable\": \"r8\", \"value\": 0.31631610814163774}, {\"mets\": \"m11\", \"variable\": \"r8\", \"value\": 0.22988341755751987}, {\"mets\": \"m5\", \"variable\": \"r8\", \"value\": 0.26745821079803495}, {\"mets\": \"m6\", \"variable\": \"r8\", \"value\": 0.6048682589778965}, {\"mets\": \"m7\", \"variable\": \"r8\", \"value\": 0.24629575636266304}, {\"mets\": \"m8\", \"variable\": \"r8\", \"value\": 0.24555458729151097}, {\"mets\": \"m9\", \"variable\": \"r8\", \"value\": 0.06569918116826606}, {\"mets\": \"m10\", \"variable\": \"r9\", \"value\": -0.02229017307814229}, {\"mets\": \"m11\", \"variable\": \"r9\", \"value\": -0.2884453854216864}, {\"mets\": \"m5\", \"variable\": \"r9\", \"value\": -0.06200988224627402}, {\"mets\": \"m6\", \"variable\": \"r9\", \"value\": -3.366127590262831e-06}, {\"mets\": \"m7\", \"variable\": \"r9\", \"value\": -0.07929855095679472}, {\"mets\": \"m8\", \"variable\": \"r9\", \"value\": -0.081290756984405}, {\"mets\": \"m9\", \"variable\": \"r9\", \"value\": -0.03294836960970051}, {\"mets\": \"m10\", \"variable\": \"r10\", \"value\": -0.005130768004522283}, {\"mets\": \"m11\", \"variable\": \"r10\", \"value\": -0.05824748240815212}, {\"mets\": \"m5\", \"variable\": \"r10\", \"value\": -0.014878198070960823}, {\"mets\": \"m6\", \"variable\": \"r10\", \"value\": -8.076440593949121e-07}, {\"mets\": \"m7\", \"variable\": \"r10\", \"value\": -0.015884216435017483}, {\"mets\": \"m8\", \"variable\": \"r10\", \"value\": -0.016283022293260046}, {\"mets\": \"m9\", \"variable\": \"r10\", \"value\": -0.006647956046676424}, {\"mets\": \"m10\", \"variable\": \"r11\", \"value\": 0.0003405245803258622}, {\"mets\": \"m11\", \"variable\": \"r11\", \"value\": 0.004423046750213874}, {\"mets\": \"m5\", \"variable\": \"r11\", \"value\": 0.0009144829224523162}, {\"mets\": \"m6\", \"variable\": \"r11\", \"value\": 4.964154235713156e-08}, {\"mets\": \"m7\", \"variable\": \"r11\", \"value\": 0.0011694453851274797}, {\"mets\": \"m8\", \"variable\": \"r11\", \"value\": 0.0012601480383461897}, {\"mets\": \"m9\", \"variable\": \"r11\", \"value\": 0.0005090397074742868}, {\"mets\": \"m10\", \"variable\": \"r12\", \"value\": -0.1298048902754587}, {\"mets\": \"m11\", \"variable\": \"r12\", \"value\": -1.2398324990564746}, {\"mets\": \"m5\", \"variable\": \"r12\", \"value\": -0.3054264636202484}, {\"mets\": \"m6\", \"variable\": \"r12\", \"value\": -1.0717771562809937e-05}, {\"mets\": \"m7\", \"variable\": \"r12\", \"value\": -0.3201588097394439}, {\"mets\": \"m8\", \"variable\": \"r12\", \"value\": -0.3223846226483917}, {\"mets\": \"m9\", \"variable\": \"r12\", \"value\": -0.9266876336817628}, {\"mets\": \"m10\", \"variable\": \"r13\", \"value\": 1.7312596963911242}, {\"mets\": \"m11\", \"variable\": \"r13\", \"value\": 7.2976191591942365}, {\"mets\": \"m5\", \"variable\": \"r13\", \"value\": 0.15678629237476704}, {\"mets\": \"m6\", \"variable\": \"r13\", \"value\": 9.769214783989285e-05}, {\"mets\": \"m7\", \"variable\": \"r13\", \"value\": -0.03259784882153398}, {\"mets\": \"m8\", \"variable\": \"r13\", \"value\": -0.023647444153390033}, {\"mets\": \"m9\", \"variable\": \"r13\", \"value\": -0.005080840096068655}], \"data-8a5e1f36ed2331d88378ead6288955f8\": [{\"mets\": \"m10\", \"variable\": \"r1\", \"value\": 1.7082703445115335}, {\"mets\": \"m11\", \"variable\": \"r1\", \"value\": 6.970481747257463}, {\"mets\": \"m5\", \"variable\": \"r1\", \"value\": 1.7271911816461736}, {\"mets\": \"m6\", \"variable\": \"r1\", \"value\": 0.022803169607494234}, {\"mets\": \"m7\", \"variable\": \"r1\", \"value\": 1.544811969467427}, {\"mets\": \"m8\", \"variable\": \"r1\", \"value\": 1.556739099960906}, {\"mets\": \"m9\", \"variable\": \"r1\", \"value\": 0.17584703872881002}, {\"mets\": \"m10\", \"variable\": \"r2\", \"value\": 0.014791255357518782}, {\"mets\": \"m11\", \"variable\": \"r2\", \"value\": 0.050248420664573884}, {\"mets\": \"m5\", \"variable\": \"r2\", \"value\": 0.0542159209162798}, {\"mets\": \"m6\", \"variable\": \"r2\", \"value\": 0.00039628909186534175}, {\"mets\": \"m7\", \"variable\": \"r2\", \"value\": 0.015384392003574391}, {\"mets\": \"m8\", \"variable\": \"r2\", \"value\": 0.015148948983603732}, {\"mets\": \"m9\", \"variable\": \"r2\", \"value\": 0.0035103630510243036}, {\"mets\": \"m10\", \"variable\": \"r3\", \"value\": 0.017808518048724777}, {\"mets\": \"m11\", \"variable\": \"r3\", \"value\": 0.0016927515398142065}, {\"mets\": \"m5\", \"variable\": \"r3\", \"value\": 0.03265116256847399}, {\"mets\": \"m6\", \"variable\": \"r3\", \"value\": 2.1737863873088764e-05}, {\"mets\": \"m7\", \"variable\": \"r3\", \"value\": 0.0389464494965957}, {\"mets\": \"m8\", \"variable\": \"r3\", \"value\": 0.007793659383270263}, {\"mets\": \"m9\", \"variable\": \"r3\", \"value\": 0.0026767677404512446}, {\"mets\": \"m10\", \"variable\": \"r4_1\", \"value\": 1.4325575753963413}, {\"mets\": \"m11\", \"variable\": \"r4_1\", \"value\": 1.7509859867752717}, {\"mets\": \"m5\", \"variable\": \"r4_1\", \"value\": 1.4284941682927526}, {\"mets\": \"m6\", \"variable\": \"r4_1\", \"value\": 0.0024578385682919447}, {\"mets\": \"m7\", \"variable\": \"r4_1\", \"value\": 1.4395120926122653}, {\"mets\": \"m8\", \"variable\": \"r4_1\", \"value\": 1.4523313490202456}, {\"mets\": \"m9\", \"variable\": \"r4_1\", \"value\": 0.1399252702840128}, {\"mets\": \"m10\", \"variable\": \"r4_2\", \"value\": 0.30036390929981005}, {\"mets\": \"m11\", \"variable\": \"r4_2\", \"value\": 3.491479884350847}, {\"mets\": \"m5\", \"variable\": \"r4_2\", \"value\": 0.9360196647796024}, {\"mets\": \"m6\", \"variable\": \"r4_2\", \"value\": 0.0017124165642170034}, {\"mets\": \"m7\", \"variable\": \"r4_2\", \"value\": 0.8873032130911613}, {\"mets\": \"m8\", \"variable\": \"r4_2\", \"value\": 0.8912464259440132}, {\"mets\": \"m9\", \"variable\": \"r4_2\", \"value\": 0.025969645147532236}, {\"mets\": \"m10\", \"variable\": \"r5\", \"value\": 0.4062757278518552}, {\"mets\": \"m11\", \"variable\": \"r5\", \"value\": 0.2459982778221797}, {\"mets\": \"m5\", \"variable\": \"r5\", \"value\": 0.13893202492128534}, {\"mets\": \"m6\", \"variable\": \"r5\", \"value\": 0.0003959115033483218}, {\"mets\": \"m7\", \"variable\": \"r5\", \"value\": 0.0271127248963831}, {\"mets\": \"m8\", \"variable\": \"r5\", \"value\": 0.014189896067510973}, {\"mets\": \"m9\", \"variable\": \"r5\", \"value\": 0.0034811391304221655}, {\"mets\": \"m10\", \"variable\": \"r6\", \"value\": 0.0031480724880977315}, {\"mets\": \"m11\", \"variable\": \"r6\", \"value\": 7.6002420098567836}, {\"mets\": \"m5\", \"variable\": \"r6\", \"value\": 0.005150915195042082}, {\"mets\": \"m6\", \"variable\": \"r6\", \"value\": 2.8532299211589026e-06}, {\"mets\": \"m7\", \"variable\": \"r6\", \"value\": 0.00656547808024254}, {\"mets\": \"m8\", \"variable\": \"r6\", \"value\": 0.0023718573198805415}, {\"mets\": \"m9\", \"variable\": \"r6\", \"value\": 0.000990581708768754}, {\"mets\": \"m10\", \"variable\": \"r7\", \"value\": 0.14355311996201026}, {\"mets\": \"m11\", \"variable\": \"r7\", \"value\": 0.3674214653077007}, {\"mets\": \"m5\", \"variable\": \"r7\", \"value\": 0.18044145212031198}, {\"mets\": \"m6\", \"variable\": \"r7\", \"value\": 0.1208373293390298}, {\"mets\": \"m7\", \"variable\": \"r7\", \"value\": 0.16458334842769792}, {\"mets\": \"m8\", \"variable\": \"r7\", \"value\": 0.1651332978733246}, {\"mets\": \"m9\", \"variable\": \"r7\", \"value\": 0.0663104150618767}, {\"mets\": \"m10\", \"variable\": \"r8\", \"value\": 0.2131039675683475}, {\"mets\": \"m11\", \"variable\": \"r8\", \"value\": 0.5454355297019522}, {\"mets\": \"m5\", \"variable\": \"r8\", \"value\": 0.2678645324518799}, {\"mets\": \"m6\", \"variable\": \"r8\", \"value\": 0.17938247750606207}, {\"mets\": \"m7\", \"variable\": \"r8\", \"value\": 0.24432324811127726}, {\"mets\": \"m8\", \"variable\": \"r8\", \"value\": 0.24513964561525395}, {\"mets\": \"m9\", \"variable\": \"r8\", \"value\": 0.09843751598383547}, {\"mets\": \"m10\", \"variable\": \"r9\", \"value\": 0.07123130313086704}, {\"mets\": \"m11\", \"variable\": \"r9\", \"value\": 0.26299980683135643}, {\"mets\": \"m5\", \"variable\": \"r9\", \"value\": 0.07421829300995275}, {\"mets\": \"m6\", \"variable\": \"r9\", \"value\": 0.00019447689077398543}, {\"mets\": \"m7\", \"variable\": \"r9\", \"value\": 0.0652568802470425}, {\"mets\": \"m8\", \"variable\": \"r9\", \"value\": 0.06574500814297594}, {\"mets\": \"m9\", \"variable\": \"r9\", \"value\": 0.006391231330253721}, {\"mets\": \"m10\", \"variable\": \"r10\", \"value\": 0.01431250073787305}, {\"mets\": \"m11\", \"variable\": \"r10\", \"value\": 0.05265873746617046}, {\"mets\": \"m5\", \"variable\": \"r10\", \"value\": 0.014597981025379302}, {\"mets\": \"m6\", \"variable\": \"r10\", \"value\": 4.2617546639353495e-05}, {\"mets\": \"m7\", \"variable\": \"r10\", \"value\": 0.01306899494992512}, {\"mets\": \"m8\", \"variable\": \"r10\", \"value\": 0.013167087447770532}, {\"mets\": \"m9\", \"variable\": \"r10\", \"value\": 0.0012689412584897695}, {\"mets\": \"m10\", \"variable\": \"r11\", \"value\": 0.00109050949888238}, {\"mets\": \"m11\", \"variable\": \"r11\", \"value\": 0.004023662598282222}, {\"mets\": \"m5\", \"variable\": \"r11\", \"value\": 0.001140061747108042}, {\"mets\": \"m6\", \"variable\": \"r11\", \"value\": 2.980578648246271e-06}, {\"mets\": \"m7\", \"variable\": \"r11\", \"value\": 0.0010033721998954062}, {\"mets\": \"m8\", \"variable\": \"r11\", \"value\": 0.0010143967731203066}, {\"mets\": \"m9\", \"variable\": \"r11\", \"value\": 9.946300397289107e-05}, {\"mets\": \"m10\", \"variable\": \"r12\", \"value\": 0.1537452542564835}, {\"mets\": \"m11\", \"variable\": \"r12\", \"value\": 2.0233241975053473}, {\"mets\": \"m5\", \"variable\": \"r12\", \"value\": 0.11214635574451726}, {\"mets\": \"m6\", \"variable\": \"r12\", \"value\": 0.0004753000999925821}, {\"mets\": \"m7\", \"variable\": \"r12\", \"value\": 0.12283737089125446}, {\"mets\": \"m8\", \"variable\": \"r12\", \"value\": 0.0912446649917924}, {\"mets\": \"m9\", \"variable\": \"r12\", \"value\": 0.05044799401569722}, {\"mets\": \"m10\", \"variable\": \"r13\", \"value\": 0.4187737891257244}, {\"mets\": \"m11\", \"variable\": \"r13\", \"value\": 7.4704723602302705}, {\"mets\": \"m5\", \"variable\": \"r13\", \"value\": 0.1337871476021546}, {\"mets\": \"m6\", \"variable\": \"r13\", \"value\": 0.0003888141421449513}, {\"mets\": \"m7\", \"variable\": \"r13\", \"value\": 0.04459572342561431}, {\"mets\": \"m8\", \"variable\": \"r13\", \"value\": 0.024363330966094505}, {\"mets\": \"m9\", \"variable\": \"r13\", \"value\": 0.004113472072386247}]}}, {\"mode\": \"vega-lite\"});\n",
       "</script>"
      ],
      "text/plain": [
       "alt.HConcatChart(...)"
      ]
     },
     "execution_count": 10,
     "metadata": {},
     "output_type": "execute_result"
    }
   ],
   "source": [
    "alt.hconcat(get_heatmaps(Cx_df_median, 'mets'),\n",
    "            get_heatmaps(Cx_df_iqr, 'mets'))"
   ]
  },
  {
   "cell_type": "code",
   "execution_count": null,
   "metadata": {},
   "outputs": [],
   "source": []
  }
 ],
 "metadata": {
  "kernelspec": {
   "display_name": "Python 3",
   "language": "python",
   "name": "python3"
  },
  "language_info": {
   "codemirror_mode": {
    "name": "ipython",
    "version": 3
   },
   "file_extension": ".py",
   "mimetype": "text/x-python",
   "name": "python",
   "nbconvert_exporter": "python",
   "pygments_lexer": "ipython3",
   "version": "3.7.7"
  }
 },
 "nbformat": 4,
 "nbformat_minor": 4
}
